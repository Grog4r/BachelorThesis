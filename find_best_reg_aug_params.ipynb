{
 "cells": [
  {
   "cell_type": "markdown",
   "metadata": {},
   "source": [
    "# Find best regression augmentation parameters"
   ]
  },
  {
   "cell_type": "markdown",
   "metadata": {},
   "source": [
    "This notebooks does experiments to find the best augmentation parameters for the regression models and evaluates them."
   ]
  },
  {
   "cell_type": "code",
   "execution_count": 1,
   "metadata": {},
   "outputs": [],
   "source": [
    "import os\n",
    "\n",
    "import pandas as pd\n",
    "import mlflow\n",
    "from dotenv import load_dotenv\n",
    "import plotly.express as px\n",
    "\n",
    "from cross_validate_regression import cross_validate_regression_model\n",
    "\n",
    "from sklearn.linear_model import LinearRegression\n",
    "from sklearn.tree import DecisionTreeRegressor\n",
    "from xgboost import XGBRegressor"
   ]
  },
  {
   "cell_type": "code",
   "execution_count": 2,
   "metadata": {},
   "outputs": [],
   "source": [
    "load_dotenv()\n",
    "mlflow.set_tracking_uri(os.environ.get(\"MLFLOW_TRACKING_URL\"))"
   ]
  },
  {
   "cell_type": "code",
   "execution_count": 3,
   "metadata": {},
   "outputs": [],
   "source": [
    "df_raw_merged = pd.read_parquet(\"./data/my_datasets/raw_merged.parquet\")\n",
    "all_device_uuids = df_raw_merged[\"device_uuid\"].unique()"
   ]
  },
  {
   "cell_type": "code",
   "execution_count": 4,
   "metadata": {},
   "outputs": [],
   "source": [
    "def load_exp_results(exp_name):\n",
    "    run_path = \"/home/nkuechen/Documents/Thesis\"\n",
    "    os.chdir(run_path)\n",
    "    print(os.getcwd())\n",
    "\n",
    "    reg_id = mlflow.get_experiment_by_name(exp_name)\n",
    "    if reg_id is None:\n",
    "        print(f\"Could not find experiment {exp_name}\")\n",
    "        return None\n",
    "    else:\n",
    "        output_csv = f\"code/thesis_code/data/aug_effect/{exp_name}.csv\"\n",
    "        command = f\"mlflow experiments csv -o {output_csv} -x {reg_id.experiment_id}\"\n",
    "        os.system(command)\n",
    "        return pd.read_csv(output_csv)"
   ]
  },
  {
   "cell_type": "markdown",
   "metadata": {},
   "source": [
    "## Einfluss von Augmentationsparametern auf die `mdt`"
   ]
  },
  {
   "cell_type": "code",
   "execution_count": 5,
   "metadata": {},
   "outputs": [],
   "source": [
    "features = [\n",
    "    \"battery_level_percent\",\n",
    "    \"radio_level_percent\",\n",
    "    \"air_temperature\",\n",
    "    \"battery_diff\",\n",
    "    \"battery_level_percent_rolling_median_5\",\n",
    "    \"battery_diff_rolling_median_5\",\n",
    "    \"battery_level_percent_rolling_median_50\",\n",
    "    \"battery_diff_rolling_median_50\",\n",
    "    \"v01.49\",\n",
    "    \"v01.66\",\n",
    "    \"v01.70\",\n",
    "    \"1.0\",\n",
    "    \"0572 2620\",\n",
    "    \"0572 2622\",\n",
    "    \"0572 2623\",\n",
    "    \"label\",\n",
    "]"
   ]
  },
  {
   "cell_type": "code",
   "execution_count": 6,
   "metadata": {},
   "outputs": [
    {
     "name": "stdout",
     "output_type": "stream",
     "text": [
      "Skipping reg_max_noise because the experiment already exists.\n",
      "Skipping reg_max_noise_temperature because the experiment already exists.\n",
      "Skipping reg_random_max_time_warp_percent because the experiment already exists.\n"
     ]
    }
   ],
   "source": [
    "reg_experiments = {}\n",
    "for param, param_bool, param_values in [\n",
    "    (\"max_noise\", \"add_noise\", [0, 10, 20]),\n",
    "    (\"max_noise_temperature\", \"add_noise_temperature\", [0, 5]),\n",
    "    (\"random_max_time_warp_percent\", \"random_warp_status_times\", [0, 0.5, 1]),\n",
    "]:\n",
    "    REG_EXP = f\"reg_{param}\"\n",
    "    reg_experiments[REG_EXP] = (param, param_bool, param_values)\n",
    "    if mlflow.get_experiment_by_name(REG_EXP) is None:\n",
    "        for n_dev in [63, 63, 63, 63, 63]:\n",
    "            for model_class in [\n",
    "                \"LinearRegression\",\n",
    "                \"DecisionTreeRegressor\",\n",
    "                \"XGBRegressor\",\n",
    "            ]:\n",
    "                if model_class == \"LinearRegression\":\n",
    "                    model = LinearRegression(n_jobs=8)\n",
    "                elif model_class == \"DecisionTreeRegressor\":\n",
    "                    model = DecisionTreeRegressor()\n",
    "                elif model_class == \"XGBRegressor\":\n",
    "                    model = XGBRegressor()\n",
    "                for param_value in param_values:\n",
    "                    cross_validate_regression_model(\n",
    "                        raw_merged_df=df_raw_merged,\n",
    "                        model=model,\n",
    "                        n_dev=n_dev,\n",
    "                        pred_hor=1,\n",
    "                        n_aug=1,\n",
    "                        train_df_params={\n",
    "                            param_bool: True,\n",
    "                            param: param_value,\n",
    "                        },\n",
    "                        features=features,\n",
    "                        all_device_uuids=all_device_uuids,\n",
    "                        by_metric=\"metrics.mdt\",\n",
    "                        mlflow_experiment=REG_EXP,\n",
    "                    )\n",
    "    else:\n",
    "\n",
    "        print(f\"Skipping {REG_EXP} because the experiment already exists.\")"
   ]
  },
  {
   "cell_type": "code",
   "execution_count": 7,
   "metadata": {},
   "outputs": [
    {
     "name": "stdout",
     "output_type": "stream",
     "text": [
      "{'reg_max_noise': ('max_noise', 'add_noise', [0, 10, 20]), 'reg_max_noise_temperature': ('max_noise_temperature', 'add_noise_temperature', [0, 5]), 'reg_random_max_time_warp_percent': ('random_max_time_warp_percent', 'random_warp_status_times', [0, 0.5, 1])}\n"
     ]
    }
   ],
   "source": [
    "print(reg_experiments)"
   ]
  },
  {
   "cell_type": "code",
   "execution_count": 15,
   "metadata": {},
   "outputs": [],
   "source": [
    "column_to_description = {\n",
    "    \"max_noise\": \"Maximales Jittering auf Batteriewerte\",\n",
    "    \"max_noise_temperature\": \"Maximales Jittering auf Lufttemperatur\",\n",
    "    \"random_max_time_warp_percent\": \"Maximales Jittering auf Messpunktabstände\",\n",
    "}\n",
    "\n",
    "params_to_better_params = {\n",
    "    \"max_noise\": \"<i>max_jittering_battery_level</i>\",\n",
    "    \"max_noise_temperature\": \"<i>max_jittering_air_temperature</i>\",\n",
    "    \"random_max_time_warp_percent\": \"<i>max_jittering_measurement_interval</i>\",\n",
    "}"
   ]
  },
  {
   "cell_type": "code",
   "execution_count": 33,
   "metadata": {},
   "outputs": [
    {
     "name": "stdout",
     "output_type": "stream",
     "text": [
      "/home/nkuechen/Documents/Thesis\n",
      "Experiment with ID 907516279037110457 has been exported as a CSV to file: code/thesis_code/data/aug_effect/reg_max_noise.csv.\n"
     ]
    },
    {
     "data": {
      "application/vnd.plotly.v1+json": {
       "config": {
        "plotlyServerURL": "https://plot.ly"
       },
       "data": [
        {
         "alignmentgroup": "True",
         "hovertemplate": "params.model_class=XGBRegressor<br>params.max_noise=%{x}<br>metrics.mdt=%{y}<extra></extra>",
         "legendgroup": "XGBRegressor",
         "marker": {
          "color": "#636efa"
         },
         "name": "XGBRegressor",
         "notched": false,
         "offsetgroup": "XGBRegressor",
         "orientation": "v",
         "showlegend": true,
         "type": "box",
         "x": [
          20,
          10,
          0,
          20,
          10,
          0,
          20,
          10,
          0,
          20,
          10,
          0,
          20,
          10,
          0
         ],
         "x0": " ",
         "xaxis": "x",
         "y": [
          39.303858992558176,
          34.25647546897547,
          35.66275621223602,
          41.272861792846896,
          35.27418274067786,
          35.57647450356363,
          35.94177524859215,
          33.24977355072464,
          33.90282258064516,
          40.57578775435918,
          35.87229694246703,
          34.845424972314504,
          36.554858104858106,
          34.83665966386555,
          37.610179172679175
         ],
         "y0": " ",
         "yaxis": "y"
        },
        {
         "alignmentgroup": "True",
         "hovertemplate": "params.model_class=DecisionTreeRegressor<br>params.max_noise=%{x}<br>metrics.mdt=%{y}<extra></extra>",
         "legendgroup": "DecisionTreeRegressor",
         "marker": {
          "color": "#EF553B"
         },
         "name": "DecisionTreeRegressor",
         "notched": false,
         "offsetgroup": "DecisionTreeRegressor",
         "orientation": "v",
         "showlegend": true,
         "type": "box",
         "x": [
          20,
          10,
          0,
          20,
          10,
          0,
          20,
          10,
          0,
          20,
          10,
          0,
          20,
          10,
          0
         ],
         "x0": " ",
         "xaxis": "x",
         "y": [
          39.14676656246424,
          41.92025547286417,
          39.45372613242871,
          40.65698712825729,
          40.49281898656898,
          39.77072447804155,
          40.73282611655774,
          39.37403846153846,
          39.62034180618486,
          38.057735247208925,
          39.08726306287282,
          40.61282423538521,
          41.325711668776506,
          42.61761883047792,
          42.28483149750852
         ],
         "y0": " ",
         "yaxis": "y"
        },
        {
         "alignmentgroup": "True",
         "hovertemplate": "params.model_class=LinearRegression<br>params.max_noise=%{x}<br>metrics.mdt=%{y}<extra></extra>",
         "legendgroup": "LinearRegression",
         "marker": {
          "color": "#00cc96"
         },
         "name": "LinearRegression",
         "notched": false,
         "offsetgroup": "LinearRegression",
         "orientation": "v",
         "showlegend": true,
         "type": "box",
         "x": [
          20,
          10,
          0,
          20,
          10,
          0,
          20,
          10,
          0,
          20,
          10,
          0,
          20,
          10,
          0
         ],
         "x0": " ",
         "xaxis": "x",
         "y": [
          42.16724537037037,
          41.99484175734176,
          39.27677211770892,
          41.32195726978336,
          42.54563451735708,
          39.541759702286015,
          41.64832121491911,
          42.82194073132954,
          41.22040267011197,
          41.41570081745031,
          41.03825549584997,
          39.70832493984668,
          43.27081228956229,
          42.28440825883354,
          39.64587355212355
         ],
         "y0": " ",
         "yaxis": "y"
        }
       ],
       "layout": {
        "boxmode": "group",
        "height": 600,
        "legend": {
         "title": {
          "text": "Modelltyp"
         },
         "tracegroupgap": 0
        },
        "template": {
         "data": {
          "bar": [
           {
            "error_x": {
             "color": "#2a3f5f"
            },
            "error_y": {
             "color": "#2a3f5f"
            },
            "marker": {
             "line": {
              "color": "#E5ECF6",
              "width": 0.5
             },
             "pattern": {
              "fillmode": "overlay",
              "size": 10,
              "solidity": 0.2
             }
            },
            "type": "bar"
           }
          ],
          "barpolar": [
           {
            "marker": {
             "line": {
              "color": "#E5ECF6",
              "width": 0.5
             },
             "pattern": {
              "fillmode": "overlay",
              "size": 10,
              "solidity": 0.2
             }
            },
            "type": "barpolar"
           }
          ],
          "carpet": [
           {
            "aaxis": {
             "endlinecolor": "#2a3f5f",
             "gridcolor": "white",
             "linecolor": "white",
             "minorgridcolor": "white",
             "startlinecolor": "#2a3f5f"
            },
            "baxis": {
             "endlinecolor": "#2a3f5f",
             "gridcolor": "white",
             "linecolor": "white",
             "minorgridcolor": "white",
             "startlinecolor": "#2a3f5f"
            },
            "type": "carpet"
           }
          ],
          "choropleth": [
           {
            "colorbar": {
             "outlinewidth": 0,
             "ticks": ""
            },
            "type": "choropleth"
           }
          ],
          "contour": [
           {
            "colorbar": {
             "outlinewidth": 0,
             "ticks": ""
            },
            "colorscale": [
             [
              0,
              "#0d0887"
             ],
             [
              0.1111111111111111,
              "#46039f"
             ],
             [
              0.2222222222222222,
              "#7201a8"
             ],
             [
              0.3333333333333333,
              "#9c179e"
             ],
             [
              0.4444444444444444,
              "#bd3786"
             ],
             [
              0.5555555555555556,
              "#d8576b"
             ],
             [
              0.6666666666666666,
              "#ed7953"
             ],
             [
              0.7777777777777778,
              "#fb9f3a"
             ],
             [
              0.8888888888888888,
              "#fdca26"
             ],
             [
              1,
              "#f0f921"
             ]
            ],
            "type": "contour"
           }
          ],
          "contourcarpet": [
           {
            "colorbar": {
             "outlinewidth": 0,
             "ticks": ""
            },
            "type": "contourcarpet"
           }
          ],
          "heatmap": [
           {
            "colorbar": {
             "outlinewidth": 0,
             "ticks": ""
            },
            "colorscale": [
             [
              0,
              "#0d0887"
             ],
             [
              0.1111111111111111,
              "#46039f"
             ],
             [
              0.2222222222222222,
              "#7201a8"
             ],
             [
              0.3333333333333333,
              "#9c179e"
             ],
             [
              0.4444444444444444,
              "#bd3786"
             ],
             [
              0.5555555555555556,
              "#d8576b"
             ],
             [
              0.6666666666666666,
              "#ed7953"
             ],
             [
              0.7777777777777778,
              "#fb9f3a"
             ],
             [
              0.8888888888888888,
              "#fdca26"
             ],
             [
              1,
              "#f0f921"
             ]
            ],
            "type": "heatmap"
           }
          ],
          "heatmapgl": [
           {
            "colorbar": {
             "outlinewidth": 0,
             "ticks": ""
            },
            "colorscale": [
             [
              0,
              "#0d0887"
             ],
             [
              0.1111111111111111,
              "#46039f"
             ],
             [
              0.2222222222222222,
              "#7201a8"
             ],
             [
              0.3333333333333333,
              "#9c179e"
             ],
             [
              0.4444444444444444,
              "#bd3786"
             ],
             [
              0.5555555555555556,
              "#d8576b"
             ],
             [
              0.6666666666666666,
              "#ed7953"
             ],
             [
              0.7777777777777778,
              "#fb9f3a"
             ],
             [
              0.8888888888888888,
              "#fdca26"
             ],
             [
              1,
              "#f0f921"
             ]
            ],
            "type": "heatmapgl"
           }
          ],
          "histogram": [
           {
            "marker": {
             "pattern": {
              "fillmode": "overlay",
              "size": 10,
              "solidity": 0.2
             }
            },
            "type": "histogram"
           }
          ],
          "histogram2d": [
           {
            "colorbar": {
             "outlinewidth": 0,
             "ticks": ""
            },
            "colorscale": [
             [
              0,
              "#0d0887"
             ],
             [
              0.1111111111111111,
              "#46039f"
             ],
             [
              0.2222222222222222,
              "#7201a8"
             ],
             [
              0.3333333333333333,
              "#9c179e"
             ],
             [
              0.4444444444444444,
              "#bd3786"
             ],
             [
              0.5555555555555556,
              "#d8576b"
             ],
             [
              0.6666666666666666,
              "#ed7953"
             ],
             [
              0.7777777777777778,
              "#fb9f3a"
             ],
             [
              0.8888888888888888,
              "#fdca26"
             ],
             [
              1,
              "#f0f921"
             ]
            ],
            "type": "histogram2d"
           }
          ],
          "histogram2dcontour": [
           {
            "colorbar": {
             "outlinewidth": 0,
             "ticks": ""
            },
            "colorscale": [
             [
              0,
              "#0d0887"
             ],
             [
              0.1111111111111111,
              "#46039f"
             ],
             [
              0.2222222222222222,
              "#7201a8"
             ],
             [
              0.3333333333333333,
              "#9c179e"
             ],
             [
              0.4444444444444444,
              "#bd3786"
             ],
             [
              0.5555555555555556,
              "#d8576b"
             ],
             [
              0.6666666666666666,
              "#ed7953"
             ],
             [
              0.7777777777777778,
              "#fb9f3a"
             ],
             [
              0.8888888888888888,
              "#fdca26"
             ],
             [
              1,
              "#f0f921"
             ]
            ],
            "type": "histogram2dcontour"
           }
          ],
          "mesh3d": [
           {
            "colorbar": {
             "outlinewidth": 0,
             "ticks": ""
            },
            "type": "mesh3d"
           }
          ],
          "parcoords": [
           {
            "line": {
             "colorbar": {
              "outlinewidth": 0,
              "ticks": ""
             }
            },
            "type": "parcoords"
           }
          ],
          "pie": [
           {
            "automargin": true,
            "type": "pie"
           }
          ],
          "scatter": [
           {
            "fillpattern": {
             "fillmode": "overlay",
             "size": 10,
             "solidity": 0.2
            },
            "type": "scatter"
           }
          ],
          "scatter3d": [
           {
            "line": {
             "colorbar": {
              "outlinewidth": 0,
              "ticks": ""
             }
            },
            "marker": {
             "colorbar": {
              "outlinewidth": 0,
              "ticks": ""
             }
            },
            "type": "scatter3d"
           }
          ],
          "scattercarpet": [
           {
            "marker": {
             "colorbar": {
              "outlinewidth": 0,
              "ticks": ""
             }
            },
            "type": "scattercarpet"
           }
          ],
          "scattergeo": [
           {
            "marker": {
             "colorbar": {
              "outlinewidth": 0,
              "ticks": ""
             }
            },
            "type": "scattergeo"
           }
          ],
          "scattergl": [
           {
            "marker": {
             "colorbar": {
              "outlinewidth": 0,
              "ticks": ""
             }
            },
            "type": "scattergl"
           }
          ],
          "scattermapbox": [
           {
            "marker": {
             "colorbar": {
              "outlinewidth": 0,
              "ticks": ""
             }
            },
            "type": "scattermapbox"
           }
          ],
          "scatterpolar": [
           {
            "marker": {
             "colorbar": {
              "outlinewidth": 0,
              "ticks": ""
             }
            },
            "type": "scatterpolar"
           }
          ],
          "scatterpolargl": [
           {
            "marker": {
             "colorbar": {
              "outlinewidth": 0,
              "ticks": ""
             }
            },
            "type": "scatterpolargl"
           }
          ],
          "scatterternary": [
           {
            "marker": {
             "colorbar": {
              "outlinewidth": 0,
              "ticks": ""
             }
            },
            "type": "scatterternary"
           }
          ],
          "surface": [
           {
            "colorbar": {
             "outlinewidth": 0,
             "ticks": ""
            },
            "colorscale": [
             [
              0,
              "#0d0887"
             ],
             [
              0.1111111111111111,
              "#46039f"
             ],
             [
              0.2222222222222222,
              "#7201a8"
             ],
             [
              0.3333333333333333,
              "#9c179e"
             ],
             [
              0.4444444444444444,
              "#bd3786"
             ],
             [
              0.5555555555555556,
              "#d8576b"
             ],
             [
              0.6666666666666666,
              "#ed7953"
             ],
             [
              0.7777777777777778,
              "#fb9f3a"
             ],
             [
              0.8888888888888888,
              "#fdca26"
             ],
             [
              1,
              "#f0f921"
             ]
            ],
            "type": "surface"
           }
          ],
          "table": [
           {
            "cells": {
             "fill": {
              "color": "#EBF0F8"
             },
             "line": {
              "color": "white"
             }
            },
            "header": {
             "fill": {
              "color": "#C8D4E3"
             },
             "line": {
              "color": "white"
             }
            },
            "type": "table"
           }
          ]
         },
         "layout": {
          "annotationdefaults": {
           "arrowcolor": "#2a3f5f",
           "arrowhead": 0,
           "arrowwidth": 1
          },
          "autotypenumbers": "strict",
          "coloraxis": {
           "colorbar": {
            "outlinewidth": 0,
            "ticks": ""
           }
          },
          "colorscale": {
           "diverging": [
            [
             0,
             "#8e0152"
            ],
            [
             0.1,
             "#c51b7d"
            ],
            [
             0.2,
             "#de77ae"
            ],
            [
             0.3,
             "#f1b6da"
            ],
            [
             0.4,
             "#fde0ef"
            ],
            [
             0.5,
             "#f7f7f7"
            ],
            [
             0.6,
             "#e6f5d0"
            ],
            [
             0.7,
             "#b8e186"
            ],
            [
             0.8,
             "#7fbc41"
            ],
            [
             0.9,
             "#4d9221"
            ],
            [
             1,
             "#276419"
            ]
           ],
           "sequential": [
            [
             0,
             "#0d0887"
            ],
            [
             0.1111111111111111,
             "#46039f"
            ],
            [
             0.2222222222222222,
             "#7201a8"
            ],
            [
             0.3333333333333333,
             "#9c179e"
            ],
            [
             0.4444444444444444,
             "#bd3786"
            ],
            [
             0.5555555555555556,
             "#d8576b"
            ],
            [
             0.6666666666666666,
             "#ed7953"
            ],
            [
             0.7777777777777778,
             "#fb9f3a"
            ],
            [
             0.8888888888888888,
             "#fdca26"
            ],
            [
             1,
             "#f0f921"
            ]
           ],
           "sequentialminus": [
            [
             0,
             "#0d0887"
            ],
            [
             0.1111111111111111,
             "#46039f"
            ],
            [
             0.2222222222222222,
             "#7201a8"
            ],
            [
             0.3333333333333333,
             "#9c179e"
            ],
            [
             0.4444444444444444,
             "#bd3786"
            ],
            [
             0.5555555555555556,
             "#d8576b"
            ],
            [
             0.6666666666666666,
             "#ed7953"
            ],
            [
             0.7777777777777778,
             "#fb9f3a"
            ],
            [
             0.8888888888888888,
             "#fdca26"
            ],
            [
             1,
             "#f0f921"
            ]
           ]
          },
          "colorway": [
           "#636efa",
           "#EF553B",
           "#00cc96",
           "#ab63fa",
           "#FFA15A",
           "#19d3f3",
           "#FF6692",
           "#B6E880",
           "#FF97FF",
           "#FECB52"
          ],
          "font": {
           "color": "#2a3f5f"
          },
          "geo": {
           "bgcolor": "white",
           "lakecolor": "white",
           "landcolor": "#E5ECF6",
           "showlakes": true,
           "showland": true,
           "subunitcolor": "white"
          },
          "hoverlabel": {
           "align": "left"
          },
          "hovermode": "closest",
          "mapbox": {
           "style": "light"
          },
          "paper_bgcolor": "white",
          "plot_bgcolor": "#E5ECF6",
          "polar": {
           "angularaxis": {
            "gridcolor": "white",
            "linecolor": "white",
            "ticks": ""
           },
           "bgcolor": "#E5ECF6",
           "radialaxis": {
            "gridcolor": "white",
            "linecolor": "white",
            "ticks": ""
           }
          },
          "scene": {
           "xaxis": {
            "backgroundcolor": "#E5ECF6",
            "gridcolor": "white",
            "gridwidth": 2,
            "linecolor": "white",
            "showbackground": true,
            "ticks": "",
            "zerolinecolor": "white"
           },
           "yaxis": {
            "backgroundcolor": "#E5ECF6",
            "gridcolor": "white",
            "gridwidth": 2,
            "linecolor": "white",
            "showbackground": true,
            "ticks": "",
            "zerolinecolor": "white"
           },
           "zaxis": {
            "backgroundcolor": "#E5ECF6",
            "gridcolor": "white",
            "gridwidth": 2,
            "linecolor": "white",
            "showbackground": true,
            "ticks": "",
            "zerolinecolor": "white"
           }
          },
          "shapedefaults": {
           "line": {
            "color": "#2a3f5f"
           }
          },
          "ternary": {
           "aaxis": {
            "gridcolor": "white",
            "linecolor": "white",
            "ticks": ""
           },
           "baxis": {
            "gridcolor": "white",
            "linecolor": "white",
            "ticks": ""
           },
           "bgcolor": "#E5ECF6",
           "caxis": {
            "gridcolor": "white",
            "linecolor": "white",
            "ticks": ""
           }
          },
          "title": {
           "x": 0.05
          },
          "xaxis": {
           "automargin": true,
           "gridcolor": "white",
           "linecolor": "white",
           "ticks": "",
           "title": {
            "standoff": 15
           },
           "zerolinecolor": "white",
           "zerolinewidth": 2
          },
          "yaxis": {
           "automargin": true,
           "gridcolor": "white",
           "linecolor": "white",
           "ticks": "",
           "title": {
            "standoff": 15
           },
           "zerolinecolor": "white",
           "zerolinewidth": 2
          }
         }
        },
        "title": {
         "text": "Einfluss des Parameters <i>max_jittering_battery_level</i> auf die MDT."
        },
        "width": 600,
        "xaxis": {
         "anchor": "y",
         "domain": [
          0,
          1
         ],
         "title": {
          "text": "max_jittering_battery_level"
         }
        },
        "yaxis": {
         "anchor": "x",
         "domain": [
          0,
          1
         ],
         "title": {
          "text": "MDT"
         }
        }
       }
      }
     },
     "metadata": {},
     "output_type": "display_data"
    },
    {
     "name": "stdout",
     "output_type": "stream",
     "text": [
      "{'DecisionTreeRegressor': {0: 39.77072447804155, 10: 40.49281898656898, 20: 40.65698712825729}, 'LinearRegression': {0: 39.64587355212355, 10: 42.28440825883354, 20: 41.64832121491911}, 'XGBRegressor': {0: 35.57647450356363, 10: 34.83665966386555, 20: 39.303858992558176}}\n",
      "                        0    10   20\n",
      "DecisionTreeRegressor 39.8 40.5 40.7\n",
      "LinearRegression      39.6 42.3 41.6\n",
      "XGBRegressor          35.6 34.8 39.3\n",
      "/home/nkuechen/Documents/Thesis\n",
      "Experiment with ID 809829503745210599 has been exported as a CSV to file: code/thesis_code/data/aug_effect/reg_max_noise_temperature.csv.\n"
     ]
    },
    {
     "data": {
      "application/vnd.plotly.v1+json": {
       "config": {
        "plotlyServerURL": "https://plot.ly"
       },
       "data": [
        {
         "alignmentgroup": "True",
         "hovertemplate": "params.model_class=XGBRegressor<br>params.max_noise_temperature=%{x}<br>metrics.mdt=%{y}<extra></extra>",
         "legendgroup": "XGBRegressor",
         "marker": {
          "color": "#636efa"
         },
         "name": "XGBRegressor",
         "notched": false,
         "offsetgroup": "XGBRegressor",
         "orientation": "v",
         "showlegend": true,
         "type": "box",
         "x": [
          5,
          0,
          5,
          0,
          5,
          0,
          5,
          0,
          5,
          0
         ],
         "x0": " ",
         "xaxis": "x",
         "y": [
          33.178221358320044,
          36.57922567532127,
          36.176890166028095,
          35.83857454318937,
          37.50393475572047,
          35.16396433850702,
          33.32563663693317,
          32.826409996622765,
          37.310090702947846,
          35.58075998075998
         ],
         "y0": " ",
         "yaxis": "y"
        },
        {
         "alignmentgroup": "True",
         "hovertemplate": "params.model_class=DecisionTreeRegressor<br>params.max_noise_temperature=%{x}<br>metrics.mdt=%{y}<extra></extra>",
         "legendgroup": "DecisionTreeRegressor",
         "marker": {
          "color": "#EF553B"
         },
         "name": "DecisionTreeRegressor",
         "notched": false,
         "offsetgroup": "DecisionTreeRegressor",
         "orientation": "v",
         "showlegend": true,
         "type": "box",
         "x": [
          5,
          0,
          5,
          0,
          5,
          0,
          5,
          0,
          5,
          0
         ],
         "x0": " ",
         "xaxis": "x",
         "y": [
          43.50810057888572,
          40.37193014872732,
          40.15080450784965,
          41.20805583305584,
          39.964397141706925,
          42.530740057650966,
          39.09875165343915,
          42.22023468552724,
          41.14804871841883,
          40.29366208755955
         ],
         "y0": " ",
         "yaxis": "y"
        },
        {
         "alignmentgroup": "True",
         "hovertemplate": "params.model_class=LinearRegression<br>params.max_noise_temperature=%{x}<br>metrics.mdt=%{y}<extra></extra>",
         "legendgroup": "LinearRegression",
         "marker": {
          "color": "#00cc96"
         },
         "name": "LinearRegression",
         "notched": false,
         "offsetgroup": "LinearRegression",
         "orientation": "v",
         "showlegend": true,
         "type": "box",
         "x": [
          5,
          0,
          5,
          0,
          5,
          0,
          5,
          0,
          5,
          0
         ],
         "x0": " ",
         "xaxis": "x",
         "y": [
          40.26538894174176,
          39.57686780507504,
          41.121064814814815,
          39.85426841676842,
          40.67732554177456,
          40.38803231652069,
          40.144738745553965,
          40.77116455886781,
          39.95988502238502,
          42.69209416863672
         ],
         "y0": " ",
         "yaxis": "y"
        }
       ],
       "layout": {
        "boxmode": "group",
        "height": 600,
        "legend": {
         "title": {
          "text": "Modelltyp"
         },
         "tracegroupgap": 0
        },
        "template": {
         "data": {
          "bar": [
           {
            "error_x": {
             "color": "#2a3f5f"
            },
            "error_y": {
             "color": "#2a3f5f"
            },
            "marker": {
             "line": {
              "color": "#E5ECF6",
              "width": 0.5
             },
             "pattern": {
              "fillmode": "overlay",
              "size": 10,
              "solidity": 0.2
             }
            },
            "type": "bar"
           }
          ],
          "barpolar": [
           {
            "marker": {
             "line": {
              "color": "#E5ECF6",
              "width": 0.5
             },
             "pattern": {
              "fillmode": "overlay",
              "size": 10,
              "solidity": 0.2
             }
            },
            "type": "barpolar"
           }
          ],
          "carpet": [
           {
            "aaxis": {
             "endlinecolor": "#2a3f5f",
             "gridcolor": "white",
             "linecolor": "white",
             "minorgridcolor": "white",
             "startlinecolor": "#2a3f5f"
            },
            "baxis": {
             "endlinecolor": "#2a3f5f",
             "gridcolor": "white",
             "linecolor": "white",
             "minorgridcolor": "white",
             "startlinecolor": "#2a3f5f"
            },
            "type": "carpet"
           }
          ],
          "choropleth": [
           {
            "colorbar": {
             "outlinewidth": 0,
             "ticks": ""
            },
            "type": "choropleth"
           }
          ],
          "contour": [
           {
            "colorbar": {
             "outlinewidth": 0,
             "ticks": ""
            },
            "colorscale": [
             [
              0,
              "#0d0887"
             ],
             [
              0.1111111111111111,
              "#46039f"
             ],
             [
              0.2222222222222222,
              "#7201a8"
             ],
             [
              0.3333333333333333,
              "#9c179e"
             ],
             [
              0.4444444444444444,
              "#bd3786"
             ],
             [
              0.5555555555555556,
              "#d8576b"
             ],
             [
              0.6666666666666666,
              "#ed7953"
             ],
             [
              0.7777777777777778,
              "#fb9f3a"
             ],
             [
              0.8888888888888888,
              "#fdca26"
             ],
             [
              1,
              "#f0f921"
             ]
            ],
            "type": "contour"
           }
          ],
          "contourcarpet": [
           {
            "colorbar": {
             "outlinewidth": 0,
             "ticks": ""
            },
            "type": "contourcarpet"
           }
          ],
          "heatmap": [
           {
            "colorbar": {
             "outlinewidth": 0,
             "ticks": ""
            },
            "colorscale": [
             [
              0,
              "#0d0887"
             ],
             [
              0.1111111111111111,
              "#46039f"
             ],
             [
              0.2222222222222222,
              "#7201a8"
             ],
             [
              0.3333333333333333,
              "#9c179e"
             ],
             [
              0.4444444444444444,
              "#bd3786"
             ],
             [
              0.5555555555555556,
              "#d8576b"
             ],
             [
              0.6666666666666666,
              "#ed7953"
             ],
             [
              0.7777777777777778,
              "#fb9f3a"
             ],
             [
              0.8888888888888888,
              "#fdca26"
             ],
             [
              1,
              "#f0f921"
             ]
            ],
            "type": "heatmap"
           }
          ],
          "heatmapgl": [
           {
            "colorbar": {
             "outlinewidth": 0,
             "ticks": ""
            },
            "colorscale": [
             [
              0,
              "#0d0887"
             ],
             [
              0.1111111111111111,
              "#46039f"
             ],
             [
              0.2222222222222222,
              "#7201a8"
             ],
             [
              0.3333333333333333,
              "#9c179e"
             ],
             [
              0.4444444444444444,
              "#bd3786"
             ],
             [
              0.5555555555555556,
              "#d8576b"
             ],
             [
              0.6666666666666666,
              "#ed7953"
             ],
             [
              0.7777777777777778,
              "#fb9f3a"
             ],
             [
              0.8888888888888888,
              "#fdca26"
             ],
             [
              1,
              "#f0f921"
             ]
            ],
            "type": "heatmapgl"
           }
          ],
          "histogram": [
           {
            "marker": {
             "pattern": {
              "fillmode": "overlay",
              "size": 10,
              "solidity": 0.2
             }
            },
            "type": "histogram"
           }
          ],
          "histogram2d": [
           {
            "colorbar": {
             "outlinewidth": 0,
             "ticks": ""
            },
            "colorscale": [
             [
              0,
              "#0d0887"
             ],
             [
              0.1111111111111111,
              "#46039f"
             ],
             [
              0.2222222222222222,
              "#7201a8"
             ],
             [
              0.3333333333333333,
              "#9c179e"
             ],
             [
              0.4444444444444444,
              "#bd3786"
             ],
             [
              0.5555555555555556,
              "#d8576b"
             ],
             [
              0.6666666666666666,
              "#ed7953"
             ],
             [
              0.7777777777777778,
              "#fb9f3a"
             ],
             [
              0.8888888888888888,
              "#fdca26"
             ],
             [
              1,
              "#f0f921"
             ]
            ],
            "type": "histogram2d"
           }
          ],
          "histogram2dcontour": [
           {
            "colorbar": {
             "outlinewidth": 0,
             "ticks": ""
            },
            "colorscale": [
             [
              0,
              "#0d0887"
             ],
             [
              0.1111111111111111,
              "#46039f"
             ],
             [
              0.2222222222222222,
              "#7201a8"
             ],
             [
              0.3333333333333333,
              "#9c179e"
             ],
             [
              0.4444444444444444,
              "#bd3786"
             ],
             [
              0.5555555555555556,
              "#d8576b"
             ],
             [
              0.6666666666666666,
              "#ed7953"
             ],
             [
              0.7777777777777778,
              "#fb9f3a"
             ],
             [
              0.8888888888888888,
              "#fdca26"
             ],
             [
              1,
              "#f0f921"
             ]
            ],
            "type": "histogram2dcontour"
           }
          ],
          "mesh3d": [
           {
            "colorbar": {
             "outlinewidth": 0,
             "ticks": ""
            },
            "type": "mesh3d"
           }
          ],
          "parcoords": [
           {
            "line": {
             "colorbar": {
              "outlinewidth": 0,
              "ticks": ""
             }
            },
            "type": "parcoords"
           }
          ],
          "pie": [
           {
            "automargin": true,
            "type": "pie"
           }
          ],
          "scatter": [
           {
            "fillpattern": {
             "fillmode": "overlay",
             "size": 10,
             "solidity": 0.2
            },
            "type": "scatter"
           }
          ],
          "scatter3d": [
           {
            "line": {
             "colorbar": {
              "outlinewidth": 0,
              "ticks": ""
             }
            },
            "marker": {
             "colorbar": {
              "outlinewidth": 0,
              "ticks": ""
             }
            },
            "type": "scatter3d"
           }
          ],
          "scattercarpet": [
           {
            "marker": {
             "colorbar": {
              "outlinewidth": 0,
              "ticks": ""
             }
            },
            "type": "scattercarpet"
           }
          ],
          "scattergeo": [
           {
            "marker": {
             "colorbar": {
              "outlinewidth": 0,
              "ticks": ""
             }
            },
            "type": "scattergeo"
           }
          ],
          "scattergl": [
           {
            "marker": {
             "colorbar": {
              "outlinewidth": 0,
              "ticks": ""
             }
            },
            "type": "scattergl"
           }
          ],
          "scattermapbox": [
           {
            "marker": {
             "colorbar": {
              "outlinewidth": 0,
              "ticks": ""
             }
            },
            "type": "scattermapbox"
           }
          ],
          "scatterpolar": [
           {
            "marker": {
             "colorbar": {
              "outlinewidth": 0,
              "ticks": ""
             }
            },
            "type": "scatterpolar"
           }
          ],
          "scatterpolargl": [
           {
            "marker": {
             "colorbar": {
              "outlinewidth": 0,
              "ticks": ""
             }
            },
            "type": "scatterpolargl"
           }
          ],
          "scatterternary": [
           {
            "marker": {
             "colorbar": {
              "outlinewidth": 0,
              "ticks": ""
             }
            },
            "type": "scatterternary"
           }
          ],
          "surface": [
           {
            "colorbar": {
             "outlinewidth": 0,
             "ticks": ""
            },
            "colorscale": [
             [
              0,
              "#0d0887"
             ],
             [
              0.1111111111111111,
              "#46039f"
             ],
             [
              0.2222222222222222,
              "#7201a8"
             ],
             [
              0.3333333333333333,
              "#9c179e"
             ],
             [
              0.4444444444444444,
              "#bd3786"
             ],
             [
              0.5555555555555556,
              "#d8576b"
             ],
             [
              0.6666666666666666,
              "#ed7953"
             ],
             [
              0.7777777777777778,
              "#fb9f3a"
             ],
             [
              0.8888888888888888,
              "#fdca26"
             ],
             [
              1,
              "#f0f921"
             ]
            ],
            "type": "surface"
           }
          ],
          "table": [
           {
            "cells": {
             "fill": {
              "color": "#EBF0F8"
             },
             "line": {
              "color": "white"
             }
            },
            "header": {
             "fill": {
              "color": "#C8D4E3"
             },
             "line": {
              "color": "white"
             }
            },
            "type": "table"
           }
          ]
         },
         "layout": {
          "annotationdefaults": {
           "arrowcolor": "#2a3f5f",
           "arrowhead": 0,
           "arrowwidth": 1
          },
          "autotypenumbers": "strict",
          "coloraxis": {
           "colorbar": {
            "outlinewidth": 0,
            "ticks": ""
           }
          },
          "colorscale": {
           "diverging": [
            [
             0,
             "#8e0152"
            ],
            [
             0.1,
             "#c51b7d"
            ],
            [
             0.2,
             "#de77ae"
            ],
            [
             0.3,
             "#f1b6da"
            ],
            [
             0.4,
             "#fde0ef"
            ],
            [
             0.5,
             "#f7f7f7"
            ],
            [
             0.6,
             "#e6f5d0"
            ],
            [
             0.7,
             "#b8e186"
            ],
            [
             0.8,
             "#7fbc41"
            ],
            [
             0.9,
             "#4d9221"
            ],
            [
             1,
             "#276419"
            ]
           ],
           "sequential": [
            [
             0,
             "#0d0887"
            ],
            [
             0.1111111111111111,
             "#46039f"
            ],
            [
             0.2222222222222222,
             "#7201a8"
            ],
            [
             0.3333333333333333,
             "#9c179e"
            ],
            [
             0.4444444444444444,
             "#bd3786"
            ],
            [
             0.5555555555555556,
             "#d8576b"
            ],
            [
             0.6666666666666666,
             "#ed7953"
            ],
            [
             0.7777777777777778,
             "#fb9f3a"
            ],
            [
             0.8888888888888888,
             "#fdca26"
            ],
            [
             1,
             "#f0f921"
            ]
           ],
           "sequentialminus": [
            [
             0,
             "#0d0887"
            ],
            [
             0.1111111111111111,
             "#46039f"
            ],
            [
             0.2222222222222222,
             "#7201a8"
            ],
            [
             0.3333333333333333,
             "#9c179e"
            ],
            [
             0.4444444444444444,
             "#bd3786"
            ],
            [
             0.5555555555555556,
             "#d8576b"
            ],
            [
             0.6666666666666666,
             "#ed7953"
            ],
            [
             0.7777777777777778,
             "#fb9f3a"
            ],
            [
             0.8888888888888888,
             "#fdca26"
            ],
            [
             1,
             "#f0f921"
            ]
           ]
          },
          "colorway": [
           "#636efa",
           "#EF553B",
           "#00cc96",
           "#ab63fa",
           "#FFA15A",
           "#19d3f3",
           "#FF6692",
           "#B6E880",
           "#FF97FF",
           "#FECB52"
          ],
          "font": {
           "color": "#2a3f5f"
          },
          "geo": {
           "bgcolor": "white",
           "lakecolor": "white",
           "landcolor": "#E5ECF6",
           "showlakes": true,
           "showland": true,
           "subunitcolor": "white"
          },
          "hoverlabel": {
           "align": "left"
          },
          "hovermode": "closest",
          "mapbox": {
           "style": "light"
          },
          "paper_bgcolor": "white",
          "plot_bgcolor": "#E5ECF6",
          "polar": {
           "angularaxis": {
            "gridcolor": "white",
            "linecolor": "white",
            "ticks": ""
           },
           "bgcolor": "#E5ECF6",
           "radialaxis": {
            "gridcolor": "white",
            "linecolor": "white",
            "ticks": ""
           }
          },
          "scene": {
           "xaxis": {
            "backgroundcolor": "#E5ECF6",
            "gridcolor": "white",
            "gridwidth": 2,
            "linecolor": "white",
            "showbackground": true,
            "ticks": "",
            "zerolinecolor": "white"
           },
           "yaxis": {
            "backgroundcolor": "#E5ECF6",
            "gridcolor": "white",
            "gridwidth": 2,
            "linecolor": "white",
            "showbackground": true,
            "ticks": "",
            "zerolinecolor": "white"
           },
           "zaxis": {
            "backgroundcolor": "#E5ECF6",
            "gridcolor": "white",
            "gridwidth": 2,
            "linecolor": "white",
            "showbackground": true,
            "ticks": "",
            "zerolinecolor": "white"
           }
          },
          "shapedefaults": {
           "line": {
            "color": "#2a3f5f"
           }
          },
          "ternary": {
           "aaxis": {
            "gridcolor": "white",
            "linecolor": "white",
            "ticks": ""
           },
           "baxis": {
            "gridcolor": "white",
            "linecolor": "white",
            "ticks": ""
           },
           "bgcolor": "#E5ECF6",
           "caxis": {
            "gridcolor": "white",
            "linecolor": "white",
            "ticks": ""
           }
          },
          "title": {
           "x": 0.05
          },
          "xaxis": {
           "automargin": true,
           "gridcolor": "white",
           "linecolor": "white",
           "ticks": "",
           "title": {
            "standoff": 15
           },
           "zerolinecolor": "white",
           "zerolinewidth": 2
          },
          "yaxis": {
           "automargin": true,
           "gridcolor": "white",
           "linecolor": "white",
           "ticks": "",
           "title": {
            "standoff": 15
           },
           "zerolinecolor": "white",
           "zerolinewidth": 2
          }
         }
        },
        "title": {
         "text": "Einfluss des Parameters <i>max_jittering_air_temperature</i> auf die MDT."
        },
        "width": 600,
        "xaxis": {
         "anchor": "y",
         "domain": [
          0,
          1
         ],
         "title": {
          "text": "max_jittering_air_temperature"
         }
        },
        "yaxis": {
         "anchor": "x",
         "domain": [
          0,
          1
         ],
         "title": {
          "text": "MDT"
         }
        }
       }
      }
     },
     "metadata": {},
     "output_type": "display_data"
    },
    {
     "name": "stdout",
     "output_type": "stream",
     "text": [
      "{'DecisionTreeRegressor': {0: 41.20805583305584, 5: 40.15080450784965}, 'LinearRegression': {0: 40.38803231652069, 5: 40.26538894174176}, 'XGBRegressor': {0: 35.58075998075998, 5: 36.176890166028095}}\n",
      "                         0    5\n",
      "DecisionTreeRegressor 41.2 40.2\n",
      "LinearRegression      40.4 40.3\n",
      "XGBRegressor          35.6 36.2\n",
      "/home/nkuechen/Documents/Thesis\n",
      "Experiment with ID 267473491601564638 has been exported as a CSV to file: code/thesis_code/data/aug_effect/reg_random_max_time_warp_percent.csv.\n"
     ]
    },
    {
     "data": {
      "application/vnd.plotly.v1+json": {
       "config": {
        "plotlyServerURL": "https://plot.ly"
       },
       "data": [
        {
         "alignmentgroup": "True",
         "hovertemplate": "params.model_class=XGBRegressor<br>params.random_max_time_warp_percent=%{x}<br>metrics.mdt=%{y}<extra></extra>",
         "legendgroup": "XGBRegressor",
         "marker": {
          "color": "#636efa"
         },
         "name": "XGBRegressor",
         "notched": false,
         "offsetgroup": "XGBRegressor",
         "orientation": "v",
         "showlegend": true,
         "type": "box",
         "x": [
          1,
          0.5,
          0,
          1,
          0.5,
          0,
          1,
          0.5,
          0,
          1,
          0.5,
          0,
          1,
          0.5,
          0
         ],
         "x0": " ",
         "xaxis": "x",
         "y": [
          37.72636450346525,
          36.51097377865671,
          35.95459550957739,
          35.14929078014184,
          38.4758679363915,
          36.52256997700347,
          39.242328492202105,
          36.86746594155131,
          33.02031887699074,
          37.55167752274607,
          35.47590363090363,
          34.43953342932357,
          36.27028867102396,
          38.04485157477625,
          37.336374481844864
         ],
         "y0": " ",
         "yaxis": "y"
        },
        {
         "alignmentgroup": "True",
         "hovertemplate": "params.model_class=DecisionTreeRegressor<br>params.random_max_time_warp_percent=%{x}<br>metrics.mdt=%{y}<extra></extra>",
         "legendgroup": "DecisionTreeRegressor",
         "marker": {
          "color": "#EF553B"
         },
         "name": "DecisionTreeRegressor",
         "notched": false,
         "offsetgroup": "DecisionTreeRegressor",
         "orientation": "v",
         "showlegend": true,
         "type": "box",
         "x": [
          1,
          0.5,
          0,
          1,
          0.5,
          0,
          1,
          0.5,
          0,
          1,
          0.5,
          0,
          1,
          0.5,
          0
         ],
         "x0": " ",
         "xaxis": "x",
         "y": [
          41.05491272522522,
          43.98363124793115,
          41.11627420198849,
          43.18706874245299,
          39.93610402146987,
          39.701830929578605,
          42.19875016504918,
          40.64478370035826,
          41.68443362193362,
          42.01794507575757,
          42.05503201257277,
          40.15993753118072,
          46.19562464629316,
          41.08961131810308,
          39.5888690186505
         ],
         "y0": " ",
         "yaxis": "y"
        },
        {
         "alignmentgroup": "True",
         "hovertemplate": "params.model_class=LinearRegression<br>params.random_max_time_warp_percent=%{x}<br>metrics.mdt=%{y}<extra></extra>",
         "legendgroup": "LinearRegression",
         "marker": {
          "color": "#00cc96"
         },
         "name": "LinearRegression",
         "notched": false,
         "offsetgroup": "LinearRegression",
         "orientation": "v",
         "showlegend": true,
         "type": "box",
         "x": [
          1,
          0.5,
          0,
          1,
          0.5,
          0,
          1,
          0.5,
          0,
          1,
          0.5,
          0,
          1,
          0.5,
          0
         ],
         "x0": " ",
         "xaxis": "x",
         "y": [
          41.0029251727183,
          40.71709887334887,
          40.86192679361004,
          43.412695568751474,
          42.1763468013468,
          40.6753235058441,
          43.45750700280112,
          43.71878787878788,
          40.515867003367006,
          41.21504520611664,
          40.7975845410628,
          39.72784992784993,
          41.56926256613757,
          42.10963108189495,
          39.696105072463766
         ],
         "y0": " ",
         "yaxis": "y"
        }
       ],
       "layout": {
        "boxmode": "group",
        "height": 600,
        "legend": {
         "title": {
          "text": "Modelltyp"
         },
         "tracegroupgap": 0
        },
        "template": {
         "data": {
          "bar": [
           {
            "error_x": {
             "color": "#2a3f5f"
            },
            "error_y": {
             "color": "#2a3f5f"
            },
            "marker": {
             "line": {
              "color": "#E5ECF6",
              "width": 0.5
             },
             "pattern": {
              "fillmode": "overlay",
              "size": 10,
              "solidity": 0.2
             }
            },
            "type": "bar"
           }
          ],
          "barpolar": [
           {
            "marker": {
             "line": {
              "color": "#E5ECF6",
              "width": 0.5
             },
             "pattern": {
              "fillmode": "overlay",
              "size": 10,
              "solidity": 0.2
             }
            },
            "type": "barpolar"
           }
          ],
          "carpet": [
           {
            "aaxis": {
             "endlinecolor": "#2a3f5f",
             "gridcolor": "white",
             "linecolor": "white",
             "minorgridcolor": "white",
             "startlinecolor": "#2a3f5f"
            },
            "baxis": {
             "endlinecolor": "#2a3f5f",
             "gridcolor": "white",
             "linecolor": "white",
             "minorgridcolor": "white",
             "startlinecolor": "#2a3f5f"
            },
            "type": "carpet"
           }
          ],
          "choropleth": [
           {
            "colorbar": {
             "outlinewidth": 0,
             "ticks": ""
            },
            "type": "choropleth"
           }
          ],
          "contour": [
           {
            "colorbar": {
             "outlinewidth": 0,
             "ticks": ""
            },
            "colorscale": [
             [
              0,
              "#0d0887"
             ],
             [
              0.1111111111111111,
              "#46039f"
             ],
             [
              0.2222222222222222,
              "#7201a8"
             ],
             [
              0.3333333333333333,
              "#9c179e"
             ],
             [
              0.4444444444444444,
              "#bd3786"
             ],
             [
              0.5555555555555556,
              "#d8576b"
             ],
             [
              0.6666666666666666,
              "#ed7953"
             ],
             [
              0.7777777777777778,
              "#fb9f3a"
             ],
             [
              0.8888888888888888,
              "#fdca26"
             ],
             [
              1,
              "#f0f921"
             ]
            ],
            "type": "contour"
           }
          ],
          "contourcarpet": [
           {
            "colorbar": {
             "outlinewidth": 0,
             "ticks": ""
            },
            "type": "contourcarpet"
           }
          ],
          "heatmap": [
           {
            "colorbar": {
             "outlinewidth": 0,
             "ticks": ""
            },
            "colorscale": [
             [
              0,
              "#0d0887"
             ],
             [
              0.1111111111111111,
              "#46039f"
             ],
             [
              0.2222222222222222,
              "#7201a8"
             ],
             [
              0.3333333333333333,
              "#9c179e"
             ],
             [
              0.4444444444444444,
              "#bd3786"
             ],
             [
              0.5555555555555556,
              "#d8576b"
             ],
             [
              0.6666666666666666,
              "#ed7953"
             ],
             [
              0.7777777777777778,
              "#fb9f3a"
             ],
             [
              0.8888888888888888,
              "#fdca26"
             ],
             [
              1,
              "#f0f921"
             ]
            ],
            "type": "heatmap"
           }
          ],
          "heatmapgl": [
           {
            "colorbar": {
             "outlinewidth": 0,
             "ticks": ""
            },
            "colorscale": [
             [
              0,
              "#0d0887"
             ],
             [
              0.1111111111111111,
              "#46039f"
             ],
             [
              0.2222222222222222,
              "#7201a8"
             ],
             [
              0.3333333333333333,
              "#9c179e"
             ],
             [
              0.4444444444444444,
              "#bd3786"
             ],
             [
              0.5555555555555556,
              "#d8576b"
             ],
             [
              0.6666666666666666,
              "#ed7953"
             ],
             [
              0.7777777777777778,
              "#fb9f3a"
             ],
             [
              0.8888888888888888,
              "#fdca26"
             ],
             [
              1,
              "#f0f921"
             ]
            ],
            "type": "heatmapgl"
           }
          ],
          "histogram": [
           {
            "marker": {
             "pattern": {
              "fillmode": "overlay",
              "size": 10,
              "solidity": 0.2
             }
            },
            "type": "histogram"
           }
          ],
          "histogram2d": [
           {
            "colorbar": {
             "outlinewidth": 0,
             "ticks": ""
            },
            "colorscale": [
             [
              0,
              "#0d0887"
             ],
             [
              0.1111111111111111,
              "#46039f"
             ],
             [
              0.2222222222222222,
              "#7201a8"
             ],
             [
              0.3333333333333333,
              "#9c179e"
             ],
             [
              0.4444444444444444,
              "#bd3786"
             ],
             [
              0.5555555555555556,
              "#d8576b"
             ],
             [
              0.6666666666666666,
              "#ed7953"
             ],
             [
              0.7777777777777778,
              "#fb9f3a"
             ],
             [
              0.8888888888888888,
              "#fdca26"
             ],
             [
              1,
              "#f0f921"
             ]
            ],
            "type": "histogram2d"
           }
          ],
          "histogram2dcontour": [
           {
            "colorbar": {
             "outlinewidth": 0,
             "ticks": ""
            },
            "colorscale": [
             [
              0,
              "#0d0887"
             ],
             [
              0.1111111111111111,
              "#46039f"
             ],
             [
              0.2222222222222222,
              "#7201a8"
             ],
             [
              0.3333333333333333,
              "#9c179e"
             ],
             [
              0.4444444444444444,
              "#bd3786"
             ],
             [
              0.5555555555555556,
              "#d8576b"
             ],
             [
              0.6666666666666666,
              "#ed7953"
             ],
             [
              0.7777777777777778,
              "#fb9f3a"
             ],
             [
              0.8888888888888888,
              "#fdca26"
             ],
             [
              1,
              "#f0f921"
             ]
            ],
            "type": "histogram2dcontour"
           }
          ],
          "mesh3d": [
           {
            "colorbar": {
             "outlinewidth": 0,
             "ticks": ""
            },
            "type": "mesh3d"
           }
          ],
          "parcoords": [
           {
            "line": {
             "colorbar": {
              "outlinewidth": 0,
              "ticks": ""
             }
            },
            "type": "parcoords"
           }
          ],
          "pie": [
           {
            "automargin": true,
            "type": "pie"
           }
          ],
          "scatter": [
           {
            "fillpattern": {
             "fillmode": "overlay",
             "size": 10,
             "solidity": 0.2
            },
            "type": "scatter"
           }
          ],
          "scatter3d": [
           {
            "line": {
             "colorbar": {
              "outlinewidth": 0,
              "ticks": ""
             }
            },
            "marker": {
             "colorbar": {
              "outlinewidth": 0,
              "ticks": ""
             }
            },
            "type": "scatter3d"
           }
          ],
          "scattercarpet": [
           {
            "marker": {
             "colorbar": {
              "outlinewidth": 0,
              "ticks": ""
             }
            },
            "type": "scattercarpet"
           }
          ],
          "scattergeo": [
           {
            "marker": {
             "colorbar": {
              "outlinewidth": 0,
              "ticks": ""
             }
            },
            "type": "scattergeo"
           }
          ],
          "scattergl": [
           {
            "marker": {
             "colorbar": {
              "outlinewidth": 0,
              "ticks": ""
             }
            },
            "type": "scattergl"
           }
          ],
          "scattermapbox": [
           {
            "marker": {
             "colorbar": {
              "outlinewidth": 0,
              "ticks": ""
             }
            },
            "type": "scattermapbox"
           }
          ],
          "scatterpolar": [
           {
            "marker": {
             "colorbar": {
              "outlinewidth": 0,
              "ticks": ""
             }
            },
            "type": "scatterpolar"
           }
          ],
          "scatterpolargl": [
           {
            "marker": {
             "colorbar": {
              "outlinewidth": 0,
              "ticks": ""
             }
            },
            "type": "scatterpolargl"
           }
          ],
          "scatterternary": [
           {
            "marker": {
             "colorbar": {
              "outlinewidth": 0,
              "ticks": ""
             }
            },
            "type": "scatterternary"
           }
          ],
          "surface": [
           {
            "colorbar": {
             "outlinewidth": 0,
             "ticks": ""
            },
            "colorscale": [
             [
              0,
              "#0d0887"
             ],
             [
              0.1111111111111111,
              "#46039f"
             ],
             [
              0.2222222222222222,
              "#7201a8"
             ],
             [
              0.3333333333333333,
              "#9c179e"
             ],
             [
              0.4444444444444444,
              "#bd3786"
             ],
             [
              0.5555555555555556,
              "#d8576b"
             ],
             [
              0.6666666666666666,
              "#ed7953"
             ],
             [
              0.7777777777777778,
              "#fb9f3a"
             ],
             [
              0.8888888888888888,
              "#fdca26"
             ],
             [
              1,
              "#f0f921"
             ]
            ],
            "type": "surface"
           }
          ],
          "table": [
           {
            "cells": {
             "fill": {
              "color": "#EBF0F8"
             },
             "line": {
              "color": "white"
             }
            },
            "header": {
             "fill": {
              "color": "#C8D4E3"
             },
             "line": {
              "color": "white"
             }
            },
            "type": "table"
           }
          ]
         },
         "layout": {
          "annotationdefaults": {
           "arrowcolor": "#2a3f5f",
           "arrowhead": 0,
           "arrowwidth": 1
          },
          "autotypenumbers": "strict",
          "coloraxis": {
           "colorbar": {
            "outlinewidth": 0,
            "ticks": ""
           }
          },
          "colorscale": {
           "diverging": [
            [
             0,
             "#8e0152"
            ],
            [
             0.1,
             "#c51b7d"
            ],
            [
             0.2,
             "#de77ae"
            ],
            [
             0.3,
             "#f1b6da"
            ],
            [
             0.4,
             "#fde0ef"
            ],
            [
             0.5,
             "#f7f7f7"
            ],
            [
             0.6,
             "#e6f5d0"
            ],
            [
             0.7,
             "#b8e186"
            ],
            [
             0.8,
             "#7fbc41"
            ],
            [
             0.9,
             "#4d9221"
            ],
            [
             1,
             "#276419"
            ]
           ],
           "sequential": [
            [
             0,
             "#0d0887"
            ],
            [
             0.1111111111111111,
             "#46039f"
            ],
            [
             0.2222222222222222,
             "#7201a8"
            ],
            [
             0.3333333333333333,
             "#9c179e"
            ],
            [
             0.4444444444444444,
             "#bd3786"
            ],
            [
             0.5555555555555556,
             "#d8576b"
            ],
            [
             0.6666666666666666,
             "#ed7953"
            ],
            [
             0.7777777777777778,
             "#fb9f3a"
            ],
            [
             0.8888888888888888,
             "#fdca26"
            ],
            [
             1,
             "#f0f921"
            ]
           ],
           "sequentialminus": [
            [
             0,
             "#0d0887"
            ],
            [
             0.1111111111111111,
             "#46039f"
            ],
            [
             0.2222222222222222,
             "#7201a8"
            ],
            [
             0.3333333333333333,
             "#9c179e"
            ],
            [
             0.4444444444444444,
             "#bd3786"
            ],
            [
             0.5555555555555556,
             "#d8576b"
            ],
            [
             0.6666666666666666,
             "#ed7953"
            ],
            [
             0.7777777777777778,
             "#fb9f3a"
            ],
            [
             0.8888888888888888,
             "#fdca26"
            ],
            [
             1,
             "#f0f921"
            ]
           ]
          },
          "colorway": [
           "#636efa",
           "#EF553B",
           "#00cc96",
           "#ab63fa",
           "#FFA15A",
           "#19d3f3",
           "#FF6692",
           "#B6E880",
           "#FF97FF",
           "#FECB52"
          ],
          "font": {
           "color": "#2a3f5f"
          },
          "geo": {
           "bgcolor": "white",
           "lakecolor": "white",
           "landcolor": "#E5ECF6",
           "showlakes": true,
           "showland": true,
           "subunitcolor": "white"
          },
          "hoverlabel": {
           "align": "left"
          },
          "hovermode": "closest",
          "mapbox": {
           "style": "light"
          },
          "paper_bgcolor": "white",
          "plot_bgcolor": "#E5ECF6",
          "polar": {
           "angularaxis": {
            "gridcolor": "white",
            "linecolor": "white",
            "ticks": ""
           },
           "bgcolor": "#E5ECF6",
           "radialaxis": {
            "gridcolor": "white",
            "linecolor": "white",
            "ticks": ""
           }
          },
          "scene": {
           "xaxis": {
            "backgroundcolor": "#E5ECF6",
            "gridcolor": "white",
            "gridwidth": 2,
            "linecolor": "white",
            "showbackground": true,
            "ticks": "",
            "zerolinecolor": "white"
           },
           "yaxis": {
            "backgroundcolor": "#E5ECF6",
            "gridcolor": "white",
            "gridwidth": 2,
            "linecolor": "white",
            "showbackground": true,
            "ticks": "",
            "zerolinecolor": "white"
           },
           "zaxis": {
            "backgroundcolor": "#E5ECF6",
            "gridcolor": "white",
            "gridwidth": 2,
            "linecolor": "white",
            "showbackground": true,
            "ticks": "",
            "zerolinecolor": "white"
           }
          },
          "shapedefaults": {
           "line": {
            "color": "#2a3f5f"
           }
          },
          "ternary": {
           "aaxis": {
            "gridcolor": "white",
            "linecolor": "white",
            "ticks": ""
           },
           "baxis": {
            "gridcolor": "white",
            "linecolor": "white",
            "ticks": ""
           },
           "bgcolor": "#E5ECF6",
           "caxis": {
            "gridcolor": "white",
            "linecolor": "white",
            "ticks": ""
           }
          },
          "title": {
           "x": 0.05
          },
          "xaxis": {
           "automargin": true,
           "gridcolor": "white",
           "linecolor": "white",
           "ticks": "",
           "title": {
            "standoff": 15
           },
           "zerolinecolor": "white",
           "zerolinewidth": 2
          },
          "yaxis": {
           "automargin": true,
           "gridcolor": "white",
           "linecolor": "white",
           "ticks": "",
           "title": {
            "standoff": 15
           },
           "zerolinecolor": "white",
           "zerolinewidth": 2
          }
         }
        },
        "title": {
         "text": "Einfluss des Parameters <i>max_jittering_measurement_interval</i> auf die MDT."
        },
        "width": 600,
        "xaxis": {
         "anchor": "y",
         "domain": [
          0,
          1
         ],
         "title": {
          "text": "max_jittering_measurement_interval"
         }
        },
        "yaxis": {
         "anchor": "x",
         "domain": [
          0,
          1
         ],
         "title": {
          "text": "MDT"
         }
        }
       }
      }
     },
     "metadata": {},
     "output_type": "display_data"
    },
    {
     "name": "stdout",
     "output_type": "stream",
     "text": [
      "{'DecisionTreeRegressor': {0.0: 40.15993753118072, 0.5: 41.08961131810308, 1.0: 42.19875016504918}, 'LinearRegression': {0.0: 40.515867003367006, 0.5: 42.10963108189495, 1.0: 41.56926256613757}, 'XGBRegressor': {0.0: 35.95459550957739, 0.5: 36.86746594155131, 1.0: 37.55167752274607}}\n",
      "                       0.0  0.5  1.0\n",
      "DecisionTreeRegressor 40.2 41.1 42.2\n",
      "LinearRegression      40.5 42.1 41.6\n",
      "XGBRegressor          36.0 36.9 37.6\n"
     ]
    }
   ],
   "source": [
    "for reg_exp, (param, param_bool, param_values) in reg_experiments.items():\n",
    "    reg_exp_results = load_exp_results(reg_exp)\n",
    "    if reg_exp_results is not None:\n",
    "        try:\n",
    "            fig = px.box(\n",
    "                reg_exp_results,\n",
    "                x=f\"params.{param}\",\n",
    "                y=\"metrics.mdt\",\n",
    "                color=\"params.model_class\",\n",
    "                title=f\"Einfluss des Parameters <i>{params_to_better_params[param]}</i> auf die MDT.\",\n",
    "                width=600,\n",
    "                height=600,\n",
    "            )\n",
    "            fig.update_yaxes(title=\"MDT\")\n",
    "            fig.update_xaxes(title=params_to_better_params[param])\n",
    "            fig.update_layout(legend_title=\"Modelltyp\")\n",
    "            fig.show()\n",
    "\n",
    "            medians = {}\n",
    "            for model_class, model_group in reg_exp_results.groupby(\n",
    "                by=\"params.model_class\"\n",
    "            ):\n",
    "                medians[model_class] = {}\n",
    "                for param_value, param_group in model_group.groupby(\n",
    "                    by=f\"params.{param}\"\n",
    "                ):\n",
    "                    medians[model_class][param_value] = param_group[\n",
    "                        \"metrics.mdt\"\n",
    "                    ].median()\n",
    "            print(medians)\n",
    "            medians_df = pd.DataFrame(medians).T\n",
    "            pd.options.display.float_format = \"{:.1f}\".format\n",
    "            print(medians_df)\n",
    "\n",
    "        except ValueError:\n",
    "            print(f\"{reg_exp} does not seem to be finished.\")\n",
    "            raise"
   ]
  },
  {
   "cell_type": "code",
   "execution_count": null,
   "metadata": {},
   "outputs": [
    {
     "name": "stdout",
     "output_type": "stream",
     "text": [
      "/home/nkuechen/Documents/Thesis/mlruns\n",
      "!! Creating new split...\n",
      "###Split 1/4!\n",
      "Dropped 0 rows in 0 cycles.\n",
      "29 cycles left.\n",
      "Dropped 1517 rows in 6 cycles.\n",
      "37 cycles left.\n",
      "mdt=41.027027027027025; med_dt=21.0; std=42.64317895022898\n",
      "###Split 2/4!\n",
      "Dropped 628 rows in 2 cycles.\n",
      "13 cycles left.\n",
      "Dropped 955 rows in 9 cycles.\n",
      "49 cycles left.\n",
      "mdt=37.04081632653061; med_dt=22.0; std=39.13883843656506\n",
      "###Split 3/4!\n",
      "Dropped 495 rows in 2 cycles.\n",
      "20 cycles left.\n",
      "Dropped 1410 rows in 9 cycles.\n",
      "35 cycles left.\n",
      "mdt=47.34285714285714; med_dt=31.0; std=44.0553393491648\n",
      "###Split 4/4!\n",
      "Dropped 863 rows in 2 cycles.\n",
      "14 cycles left.\n",
      "Dropped 322 rows in 5 cycles.\n",
      "32 cycles left.\n",
      "mdt=35.03125; med_dt=22.5; std=35.54148196268927\n",
      "/home/nkuechen/Documents/Thesis/mlruns\n",
      "!! Creating new split...\n",
      "###Split 1/4!\n",
      "Dropped 0 rows in 0 cycles.\n",
      "27 cycles left.\n",
      "Dropped 1463 rows in 9 cycles.\n",
      "40 cycles left.\n",
      "mdt=27.291666666666668; med_dt=19.0; std=22.63124530132818\n",
      "###Split 2/4!\n",
      "Dropped 0 rows in 0 cycles.\n",
      "29 cycles left.\n",
      "Dropped 422 rows in 7 cycles.\n",
      "46 cycles left.\n",
      "mdt=36.69565217391305; med_dt=19.0; std=42.68143008206299\n",
      "###Split 3/4!\n",
      "Dropped 0 rows in 0 cycles.\n",
      "27 cycles left.\n",
      "Dropped 727 rows in 6 cycles.\n",
      "41 cycles left.\n",
      "mdt=44.49593495934959; med_dt=23.0; std=48.548085957554605\n",
      "###Split 4/4!\n",
      "Dropped 0 rows in 0 cycles.\n",
      "25 cycles left.\n",
      "Dropped 1432 rows in 6 cycles.\n",
      "26 cycles left.\n",
      "mdt=56.76923076923077; med_dt=38.5; std=54.892184086327426\n",
      "/home/nkuechen/Documents/Thesis/mlruns\n",
      "!! Creating new split...\n",
      "###Split 1/4!\n",
      "Dropped 1376 rows in 1 cycles.\n",
      "21 cycles left.\n",
      "Dropped 1007 rows in 6 cycles.\n",
      "28 cycles left.\n",
      "mdt=60.154761904761905; med_dt=32.0; std=62.31801964570408\n",
      "###Split 2/4!\n",
      "Dropped 278 rows in 1 cycles.\n",
      "20 cycles left.\n",
      "Dropped 1122 rows in 9 cycles.\n",
      "43 cycles left.\n",
      "mdt=40.47286821705426; med_dt=21.0; std=45.778549785412615\n",
      "###Split 3/4!\n",
      "Dropped 0 rows in 0 cycles.\n",
      "28 cycles left.\n",
      "Dropped 1369 rows in 7 cycles.\n",
      "31 cycles left.\n",
      "mdt=50.24731182795699; med_dt=33.0; std=47.97886091732763\n",
      "###Split 4/4!\n",
      "Dropped 1083 rows in 2 cycles.\n",
      "19 cycles left.\n",
      "Dropped 546 rows in 6 cycles.\n",
      "51 cycles left.\n",
      "mdt=23.0; med_dt=13.0; std=25.878549928564947\n",
      "/home/nkuechen/Documents/Thesis/mlruns\n",
      "!! Creating new split...\n",
      "###Split 1/4!\n",
      "Dropped 0 rows in 0 cycles.\n",
      "24 cycles left.\n",
      "Dropped 878 rows in 7 cycles.\n",
      "37 cycles left.\n",
      "mdt=36.945945945945944; med_dt=19.0; std=43.891930723810106\n",
      "###Split 2/4!\n",
      "Dropped 0 rows in 0 cycles.\n",
      "23 cycles left.\n",
      "Dropped 1759 rows in 9 cycles.\n",
      "41 cycles left.\n",
      "mdt=31.024390243902438; med_dt=15.0; std=37.909705176635406\n",
      "###Split 3/4!\n",
      "Dropped 0 rows in 0 cycles.\n",
      "26 cycles left.\n",
      "Dropped 1101 rows in 9 cycles.\n",
      "37 cycles left.\n",
      "mdt=31.954954954954953; med_dt=12.0; std=37.125641896931995\n",
      "###Split 4/4!\n",
      "Dropped 0 rows in 0 cycles.\n",
      "29 cycles left.\n",
      "Dropped 306 rows in 3 cycles.\n",
      "38 cycles left.\n",
      "mdt=44.6578947368421; med_dt=26.0; std=56.26017708283923\n",
      "/home/nkuechen/Documents/Thesis/mlruns\n",
      "!! Creating new split...\n",
      "###Split 1/4!\n",
      "Dropped 470 rows in 1 cycles.\n",
      "30 cycles left.\n",
      "Dropped 991 rows in 8 cycles.\n",
      "38 cycles left.\n",
      "mdt=35.25438596491228; med_dt=21.5; std=38.60115701463591\n",
      "###Split 2/4!\n",
      "Dropped 1322 rows in 3 cycles.\n",
      "18 cycles left.\n",
      "Dropped 1007 rows in 5 cycles.\n",
      "34 cycles left.\n",
      "mdt=40.666666666666664; med_dt=24.5; std=43.73277438667202\n",
      "###Split 3/4!\n",
      "Dropped 0 rows in 0 cycles.\n",
      "17 cycles left.\n",
      "Dropped 1126 rows in 10 cycles.\n",
      "45 cycles left.\n",
      "mdt=34.88148148148148; med_dt=19.0; std=44.452230182248265\n",
      "###Split 4/4!\n",
      "Dropped 164 rows in 1 cycles.\n",
      "22 cycles left.\n",
      "Dropped 1080 rows in 6 cycles.\n",
      "36 cycles left.\n",
      "mdt=42.44444444444444; med_dt=28.0; std=42.53067157583287\n",
      "/home/nkuechen/Documents/Thesis/mlruns\n",
      "!! Creating new split...\n",
      "###Split 1/4!\n",
      "Dropped 0 rows in 0 cycles.\n",
      "20 cycles left.\n",
      "Dropped 333 rows in 3 cycles.\n",
      "37 cycles left.\n",
      "mdt=40.153153153153156; med_dt=23.0; std=40.08711194525841\n",
      "###Split 2/4!\n",
      "Dropped 0 rows in 0 cycles.\n",
      "27 cycles left.\n",
      "Dropped 1396 rows in 7 cycles.\n",
      "33 cycles left.\n",
      "mdt=29.80808080808081; med_dt=21.0; std=29.16988788019188\n",
      "###Split 3/4!\n",
      "Dropped 2198 rows in 2 cycles.\n",
      "15 cycles left.\n",
      "Dropped 1520 rows in 13 cycles.\n",
      "48 cycles left.\n",
      "mdt=37.326388888888886; med_dt=19.5; std=48.91614563338513\n",
      "###Split 4/4!\n",
      "Dropped 107 rows in 1 cycles.\n",
      "29 cycles left.\n",
      "Dropped 955 rows in 6 cycles.\n",
      "35 cycles left.\n",
      "mdt=36.2952380952381; med_dt=20.0; std=39.41933869357208\n",
      "/home/nkuechen/Documents/Thesis/mlruns\n",
      "!! Creating new split...\n",
      "###Split 1/4!\n",
      "Dropped 156 rows in 1 cycles.\n",
      "17 cycles left.\n",
      "Dropped 1341 rows in 6 cycles.\n",
      "45 cycles left.\n",
      "mdt=34.55555555555556; med_dt=21.0; std=41.4874664994527\n",
      "###Split 2/4!\n",
      "Dropped 0 rows in 0 cycles.\n",
      "22 cycles left.\n",
      "Dropped 507 rows in 6 cycles.\n",
      "40 cycles left.\n",
      "mdt=40.608333333333334; med_dt=25.0; std=48.38737711313653\n",
      "###Split 3/4!\n",
      "Dropped 2350 rows in 1 cycles.\n",
      "31 cycles left.\n",
      "Dropped 1884 rows in 9 cycles.\n",
      "27 cycles left.\n",
      "mdt=41.27160493827161; med_dt=27.0; std=39.669627136856974\n",
      "###Split 4/4!\n",
      "Dropped 1343 rows in 1 cycles.\n",
      "29 cycles left.\n",
      "Dropped 391 rows in 7 cycles.\n",
      "42 cycles left.\n",
      "mdt=38.63492063492063; med_dt=17.5; std=55.6885618723127\n",
      "/home/nkuechen/Documents/Thesis/mlruns\n",
      "!! Creating new split...\n",
      "###Split 1/4!\n",
      "Dropped 25 rows in 1 cycles.\n",
      "32 cycles left.\n",
      "Dropped 1223 rows in 5 cycles.\n",
      "27 cycles left.\n",
      "mdt=48.888888888888886; med_dt=23.0; std=65.18823646057244\n",
      "###Split 2/4!\n",
      "Dropped 1769 rows in 2 cycles.\n",
      "11 cycles left.\n",
      "Dropped 1165 rows in 9 cycles.\n",
      "44 cycles left.\n",
      "mdt=36.265151515151516; med_dt=23.0; std=40.57930130835193\n",
      "###Split 3/4!\n",
      "Dropped 0 rows in 0 cycles.\n",
      "25 cycles left.\n",
      "Dropped 158 rows in 2 cycles.\n",
      "48 cycles left.\n",
      "mdt=29.930555555555557; med_dt=16.0; std=38.43205634944498\n",
      "###Split 4/4!\n",
      "Dropped 0 rows in 0 cycles.\n",
      "27 cycles left.\n",
      "Dropped 1498 rows in 12 cycles.\n",
      "34 cycles left.\n",
      "mdt=40.254901960784316; med_dt=26.0; std=40.428025193778886\n",
      "/home/nkuechen/Documents/Thesis/mlruns\n",
      "!! Creating new split...\n",
      "###Split 1/4!\n",
      "Dropped 0 rows in 0 cycles.\n",
      "23 cycles left.\n",
      "Dropped 1090 rows in 9 cycles.\n",
      "45 cycles left.\n",
      "mdt=25.40740740740741; med_dt=17.0; std=25.086899723220245\n",
      "###Split 2/4!\n",
      "Dropped 0 rows in 0 cycles.\n",
      "27 cycles left.\n",
      "Dropped 1211 rows in 9 cycles.\n",
      "30 cycles left.\n",
      "mdt=41.1; med_dt=25.0; std=53.56513169341911\n",
      "###Split 3/4!\n",
      "Dropped 1085 rows in 3 cycles.\n",
      "17 cycles left.\n",
      "Dropped 918 rows in 6 cycles.\n",
      "42 cycles left.\n",
      "mdt=31.96825396825397; med_dt=17.5; std=38.873407997400044\n",
      "###Split 4/4!\n",
      "Dropped 1378 rows in 4 cycles.\n",
      "17 cycles left.\n",
      "Dropped 825 rows in 4 cycles.\n",
      "36 cycles left.\n",
      "mdt=35.129629629629626; med_dt=19.0; std=37.460866640968895\n",
      "/home/nkuechen/Documents/Thesis/mlruns\n",
      "!! Creating new split...\n",
      "###Split 1/4!\n",
      "Dropped 897 rows in 2 cycles.\n",
      "16 cycles left.\n",
      "Dropped 1383 rows in 7 cycles.\n",
      "40 cycles left.\n",
      "mdt=35.13333333333333; med_dt=23.0; std=35.75470443017099\n",
      "###Split 2/4!\n",
      "Dropped 1487 rows in 3 cycles.\n",
      "19 cycles left.\n",
      "Dropped 306 rows in 3 cycles.\n",
      "26 cycles left.\n",
      "mdt=46.53846153846154; med_dt=26.5; std=49.15013428463078\n",
      "###Split 3/4!\n",
      "Dropped 0 rows in 0 cycles.\n",
      "31 cycles left.\n",
      "Dropped 1414 rows in 12 cycles.\n",
      "41 cycles left.\n",
      "mdt=32.82113821138211; med_dt=19.0; std=34.38496374925831\n",
      "###Split 4/4!\n",
      "Dropped 0 rows in 0 cycles.\n",
      "30 cycles left.\n",
      "Dropped 941 rows in 6 cycles.\n",
      "46 cycles left.\n",
      "mdt=30.644927536231883; med_dt=18.0; std=36.149007388027634\n",
      "/home/nkuechen/Documents/Thesis/mlruns\n",
      "!! Creating new split...\n",
      "###Split 1/4!\n",
      "Dropped 26 rows in 1 cycles.\n",
      "25 cycles left.\n",
      "Dropped 1142 rows in 9 cycles.\n",
      "39 cycles left.\n",
      "mdt=41.7008547008547; med_dt=23.0; std=53.73443164832612\n",
      "###Split 2/4!\n",
      "Dropped 1308 rows in 1 cycles.\n",
      "24 cycles left.\n",
      "Dropped 1661 rows in 10 cycles.\n",
      "34 cycles left.\n",
      "mdt=28.862745098039216; med_dt=18.0; std=29.852920248551854\n",
      "###Split 3/4!\n",
      "Dropped 1693 rows in 2 cycles.\n",
      "14 cycles left.\n",
      "Dropped 816 rows in 7 cycles.\n",
      "41 cycles left.\n",
      "mdt=47.68292682926829; med_dt=27.0; std=52.3927192039124\n",
      "###Split 4/4!\n",
      "Dropped 25 rows in 1 cycles.\n",
      "22 cycles left.\n",
      "Dropped 585 rows in 3 cycles.\n",
      "39 cycles left.\n",
      "mdt=39.495726495726494; med_dt=20.0; std=52.78542662315465\n",
      "/home/nkuechen/Documents/Thesis/mlruns\n",
      "!! Creating new split...\n",
      "###Split 1/4!\n",
      "Dropped 0 rows in 0 cycles.\n",
      "28 cycles left.\n",
      "Dropped 1093 rows in 7 cycles.\n",
      "39 cycles left.\n",
      "mdt=32.9059829059829; med_dt=20.0; std=40.79173347334471\n",
      "###Split 2/4!\n",
      "Dropped 0 rows in 0 cycles.\n",
      "23 cycles left.\n",
      "Dropped 1523 rows in 9 cycles.\n",
      "42 cycles left.\n",
      "mdt=31.404761904761905; med_dt=22.0; std=33.73688541702869\n",
      "###Split 3/4!\n",
      "Dropped 0 rows in 0 cycles.\n",
      "21 cycles left.\n",
      "Dropped 999 rows in 7 cycles.\n",
      "42 cycles left.\n",
      "mdt=37.817460317460316; med_dt=25.0; std=42.88807892858962\n",
      "###Split 4/4!\n",
      "Dropped 0 rows in 0 cycles.\n",
      "31 cycles left.\n",
      "Dropped 589 rows in 6 cycles.\n",
      "30 cycles left.\n",
      "mdt=27.711111111111112; med_dt=15.5; std=32.414072542114056\n",
      "/home/nkuechen/Documents/Thesis/mlruns\n",
      "!! Creating new split...\n",
      "###Split 1/4!\n",
      "Dropped 119 rows in 1 cycles.\n",
      "15 cycles left.\n",
      "Dropped 1341 rows in 10 cycles.\n",
      "32 cycles left.\n",
      "mdt=37.708333333333336; med_dt=20.0; std=39.900636133887495\n",
      "###Split 2/4!\n",
      "Dropped 829 rows in 2 cycles.\n",
      "18 cycles left.\n",
      "Dropped 1629 rows in 8 cycles.\n",
      "33 cycles left.\n",
      "mdt=38.111111111111114; med_dt=24.0; std=38.51561113088606\n",
      "###Split 3/4!\n",
      "Dropped 470 rows in 1 cycles.\n",
      "26 cycles left.\n",
      "Dropped 727 rows in 4 cycles.\n",
      "36 cycles left.\n",
      "mdt=42.166666666666664; med_dt=30.0; std=38.283179751058455\n",
      "###Split 4/4!\n",
      "Dropped 863 rows in 2 cycles.\n",
      "14 cycles left.\n",
      "Dropped 507 rows in 7 cycles.\n",
      "52 cycles left.\n",
      "mdt=40.967948717948715; med_dt=19.0; std=52.308309369789185\n",
      "/home/nkuechen/Documents/Thesis/mlruns\n",
      "!! Creating new split...\n",
      "###Split 1/4!\n",
      "Dropped 850 rows in 2 cycles.\n",
      "19 cycles left.\n",
      "Dropped 782 rows in 8 cycles.\n",
      "37 cycles left.\n",
      "mdt=43.81981981981982; med_dt=28.0; std=43.2449962107159\n",
      "###Split 2/4!\n",
      "Dropped 0 rows in 0 cycles.\n",
      "28 cycles left.\n",
      "Dropped 926 rows in 5 cycles.\n",
      "31 cycles left.\n",
      "mdt=46.666666666666664; med_dt=26.0; std=57.94256209205901\n",
      "###Split 3/4!\n",
      "Dropped 0 rows in 0 cycles.\n",
      "25 cycles left.\n",
      "Dropped 1042 rows in 10 cycles.\n",
      "38 cycles left.\n",
      "mdt=47.8859649122807; med_dt=25.5; std=50.458209001587555\n",
      "###Split 4/4!\n",
      "Dropped 1179 rows in 1 cycles.\n",
      "22 cycles left.\n",
      "Dropped 1454 rows in 6 cycles.\n",
      "47 cycles left.\n",
      "mdt=26.886524822695037; med_dt=13.0; std=31.371508101257366\n",
      "/home/nkuechen/Documents/Thesis/mlruns\n",
      "!! Creating new split...\n",
      "###Split 1/4!\n",
      "Dropped 0 rows in 0 cycles.\n",
      "26 cycles left.\n",
      "Dropped 1250 rows in 11 cycles.\n",
      "42 cycles left.\n",
      "mdt=33.1031746031746; med_dt=18.5; std=35.05932146616541\n",
      "###Split 2/4!\n",
      "Dropped 0 rows in 0 cycles.\n",
      "25 cycles left.\n",
      "Dropped 416 rows in 3 cycles.\n",
      "30 cycles left.\n",
      "mdt=46.36666666666667; med_dt=21.0; std=58.185994878492885\n",
      "###Split 3/4!\n",
      "Dropped 0 rows in 0 cycles.\n",
      "33 cycles left.\n",
      "Dropped 2005 rows in 8 cycles.\n",
      "37 cycles left.\n",
      "mdt=38.351351351351354; med_dt=26.0; std=36.7432407582278\n",
      "###Split 4/4!\n",
      "Dropped 0 rows in 0 cycles.\n",
      "25 cycles left.\n",
      "Dropped 533 rows in 7 cycles.\n",
      "44 cycles left.\n",
      "mdt=38.75757575757576; med_dt=15.0; std=49.33099726432404\n",
      "/home/nkuechen/Documents/Thesis/mlruns\n",
      "!! Creating new split...\n",
      "###Split 1/4!\n",
      "Dropped 0 rows in 0 cycles.\n",
      "33 cycles left.\n",
      "Dropped 1261 rows in 10 cycles.\n",
      "32 cycles left.\n",
      "mdt=32.520833333333336; med_dt=17.5; std=37.56493798706744\n",
      "###Split 2/4!\n",
      "Dropped 0 rows in 0 cycles.\n",
      "35 cycles left.\n",
      "Dropped 1563 rows in 9 cycles.\n",
      "41 cycles left.\n",
      "mdt=40.49593495934959; med_dt=23.0; std=43.522795444604\n",
      "###Split 3/4!\n",
      "Dropped 0 rows in 0 cycles.\n",
      "28 cycles left.\n",
      "Dropped 646 rows in 6 cycles.\n",
      "54 cycles left.\n",
      "mdt=29.987654320987655; med_dt=14.0; std=39.236382029243\n",
      "###Split 4/4!\n",
      "Dropped 0 rows in 0 cycles.\n",
      "31 cycles left.\n",
      "Dropped 734 rows in 4 cycles.\n",
      "26 cycles left.\n",
      "mdt=34.3974358974359; med_dt=19.5; std=35.46335766696551\n",
      "/home/nkuechen/Documents/Thesis/mlruns\n",
      "!! Creating new split...\n",
      "###Split 1/4!\n",
      "Dropped 52 rows in 1 cycles.\n",
      "15 cycles left.\n",
      "Dropped 2069 rows in 9 cycles.\n",
      "33 cycles left.\n",
      "mdt=46.21212121212121; med_dt=22.0; std=53.93173251684147\n",
      "###Split 2/4!\n",
      "Dropped 0 rows in 0 cycles.\n",
      "21 cycles left.\n",
      "Dropped 723 rows in 8 cycles.\n",
      "30 cycles left.\n",
      "mdt=45.05555555555556; med_dt=31.0; std=39.89858285177867\n",
      "###Split 3/4!\n",
      "Dropped 436 rows in 1 cycles.\n",
      "12 cycles left.\n",
      "Dropped 1266 rows in 11 cycles.\n",
      "42 cycles left.\n",
      "mdt=39.94444444444444; med_dt=24.5; std=39.31563475008981\n",
      "###Split 4/4!\n",
      "Dropped 0 rows in 0 cycles.\n",
      "26 cycles left.\n",
      "Dropped 146 rows in 1 cycles.\n",
      "48 cycles left.\n",
      "mdt=39.270833333333336; med_dt=21.0; std=56.07252480666841\n",
      "/home/nkuechen/Documents/Thesis/mlruns\n",
      "!! Creating new split...\n",
      "###Split 1/4!\n",
      "Dropped 0 rows in 0 cycles.\n",
      "23 cycles left.\n",
      "Dropped 616 rows in 3 cycles.\n",
      "34 cycles left.\n",
      "mdt=45.65686274509804; med_dt=24.0; std=65.36616248488792\n",
      "###Split 2/4!\n",
      "Dropped 0 rows in 0 cycles.\n",
      "8 cycles left.\n",
      "Dropped 2209 rows in 14 cycles.\n",
      "42 cycles left.\n",
      "mdt=35.5; med_dt=18.5; std=51.40745267445364\n",
      "###Split 3/4!\n",
      "Dropped 2359 rows in 4 cycles.\n",
      "12 cycles left.\n",
      "Dropped 676 rows in 8 cycles.\n",
      "37 cycles left.\n",
      "mdt=44.7027027027027; med_dt=36.0; std=38.81246075440869\n",
      "###Split 4/4!\n",
      "Dropped 0 rows in 0 cycles.\n",
      "25 cycles left.\n",
      "Dropped 703 rows in 4 cycles.\n",
      "40 cycles left.\n",
      "mdt=34.2; med_dt=22.0; std=33.724768346128045\n",
      "/home/nkuechen/Documents/Thesis/mlruns\n",
      "!! Creating new split...\n",
      "###Split 1/4!\n",
      "Dropped 1653 rows in 1 cycles.\n",
      "27 cycles left.\n",
      "Dropped 637 rows in 8 cycles.\n",
      "33 cycles left.\n",
      "mdt=42.72727272727273; med_dt=24.0; std=46.608149064607254\n",
      "###Split 2/4!\n",
      "Dropped 1338 rows in 1 cycles.\n",
      "24 cycles left.\n",
      "Dropped 735 rows in 4 cycles.\n",
      "50 cycles left.\n",
      "mdt=32.04666666666667; med_dt=20.0; std=28.546415225422304\n",
      "###Split 3/4!\n",
      "Dropped 0 rows in 0 cycles.\n",
      "22 cycles left.\n",
      "Dropped 962 rows in 4 cycles.\n",
      "47 cycles left.\n",
      "mdt=33.638297872340424; med_dt=20.0; std=42.76511413726945\n",
      "###Split 4/4!\n",
      "Dropped 321 rows in 1 cycles.\n",
      "23 cycles left.\n",
      "Dropped 1710 rows in 12 cycles.\n",
      "23 cycles left.\n",
      "mdt=55.869565217391305; med_dt=31.0; std=68.44164192278211\n",
      "/home/nkuechen/Documents/Thesis/mlruns\n",
      "!! Creating new split...\n",
      "###Split 1/4!\n",
      "Dropped 436 rows in 1 cycles.\n",
      "19 cycles left.\n",
      "Dropped 749 rows in 5 cycles.\n",
      "43 cycles left.\n",
      "mdt=47.2093023255814; med_dt=23.0; std=60.81471089098065\n",
      "###Split 2/4!\n",
      "Dropped 396 rows in 1 cycles.\n",
      "18 cycles left.\n",
      "Dropped 1626 rows in 9 cycles.\n",
      "26 cycles left.\n",
      "mdt=43.282051282051285; med_dt=32.5; std=42.00393676174353\n",
      "###Split 3/4!\n",
      "Dropped 0 rows in 0 cycles.\n",
      "28 cycles left.\n",
      "Dropped 902 rows in 9 cycles.\n",
      "39 cycles left.\n",
      "mdt=38.957264957264954; med_dt=24.0; std=45.65766206607665\n",
      "###Split 4/4!\n",
      "Dropped 461 rows in 2 cycles.\n",
      "15 cycles left.\n",
      "Dropped 767 rows in 5 cycles.\n",
      "45 cycles left.\n",
      "mdt=35.74074074074074; med_dt=21.0; std=43.96715322162974\n",
      "/home/nkuechen/Documents/Thesis/mlruns\n",
      "!! Creating new split...\n",
      "###Split 1/4!\n",
      "Dropped 936 rows in 2 cycles.\n",
      "18 cycles left.\n",
      "Dropped 963 rows in 6 cycles.\n",
      "42 cycles left.\n",
      "mdt=39.58730158730159; med_dt=24.0; std=42.28123337715176\n",
      "###Split 2/4!\n",
      "Dropped 874 rows in 3 cycles.\n",
      "18 cycles left.\n",
      "Dropped 1875 rows in 8 cycles.\n",
      "42 cycles left.\n",
      "mdt=30.5; med_dt=18.5; std=35.85193315723869\n",
      "###Split 3/4!\n",
      "Dropped 133 rows in 2 cycles.\n",
      "23 cycles left.\n",
      "Dropped 882 rows in 10 cycles.\n",
      "37 cycles left.\n",
      "mdt=30.64864864864865; med_dt=22.0; std=29.48037938093945\n",
      "###Split 4/4!\n",
      "Dropped 26 rows in 1 cycles.\n",
      "34 cycles left.\n",
      "Dropped 403 rows in 4 cycles.\n",
      "33 cycles left.\n",
      "mdt=30.454545454545453; med_dt=19.0; std=29.008975527533277\n",
      "/home/nkuechen/Documents/Thesis/mlruns\n",
      "!! Creating new split...\n",
      "###Split 1/4!\n",
      "Dropped 0 rows in 0 cycles.\n",
      "25 cycles left.\n",
      "Dropped 548 rows in 9 cycles.\n",
      "39 cycles left.\n",
      "mdt=36.06837606837607; med_dt=23.0; std=33.706304793509055\n",
      "###Split 2/4!\n",
      "Dropped 1179 rows in 1 cycles.\n",
      "20 cycles left.\n",
      "Dropped 2242 rows in 11 cycles.\n",
      "34 cycles left.\n",
      "mdt=34.76470588235294; med_dt=22.0; std=41.941410224027535\n",
      "###Split 3/4!\n",
      "Dropped 0 rows in 0 cycles.\n",
      "18 cycles left.\n",
      "Dropped 515 rows in 4 cycles.\n",
      "43 cycles left.\n",
      "mdt=32.53488372093023; med_dt=16.0; std=37.410989247269946\n",
      "###Split 4/4!\n",
      "Dropped 393 rows in 1 cycles.\n",
      "17 cycles left.\n",
      "Dropped 899 rows in 5 cycles.\n",
      "37 cycles left.\n",
      "mdt=30.864864864864863; med_dt=19.0; std=36.5901297394681\n",
      "/home/nkuechen/Documents/Thesis/mlruns\n",
      "!! Creating new split...\n",
      "###Split 1/4!\n",
      "Dropped 0 rows in 0 cycles.\n",
      "30 cycles left.\n",
      "Dropped 1255 rows in 9 cycles.\n",
      "30 cycles left.\n",
      "mdt=38.922222222222224; med_dt=20.0; std=48.67037149774383\n",
      "###Split 2/4!\n",
      "Dropped 1672 rows in 2 cycles.\n",
      "17 cycles left.\n",
      "Dropped 400 rows in 6 cycles.\n",
      "53 cycles left.\n",
      "mdt=37.56603773584906; med_dt=19.0; std=44.761777312790365\n",
      "###Split 3/4!\n",
      "Dropped 884 rows in 1 cycles.\n",
      "17 cycles left.\n",
      "Dropped 2123 rows in 10 cycles.\n",
      "29 cycles left.\n",
      "mdt=51.804597701149426; med_dt=32.0; std=51.30634588709697\n",
      "###Split 4/4!\n",
      "Dropped 0 rows in 0 cycles.\n",
      "32 cycles left.\n",
      "Dropped 426 rows in 4 cycles.\n",
      "41 cycles left.\n",
      "mdt=29.0; med_dt=20.0; std=31.47201621882603\n",
      "/home/nkuechen/Documents/Thesis/mlruns\n",
      "!! Creating new split...\n",
      "###Split 1/4!\n",
      "Dropped 3144 rows in 1 cycles.\n",
      "21 cycles left.\n",
      "Dropped 1446 rows in 11 cycles.\n",
      "44 cycles left.\n",
      "mdt=31.477272727272727; med_dt=15.0; std=44.95207311582491\n",
      "###Split 2/4!\n",
      "Dropped 0 rows in 0 cycles.\n",
      "30 cycles left.\n",
      "Dropped 2054 rows in 10 cycles.\n",
      "31 cycles left.\n",
      "mdt=38.064516129032256; med_dt=21.0; std=46.18867487957908\n",
      "###Split 3/4!\n",
      "Dropped 0 rows in 0 cycles.\n",
      "28 cycles left.\n",
      "Dropped 315 rows in 4 cycles.\n",
      "39 cycles left.\n",
      "mdt=27.504273504273506; med_dt=20.0; std=23.774806723265158\n",
      "###Split 4/4!\n",
      "Dropped 0 rows in 0 cycles.\n",
      "27 cycles left.\n",
      "Dropped 389 rows in 4 cycles.\n",
      "39 cycles left.\n",
      "mdt=46.06837606837607; med_dt=30.0; std=48.90715545426664\n",
      "/home/nkuechen/Documents/Thesis/mlruns\n",
      "!! Creating new split...\n",
      "###Split 1/4!\n",
      "Dropped 393 rows in 1 cycles.\n",
      "26 cycles left.\n",
      "Dropped 1402 rows in 8 cycles.\n",
      "46 cycles left.\n",
      "mdt=26.956521739130434; med_dt=16.5; std=28.143490910960644\n",
      "###Split 2/4!\n",
      "Dropped 0 rows in 0 cycles.\n",
      "21 cycles left.\n",
      "Dropped 1757 rows in 14 cycles.\n",
      "33 cycles left.\n",
      "mdt=58.07070707070707; med_dt=33.0; std=57.9245856849471\n",
      "###Split 3/4!\n",
      "Dropped 0 rows in 0 cycles.\n",
      "20 cycles left.\n",
      "Dropped 217 rows in 1 cycles.\n",
      "39 cycles left.\n",
      "mdt=50.205128205128204; med_dt=31.0; std=51.06950826624643\n",
      "###Split 4/4!\n",
      "Dropped 177 rows in 1 cycles.\n",
      "20 cycles left.\n",
      "Dropped 668 rows in 5 cycles.\n",
      "35 cycles left.\n",
      "mdt=43.65714285714286; med_dt=27.0; std=45.80867636083772\n",
      "/home/nkuechen/Documents/Thesis/mlruns\n",
      "!! Creating new split...\n",
      "###Split 1/4!\n",
      "Dropped 0 rows in 0 cycles.\n",
      "21 cycles left.\n",
      "Dropped 1508 rows in 7 cycles.\n",
      "46 cycles left.\n",
      "mdt=33.72463768115942; med_dt=17.0; std=39.06400695475924\n",
      "###Split 2/4!\n",
      "Dropped 790 rows in 2 cycles.\n",
      "26 cycles left.\n",
      "Dropped 730 rows in 7 cycles.\n",
      "34 cycles left.\n",
      "mdt=43.35294117647059; med_dt=26.5; std=47.57360593381124\n",
      "###Split 3/4!\n",
      "Dropped 214 rows in 1 cycles.\n",
      "20 cycles left.\n",
      "Dropped 1024 rows in 7 cycles.\n",
      "40 cycles left.\n",
      "mdt=29.816666666666666; med_dt=17.0; std=39.71313454709355\n",
      "###Split 4/4!\n",
      "Dropped 146 rows in 1 cycles.\n",
      "24 cycles left.\n",
      "Dropped 942 rows in 8 cycles.\n",
      "33 cycles left.\n",
      "mdt=40.97979797979798; med_dt=23.0; std=43.43181810840541\n",
      "/home/nkuechen/Documents/Thesis/mlruns\n",
      "!! Creating new split...\n",
      "###Split 1/4!\n",
      "Dropped 1572 rows in 1 cycles.\n",
      "25 cycles left.\n",
      "Dropped 1674 rows in 10 cycles.\n",
      "30 cycles left.\n",
      "mdt=48.17777777777778; med_dt=30.5; std=46.79994724065825\n",
      "###Split 2/4!\n",
      "Dropped 0 rows in 0 cycles.\n",
      "25 cycles left.\n",
      "Dropped 919 rows in 8 cycles.\n",
      "47 cycles left.\n",
      "mdt=34.40425531914894; med_dt=16.0; std=45.78410308575933\n",
      "###Split 3/4!\n",
      "Dropped 0 rows in 0 cycles.\n",
      "30 cycles left.\n",
      "Dropped 400 rows in 5 cycles.\n",
      "44 cycles left.\n",
      "mdt=30.689393939393938; med_dt=18.0; std=29.874772111659688\n",
      "###Split 4/4!\n",
      "Dropped 0 rows in 0 cycles.\n",
      "22 cycles left.\n",
      "Dropped 1211 rows in 6 cycles.\n",
      "32 cycles left.\n",
      "mdt=39.4375; med_dt=15.0; std=45.911557300422736\n",
      "/home/nkuechen/Documents/Thesis/mlruns\n",
      "!! Creating new split...\n",
      "###Split 1/4!\n",
      "Dropped 0 rows in 0 cycles.\n",
      "23 cycles left.\n",
      "Dropped 752 rows in 5 cycles.\n",
      "44 cycles left.\n",
      "mdt=34.083333333333336; med_dt=16.0; std=46.6268295874139\n",
      "###Split 2/4!\n",
      "Dropped 0 rows in 0 cycles.\n",
      "23 cycles left.\n",
      "Dropped 1149 rows in 10 cycles.\n",
      "32 cycles left.\n",
      "mdt=48.802083333333336; med_dt=33.0; std=46.948247169903894\n",
      "###Split 3/4!\n",
      "Dropped 0 rows in 0 cycles.\n",
      "30 cycles left.\n",
      "Dropped 1309 rows in 10 cycles.\n",
      "45 cycles left.\n",
      "mdt=25.48148148148148; med_dt=13.0; std=33.47499937252274\n",
      "###Split 4/4!\n",
      "Dropped 0 rows in 0 cycles.\n",
      "27 cycles left.\n",
      "Dropped 994 rows in 4 cycles.\n",
      "32 cycles left.\n",
      "mdt=51.53125; med_dt=29.5; std=53.610663026157084\n",
      "/home/nkuechen/Documents/Thesis/mlruns\n",
      "!! Creating new split...\n",
      "###Split 1/4!\n",
      "Dropped 518 rows in 1 cycles.\n",
      "19 cycles left.\n",
      "Dropped 724 rows in 7 cycles.\n",
      "47 cycles left.\n",
      "mdt=34.07801418439716; med_dt=22.0; std=35.9588162621981\n",
      "###Split 2/4!\n",
      "Dropped 52 rows in 1 cycles.\n",
      "16 cycles left.\n",
      "Dropped 615 rows in 4 cycles.\n",
      "37 cycles left.\n",
      "mdt=42.009009009009006; med_dt=21.0; std=52.58189588340851\n",
      "###Split 3/4!\n",
      "Dropped 107 rows in 1 cycles.\n",
      "16 cycles left.\n",
      "Dropped 1113 rows in 9 cycles.\n",
      "32 cycles left.\n",
      "mdt=51.28125; med_dt=32.5; std=56.49717970929316\n",
      "###Split 4/4!\n",
      "Dropped 0 rows in 0 cycles.\n",
      "19 cycles left.\n",
      "Dropped 1752 rows in 9 cycles.\n",
      "37 cycles left.\n",
      "mdt=39.207207207207205; med_dt=23.0; std=47.06983830210058\n",
      "/home/nkuechen/Documents/Thesis/mlruns\n",
      "!! Creating new split...\n",
      "###Split 1/4!\n",
      "Dropped 436 rows in 1 cycles.\n",
      "20 cycles left.\n",
      "Dropped 584 rows in 5 cycles.\n",
      "43 cycles left.\n",
      "mdt=32.798449612403104; med_dt=18.0; std=40.56201680018665\n",
      "###Split 2/4!\n",
      "Dropped 105 rows in 1 cycles.\n",
      "17 cycles left.\n",
      "Dropped 1037 rows in 10 cycles.\n",
      "45 cycles left.\n",
      "mdt=37.24444444444445; med_dt=24.0; std=40.575574967591244\n",
      "###Split 3/4!\n",
      "Dropped 1134 rows in 1 cycles.\n",
      "28 cycles left.\n",
      "Dropped 1105 rows in 6 cycles.\n",
      "39 cycles left.\n",
      "mdt=39.623931623931625; med_dt=22.0; std=46.70707526990776\n",
      "###Split 4/4!\n",
      "Dropped 0 rows in 0 cycles.\n",
      "29 cycles left.\n",
      "Dropped 1318 rows in 7 cycles.\n",
      "26 cycles left.\n",
      "mdt=39.23076923076923; med_dt=24.0; std=39.77208242516257\n",
      "/home/nkuechen/Documents/Thesis/mlruns\n",
      "!! Creating new split...\n",
      "###Split 1/4!\n",
      "Dropped 1908 rows in 2 cycles.\n",
      "18 cycles left.\n",
      "Dropped 665 rows in 7 cycles.\n",
      "45 cycles left.\n",
      "mdt=42.85925925925926; med_dt=22.0; std=50.65338465718832\n",
      "###Split 2/4!\n",
      "Dropped 321 rows in 1 cycles.\n",
      "16 cycles left.\n",
      "Dropped 464 rows in 7 cycles.\n",
      "45 cycles left.\n",
      "mdt=31.8; med_dt=19.0; std=43.606795257076534\n",
      "###Split 3/4!\n",
      "Dropped 0 rows in 0 cycles.\n",
      "23 cycles left.\n",
      "Dropped 1552 rows in 6 cycles.\n",
      "36 cycles left.\n",
      "mdt=39.28703703703704; med_dt=28.0; std=31.57942688415928\n",
      "###Split 4/4!\n",
      "Dropped 2276 rows in 2 cycles.\n",
      "12 cycles left.\n",
      "Dropped 1363 rows in 8 cycles.\n",
      "27 cycles left.\n",
      "mdt=48.60493827160494; med_dt=26.0; std=54.39037655719279\n",
      "/home/nkuechen/Documents/Thesis/mlruns\n",
      "!! Creating new split...\n",
      "###Split 1/4!\n",
      "Dropped 2986 rows in 1 cycles.\n",
      "29 cycles left.\n",
      "Dropped 1774 rows in 7 cycles.\n",
      "25 cycles left.\n",
      "mdt=57.06666666666667; med_dt=34.0; std=59.01871642867955\n",
      "###Split 2/4!\n",
      "Dropped 0 rows in 0 cycles.\n",
      "31 cycles left.\n",
      "Dropped 1152 rows in 9 cycles.\n",
      "46 cycles left.\n",
      "mdt=34.528985507246375; med_dt=17.0; std=43.64749972569034\n",
      "###Split 3/4!\n",
      "Dropped 0 rows in 0 cycles.\n",
      "20 cycles left.\n",
      "Dropped 811 rows in 8 cycles.\n",
      "40 cycles left.\n",
      "mdt=32.766666666666666; med_dt=21.5; std=44.95974742910473\n",
      "###Split 4/4!\n",
      "Dropped 0 rows in 0 cycles.\n",
      "27 cycles left.\n",
      "Dropped 467 rows in 5 cycles.\n",
      "42 cycles left.\n",
      "mdt=33.214285714285715; med_dt=21.0; std=31.889095300634835\n",
      "/home/nkuechen/Documents/Thesis/mlruns\n",
      "!! Creating new split...\n",
      "###Split 1/4!\n",
      "Dropped 488 rows in 2 cycles.\n",
      "24 cycles left.\n",
      "Dropped 734 rows in 5 cycles.\n",
      "34 cycles left.\n",
      "mdt=35.754901960784316; med_dt=25.0; std=29.72535600621582\n",
      "###Split 2/4!\n",
      "Dropped 464 rows in 2 cycles.\n",
      "19 cycles left.\n",
      "Dropped 940 rows in 6 cycles.\n",
      "39 cycles left.\n",
      "mdt=34.427350427350426; med_dt=16.0; std=47.59934572546754\n",
      "###Split 3/4!\n",
      "Dropped 0 rows in 0 cycles.\n",
      "26 cycles left.\n",
      "Dropped 1887 rows in 11 cycles.\n",
      "39 cycles left.\n",
      "mdt=32.52136752136752; med_dt=22.0; std=29.559905361274282\n",
      "###Split 4/4!\n",
      "Dropped 52 rows in 1 cycles.\n",
      "23 cycles left.\n",
      "Dropped 483 rows in 6 cycles.\n",
      "41 cycles left.\n",
      "mdt=32.43089430894309; med_dt=19.0; std=41.46897778716527\n",
      "/home/nkuechen/Documents/Thesis/mlruns\n",
      "!! Creating new split...\n",
      "###Split 1/4!\n",
      "Dropped 436 rows in 1 cycles.\n",
      "26 cycles left.\n",
      "Dropped 1463 rows in 7 cycles.\n",
      "32 cycles left.\n",
      "mdt=31.260416666666668; med_dt=16.5; std=38.43561846117551\n",
      "###Split 2/4!\n",
      "Dropped 105 rows in 1 cycles.\n",
      "18 cycles left.\n",
      "Dropped 933 rows in 9 cycles.\n",
      "54 cycles left.\n",
      "mdt=28.950617283950617; med_dt=18.0; std=35.682378413561366\n",
      "###Split 3/4!\n",
      "Dropped 393 rows in 1 cycles.\n",
      "19 cycles left.\n",
      "Dropped 1455 rows in 9 cycles.\n",
      "35 cycles left.\n",
      "mdt=41.352380952380955; med_dt=24.0; std=51.083494856088485\n",
      "###Split 4/4!\n",
      "Dropped 436 rows in 1 cycles.\n",
      "23 cycles left.\n",
      "Dropped 353 rows in 4 cycles.\n",
      "32 cycles left.\n",
      "mdt=38.84375; med_dt=24.0; std=37.62875898304602\n",
      "/home/nkuechen/Documents/Thesis/mlruns\n",
      "!! Creating new split...\n",
      "###Split 1/4!\n",
      "Dropped 1430 rows in 2 cycles.\n",
      "25 cycles left.\n",
      "Dropped 381 rows in 4 cycles.\n",
      "38 cycles left.\n",
      "mdt=39.59649122807018; med_dt=26.0; std=41.83252308537604\n",
      "###Split 2/4!\n",
      "Dropped 155 rows in 1 cycles.\n",
      "25 cycles left.\n",
      "Dropped 1923 rows in 11 cycles.\n",
      "24 cycles left.\n",
      "mdt=39.81944444444444; med_dt=13.0; std=48.081622265594966\n",
      "###Split 3/4!\n",
      "Dropped 1880 rows in 1 cycles.\n",
      "18 cycles left.\n",
      "Dropped 370 rows in 5 cycles.\n",
      "46 cycles left.\n",
      "mdt=31.340579710144926; med_dt=19.0; std=32.85199492692078\n",
      "###Split 4/4!\n",
      "Dropped 668 rows in 1 cycles.\n",
      "27 cycles left.\n",
      "Dropped 1370 rows in 8 cycles.\n",
      "45 cycles left.\n",
      "mdt=37.67407407407408; med_dt=18.0; std=52.22527125325434\n",
      "/home/nkuechen/Documents/Thesis/mlruns\n",
      "!! Creating new split...\n",
      "###Split 1/4!\n",
      "Dropped 0 rows in 0 cycles.\n",
      "19 cycles left.\n",
      "Dropped 1002 rows in 8 cycles.\n",
      "35 cycles left.\n",
      "mdt=38.93333333333333; med_dt=25.0; std=49.15306833743064\n",
      "###Split 2/4!\n",
      "Dropped 396 rows in 1 cycles.\n",
      "23 cycles left.\n",
      "Dropped 1658 rows in 8 cycles.\n",
      "40 cycles left.\n",
      "mdt=35.666666666666664; med_dt=14.0; std=54.37099921424615\n",
      "###Split 3/4!\n",
      "Dropped 0 rows in 0 cycles.\n",
      "28 cycles left.\n",
      "Dropped 757 rows in 7 cycles.\n",
      "37 cycles left.\n",
      "mdt=39.513513513513516; med_dt=25.0; std=44.14449347168273\n",
      "###Split 4/4!\n",
      "Dropped 0 rows in 0 cycles.\n",
      "30 cycles left.\n",
      "Dropped 787 rows in 6 cycles.\n",
      "41 cycles left.\n",
      "mdt=31.495934959349594; med_dt=20.0; std=36.78356251480167\n",
      "/home/nkuechen/Documents/Thesis/mlruns\n",
      "!! Creating new split...\n",
      "###Split 1/4!\n",
      "Dropped 1014 rows in 3 cycles.\n",
      "18 cycles left.\n",
      "Dropped 973 rows in 10 cycles.\n",
      "40 cycles left.\n",
      "mdt=27.733333333333334; med_dt=19.0; std=22.81802406480943\n",
      "###Split 2/4!\n",
      "Dropped 0 rows in 0 cycles.\n",
      "19 cycles left.\n",
      "Dropped 1118 rows in 7 cycles.\n",
      "34 cycles left.\n",
      "mdt=49.568627450980394; med_dt=21.5; std=66.36936303066726\n",
      "###Split 3/4!\n",
      "Dropped 393 rows in 1 cycles.\n",
      "23 cycles left.\n",
      "Dropped 1286 rows in 6 cycles.\n",
      "30 cycles left.\n",
      "mdt=49.48888888888889; med_dt=28.0; std=51.74966332567766\n",
      "###Split 4/4!\n",
      "Dropped 107 rows in 1 cycles.\n",
      "19 cycles left.\n",
      "Dropped 667 rows in 5 cycles.\n",
      "49 cycles left.\n",
      "mdt=37.034013605442176; med_dt=18.0; std=42.95978422620067\n",
      "/home/nkuechen/Documents/Thesis/mlruns\n",
      "!! Creating new split...\n",
      "###Split 1/4!\n",
      "Dropped 1254 rows in 3 cycles.\n",
      "22 cycles left.\n",
      "Dropped 676 rows in 5 cycles.\n",
      "45 cycles left.\n",
      "mdt=33.8; med_dt=16.0; std=43.06305454408299\n",
      "###Split 2/4!\n",
      "Dropped 0 rows in 0 cycles.\n",
      "20 cycles left.\n",
      "Dropped 1088 rows in 9 cycles.\n",
      "34 cycles left.\n",
      "mdt=46.588235294117645; med_dt=22.5; std=57.07740752545607\n",
      "###Split 3/4!\n",
      "Dropped 2430 rows in 3 cycles.\n",
      "15 cycles left.\n",
      "Dropped 1863 rows in 11 cycles.\n",
      "32 cycles left.\n",
      "mdt=40.21875; med_dt=19.5; std=44.56811339703346\n",
      "###Split 4/4!\n",
      "Dropped 1410 rows in 1 cycles.\n",
      "26 cycles left.\n",
      "Dropped 417 rows in 3 cycles.\n",
      "42 cycles left.\n",
      "mdt=35.142857142857146; med_dt=22.0; std=35.51787260487904\n",
      "/home/nkuechen/Documents/Thesis/mlruns\n",
      "!! Creating new split...\n",
      "###Split 1/4!\n",
      "Dropped 25 rows in 1 cycles.\n",
      "26 cycles left.\n",
      "Dropped 1046 rows in 6 cycles.\n",
      "36 cycles left.\n",
      "mdt=42.851851851851855; med_dt=23.0; std=47.202050884275735\n",
      "###Split 2/4!\n",
      "Dropped 0 rows in 0 cycles.\n",
      "32 cycles left.\n",
      "Dropped 1848 rows in 8 cycles.\n",
      "40 cycles left.\n",
      "mdt=35.28333333333333; med_dt=23.0; std=35.07662643730469\n",
      "###Split 3/4!\n",
      "Dropped 0 rows in 0 cycles.\n",
      "31 cycles left.\n",
      "Dropped 544 rows in 8 cycles.\n",
      "35 cycles left.\n",
      "mdt=36.46666666666667; med_dt=17.0; std=43.85649035241815\n",
      "###Split 4/4!\n",
      "Dropped 1179 rows in 1 cycles.\n",
      "23 cycles left.\n",
      "Dropped 606 rows in 6 cycles.\n",
      "42 cycles left.\n",
      "mdt=41.62698412698413; med_dt=17.0; std=54.27410358058379\n",
      "/home/nkuechen/Documents/Thesis/mlruns\n",
      "!! Creating new split...\n",
      "###Split 1/4!\n",
      "Dropped 0 rows in 0 cycles.\n",
      "23 cycles left.\n",
      "Dropped 952 rows in 10 cycles.\n",
      "46 cycles left.\n",
      "mdt=36.0; med_dt=17.5; std=43.09107308608298\n",
      "###Split 2/4!\n",
      "Dropped 0 rows in 0 cycles.\n",
      "22 cycles left.\n",
      "Dropped 1215 rows in 9 cycles.\n",
      "39 cycles left.\n",
      "mdt=35.333333333333336; med_dt=20.0; std=41.99796494866221\n",
      "###Split 3/4!\n",
      "Dropped 0 rows in 0 cycles.\n",
      "20 cycles left.\n",
      "Dropped 122 rows in 2 cycles.\n",
      "48 cycles left.\n",
      "mdt=37.013888888888886; med_dt=15.0; std=49.02705972089845\n",
      "###Split 4/4!\n",
      "Dropped 0 rows in 0 cycles.\n",
      "27 cycles left.\n",
      "Dropped 1915 rows in 8 cycles.\n",
      "20 cycles left.\n",
      "mdt=40.983333333333334; med_dt=27.0; std=43.310311192088605\n",
      "/home/nkuechen/Documents/Thesis/mlruns\n",
      "!! Creating new split...\n",
      "###Split 1/4!\n",
      "Dropped 970 rows in 3 cycles.\n",
      "16 cycles left.\n",
      "Dropped 225 rows in 4 cycles.\n",
      "46 cycles left.\n",
      "mdt=32.79710144927536; med_dt=22.0; std=34.94678343936426\n",
      "###Split 2/4!\n",
      "Dropped 518 rows in 1 cycles.\n",
      "27 cycles left.\n",
      "Dropped 1538 rows in 10 cycles.\n",
      "34 cycles left.\n",
      "mdt=36.59803921568628; med_dt=26.0; std=36.62642884957489\n",
      "###Split 3/4!\n",
      "Dropped 298 rows in 3 cycles.\n",
      "25 cycles left.\n",
      "Dropped 1215 rows in 8 cycles.\n",
      "45 cycles left.\n",
      "mdt=40.525925925925925; med_dt=18.0; std=54.557998989811665\n",
      "###Split 4/4!\n",
      "Dropped 471 rows in 1 cycles.\n",
      "11 cycles left.\n",
      "Dropped 1066 rows in 6 cycles.\n",
      "28 cycles left.\n",
      "mdt=49.726190476190474; med_dt=36.0; std=42.393101188102186\n",
      "/home/nkuechen/Documents/Thesis/mlruns\n",
      "!! Creating new split...\n",
      "###Split 1/4!\n",
      "Dropped 0 rows in 0 cycles.\n",
      "21 cycles left.\n",
      "Dropped 671 rows in 7 cycles.\n",
      "44 cycles left.\n",
      "mdt=34.166666666666664; med_dt=23.5; std=34.632960011987414\n",
      "###Split 2/4!\n",
      "Dropped 214 rows in 1 cycles.\n",
      "18 cycles left.\n",
      "Dropped 1405 rows in 8 cycles.\n",
      "32 cycles left.\n",
      "mdt=36.052083333333336; med_dt=21.0; std=41.581338410314004\n",
      "###Split 3/4!\n",
      "Dropped 214 rows in 1 cycles.\n",
      "23 cycles left.\n",
      "Dropped 943 rows in 6 cycles.\n",
      "33 cycles left.\n",
      "mdt=45.43434343434343; med_dt=22.0; std=52.557455163428436\n",
      "###Split 4/4!\n",
      "Dropped 936 rows in 1 cycles.\n",
      "20 cycles left.\n",
      "Dropped 1025 rows in 7 cycles.\n",
      "44 cycles left.\n",
      "mdt=37.78787878787879; med_dt=22.5; std=42.14855227806553\n",
      "/home/nkuechen/Documents/Thesis/mlruns\n",
      "!! Creating new split...\n",
      "###Split 1/4!\n",
      "Dropped 0 rows in 0 cycles.\n",
      "18 cycles left.\n",
      "Dropped 591 rows in 7 cycles.\n",
      "42 cycles left.\n",
      "mdt=39.492063492063494; med_dt=19.5; std=54.029202279106464\n",
      "###Split 2/4!\n",
      "Dropped 1554 rows in 1 cycles.\n",
      "23 cycles left.\n",
      "Dropped 1193 rows in 7 cycles.\n",
      "37 cycles left.\n",
      "mdt=40.0990990990991; med_dt=27.0; std=38.680477873957905\n",
      "###Split 3/4!\n",
      "Dropped 48 rows in 1 cycles.\n",
      "26 cycles left.\n",
      "Dropped 1088 rows in 7 cycles.\n",
      "40 cycles left.\n",
      "mdt=31.2; med_dt=18.0; std=36.84123595465639\n",
      "###Split 4/4!\n",
      "Dropped 2671 rows in 2 cycles.\n",
      "15 cycles left.\n",
      "Dropped 1172 rows in 7 cycles.\n",
      "34 cycles left.\n",
      "mdt=45.96078431372549; med_dt=34.0; std=43.8448515922857\n",
      "/home/nkuechen/Documents/Thesis/mlruns\n",
      "!! Creating new split...\n",
      "###Split 1/4!\n",
      "Dropped 50 rows in 1 cycles.\n",
      "17 cycles left.\n",
      "Dropped 674 rows in 4 cycles.\n",
      "40 cycles left.\n",
      "mdt=33.391666666666666; med_dt=19.0; std=41.23495601091654\n",
      "###Split 2/4!\n",
      "Dropped 4700 rows in 1 cycles.\n",
      "24 cycles left.\n",
      "Dropped 1541 rows in 15 cycles.\n",
      "35 cycles left.\n",
      "mdt=46.59047619047619; med_dt=26.0; std=52.456003376633966\n",
      "###Split 3/4!\n",
      "Dropped 4700 rows in 1 cycles.\n",
      "26 cycles left.\n",
      "Dropped 1297 rows in 7 cycles.\n",
      "47 cycles left.\n",
      "mdt=28.624113475177303; med_dt=17.0; std=34.87821547892345\n",
      "###Split 4/4!\n",
      "Dropped 0 rows in 0 cycles.\n",
      "19 cycles left.\n",
      "Dropped 532 rows in 2 cycles.\n",
      "31 cycles left.\n",
      "mdt=46.41935483870968; med_dt=26.0; std=51.22632106130832\n",
      "/home/nkuechen/Documents/Thesis/mlruns\n",
      "!! Creating new split...\n",
      "###Split 1/4!\n",
      "Dropped 393 rows in 1 cycles.\n",
      "23 cycles left.\n",
      "Dropped 878 rows in 7 cycles.\n",
      "38 cycles left.\n",
      "mdt=29.114035087719298; med_dt=19.5; std=27.993344688978517\n",
      "###Split 2/4!\n",
      "Dropped 781 rows in 4 cycles.\n",
      "11 cycles left.\n",
      "Dropped 676 rows in 5 cycles.\n",
      "51 cycles left.\n",
      "mdt=38.8562091503268; med_dt=21.0; std=44.7950187328515\n",
      "###Split 3/4!\n",
      "Dropped 122 rows in 1 cycles.\n",
      "21 cycles left.\n",
      "Dropped 1297 rows in 8 cycles.\n",
      "40 cycles left.\n",
      "mdt=36.825; med_dt=20.0; std=42.49738472345485\n",
      "###Split 4/4!\n",
      "Dropped 0 rows in 0 cycles.\n",
      "29 cycles left.\n",
      "Dropped 1353 rows in 9 cycles.\n",
      "24 cycles left.\n",
      "mdt=42.97222222222222; med_dt=27.0; std=39.33014542950703\n",
      "/home/nkuechen/Documents/Thesis/mlruns\n",
      "!! Creating new split...\n",
      "###Split 1/4!\n",
      "Dropped 0 rows in 0 cycles.\n",
      "30 cycles left.\n",
      "Dropped 1255 rows in 8 cycles.\n",
      "38 cycles left.\n",
      "mdt=35.56140350877193; med_dt=23.5; std=33.80569740409938\n",
      "###Split 2/4!\n",
      "Dropped 0 rows in 0 cycles.\n",
      "32 cycles left.\n",
      "Dropped 581 rows in 5 cycles.\n",
      "50 cycles left.\n",
      "mdt=31.533333333333335; med_dt=16.0; std=43.27041586221339\n",
      "###Split 3/4!\n",
      "Dropped 1301 rows in 2 cycles.\n",
      "17 cycles left.\n",
      "Dropped 535 rows in 5 cycles.\n",
      "38 cycles left.\n",
      "mdt=33.99122807017544; med_dt=20.0; std=40.420486297506756\n",
      "###Split 4/4!\n",
      "Dropped 1256 rows in 2 cycles.\n",
      "25 cycles left.\n",
      "Dropped 1833 rows in 11 cycles.\n",
      "27 cycles left.\n",
      "mdt=32.22222222222222; med_dt=21.0; std=28.11747841810486\n",
      "/home/nkuechen/Documents/Thesis/mlruns\n",
      "!! Creating new split...\n",
      "###Split 1/4!\n",
      "Dropped 0 rows in 0 cycles.\n",
      "19 cycles left.\n",
      "Dropped 1327 rows in 9 cycles.\n",
      "39 cycles left.\n",
      "mdt=32.51282051282051; med_dt=19.0; std=39.47185849959727\n",
      "###Split 2/4!\n",
      "Dropped 122 rows in 1 cycles.\n",
      "15 cycles left.\n",
      "Dropped 513 rows in 4 cycles.\n",
      "42 cycles left.\n",
      "mdt=38.26190476190476; med_dt=21.0; std=41.12682254781931\n",
      "###Split 3/4!\n",
      "Dropped 0 rows in 0 cycles.\n",
      "25 cycles left.\n",
      "Dropped 1690 rows in 11 cycles.\n",
      "36 cycles left.\n",
      "mdt=40.907407407407405; med_dt=21.5; std=51.39129790816603\n",
      "###Split 4/4!\n",
      "Dropped 50 rows in 1 cycles.\n",
      "23 cycles left.\n",
      "Dropped 674 rows in 5 cycles.\n",
      "36 cycles left.\n",
      "mdt=41.7037037037037; med_dt=26.5; std=49.63109450574443\n",
      "/home/nkuechen/Documents/Thesis/mlruns\n",
      "!! Creating new split...\n",
      "###Split 1/4!\n",
      "Dropped 0 rows in 0 cycles.\n",
      "29 cycles left.\n",
      "Dropped 882 rows in 6 cycles.\n",
      "44 cycles left.\n",
      "mdt=29.386363636363637; med_dt=16.5; std=33.24601769892848\n",
      "###Split 2/4!\n",
      "Dropped 0 rows in 0 cycles.\n",
      "22 cycles left.\n",
      "Dropped 996 rows in 7 cycles.\n",
      "34 cycles left.\n",
      "mdt=47.745098039215684; med_dt=29.5; std=53.485876140893645\n",
      "###Split 3/4!\n",
      "Dropped 0 rows in 0 cycles.\n",
      "32 cycles left.\n",
      "Dropped 380 rows in 5 cycles.\n",
      "39 cycles left.\n",
      "mdt=25.495726495726494; med_dt=18.0; std=25.33455595282666\n",
      "###Split 4/4!\n",
      "Dropped 0 rows in 0 cycles.\n",
      "28 cycles left.\n",
      "Dropped 1946 rows in 11 cycles.\n",
      "36 cycles left.\n",
      "mdt=42.083333333333336; med_dt=23.0; std=44.346097786489494\n",
      "/home/nkuechen/Documents/Thesis/mlruns\n",
      "!! Creating new split...\n",
      "###Split 1/4!\n",
      "Dropped 1376 rows in 3 cycles.\n",
      "16 cycles left.\n",
      "Dropped 1138 rows in 9 cycles.\n",
      "45 cycles left.\n",
      "mdt=29.014814814814816; med_dt=19.0; std=26.722991955239227\n",
      "###Split 2/4!\n",
      "Dropped 176 rows in 1 cycles.\n",
      "28 cycles left.\n",
      "Dropped 1383 rows in 7 cycles.\n",
      "31 cycles left.\n",
      "mdt=28.93548387096774; med_dt=18.0; std=25.630881261248792\n",
      "###Split 3/4!\n",
      "Dropped 663 rows in 2 cycles.\n",
      "17 cycles left.\n",
      "Dropped 222 rows in 4 cycles.\n",
      "39 cycles left.\n",
      "mdt=40.794871794871796; med_dt=17.0; std=50.950376136024424\n",
      "###Split 4/4!\n",
      "Dropped 647 rows in 2 cycles.\n",
      "25 cycles left.\n",
      "Dropped 1301 rows in 8 cycles.\n",
      "38 cycles left.\n",
      "mdt=30.37719298245614; med_dt=22.0; std=26.308357137581726\n",
      "/home/nkuechen/Documents/Thesis/mlruns\n",
      "!! Creating new split...\n",
      "###Split 1/4!\n",
      "Dropped 1179 rows in 1 cycles.\n",
      "15 cycles left.\n",
      "Dropped 731 rows in 5 cycles.\n",
      "51 cycles left.\n",
      "mdt=38.50326797385621; med_dt=17.0; std=45.920380680797564\n",
      "###Split 2/4!\n",
      "Dropped 0 rows in 0 cycles.\n",
      "27 cycles left.\n",
      "Dropped 1445 rows in 10 cycles.\n",
      "32 cycles left.\n",
      "mdt=52.1875; med_dt=34.5; std=48.29150039516961\n",
      "###Split 3/4!\n",
      "Dropped 0 rows in 0 cycles.\n",
      "22 cycles left.\n",
      "Dropped 1113 rows in 5 cycles.\n",
      "33 cycles left.\n",
      "mdt=37.06060606060606; med_dt=21.0; std=41.76263328654732\n",
      "###Split 4/4!\n",
      "Dropped 354 rows in 1 cycles.\n",
      "25 cycles left.\n",
      "Dropped 755 rows in 8 cycles.\n",
      "37 cycles left.\n",
      "mdt=35.55855855855856; med_dt=16.0; std=50.217308793151695\n",
      "/home/nkuechen/Documents/Thesis/mlruns\n",
      "!! Creating new split...\n",
      "###Split 1/4!\n",
      "Dropped 1179 rows in 1 cycles.\n",
      "23 cycles left.\n",
      "Dropped 1043 rows in 7 cycles.\n",
      "49 cycles left.\n",
      "mdt=30.285714285714285; med_dt=14.0; std=42.861587071158525\n",
      "###Split 2/4!\n",
      "Dropped 51 rows in 1 cycles.\n",
      "31 cycles left.\n",
      "Dropped 1680 rows in 11 cycles.\n",
      "35 cycles left.\n",
      "mdt=46.095238095238095; med_dt=34.0; std=39.11242009765813\n",
      "###Split 3/4!\n",
      "Dropped 0 rows in 0 cycles.\n",
      "24 cycles left.\n",
      "Dropped 572 rows in 7 cycles.\n",
      "38 cycles left.\n",
      "mdt=37.31578947368421; med_dt=18.5; std=41.34139334038101\n",
      "###Split 4/4!\n",
      "Dropped 0 rows in 0 cycles.\n",
      "29 cycles left.\n",
      "Dropped 749 rows in 3 cycles.\n",
      "31 cycles left.\n",
      "mdt=49.784946236559136; med_dt=18.0; std=66.99540177807513\n",
      "/home/nkuechen/Documents/Thesis/mlruns\n",
      "!! Creating new split...\n",
      "###Split 1/4!\n",
      "Dropped 0 rows in 0 cycles.\n",
      "25 cycles left.\n",
      "Dropped 962 rows in 7 cycles.\n",
      "37 cycles left.\n",
      "mdt=44.549549549549546; med_dt=18.0; std=57.36743256950683\n",
      "###Split 2/4!\n",
      "Dropped 0 rows in 0 cycles.\n",
      "22 cycles left.\n",
      "Dropped 1119 rows in 9 cycles.\n",
      "42 cycles left.\n",
      "mdt=32.023809523809526; med_dt=16.5; std=44.440340655208985\n",
      "###Split 3/4!\n",
      "Dropped 25 rows in 1 cycles.\n",
      "25 cycles left.\n",
      "Dropped 1562 rows in 7 cycles.\n",
      "40 cycles left.\n",
      "mdt=29.75; med_dt=16.0; std=34.89561815854057\n",
      "###Split 4/4!\n",
      "Dropped 0 rows in 0 cycles.\n",
      "29 cycles left.\n",
      "Dropped 561 rows in 6 cycles.\n",
      "34 cycles left.\n",
      "mdt=40.205882352941174; med_dt=25.0; std=41.45286438110067\n",
      "/home/nkuechen/Documents/Thesis/mlruns\n",
      "!! Creating new split...\n",
      "###Split 1/4!\n",
      "Dropped 439 rows in 1 cycles.\n",
      "22 cycles left.\n",
      "Dropped 775 rows in 5 cycles.\n",
      "42 cycles left.\n",
      "mdt=40.388888888888886; med_dt=24.5; std=41.548971339858134\n",
      "###Split 2/4!\n",
      "Dropped 0 rows in 0 cycles.\n",
      "24 cycles left.\n",
      "Dropped 833 rows in 7 cycles.\n",
      "31 cycles left.\n",
      "mdt=48.516129032258064; med_dt=28.0; std=56.85987547277122\n",
      "###Split 3/4!\n",
      "Dropped 0 rows in 0 cycles.\n",
      "21 cycles left.\n",
      "Dropped 1989 rows in 13 cycles.\n",
      "49 cycles left.\n",
      "mdt=32.82993197278912; med_dt=19.0; std=38.235107660610836\n",
      "###Split 4/4!\n",
      "Dropped 987 rows in 2 cycles.\n",
      "24 cycles left.\n",
      "Dropped 607 rows in 4 cycles.\n",
      "31 cycles left.\n",
      "mdt=38.86021505376344; med_dt=22.0; std=40.87578650661534\n",
      "/home/nkuechen/Documents/Thesis/mlruns\n",
      "!! Creating new split...\n",
      "###Split 1/4!\n",
      "Dropped 0 rows in 0 cycles.\n",
      "20 cycles left.\n",
      "Dropped 714 rows in 9 cycles.\n",
      "39 cycles left.\n",
      "mdt=35.58974358974359; med_dt=18.0; std=48.7168960749976\n",
      "###Split 2/4!\n",
      "Dropped 0 rows in 0 cycles.\n",
      "23 cycles left.\n",
      "Dropped 1482 rows in 8 cycles.\n",
      "34 cycles left.\n",
      "mdt=34.86274509803921; med_dt=24.5; std=39.67664379773914\n",
      "###Split 3/4!\n",
      "Dropped 26 rows in 1 cycles.\n",
      "21 cycles left.\n",
      "Dropped 736 rows in 3 cycles.\n",
      "35 cycles left.\n",
      "mdt=49.04761904761905; med_dt=27.0; std=54.84669212621859\n",
      "###Split 4/4!\n",
      "Dropped 0 rows in 0 cycles.\n",
      "24 cycles left.\n",
      "Dropped 1112 rows in 8 cycles.\n",
      "45 cycles left.\n",
      "mdt=27.585185185185185; med_dt=18.0; std=29.911074422592286\n",
      "/home/nkuechen/Documents/Thesis/mlruns\n",
      "!! Creating new split...\n",
      "###Split 1/4!\n",
      "Dropped 2350 rows in 1 cycles.\n",
      "12 cycles left.\n",
      "Dropped 734 rows in 4 cycles.\n",
      "41 cycles left.\n",
      "mdt=45.357723577235774; med_dt=27.0; std=55.30302775952457\n",
      "###Split 2/4!\n",
      "Dropped 0 rows in 0 cycles.\n",
      "29 cycles left.\n",
      "Dropped 319 rows in 5 cycles.\n",
      "41 cycles left.\n",
      "mdt=40.552845528455286; med_dt=25.0; std=44.38948151464196\n",
      "###Split 3/4!\n",
      "Dropped 428 rows in 1 cycles.\n",
      "23 cycles left.\n",
      "Dropped 1619 rows in 7 cycles.\n",
      "35 cycles left.\n",
      "mdt=29.276190476190475; med_dt=18.0; std=33.61277966661043\n",
      "###Split 4/4!\n",
      "Dropped 25 rows in 1 cycles.\n",
      "26 cycles left.\n",
      "Dropped 1532 rows in 13 cycles.\n",
      "36 cycles left.\n",
      "mdt=39.72222222222222; med_dt=27.0; std=41.763184507972014\n",
      "/home/nkuechen/Documents/Thesis/mlruns\n",
      "!! Creating new split...\n",
      "###Split 1/4!\n",
      "Dropped 50 rows in 1 cycles.\n",
      "19 cycles left.\n",
      "Dropped 1501 rows in 11 cycles.\n",
      "36 cycles left.\n",
      "mdt=26.962962962962962; med_dt=15.0; std=34.21038555920906\n",
      "###Split 2/4!\n",
      "Dropped 0 rows in 0 cycles.\n",
      "20 cycles left.\n",
      "Dropped 215 rows in 3 cycles.\n",
      "31 cycles left.\n",
      "mdt=37.40860215053763; med_dt=21.0; std=37.059161234158424\n",
      "###Split 3/4!\n",
      "Dropped 0 rows in 0 cycles.\n",
      "14 cycles left.\n",
      "Dropped 1426 rows in 9 cycles.\n",
      "48 cycles left.\n",
      "mdt=38.451388888888886; med_dt=19.5; std=47.660522602439585\n",
      "###Split 4/4!\n",
      "Dropped 0 rows in 0 cycles.\n",
      "33 cycles left.\n",
      "Dropped 902 rows in 5 cycles.\n",
      "38 cycles left.\n",
      "mdt=31.79824561403509; med_dt=20.0; std=37.89370632939288\n",
      "/home/nkuechen/Documents/Thesis/mlruns\n",
      "!! Creating new split...\n",
      "###Split 1/4!\n",
      "Dropped 0 rows in 0 cycles.\n",
      "20 cycles left.\n",
      "Dropped 1512 rows in 10 cycles.\n",
      "27 cycles left.\n",
      "mdt=44.53086419753087; med_dt=29.0; std=41.794939270632746\n",
      "###Split 2/4!\n",
      "Dropped 732 rows in 4 cycles.\n",
      "22 cycles left.\n",
      "Dropped 1785 rows in 10 cycles.\n",
      "38 cycles left.\n",
      "mdt=39.219298245614034; med_dt=21.0; std=48.0406915919239\n",
      "###Split 3/4!\n",
      "Dropped 685 rows in 2 cycles.\n",
      "19 cycles left.\n",
      "Dropped 417 rows in 4 cycles.\n",
      "43 cycles left.\n",
      "mdt=30.899224806201552; med_dt=18.0; std=32.45935919575546\n",
      "###Split 4/4!\n",
      "Dropped 647 rows in 2 cycles.\n",
      "14 cycles left.\n",
      "Dropped 490 rows in 5 cycles.\n",
      "45 cycles left.\n",
      "mdt=36.614814814814814; med_dt=24.0; std=39.66302227613041\n",
      "/home/nkuechen/Documents/Thesis/mlruns\n",
      "!! Creating new split...\n",
      "###Split 1/4!\n",
      "Dropped 461 rows in 2 cycles.\n",
      "18 cycles left.\n",
      "Dropped 1661 rows in 11 cycles.\n",
      "29 cycles left.\n",
      "mdt=48.195402298850574; med_dt=33.0; std=45.13933449986862\n",
      "###Split 2/4!\n",
      "Dropped 613 rows in 1 cycles.\n",
      "17 cycles left.\n",
      "Dropped 1357 rows in 6 cycles.\n",
      "36 cycles left.\n",
      "mdt=41.31481481481482; med_dt=23.5; std=51.169588796064204\n",
      "###Split 3/4!\n",
      "Dropped 0 rows in 0 cycles.\n",
      "25 cycles left.\n",
      "Dropped 852 rows in 6 cycles.\n",
      "45 cycles left.\n",
      "mdt=25.51851851851852; med_dt=16.0; std=26.727389711084314\n",
      "###Split 4/4!\n",
      "Dropped 401 rows in 2 cycles.\n",
      "17 cycles left.\n",
      "Dropped 334 rows in 6 cycles.\n",
      "43 cycles left.\n",
      "mdt=26.930232558139537; med_dt=15.0; std=29.488451568621045\n",
      "/home/nkuechen/Documents/Thesis/mlruns\n",
      "!! Creating new split...\n",
      "###Split 1/4!\n",
      "Dropped 0 rows in 0 cycles.\n",
      "27 cycles left.\n",
      "Dropped 988 rows in 8 cycles.\n",
      "47 cycles left.\n",
      "mdt=36.361702127659576; med_dt=25.0; std=35.28370861398589\n",
      "###Split 2/4!\n",
      "Dropped 0 rows in 0 cycles.\n",
      "23 cycles left.\n",
      "Dropped 989 rows in 7 cycles.\n",
      "35 cycles left.\n",
      "mdt=47.94285714285714; med_dt=19.0; std=63.880219543921356\n",
      "###Split 3/4!\n",
      "Dropped 122 rows in 1 cycles.\n",
      "19 cycles left.\n",
      "Dropped 1028 rows in 5 cycles.\n",
      "35 cycles left.\n",
      "mdt=36.21904761904762; med_dt=20.0; std=38.23460934119666\n",
      "###Split 4/4!\n",
      "Dropped 0 rows in 0 cycles.\n",
      "26 cycles left.\n",
      "Dropped 1039 rows in 8 cycles.\n",
      "36 cycles left.\n",
      "mdt=38.48148148148148; med_dt=21.0; std=46.999503835340384\n",
      "/home/nkuechen/Documents/Thesis/mlruns\n",
      "!! Creating new split...\n",
      "###Split 1/4!\n",
      "Dropped 172 rows in 2 cycles.\n",
      "17 cycles left.\n",
      "Dropped 746 rows in 6 cycles.\n",
      "33 cycles left.\n",
      "mdt=50.17171717171717; med_dt=28.0; std=61.35030074988896\n",
      "###Split 2/4!\n",
      "Dropped 0 rows in 0 cycles.\n",
      "30 cycles left.\n",
      "Dropped 989 rows in 4 cycles.\n",
      "45 cycles left.\n",
      "mdt=27.444444444444443; med_dt=17.0; std=27.605063053230644\n",
      "###Split 3/4!\n",
      "Dropped 0 rows in 0 cycles.\n",
      "20 cycles left.\n",
      "Dropped 1212 rows in 8 cycles.\n",
      "33 cycles left.\n",
      "mdt=35.84848484848485; med_dt=17.0; std=45.93481627468607\n",
      "###Split 4/4!\n",
      "Dropped 0 rows in 0 cycles.\n",
      "20 cycles left.\n",
      "Dropped 1097 rows in 10 cycles.\n",
      "42 cycles left.\n",
      "mdt=38.06349206349206; med_dt=22.0; std=38.036270499613636\n",
      "/home/nkuechen/Documents/Thesis/mlruns\n",
      "!! Creating new split...\n",
      "###Split 1/4!\n",
      "Dropped 0 rows in 0 cycles.\n",
      "52 cycles left.\n",
      "Dropped 696 rows in 5 cycles.\n",
      "39 cycles left.\n",
      "mdt=43.666666666666664; med_dt=24.0; std=46.14581126641829\n",
      "###Split 2/4!\n",
      "Dropped 0 rows in 0 cycles.\n",
      "47 cycles left.\n",
      "Dropped 1369 rows in 8 cycles.\n",
      "24 cycles left.\n",
      "mdt=47.19444444444444; med_dt=32.0; std=46.53273605421626\n",
      "###Split 3/4!\n",
      "Dropped 1511 rows in 6 cycles.\n",
      "46 cycles left.\n",
      "Dropped 942 rows in 8 cycles.\n",
      "41 cycles left.\n",
      "mdt=40.08943089430894; med_dt=24.0; std=40.69358194938412\n",
      "###Split 4/4!\n",
      "Dropped 274 rows in 2 cycles.\n",
      "37 cycles left.\n",
      "Dropped 1197 rows in 8 cycles.\n",
      "49 cycles left.\n",
      "mdt=33.68027210884354; med_dt=21.0; std=34.69438708442695\n",
      "/home/nkuechen/Documents/Thesis/mlruns\n",
      "!! Creating new split...\n",
      "###Split 1/4!\n",
      "Dropped 1339 rows in 1 cycles.\n",
      "42 cycles left.\n",
      "Dropped 624 rows in 6 cycles.\n",
      "38 cycles left.\n",
      "mdt=42.5; med_dt=29.0; std=41.0111773382168\n",
      "###Split 2/4!\n",
      "Dropped 486 rows in 2 cycles.\n",
      "47 cycles left.\n",
      "Dropped 2000 rows in 11 cycles.\n",
      "32 cycles left.\n",
      "mdt=41.03125; med_dt=18.0; std=48.65085069592823\n",
      "###Split 3/4!\n",
      "Dropped 662 rows in 2 cycles.\n",
      "49 cycles left.\n",
      "Dropped 364 rows in 4 cycles.\n",
      "37 cycles left.\n",
      "mdt=41.18018018018018; med_dt=26.0; std=41.729976737665375\n",
      "###Split 4/4!\n",
      "Dropped 0 rows in 0 cycles.\n",
      "39 cycles left.\n",
      "Dropped 1216 rows in 8 cycles.\n",
      "46 cycles left.\n",
      "mdt=34.88405797101449; med_dt=14.0; std=49.8310293389786\n",
      "/home/nkuechen/Documents/Thesis/mlruns\n",
      "!! Creating new split...\n",
      "###Split 1/4!\n",
      "Dropped 0 rows in 0 cycles.\n",
      "43 cycles left.\n",
      "Dropped 700 rows in 5 cycles.\n",
      "44 cycles left.\n",
      "mdt=45.88636363636363; med_dt=18.5; std=56.68381840168358\n",
      "###Split 2/4!\n",
      "Dropped 0 rows in 0 cycles.\n",
      "43 cycles left.\n",
      "Dropped 1557 rows in 8 cycles.\n",
      "35 cycles left.\n",
      "mdt=41.22857142857143; med_dt=22.0; std=45.3421400009301\n",
      "###Split 3/4!\n",
      "Dropped 2350 rows in 1 cycles.\n",
      "52 cycles left.\n",
      "Dropped 1269 rows in 9 cycles.\n",
      "43 cycles left.\n",
      "mdt=33.30232558139535; med_dt=18.0; std=37.63875716735742\n",
      "###Split 4/4!\n",
      "Dropped 277 rows in 1 cycles.\n",
      "40 cycles left.\n",
      "Dropped 678 rows in 7 cycles.\n",
      "31 cycles left.\n",
      "mdt=43.83870967741935; med_dt=23.0; std=48.52497202640126\n",
      "/home/nkuechen/Documents/Thesis/mlruns\n",
      "!! Creating new split...\n",
      "###Split 1/4!\n",
      "Dropped 0 rows in 0 cycles.\n",
      "43 cycles left.\n",
      "Dropped 507 rows in 6 cycles.\n",
      "33 cycles left.\n",
      "mdt=44.76767676767677; med_dt=28.0; std=40.614180805248054\n",
      "###Split 2/4!\n",
      "Dropped 0 rows in 0 cycles.\n",
      "47 cycles left.\n",
      "Dropped 1177 rows in 9 cycles.\n",
      "40 cycles left.\n",
      "mdt=35.46666666666667; med_dt=19.0; std=35.68237971635611\n",
      "###Split 3/4!\n",
      "Dropped 0 rows in 0 cycles.\n",
      "57 cycles left.\n",
      "Dropped 888 rows in 9 cycles.\n",
      "38 cycles left.\n",
      "mdt=25.00877192982456; med_dt=10.0; std=34.10985750767069\n",
      "###Split 4/4!\n",
      "Dropped 277 rows in 1 cycles.\n",
      "51 cycles left.\n",
      "Dropped 1472 rows in 4 cycles.\n",
      "42 cycles left.\n",
      "mdt=43.44444444444444; med_dt=23.0; std=53.64101066060704\n",
      "/home/nkuechen/Documents/Thesis/mlruns\n",
      "!! Creating new split...\n",
      "###Split 1/4!\n",
      "Dropped 549 rows in 2 cycles.\n",
      "38 cycles left.\n",
      "Dropped 1103 rows in 11 cycles.\n",
      "43 cycles left.\n",
      "mdt=46.372093023255815; med_dt=27.0; std=49.961546417474466\n",
      "###Split 2/4!\n",
      "Dropped 1038 rows in 5 cycles.\n",
      "44 cycles left.\n",
      "Dropped 671 rows in 4 cycles.\n",
      "35 cycles left.\n",
      "mdt=36.99047619047619; med_dt=25.0; std=30.56468402089333\n",
      "###Split 3/4!\n",
      "Dropped 1041 rows in 5 cycles.\n",
      "34 cycles left.\n",
      "Dropped 1174 rows in 7 cycles.\n",
      "49 cycles left.\n",
      "mdt=33.585034013605444; med_dt=22.0; std=34.19647981593374\n",
      "###Split 4/4!\n",
      "Dropped 185 rows in 3 cycles.\n",
      "65 cycles left.\n",
      "Dropped 1256 rows in 7 cycles.\n",
      "26 cycles left.\n",
      "mdt=47.705128205128204; med_dt=23.5; std=65.11195663454168\n",
      "/home/nkuechen/Documents/Thesis/mlruns\n",
      "!! Creating new split...\n",
      "###Split 1/4!\n",
      "Dropped 321 rows in 1 cycles.\n",
      "39 cycles left.\n",
      "Dropped 820 rows in 5 cycles.\n",
      "47 cycles left.\n",
      "mdt=35.737588652482266; med_dt=16.0; std=52.85154444492395\n",
      "###Split 2/4!\n",
      "Dropped 551 rows in 1 cycles.\n",
      "45 cycles left.\n",
      "Dropped 1403 rows in 7 cycles.\n",
      "35 cycles left.\n",
      "mdt=35.60952380952381; med_dt=22.0; std=38.80414686678419\n",
      "###Split 3/4!\n",
      "Dropped 362 rows in 3 cycles.\n",
      "60 cycles left.\n",
      "Dropped 1417 rows in 11 cycles.\n",
      "33 cycles left.\n",
      "mdt=40.22222222222222; med_dt=26.0; std=38.68483260723261\n",
      "###Split 4/4!\n",
      "Dropped 1180 rows in 3 cycles.\n",
      "45 cycles left.\n",
      "Dropped 404 rows in 5 cycles.\n",
      "38 cycles left.\n",
      "mdt=42.99122807017544; med_dt=25.0; std=47.427598674566084\n",
      "/home/nkuechen/Documents/Thesis/mlruns\n",
      "!! Creating new split...\n",
      "###Split 1/4!\n",
      "Dropped 25 rows in 1 cycles.\n",
      "37 cycles left.\n",
      "Dropped 1615 rows in 11 cycles.\n",
      "27 cycles left.\n",
      "mdt=50.24691358024691; med_dt=25.0; std=64.96352839353948\n",
      "###Split 2/4!\n",
      "Dropped 321 rows in 1 cycles.\n",
      "37 cycles left.\n",
      "Dropped 1211 rows in 6 cycles.\n",
      "39 cycles left.\n",
      "mdt=33.21367521367522; med_dt=21.0; std=37.1641839023176\n",
      "###Split 3/4!\n",
      "Dropped 2201 rows in 2 cycles.\n",
      "39 cycles left.\n",
      "Dropped 658 rows in 7 cycles.\n",
      "48 cycles left.\n",
      "mdt=35.729166666666664; med_dt=20.5; std=39.08292799185684\n",
      "###Split 4/4!\n",
      "Dropped 2350 rows in 1 cycles.\n",
      "46 cycles left.\n",
      "Dropped 720 rows in 5 cycles.\n",
      "39 cycles left.\n",
      "mdt=44.76068376068376; med_dt=32.0; std=40.05160124047019\n",
      "/home/nkuechen/Documents/Thesis/mlruns\n",
      "!! Creating new split...\n",
      "###Split 1/4!\n",
      "Dropped 25 rows in 1 cycles.\n",
      "52 cycles left.\n",
      "Dropped 805 rows in 6 cycles.\n",
      "36 cycles left.\n",
      "mdt=37.43518518518518; med_dt=20.0; std=49.3273782344473\n",
      "###Split 2/4!\n",
      "Dropped 25 rows in 1 cycles.\n",
      "51 cycles left.\n",
      "Dropped 336 rows in 5 cycles.\n",
      "43 cycles left.\n",
      "mdt=40.74418604651163; med_dt=22.0; std=53.385576989848396\n",
      "###Split 3/4!\n",
      "Dropped 749 rows in 1 cycles.\n",
      "45 cycles left.\n",
      "Dropped 1089 rows in 6 cycles.\n",
      "39 cycles left.\n",
      "mdt=42.1025641025641; med_dt=28.0; std=46.26759487271539\n",
      "###Split 4/4!\n",
      "Dropped 0 rows in 0 cycles.\n",
      "49 cycles left.\n",
      "Dropped 1814 rows in 11 cycles.\n",
      "35 cycles left.\n",
      "mdt=37.95238095238095; med_dt=21.0; std=40.19224776054894\n",
      "/home/nkuechen/Documents/Thesis/mlruns\n",
      "!! Creating new split...\n",
      "###Split 1/4!\n",
      "Dropped 461 rows in 2 cycles.\n",
      "49 cycles left.\n",
      "Dropped 572 rows in 6 cycles.\n",
      "38 cycles left.\n",
      "mdt=31.92105263157895; med_dt=18.0; std=37.27544338560872\n",
      "###Split 2/4!\n",
      "Dropped 1172 rows in 5 cycles.\n",
      "40 cycles left.\n",
      "Dropped 687 rows in 8 cycles.\n",
      "42 cycles left.\n",
      "mdt=38.333333333333336; med_dt=20.5; std=54.75602452901617\n",
      "###Split 3/4!\n",
      "Dropped 263 rows in 1 cycles.\n",
      "47 cycles left.\n",
      "Dropped 1224 rows in 9 cycles.\n",
      "30 cycles left.\n",
      "mdt=39.25555555555555; med_dt=25.5; std=43.215367922665635\n",
      "###Split 4/4!\n",
      "Dropped 644 rows in 3 cycles.\n",
      "38 cycles left.\n",
      "Dropped 1721 rows in 6 cycles.\n",
      "43 cycles left.\n",
      "mdt=29.775193798449614; med_dt=18.0; std=30.819866820833525\n",
      "/home/nkuechen/Documents/Thesis/mlruns\n",
      "!! Creating new split...\n",
      "###Split 1/4!\n",
      "Dropped 418 rows in 1 cycles.\n",
      "55 cycles left.\n",
      "Dropped 851 rows in 4 cycles.\n",
      "47 cycles left.\n",
      "mdt=32.11347517730496; med_dt=16.0; std=39.15745487541683\n",
      "###Split 2/4!\n",
      "Dropped 178 rows in 1 cycles.\n",
      "44 cycles left.\n",
      "Dropped 1028 rows in 5 cycles.\n",
      "33 cycles left.\n",
      "mdt=42.515151515151516; med_dt=28.0; std=44.4477592886877\n",
      "###Split 3/4!\n",
      "Dropped 0 rows in 0 cycles.\n",
      "46 cycles left.\n",
      "Dropped 1381 rows in 9 cycles.\n",
      "33 cycles left.\n",
      "mdt=34.62626262626262; med_dt=16.0; std=42.41583129702748\n",
      "###Split 4/4!\n",
      "Dropped 0 rows in 0 cycles.\n",
      "38 cycles left.\n",
      "Dropped 784 rows in 10 cycles.\n",
      "40 cycles left.\n",
      "mdt=39.69166666666667; med_dt=22.0; std=41.61105538862906\n",
      "/home/nkuechen/Documents/Thesis/mlruns\n",
      "!! Creating new split...\n",
      "###Split 1/4!\n",
      "Dropped 0 rows in 0 cycles.\n",
      "46 cycles left.\n",
      "Dropped 1427 rows in 7 cycles.\n",
      "44 cycles left.\n",
      "mdt=41.18181818181818; med_dt=25.0; std=47.20776422109842\n",
      "###Split 2/4!\n",
      "Dropped 745 rows in 2 cycles.\n",
      "51 cycles left.\n",
      "Dropped 1266 rows in 8 cycles.\n",
      "34 cycles left.\n",
      "mdt=34.96078431372549; med_dt=20.5; std=39.03314869984316\n",
      "###Split 3/4!\n",
      "Dropped 3438 rows in 2 cycles.\n",
      "37 cycles left.\n",
      "Dropped 900 rows in 9 cycles.\n",
      "35 cycles left.\n",
      "mdt=40.10476190476191; med_dt=21.0; std=46.414678263202944\n",
      "###Split 4/4!\n",
      "Dropped 0 rows in 0 cycles.\n",
      "49 cycles left.\n",
      "Dropped 611 rows in 5 cycles.\n",
      "40 cycles left.\n",
      "mdt=32.475; med_dt=21.0; std=35.33363895308077\n",
      "/home/nkuechen/Documents/Thesis/mlruns\n",
      "!! Creating new split...\n",
      "###Split 1/4!\n",
      "Dropped 0 rows in 0 cycles.\n",
      "64 cycles left.\n",
      "Dropped 1330 rows in 10 cycles.\n",
      "25 cycles left.\n",
      "mdt=43.24; med_dt=30.0; std=46.071781674542024\n",
      "###Split 2/4!\n",
      "Dropped 0 rows in 0 cycles.\n",
      "55 cycles left.\n",
      "Dropped 619 rows in 5 cycles.\n",
      "42 cycles left.\n",
      "mdt=40.98412698412698; med_dt=24.0; std=42.04041595232131\n",
      "###Split 3/4!\n",
      "Dropped 0 rows in 0 cycles.\n",
      "51 cycles left.\n",
      "Dropped 1338 rows in 7 cycles.\n",
      "48 cycles left.\n",
      "mdt=29.27777777777778; med_dt=19.0; std=28.560716135504016\n",
      "###Split 4/4!\n",
      "Dropped 0 rows in 0 cycles.\n",
      "43 cycles left.\n",
      "Dropped 917 rows in 7 cycles.\n",
      "38 cycles left.\n",
      "mdt=34.73684210526316; med_dt=24.0; std=34.868186030323464\n",
      "/home/nkuechen/Documents/Thesis/mlruns\n",
      "!! Creating new split...\n",
      "###Split 1/4!\n",
      "Dropped 777 rows in 1 cycles.\n",
      "44 cycles left.\n",
      "Dropped 1299 rows in 10 cycles.\n",
      "39 cycles left.\n",
      "mdt=40.042735042735046; med_dt=22.0; std=44.67936925432124\n",
      "###Split 2/4!\n",
      "Dropped 133 rows in 2 cycles.\n",
      "49 cycles left.\n",
      "Dropped 821 rows in 5 cycles.\n",
      "35 cycles left.\n",
      "mdt=44.50476190476191; med_dt=26.0; std=50.12254008869972\n",
      "###Split 3/4!\n",
      "Dropped 591 rows in 2 cycles.\n",
      "37 cycles left.\n",
      "Dropped 1073 rows in 7 cycles.\n",
      "36 cycles left.\n",
      "mdt=49.175925925925924; med_dt=28.0; std=49.769064596487326\n",
      "###Split 4/4!\n",
      "Dropped 107 rows in 1 cycles.\n",
      "43 cycles left.\n",
      "Dropped 851 rows in 6 cycles.\n",
      "43 cycles left.\n",
      "mdt=39.07751937984496; med_dt=19.0; std=47.381285744561254\n",
      "/home/nkuechen/Documents/Thesis/mlruns\n",
      "!! Creating new split...\n",
      "###Split 1/4!\n",
      "Dropped 1376 rows in 2 cycles.\n",
      "34 cycles left.\n",
      "Dropped 535 rows in 6 cycles.\n",
      "31 cycles left.\n",
      "mdt=50.365591397849464; med_dt=32.0; std=53.83163417130743\n",
      "###Split 2/4!\n",
      "Dropped 872 rows in 1 cycles.\n",
      "54 cycles left.\n",
      "Dropped 1485 rows in 9 cycles.\n",
      "33 cycles left.\n",
      "mdt=40.26262626262626; med_dt=27.0; std=40.2784715433744\n",
      "###Split 3/4!\n",
      "Dropped 159 rows in 1 cycles.\n",
      "43 cycles left.\n",
      "Dropped 1114 rows in 6 cycles.\n",
      "43 cycles left.\n",
      "mdt=33.093023255813954; med_dt=15.0; std=46.07130332522328\n",
      "###Split 4/4!\n",
      "Dropped 786 rows in 1 cycles.\n",
      "44 cycles left.\n",
      "Dropped 910 rows in 7 cycles.\n",
      "46 cycles left.\n",
      "mdt=41.60144927536232; med_dt=20.0; std=52.74982517383935\n",
      "/home/nkuechen/Documents/Thesis/mlruns\n",
      "!! Creating new split...\n",
      "###Split 1/4!\n",
      "Dropped 436 rows in 1 cycles.\n",
      "50 cycles left.\n",
      "Dropped 678 rows in 3 cycles.\n",
      "41 cycles left.\n",
      "mdt=40.08130081300813; med_dt=18.0; std=52.205284829809564\n",
      "###Split 2/4!\n",
      "Dropped 0 rows in 0 cycles.\n",
      "41 cycles left.\n",
      "Dropped 437 rows in 7 cycles.\n",
      "36 cycles left.\n",
      "mdt=40.833333333333336; med_dt=24.0; std=41.03194329263934\n",
      "###Split 3/4!\n",
      "Dropped 0 rows in 0 cycles.\n",
      "47 cycles left.\n",
      "Dropped 1368 rows in 8 cycles.\n",
      "42 cycles left.\n",
      "mdt=41.507936507936506; med_dt=25.0; std=44.98407937625602\n",
      "###Split 4/4!\n",
      "Dropped 436 rows in 1 cycles.\n",
      "50 cycles left.\n",
      "Dropped 1561 rows in 10 cycles.\n",
      "34 cycles left.\n",
      "mdt=34.5; med_dt=19.0; std=37.78259532911843\n",
      "/home/nkuechen/Documents/Thesis/mlruns\n",
      "!! Creating new split...\n",
      "###Split 1/4!\n",
      "Dropped 0 rows in 0 cycles.\n",
      "42 cycles left.\n",
      "Dropped 1334 rows in 11 cycles.\n",
      "31 cycles left.\n",
      "mdt=45.784946236559136; med_dt=23.0; std=53.73007997215632\n",
      "###Split 2/4!\n",
      "Dropped 0 rows in 0 cycles.\n",
      "56 cycles left.\n",
      "Dropped 1214 rows in 6 cycles.\n",
      "40 cycles left.\n",
      "mdt=28.558333333333334; med_dt=11.0; std=37.15368887771741\n",
      "###Split 3/4!\n",
      "Dropped 0 rows in 0 cycles.\n",
      "49 cycles left.\n",
      "Dropped 349 rows in 5 cycles.\n",
      "39 cycles left.\n",
      "mdt=43.0940170940171; med_dt=25.0; std=47.68199196098281\n",
      "###Split 4/4!\n",
      "Dropped 0 rows in 0 cycles.\n",
      "45 cycles left.\n",
      "Dropped 1307 rows in 7 cycles.\n",
      "43 cycles left.\n",
      "mdt=36.25581395348837; med_dt=17.0; std=43.483451199432736\n",
      "/home/nkuechen/Documents/Thesis/mlruns\n",
      "!! Creating new split...\n",
      "###Split 1/4!\n",
      "Dropped 427 rows in 2 cycles.\n",
      "25 cycles left.\n",
      "Dropped 1628 rows in 7 cycles.\n",
      "40 cycles left.\n",
      "mdt=39.041666666666664; med_dt=16.0; std=55.47107291693172\n",
      "###Split 2/4!\n",
      "Dropped 363 rows in 5 cycles.\n",
      "43 cycles left.\n",
      "Dropped 1390 rows in 9 cycles.\n",
      "41 cycles left.\n",
      "mdt=43.203252032520325; med_dt=25.0; std=47.43484351895963\n",
      "###Split 3/4!\n",
      "Dropped 675 rows in 3 cycles.\n",
      "41 cycles left.\n",
      "Dropped 601 rows in 7 cycles.\n",
      "36 cycles left.\n",
      "mdt=51.28703703703704; med_dt=30.0; std=57.81772939126537\n",
      "###Split 4/4!\n",
      "Dropped 164 rows in 1 cycles.\n",
      "34 cycles left.\n",
      "Dropped 585 rows in 6 cycles.\n",
      "36 cycles left.\n",
      "mdt=33.138888888888886; med_dt=22.5; std=28.167967863874146\n",
      "/home/nkuechen/Documents/Thesis/mlruns\n",
      "!! Creating new split...\n",
      "###Split 1/4!\n",
      "Dropped 107 rows in 1 cycles.\n",
      "47 cycles left.\n",
      "Dropped 257 rows in 2 cycles.\n",
      "37 cycles left.\n",
      "mdt=37.5045045045045; med_dt=20.0; std=41.442215033907715\n",
      "###Split 2/4!\n",
      "Dropped 177 rows in 1 cycles.\n",
      "41 cycles left.\n",
      "Dropped 1296 rows in 9 cycles.\n",
      "43 cycles left.\n",
      "mdt=40.945736434108525; med_dt=27.0; std=47.21241954551139\n",
      "###Split 3/4!\n",
      "Dropped 95 rows in 1 cycles.\n",
      "42 cycles left.\n",
      "Dropped 835 rows in 9 cycles.\n",
      "42 cycles left.\n",
      "mdt=37.61904761904762; med_dt=23.5; std=38.707666510809176\n",
      "###Split 4/4!\n",
      "Dropped 266 rows in 2 cycles.\n",
      "39 cycles left.\n",
      "Dropped 1816 rows in 9 cycles.\n",
      "31 cycles left.\n",
      "mdt=35.44086021505376; med_dt=21.0; std=38.93238206754858\n",
      "/home/nkuechen/Documents/Thesis/mlruns\n",
      "!! Creating new split...\n",
      "###Split 1/4!\n",
      "Dropped 25 rows in 1 cycles.\n",
      "45 cycles left.\n",
      "Dropped 1190 rows in 7 cycles.\n",
      "44 cycles left.\n",
      "mdt=31.424242424242426; med_dt=19.5; std=38.08207269555736\n",
      "###Split 2/4!\n",
      "Dropped 105 rows in 1 cycles.\n",
      "51 cycles left.\n",
      "Dropped 1178 rows in 7 cycles.\n",
      "35 cycles left.\n",
      "mdt=45.304761904761904; med_dt=31.0; std=42.68201892166096\n",
      "###Split 3/4!\n",
      "Dropped 1865 rows in 2 cycles.\n",
      "55 cycles left.\n",
      "Dropped 1388 rows in 8 cycles.\n",
      "30 cycles left.\n",
      "mdt=47.71111111111111; med_dt=27.5; std=54.224275917391765\n",
      "###Split 4/4!\n",
      "Dropped 215 rows in 1 cycles.\n",
      "44 cycles left.\n",
      "Dropped 367 rows in 6 cycles.\n",
      "45 cycles left.\n",
      "mdt=39.18518518518518; med_dt=22.0; std=48.01777220142484\n",
      "/home/nkuechen/Documents/Thesis/mlruns\n",
      "!! Creating new split...\n",
      "###Split 1/4!\n",
      "Dropped 0 rows in 0 cycles.\n",
      "57 cycles left.\n",
      "Dropped 1411 rows in 7 cycles.\n",
      "29 cycles left.\n",
      "mdt=48.160919540229884; med_dt=30.0; std=51.373519177857226\n",
      "###Split 2/4!\n",
      "Dropped 0 rows in 0 cycles.\n",
      "44 cycles left.\n",
      "Dropped 548 rows in 5 cycles.\n",
      "33 cycles left.\n",
      "mdt=46.56565656565657; med_dt=27.0; std=52.239379398328005\n",
      "###Split 3/4!\n",
      "Dropped 963 rows in 1 cycles.\n",
      "37 cycles left.\n",
      "Dropped 871 rows in 10 cycles.\n",
      "45 cycles left.\n",
      "mdt=42.044444444444444; med_dt=24.0; std=47.979450333668765\n",
      "###Split 4/4!\n",
      "Dropped 107 rows in 1 cycles.\n",
      "51 cycles left.\n",
      "Dropped 1374 rows in 7 cycles.\n",
      "46 cycles left.\n",
      "mdt=31.26086956521739; med_dt=18.0; std=38.102513201721145\n",
      "/home/nkuechen/Documents/Thesis/mlruns\n",
      "!! Creating new split...\n",
      "###Split 1/4!\n",
      "Dropped 581 rows in 3 cycles.\n",
      "53 cycles left.\n",
      "Dropped 683 rows in 8 cycles.\n",
      "37 cycles left.\n",
      "mdt=32.86486486486486; med_dt=21.0; std=31.51389983228664\n",
      "###Split 2/4!\n",
      "Dropped 783 rows in 3 cycles.\n",
      "44 cycles left.\n",
      "Dropped 720 rows in 4 cycles.\n",
      "43 cycles left.\n",
      "mdt=39.86821705426357; med_dt=23.0; std=47.576357206475556\n",
      "###Split 3/4!\n",
      "Dropped 26 rows in 1 cycles.\n",
      "43 cycles left.\n",
      "Dropped 1718 rows in 9 cycles.\n",
      "42 cycles left.\n",
      "mdt=28.325396825396826; med_dt=16.0; std=36.35513312047707\n",
      "###Split 4/4!\n",
      "Dropped 470 rows in 1 cycles.\n",
      "45 cycles left.\n",
      "Dropped 923 rows in 7 cycles.\n",
      "31 cycles left.\n",
      "mdt=39.0; med_dt=22.0; std=43.48451708144465\n",
      "/home/nkuechen/Documents/Thesis/mlruns\n",
      "!! Creating new split...\n",
      "###Split 1/4!\n",
      "Dropped 0 rows in 0 cycles.\n",
      "57 cycles left.\n",
      "Dropped 1055 rows in 6 cycles.\n",
      "36 cycles left.\n",
      "mdt=27.333333333333332; med_dt=18.5; std=28.41719615016649\n",
      "###Split 2/4!\n",
      "Dropped 0 rows in 0 cycles.\n",
      "57 cycles left.\n",
      "Dropped 1640 rows in 9 cycles.\n",
      "32 cycles left.\n",
      "mdt=40.75; med_dt=21.0; std=44.57250647353516\n",
      "###Split 3/4!\n",
      "Dropped 2313 rows in 4 cycles.\n",
      "35 cycles left.\n",
      "Dropped 1222 rows in 10 cycles.\n",
      "41 cycles left.\n",
      "mdt=43.6910569105691; med_dt=29.0; std=40.57856578690239\n",
      "###Split 4/4!\n",
      "Dropped 0 rows in 0 cycles.\n",
      "37 cycles left.\n",
      "Dropped 287 rows in 4 cycles.\n",
      "44 cycles left.\n",
      "mdt=36.803030303030305; med_dt=20.0; std=40.06480345222909\n",
      "/home/nkuechen/Documents/Thesis/mlruns\n",
      "!! Creating new split...\n",
      "###Split 1/4!\n",
      "Dropped 0 rows in 0 cycles.\n",
      "41 cycles left.\n",
      "Dropped 1301 rows in 10 cycles.\n",
      "39 cycles left.\n",
      "mdt=40.042735042735046; med_dt=26.0; std=47.492940215334315\n",
      "###Split 2/4!\n",
      "Dropped 0 rows in 0 cycles.\n",
      "52 cycles left.\n",
      "Dropped 1014 rows in 7 cycles.\n",
      "41 cycles left.\n",
      "mdt=32.0; med_dt=17.0; std=37.33957555247548\n",
      "###Split 3/4!\n",
      "Dropped 1484 rows in 1 cycles.\n",
      "39 cycles left.\n",
      "Dropped 825 rows in 5 cycles.\n",
      "34 cycles left.\n",
      "mdt=41.80392156862745; med_dt=26.0; std=41.870256937280054\n",
      "###Split 4/4!\n",
      "Dropped 25 rows in 1 cycles.\n",
      "54 cycles left.\n",
      "Dropped 1064 rows in 7 cycles.\n",
      "39 cycles left.\n",
      "mdt=38.034188034188034; med_dt=28.0; std=30.794030841249455\n",
      "/home/nkuechen/Documents/Thesis/mlruns\n",
      "!! Creating new split...\n",
      "###Split 1/4!\n",
      "Dropped 0 rows in 0 cycles.\n",
      "43 cycles left.\n",
      "Dropped 1189 rows in 7 cycles.\n",
      "43 cycles left.\n",
      "mdt=29.74418604651163; med_dt=19.0; std=31.37007883386502\n",
      "###Split 2/4!\n",
      "Dropped 0 rows in 0 cycles.\n",
      "62 cycles left.\n",
      "Dropped 1670 rows in 8 cycles.\n",
      "29 cycles left.\n",
      "mdt=41.160919540229884; med_dt=25.0; std=43.60451140933011\n",
      "###Split 3/4!\n",
      "Dropped 75 rows in 1 cycles.\n",
      "52 cycles left.\n",
      "Dropped 537 rows in 7 cycles.\n",
      "43 cycles left.\n",
      "mdt=42.06976744186046; med_dt=25.0; std=45.29989408179544\n",
      "###Split 4/4!\n",
      "Dropped 0 rows in 0 cycles.\n",
      "40 cycles left.\n",
      "Dropped 808 rows in 7 cycles.\n",
      "38 cycles left.\n",
      "mdt=36.96491228070175; med_dt=20.5; std=45.18867460671538\n",
      "/home/nkuechen/Documents/Thesis/mlruns\n",
      "!! Creating new split...\n",
      "###Split 1/4!\n",
      "Dropped 122 rows in 1 cycles.\n",
      "51 cycles left.\n",
      "Dropped 1310 rows in 7 cycles.\n",
      "26 cycles left.\n",
      "mdt=45.96153846153846; med_dt=34.5; std=36.83136981923617\n",
      "###Split 2/4!\n",
      "Dropped 988 rows in 4 cycles.\n",
      "28 cycles left.\n",
      "Dropped 544 rows in 4 cycles.\n",
      "46 cycles left.\n",
      "mdt=36.81159420289855; med_dt=17.0; std=50.41229300343632\n",
      "###Split 3/4!\n",
      "Dropped 0 rows in 0 cycles.\n",
      "45 cycles left.\n",
      "Dropped 1587 rows in 10 cycles.\n",
      "34 cycles left.\n",
      "mdt=41.42156862745098; med_dt=23.5; std=44.00611282727502\n",
      "###Split 4/4!\n",
      "Dropped 647 rows in 2 cycles.\n",
      "38 cycles left.\n",
      "Dropped 603 rows in 7 cycles.\n",
      "47 cycles left.\n",
      "mdt=46.312056737588655; med_dt=28.0; std=51.24978944800521\n",
      "/home/nkuechen/Documents/Thesis/mlruns\n",
      "!! Creating new split...\n",
      "###Split 1/4!\n",
      "Dropped 0 rows in 0 cycles.\n",
      "47 cycles left.\n",
      "Dropped 880 rows in 8 cycles.\n",
      "39 cycles left.\n",
      "mdt=33.53846153846154; med_dt=14.0; std=41.64102564102564\n",
      "###Split 2/4!\n",
      "Dropped 25 rows in 1 cycles.\n",
      "48 cycles left.\n",
      "Dropped 1082 rows in 8 cycles.\n",
      "55 cycles left.\n",
      "mdt=31.278787878787877; med_dt=17.0; std=38.78324972377666\n",
      "###Split 3/4!\n",
      "Dropped 0 rows in 0 cycles.\n",
      "55 cycles left.\n",
      "Dropped 1148 rows in 5 cycles.\n",
      "27 cycles left.\n",
      "mdt=58.91358024691358; med_dt=40.0; std=55.759890343619304\n",
      "###Split 4/4!\n",
      "Dropped 0 rows in 0 cycles.\n",
      "60 cycles left.\n",
      "Dropped 934 rows in 7 cycles.\n",
      "32 cycles left.\n",
      "mdt=42.53125; med_dt=29.0; std=42.270200576420656\n",
      "/home/nkuechen/Documents/Thesis/mlruns\n",
      "!! Creating new split...\n",
      "###Split 1/4!\n",
      "Dropped 436 rows in 1 cycles.\n",
      "46 cycles left.\n",
      "Dropped 1826 rows in 12 cycles.\n",
      "29 cycles left.\n",
      "mdt=40.804597701149426; med_dt=20.0; std=43.43176417992578\n",
      "###Split 2/4!\n",
      "Dropped 50 rows in 1 cycles.\n",
      "48 cycles left.\n",
      "Dropped 616 rows in 4 cycles.\n",
      "40 cycles left.\n",
      "mdt=38.13333333333333; med_dt=20.5; std=40.7659852763987\n",
      "###Split 3/4!\n",
      "Dropped 872 rows in 1 cycles.\n",
      "58 cycles left.\n",
      "Dropped 720 rows in 8 cycles.\n",
      "33 cycles left.\n",
      "mdt=46.02020202020202; med_dt=27.0; std=53.18121864080217\n",
      "###Split 4/4!\n",
      "Dropped 50 rows in 1 cycles.\n",
      "43 cycles left.\n",
      "Dropped 1042 rows in 5 cycles.\n",
      "51 cycles left.\n",
      "mdt=29.49019607843137; med_dt=16.0; std=33.64717308815554\n",
      "/home/nkuechen/Documents/Thesis/mlruns\n",
      "!! Creating new split...\n",
      "###Split 1/4!\n",
      "Dropped 0 rows in 0 cycles.\n",
      "57 cycles left.\n",
      "Dropped 581 rows in 3 cycles.\n",
      "40 cycles left.\n",
      "mdt=40.55833333333333; med_dt=19.5; std=48.09102408165397\n",
      "###Split 2/4!\n",
      "Dropped 0 rows in 0 cycles.\n",
      "37 cycles left.\n",
      "Dropped 771 rows in 8 cycles.\n",
      "39 cycles left.\n",
      "mdt=40.9059829059829; med_dt=22.0; std=41.985138377129545\n",
      "###Split 3/4!\n",
      "Dropped 0 rows in 0 cycles.\n",
      "45 cycles left.\n",
      "Dropped 1512 rows in 8 cycles.\n",
      "35 cycles left.\n",
      "mdt=40.333333333333336; med_dt=15.0; std=49.38182944530386\n",
      "###Split 4/4!\n",
      "Dropped 0 rows in 0 cycles.\n",
      "52 cycles left.\n",
      "Dropped 1340 rows in 10 cycles.\n",
      "39 cycles left.\n",
      "mdt=31.384615384615383; med_dt=18.0; std=42.04999998045594\n",
      "/home/nkuechen/Documents/Thesis/mlruns\n",
      "!! Creating new split...\n",
      "###Split 1/4!\n",
      "Dropped 1316 rows in 4 cycles.\n",
      "38 cycles left.\n",
      "Dropped 1086 rows in 3 cycles.\n",
      "33 cycles left.\n",
      "mdt=52.5959595959596; med_dt=40.0; std=53.21595401242857\n",
      "###Split 2/4!\n",
      "Dropped 556 rows in 5 cycles.\n",
      "40 cycles left.\n",
      "Dropped 1619 rows in 11 cycles.\n",
      "37 cycles left.\n",
      "mdt=30.36936936936937; med_dt=21.0; std=30.491153030277793\n",
      "###Split 3/4!\n",
      "Dropped 414 rows in 2 cycles.\n",
      "44 cycles left.\n",
      "Dropped 456 rows in 8 cycles.\n",
      "49 cycles left.\n",
      "mdt=32.72789115646258; med_dt=19.0; std=37.26674537062185\n",
      "###Split 4/4!\n",
      "Dropped 595 rows in 3 cycles.\n",
      "41 cycles left.\n",
      "Dropped 883 rows in 6 cycles.\n",
      "34 cycles left.\n",
      "mdt=53.705882352941174; med_dt=28.5; std=60.70558785458282\n",
      "/home/nkuechen/Documents/Thesis/mlruns\n",
      "!! Creating new split...\n",
      "###Split 1/4!\n",
      "Dropped 0 rows in 0 cycles.\n",
      "50 cycles left.\n",
      "Dropped 1189 rows in 8 cycles.\n",
      "29 cycles left.\n",
      "mdt=44.310344827586206; med_dt=27.0; std=47.7816658785979\n",
      "###Split 2/4!\n",
      "Dropped 0 rows in 0 cycles.\n",
      "43 cycles left.\n",
      "Dropped 1654 rows in 10 cycles.\n",
      "34 cycles left.\n",
      "mdt=39.53921568627451; med_dt=26.5; std=35.122103974849594\n",
      "###Split 3/4!\n",
      "Dropped 1475 rows in 3 cycles.\n",
      "40 cycles left.\n",
      "Dropped 769 rows in 6 cycles.\n",
      "51 cycles left.\n",
      "mdt=35.09803921568628; med_dt=18.0; std=50.12452007246747\n",
      "###Split 4/4!\n",
      "Dropped 53 rows in 1 cycles.\n",
      "39 cycles left.\n",
      "Dropped 432 rows in 4 cycles.\n",
      "39 cycles left.\n",
      "mdt=42.504273504273506; med_dt=24.0; std=49.4326138806203\n",
      "/home/nkuechen/Documents/Thesis/mlruns\n",
      "!! Creating new split...\n",
      "###Split 1/4!\n",
      "Dropped 321 rows in 1 cycles.\n",
      "49 cycles left.\n",
      "Dropped 1622 rows in 10 cycles.\n",
      "49 cycles left.\n",
      "mdt=30.625850340136054; med_dt=19.0; std=36.5290325099592\n",
      "###Split 2/4!\n",
      "Dropped 1750 rows in 1 cycles.\n",
      "56 cycles left.\n",
      "Dropped 975 rows in 7 cycles.\n",
      "34 cycles left.\n",
      "mdt=48.049019607843135; med_dt=27.5; std=54.658185159417656\n",
      "###Split 3/4!\n",
      "Dropped 1441 rows in 1 cycles.\n",
      "55 cycles left.\n",
      "Dropped 713 rows in 4 cycles.\n",
      "36 cycles left.\n",
      "mdt=39.074074074074076; med_dt=24.0; std=43.183652536172566\n",
      "###Split 4/4!\n",
      "Dropped 436 rows in 1 cycles.\n",
      "38 cycles left.\n",
      "Dropped 734 rows in 7 cycles.\n",
      "34 cycles left.\n",
      "mdt=35.64705882352941; med_dt=22.5; std=37.52950396448198\n",
      "/home/nkuechen/Documents/Thesis/mlruns\n",
      "!! Creating new split...\n",
      "###Split 1/4!\n",
      "Dropped 214 rows in 1 cycles.\n",
      "52 cycles left.\n",
      "Dropped 1041 rows in 7 cycles.\n",
      "45 cycles left.\n",
      "mdt=36.20740740740741; med_dt=20.0; std=47.54149786454345\n",
      "###Split 2/4!\n",
      "Dropped 25 rows in 1 cycles.\n",
      "37 cycles left.\n",
      "Dropped 459 rows in 4 cycles.\n",
      "32 cycles left.\n",
      "mdt=44.583333333333336; med_dt=28.0; std=42.34178065326125\n",
      "###Split 3/4!\n",
      "Dropped 0 rows in 0 cycles.\n",
      "53 cycles left.\n",
      "Dropped 479 rows in 5 cycles.\n",
      "35 cycles left.\n",
      "mdt=39.57142857142857; med_dt=26.0; std=47.10067376787465\n",
      "###Split 4/4!\n",
      "Dropped 642 rows in 1 cycles.\n",
      "48 cycles left.\n",
      "Dropped 2065 rows in 12 cycles.\n",
      "41 cycles left.\n",
      "mdt=35.05691056910569; med_dt=16.0; std=47.89033896377403\n",
      "/home/nkuechen/Documents/Thesis/mlruns\n",
      "!! Creating new split...\n",
      "###Split 1/4!\n",
      "Dropped 1320 rows in 3 cycles.\n",
      "35 cycles left.\n",
      "Dropped 1201 rows in 9 cycles.\n",
      "50 cycles left.\n",
      "mdt=20.64666666666667; med_dt=13.0; std=22.900403683972225\n",
      "###Split 2/4!\n",
      "Dropped 0 rows in 0 cycles.\n",
      "37 cycles left.\n",
      "Dropped 312 rows in 5 cycles.\n",
      "40 cycles left.\n",
      "mdt=38.44166666666667; med_dt=22.0; std=41.48328897145077\n",
      "###Split 3/4!\n",
      "Dropped 699 rows in 3 cycles.\n",
      "45 cycles left.\n",
      "Dropped 1627 rows in 8 cycles.\n",
      "30 cycles left.\n",
      "mdt=52.144444444444446; med_dt=32.0; std=59.45185935062851\n",
      "###Split 4/4!\n",
      "Dropped 509 rows in 4 cycles.\n",
      "40 cycles left.\n",
      "Dropped 1064 rows in 7 cycles.\n",
      "33 cycles left.\n",
      "mdt=37.76767676767677; med_dt=27.0; std=32.19035186493696\n",
      "/home/nkuechen/Documents/Thesis/mlruns\n",
      "!! Creating new split...\n",
      "###Split 1/4!\n",
      "Dropped 786 rows in 4 cycles.\n",
      "38 cycles left.\n",
      "Dropped 940 rows in 2 cycles.\n",
      "49 cycles left.\n",
      "mdt=36.27891156462585; med_dt=19.0; std=48.10006326284965\n",
      "###Split 2/4!\n",
      "Dropped 0 rows in 0 cycles.\n",
      "41 cycles left.\n",
      "Dropped 512 rows in 6 cycles.\n",
      "33 cycles left.\n",
      "mdt=33.676767676767675; med_dt=21.0; std=34.31165196050982\n",
      "###Split 3/4!\n",
      "Dropped 906 rows in 1 cycles.\n",
      "43 cycles left.\n",
      "Dropped 1483 rows in 10 cycles.\n",
      "30 cycles left.\n",
      "mdt=44.522222222222226; med_dt=26.5; std=48.0724517502899\n",
      "###Split 4/4!\n",
      "Dropped 568 rows in 3 cycles.\n",
      "45 cycles left.\n",
      "Dropped 1109 rows in 10 cycles.\n",
      "41 cycles left.\n",
      "mdt=42.59349593495935; med_dt=25.0; std=46.66954185075022\n",
      "/home/nkuechen/Documents/Thesis/mlruns\n",
      "!! Creating new split...\n",
      "###Split 1/4!\n",
      "Dropped 0 rows in 0 cycles.\n",
      "40 cycles left.\n",
      "Dropped 488 rows in 6 cycles.\n",
      "40 cycles left.\n",
      "mdt=40.36666666666667; med_dt=26.5; std=37.181745819988365\n",
      "###Split 2/4!\n",
      "Dropped 1439 rows in 1 cycles.\n",
      "65 cycles left.\n",
      "Dropped 1610 rows in 9 cycles.\n",
      "36 cycles left.\n",
      "mdt=35.388888888888886; med_dt=22.5; std=36.941603900824774\n",
      "###Split 3/4!\n",
      "Dropped 0 rows in 0 cycles.\n",
      "55 cycles left.\n",
      "Dropped 1039 rows in 8 cycles.\n",
      "34 cycles left.\n",
      "mdt=42.96078431372549; med_dt=28.0; std=41.4608063371897\n",
      "###Split 4/4!\n",
      "Dropped 707 rows in 1 cycles.\n",
      "53 cycles left.\n",
      "Dropped 907 rows in 5 cycles.\n",
      "43 cycles left.\n",
      "mdt=34.65891472868217; med_dt=16.0; std=47.3585197960388\n",
      "/home/nkuechen/Documents/Thesis/mlruns\n",
      "!! Creating new split...\n",
      "###Split 1/4!\n",
      "Dropped 244 rows in 1 cycles.\n",
      "41 cycles left.\n",
      "Dropped 1457 rows in 8 cycles.\n",
      "41 cycles left.\n",
      "mdt=40.5609756097561; med_dt=20.0; std=54.36045704466709\n",
      "###Split 2/4!\n",
      "Dropped 0 rows in 0 cycles.\n",
      "48 cycles left.\n",
      "Dropped 235 rows in 3 cycles.\n",
      "43 cycles left.\n",
      "mdt=35.58914728682171; med_dt=17.0; std=40.75729114457219\n",
      "###Split 3/4!\n",
      "Dropped 0 rows in 0 cycles.\n",
      "51 cycles left.\n",
      "Dropped 1866 rows in 11 cycles.\n",
      "39 cycles left.\n",
      "mdt=35.136752136752136; med_dt=20.0; std=44.09486781054188\n",
      "###Split 4/4!\n",
      "Dropped 3144 rows in 1 cycles.\n",
      "41 cycles left.\n",
      "Dropped 646 rows in 7 cycles.\n",
      "30 cycles left.\n",
      "mdt=45.75555555555555; med_dt=26.5; std=48.256101769876636\n",
      "/home/nkuechen/Documents/Thesis/mlruns\n",
      "!! Creating new split...\n",
      "###Split 1/4!\n",
      "Dropped 468 rows in 3 cycles.\n",
      "45 cycles left.\n",
      "Dropped 1365 rows in 7 cycles.\n",
      "42 cycles left.\n",
      "mdt=29.563492063492063; med_dt=16.0; std=31.420723126206795\n",
      "###Split 2/4!\n",
      "Dropped 1577 rows in 5 cycles.\n",
      "33 cycles left.\n",
      "Dropped 632 rows in 4 cycles.\n",
      "44 cycles left.\n",
      "mdt=48.67424242424242; med_dt=27.5; std=52.11881766434374\n",
      "###Split 3/4!\n",
      "Dropped 107 rows in 1 cycles.\n",
      "37 cycles left.\n",
      "Dropped 1306 rows in 7 cycles.\n",
      "30 cycles left.\n",
      "mdt=49.6; med_dt=39.0; std=42.66713541409177\n",
      "###Split 4/4!\n",
      "Dropped 1061 rows in 4 cycles.\n",
      "32 cycles left.\n",
      "Dropped 741 rows in 10 cycles.\n",
      "37 cycles left.\n",
      "mdt=38.207207207207205; med_dt=22.0; std=40.49538225640302\n",
      "/home/nkuechen/Documents/Thesis/mlruns\n",
      "!! Creating new split...\n",
      "###Split 1/4!\n",
      "Dropped 26 rows in 1 cycles.\n",
      "48 cycles left.\n",
      "Dropped 417 rows in 4 cycles.\n",
      "40 cycles left.\n",
      "mdt=36.583333333333336; med_dt=19.0; std=41.51818543990358\n",
      "###Split 2/4!\n",
      "Dropped 872 rows in 1 cycles.\n",
      "53 cycles left.\n",
      "Dropped 2579 rows in 14 cycles.\n",
      "27 cycles left.\n",
      "mdt=48.50617283950617; med_dt=22.0; std=55.405380016164116\n",
      "###Split 3/4!\n",
      "Dropped 1306 rows in 2 cycles.\n",
      "34 cycles left.\n",
      "Dropped 606 rows in 5 cycles.\n",
      "44 cycles left.\n",
      "mdt=43.43939393939394; med_dt=23.0; std=48.36042985117343\n",
      "###Split 4/4!\n",
      "Dropped 220 rows in 1 cycles.\n",
      "55 cycles left.\n",
      "Dropped 602 rows in 6 cycles.\n",
      "42 cycles left.\n",
      "mdt=34.45238095238095; med_dt=16.0; std=44.01345521954408\n",
      "/home/nkuechen/Documents/Thesis/mlruns\n",
      "!! Creating new split...\n",
      "###Split 1/4!\n",
      "Dropped 0 rows in 0 cycles.\n",
      "45 cycles left.\n",
      "Dropped 548 rows in 6 cycles.\n",
      "29 cycles left.\n",
      "mdt=44.52873563218391; med_dt=20.0; std=50.004100769873595\n",
      "###Split 2/4!\n",
      "Dropped 0 rows in 0 cycles.\n",
      "54 cycles left.\n",
      "Dropped 893 rows in 9 cycles.\n",
      "49 cycles left.\n",
      "mdt=37.945578231292515; med_dt=18.0; std=49.65017518009325\n",
      "###Split 3/4!\n",
      "Dropped 1572 rows in 1 cycles.\n",
      "41 cycles left.\n",
      "Dropped 1510 rows in 7 cycles.\n",
      "29 cycles left.\n",
      "mdt=47.6551724137931; med_dt=33.0; std=47.33928105408235\n",
      "###Split 4/4!\n",
      "Dropped 0 rows in 0 cycles.\n",
      "49 cycles left.\n",
      "Dropped 1093 rows in 6 cycles.\n",
      "46 cycles left.\n",
      "mdt=31.420289855072465; med_dt=13.5; std=40.19658425069511\n",
      "/home/nkuechen/Documents/Thesis/mlruns\n",
      "!! Creating new split...\n",
      "###Split 1/4!\n",
      "Dropped 1517 rows in 2 cycles.\n",
      "40 cycles left.\n",
      "Dropped 519 rows in 5 cycles.\n",
      "39 cycles left.\n",
      "mdt=37.55555555555556; med_dt=16.0; std=43.129985294791894\n",
      "###Split 2/4!\n",
      "Dropped 0 rows in 0 cycles.\n",
      "32 cycles left.\n",
      "Dropped 230 rows in 4 cycles.\n",
      "57 cycles left.\n",
      "mdt=27.742690058479532; med_dt=13.0; std=34.888014527569005\n",
      "###Split 3/4!\n",
      "Dropped 0 rows in 0 cycles.\n",
      "52 cycles left.\n",
      "Dropped 1388 rows in 9 cycles.\n",
      "25 cycles left.\n",
      "mdt=52.42666666666667; med_dt=28.0; std=54.04866284706362\n",
      "###Split 4/4!\n",
      "Dropped 0 rows in 0 cycles.\n",
      "48 cycles left.\n",
      "Dropped 1907 rows in 10 cycles.\n",
      "32 cycles left.\n",
      "mdt=49.947916666666664; med_dt=30.5; std=51.95458148543195\n",
      "/home/nkuechen/Documents/Thesis/mlruns\n",
      "!! Creating new split...\n",
      "###Split 1/4!\n",
      "Dropped 428 rows in 4 cycles.\n",
      "39 cycles left.\n",
      "Dropped 1487 rows in 11 cycles.\n",
      "40 cycles left.\n",
      "mdt=42.00833333333333; med_dt=22.0; std=48.01570851178695\n",
      "###Split 2/4!\n",
      "Dropped 1223 rows in 2 cycles.\n",
      "40 cycles left.\n",
      "Dropped 1243 rows in 9 cycles.\n",
      "38 cycles left.\n",
      "mdt=43.64035087719298; med_dt=28.5; std=44.073926570997244\n",
      "###Split 3/4!\n",
      "Dropped 26 rows in 1 cycles.\n",
      "35 cycles left.\n",
      "Dropped 844 rows in 7 cycles.\n",
      "34 cycles left.\n",
      "mdt=39.970588235294116; med_dt=27.5; std=38.31946617437766\n",
      "###Split 4/4!\n",
      "Dropped 721 rows in 3 cycles.\n",
      "50 cycles left.\n",
      "Dropped 630 rows in 2 cycles.\n",
      "41 cycles left.\n",
      "mdt=39.3089430894309; med_dt=20.0; std=53.20754425407742\n",
      "/home/nkuechen/Documents/Thesis/mlruns\n",
      "!! Creating new split...\n",
      "###Split 1/4!\n",
      "Dropped 1248 rows in 2 cycles.\n",
      "49 cycles left.\n",
      "Dropped 339 rows in 5 cycles.\n",
      "36 cycles left.\n",
      "mdt=30.37037037037037; med_dt=19.5; std=43.09734730012127\n",
      "###Split 2/4!\n",
      "Dropped 204 rows in 2 cycles.\n",
      "43 cycles left.\n",
      "Dropped 1574 rows in 9 cycles.\n",
      "36 cycles left.\n",
      "mdt=50.94444444444444; med_dt=27.0; std=57.20638939536667\n",
      "###Split 3/4!\n",
      "Dropped 0 rows in 0 cycles.\n",
      "39 cycles left.\n",
      "Dropped 1293 rows in 11 cycles.\n",
      "43 cycles left.\n",
      "mdt=37.627906976744185; med_dt=23.0; std=39.53294568893216\n",
      "###Split 4/4!\n",
      "Dropped 0 rows in 0 cycles.\n",
      "43 cycles left.\n",
      "Dropped 998 rows in 4 cycles.\n",
      "38 cycles left.\n",
      "mdt=44.58771929824562; med_dt=25.0; std=52.892942421047955\n",
      "/home/nkuechen/Documents/Thesis/mlruns\n",
      "!! Creating new split...\n",
      "###Split 1/4!\n",
      "Dropped 0 rows in 0 cycles.\n",
      "45 cycles left.\n",
      "Dropped 937 rows in 6 cycles.\n",
      "34 cycles left.\n",
      "mdt=43.450980392156865; med_dt=25.5; std=47.84977051412596\n",
      "###Split 2/4!\n",
      "Dropped 214 rows in 1 cycles.\n",
      "49 cycles left.\n",
      "Dropped 820 rows in 7 cycles.\n",
      "41 cycles left.\n",
      "mdt=32.203252032520325; med_dt=21.0; std=33.78048682652891\n",
      "###Split 3/4!\n",
      "Dropped 3501 rows in 5 cycles.\n",
      "34 cycles left.\n",
      "Dropped 1096 rows in 8 cycles.\n",
      "37 cycles left.\n",
      "mdt=49.01801801801802; med_dt=33.0; std=51.10807872917023\n",
      "###Split 4/4!\n",
      "Dropped 428 rows in 1 cycles.\n",
      "42 cycles left.\n",
      "Dropped 1191 rows in 7 cycles.\n",
      "41 cycles left.\n",
      "mdt=34.5609756097561; med_dt=22.0; std=37.56731548226624\n",
      "/home/nkuechen/Documents/Thesis/mlruns\n",
      "!! Creating new split...\n",
      "###Split 1/4!\n",
      "Dropped 0 rows in 0 cycles.\n",
      "33 cycles left.\n",
      "Dropped 1225 rows in 9 cycles.\n",
      "27 cycles left.\n",
      "mdt=35.71604938271605; med_dt=24.0; std=37.39552840763786\n",
      "###Split 2/4!\n",
      "Dropped 0 rows in 0 cycles.\n",
      "54 cycles left.\n",
      "Dropped 769 rows in 5 cycles.\n",
      "38 cycles left.\n",
      "mdt=33.675438596491226; med_dt=22.0; std=31.11001858544254\n",
      "###Split 3/4!\n",
      "Dropped 1145 rows in 2 cycles.\n",
      "50 cycles left.\n",
      "Dropped 1033 rows in 6 cycles.\n",
      "47 cycles left.\n",
      "mdt=40.53191489361702; med_dt=23.0; std=50.54448966346653\n",
      "###Split 4/4!\n",
      "Dropped 0 rows in 0 cycles.\n",
      "53 cycles left.\n",
      "Dropped 1017 rows in 8 cycles.\n",
      "41 cycles left.\n",
      "mdt=35.50406504065041; med_dt=19.0; std=36.954239772101666\n",
      "/home/nkuechen/Documents/Thesis/mlruns\n",
      "!! Creating new split...\n",
      "###Split 1/4!\n",
      "Dropped 40 rows in 1 cycles.\n",
      "37 cycles left.\n",
      "Dropped 784 rows in 8 cycles.\n",
      "40 cycles left.\n",
      "mdt=44.6; med_dt=21.5; std=49.92667957448536\n",
      "###Split 2/4!\n",
      "Dropped 160 rows in 2 cycles.\n",
      "56 cycles left.\n",
      "Dropped 1443 rows in 9 cycles.\n",
      "34 cycles left.\n",
      "mdt=29.245098039215687; med_dt=15.0; std=35.44491342541954\n",
      "###Split 3/4!\n",
      "Dropped 1122 rows in 3 cycles.\n",
      "36 cycles left.\n",
      "Dropped 1317 rows in 7 cycles.\n",
      "33 cycles left.\n",
      "mdt=47.55555555555556; med_dt=28.0; std=47.89218156436798\n",
      "###Split 4/4!\n",
      "Dropped 190 rows in 1 cycles.\n",
      "37 cycles left.\n",
      "Dropped 660 rows in 5 cycles.\n",
      "46 cycles left.\n",
      "mdt=33.666666666666664; med_dt=21.0; std=36.72406574483438\n",
      "/home/nkuechen/Documents/Thesis/mlruns\n",
      "!! Creating new split...\n",
      "###Split 1/4!\n",
      "Dropped 140 rows in 2 cycles.\n",
      "49 cycles left.\n",
      "Dropped 1571 rows in 10 cycles.\n",
      "38 cycles left.\n",
      "mdt=35.1578947368421; med_dt=17.5; std=39.51361722805266\n",
      "###Split 2/4!\n",
      "Dropped 3068 rows in 3 cycles.\n",
      "38 cycles left.\n",
      "Dropped 886 rows in 7 cycles.\n",
      "44 cycles left.\n",
      "mdt=34.166666666666664; med_dt=20.0; std=37.475682351049564\n",
      "###Split 3/4!\n",
      "Dropped 1509 rows in 3 cycles.\n",
      "44 cycles left.\n",
      "Dropped 984 rows in 6 cycles.\n",
      "30 cycles left.\n",
      "mdt=46.41111111111111; med_dt=28.0; std=51.88360786830556\n",
      "###Split 4/4!\n",
      "Dropped 872 rows in 1 cycles.\n",
      "47 cycles left.\n",
      "Dropped 603 rows in 5 cycles.\n",
      "41 cycles left.\n",
      "mdt=29.991869918699187; med_dt=20.0; std=26.050762183178872\n",
      "/home/nkuechen/Documents/Thesis/mlruns\n",
      "!! Creating new split...\n",
      "###Split 1/4!\n",
      "Dropped 321 rows in 1 cycles.\n",
      "53 cycles left.\n",
      "Dropped 1051 rows in 9 cycles.\n",
      "39 cycles left.\n",
      "mdt=29.4017094017094; med_dt=16.0; std=37.46452677278488\n",
      "###Split 2/4!\n",
      "Dropped 25 rows in 1 cycles.\n",
      "43 cycles left.\n",
      "Dropped 651 rows in 8 cycles.\n",
      "41 cycles left.\n",
      "mdt=44.357723577235774; med_dt=29.0; std=43.34004890076081\n",
      "###Split 3/4!\n",
      "Dropped 436 rows in 1 cycles.\n",
      "60 cycles left.\n",
      "Dropped 1683 rows in 7 cycles.\n",
      "34 cycles left.\n",
      "mdt=40.88235294117647; med_dt=20.0; std=53.064018701359\n",
      "###Split 4/4!\n",
      "Dropped 886 rows in 1 cycles.\n",
      "36 cycles left.\n",
      "Dropped 819 rows in 5 cycles.\n",
      "39 cycles left.\n",
      "mdt=41.034188034188034; med_dt=26.0; std=44.5860220371009\n",
      "/home/nkuechen/Documents/Thesis/mlruns\n",
      "!! Creating new split...\n",
      "###Split 1/4!\n",
      "Dropped 0 rows in 0 cycles.\n",
      "47 cycles left.\n",
      "Dropped 1102 rows in 8 cycles.\n",
      "41 cycles left.\n",
      "mdt=35.7479674796748; med_dt=19.0; std=39.455767865042\n",
      "###Split 2/4!\n",
      "Dropped 0 rows in 0 cycles.\n",
      "60 cycles left.\n",
      "Dropped 685 rows in 8 cycles.\n",
      "37 cycles left.\n",
      "mdt=39.55855855855856; med_dt=21.0; std=51.342988097218054\n",
      "###Split 3/4!\n",
      "Dropped 0 rows in 0 cycles.\n",
      "56 cycles left.\n",
      "Dropped 1415 rows in 6 cycles.\n",
      "36 cycles left.\n",
      "mdt=30.60185185185185; med_dt=15.0; std=34.914694936324025\n",
      "###Split 4/4!\n",
      "Dropped 1866 rows in 2 cycles.\n",
      "39 cycles left.\n",
      "Dropped 842 rows in 6 cycles.\n",
      "39 cycles left.\n",
      "mdt=43.05982905982906; med_dt=25.0; std=51.61333734049534\n",
      "/home/nkuechen/Documents/Thesis/mlruns\n",
      "!! Creating new split...\n",
      "###Split 1/4!\n",
      "Dropped 703 rows in 4 cycles.\n",
      "30 cycles left.\n",
      "Dropped 1621 rows in 9 cycles.\n",
      "36 cycles left.\n",
      "mdt=45.47222222222222; med_dt=27.0; std=45.816958354298315\n",
      "###Split 2/4!\n",
      "Dropped 156 rows in 3 cycles.\n",
      "39 cycles left.\n",
      "Dropped 426 rows in 3 cycles.\n",
      "38 cycles left.\n",
      "mdt=51.921052631578945; med_dt=28.5; std=51.7911027949447\n",
      "###Split 3/4!\n",
      "Dropped 470 rows in 1 cycles.\n",
      "42 cycles left.\n",
      "Dropped 1583 rows in 11 cycles.\n",
      "44 cycles left.\n",
      "mdt=34.015151515151516; med_dt=18.0; std=41.50465195695481\n",
      "###Split 4/4!\n",
      "Dropped 280 rows in 2 cycles.\n",
      "48 cycles left.\n",
      "Dropped 414 rows in 5 cycles.\n",
      "35 cycles left.\n",
      "mdt=49.50476190476191; med_dt=29.0; std=51.03595815641469\n",
      "/home/nkuechen/Documents/Thesis/mlruns\n",
      "!! Creating new split...\n",
      "###Split 1/4!\n",
      "Dropped 1290 rows in 2 cycles.\n",
      "37 cycles left.\n",
      "Dropped 385 rows in 4 cycles.\n",
      "47 cycles left.\n",
      "mdt=41.283687943262414; med_dt=21.0; std=51.81791993234953\n",
      "###Split 2/4!\n",
      "Dropped 0 rows in 0 cycles.\n",
      "48 cycles left.\n",
      "Dropped 1464 rows in 5 cycles.\n",
      "41 cycles left.\n",
      "mdt=31.528455284552845; med_dt=15.0; std=38.01611237426676\n",
      "###Split 3/4!\n",
      "Dropped 1920 rows in 4 cycles.\n",
      "42 cycles left.\n",
      "Dropped 1220 rows in 9 cycles.\n",
      "38 cycles left.\n",
      "mdt=50.05263157894737; med_dt=24.0; std=56.967340921542785\n",
      "###Split 4/4!\n",
      "Dropped 117 rows in 1 cycles.\n",
      "44 cycles left.\n",
      "Dropped 1135 rows in 11 cycles.\n",
      "27 cycles left.\n",
      "mdt=39.370370370370374; med_dt=31.0; std=30.53006793328462\n",
      "/home/nkuechen/Documents/Thesis/mlruns\n",
      "!! Creating new split...\n",
      "###Split 1/4!\n",
      "Dropped 0 rows in 0 cycles.\n",
      "47 cycles left.\n",
      "Dropped 916 rows in 8 cycles.\n",
      "39 cycles left.\n",
      "mdt=45.111111111111114; med_dt=20.0; std=55.97263949707666\n",
      "###Split 2/4!\n",
      "Dropped 0 rows in 0 cycles.\n",
      "46 cycles left.\n",
      "Dropped 1308 rows in 9 cycles.\n",
      "42 cycles left.\n",
      "mdt=32.007936507936506; med_dt=15.5; std=35.620685989255946\n",
      "###Split 3/4!\n",
      "Dropped 0 rows in 0 cycles.\n",
      "60 cycles left.\n",
      "Dropped 1528 rows in 7 cycles.\n",
      "41 cycles left.\n",
      "mdt=34.65040650406504; med_dt=15.0; std=47.246969832692336\n",
      "###Split 4/4!\n",
      "Dropped 2350 rows in 1 cycles.\n",
      "37 cycles left.\n",
      "Dropped 452 rows in 5 cycles.\n",
      "31 cycles left.\n",
      "mdt=53.376344086021504; med_dt=34.0; std=53.61389524161044\n",
      "/home/nkuechen/Documents/Thesis/mlruns\n",
      "!! Creating new split...\n",
      "###Split 1/4!\n",
      "Dropped 436 rows in 1 cycles.\n",
      "39 cycles left.\n",
      "Dropped 1914 rows in 12 cycles.\n",
      "40 cycles left.\n",
      "mdt=33.075; med_dt=13.0; std=45.92460533308915\n",
      "###Split 2/4!\n",
      "Dropped 0 rows in 0 cycles.\n",
      "56 cycles left.\n",
      "Dropped 823 rows in 4 cycles.\n",
      "42 cycles left.\n",
      "mdt=31.515873015873016; med_dt=14.5; std=38.4752516059688\n",
      "###Split 3/4!\n",
      "Dropped 43 rows in 1 cycles.\n",
      "46 cycles left.\n",
      "Dropped 687 rows in 2 cycles.\n",
      "34 cycles left.\n",
      "mdt=46.833333333333336; med_dt=32.0; std=44.00492025371649\n",
      "###Split 4/4!\n",
      "Dropped 0 rows in 0 cycles.\n",
      "54 cycles left.\n",
      "Dropped 620 rows in 10 cycles.\n",
      "37 cycles left.\n",
      "mdt=38.468468468468465; med_dt=20.0; std=45.972537791465726\n",
      "/home/nkuechen/Documents/Thesis/mlruns\n",
      "!! Creating new split...\n",
      "###Split 1/4!\n",
      "Dropped 1082 rows in 4 cycles.\n",
      "36 cycles left.\n",
      "Dropped 634 rows in 8 cycles.\n",
      "38 cycles left.\n",
      "mdt=41.666666666666664; med_dt=26.0; std=52.11469582054409\n",
      "###Split 2/4!\n",
      "Dropped 577 rows in 2 cycles.\n",
      "31 cycles left.\n",
      "Dropped 931 rows in 5 cycles.\n",
      "35 cycles left.\n",
      "mdt=39.714285714285715; med_dt=27.0; std=36.482928632891486\n",
      "###Split 3/4!\n",
      "Dropped 809 rows in 2 cycles.\n",
      "44 cycles left.\n",
      "Dropped 1558 rows in 9 cycles.\n",
      "39 cycles left.\n",
      "mdt=39.18803418803419; med_dt=23.0; std=50.52797001914129\n",
      "###Split 4/4!\n",
      "Dropped 67 rows in 1 cycles.\n",
      "35 cycles left.\n",
      "Dropped 1081 rows in 7 cycles.\n",
      "41 cycles left.\n",
      "mdt=35.8130081300813; med_dt=21.0; std=43.27870532783522\n",
      "/home/nkuechen/Documents/Thesis/mlruns\n",
      "!! Creating new split...\n",
      "###Split 1/4!\n",
      "Dropped 0 rows in 0 cycles.\n",
      "46 cycles left.\n",
      "Dropped 1130 rows in 7 cycles.\n",
      "34 cycles left.\n",
      "mdt=41.411764705882355; med_dt=27.0; std=45.164916312479356\n",
      "###Split 2/4!\n",
      "Dropped 53 rows in 1 cycles.\n",
      "46 cycles left.\n",
      "Dropped 1193 rows in 9 cycles.\n",
      "33 cycles left.\n",
      "mdt=39.2020202020202; med_dt=26.0; std=45.35226427320539\n",
      "###Split 3/4!\n",
      "Dropped 461 rows in 2 cycles.\n",
      "41 cycles left.\n",
      "Dropped 824 rows in 4 cycles.\n",
      "45 cycles left.\n",
      "mdt=41.022222222222226; med_dt=27.0; std=42.26748451130703\n",
      "###Split 4/4!\n",
      "Dropped 321 rows in 1 cycles.\n",
      "45 cycles left.\n",
      "Dropped 1057 rows in 9 cycles.\n",
      "41 cycles left.\n",
      "mdt=33.40650406504065; med_dt=17.0; std=39.383426293813336\n",
      "/home/nkuechen/Documents/Thesis/mlruns\n",
      "!! Creating new split...\n",
      "###Split 1/4!\n",
      "Dropped 0 rows in 0 cycles.\n",
      "41 cycles left.\n",
      "Dropped 1723 rows in 9 cycles.\n",
      "36 cycles left.\n",
      "mdt=42.416666666666664; med_dt=21.0; std=55.88730807351258\n",
      "###Split 2/4!\n",
      "Dropped 0 rows in 0 cycles.\n",
      "51 cycles left.\n",
      "Dropped 563 rows in 8 cycles.\n",
      "45 cycles left.\n",
      "mdt=33.992592592592594; med_dt=18.0; std=41.73629671699245\n",
      "###Split 3/4!\n",
      "Dropped 0 rows in 0 cycles.\n",
      "44 cycles left.\n",
      "Dropped 745 rows in 4 cycles.\n",
      "40 cycles left.\n",
      "mdt=39.09166666666667; med_dt=21.0; std=47.057056827028845\n",
      "###Split 4/4!\n",
      "Dropped 1860 rows in 3 cycles.\n",
      "64 cycles left.\n",
      "Dropped 1173 rows in 8 cycles.\n",
      "32 cycles left.\n",
      "mdt=35.322916666666664; med_dt=23.5; std=33.80966787019736\n",
      "/home/nkuechen/Documents/Thesis/mlruns\n",
      "!! Creating new split...\n",
      "###Split 1/4!\n",
      "Dropped 0 rows in 0 cycles.\n",
      "62 cycles left.\n",
      "Dropped 313 rows in 4 cycles.\n",
      "36 cycles left.\n",
      "mdt=39.129629629629626; med_dt=25.0; std=48.08867052847437\n",
      "###Split 2/4!\n",
      "Dropped 0 rows in 0 cycles.\n",
      "58 cycles left.\n",
      "Dropped 2082 rows in 12 cycles.\n",
      "47 cycles left.\n",
      "mdt=30.858156028368793; med_dt=17.0; std=33.54737976054688\n",
      "###Split 3/4!\n",
      "Dropped 25 rows in 1 cycles.\n",
      "43 cycles left.\n",
      "Dropped 729 rows in 7 cycles.\n",
      "40 cycles left.\n",
      "mdt=44.791666666666664; med_dt=24.0; std=55.09747360108467\n",
      "###Split 4/4!\n",
      "Dropped 0 rows in 0 cycles.\n",
      "54 cycles left.\n",
      "Dropped 1080 rows in 6 cycles.\n",
      "30 cycles left.\n",
      "mdt=44.55555555555556; med_dt=28.0; std=48.00002572015772\n",
      "/home/nkuechen/Documents/Thesis/mlruns\n",
      "!! Creating new split...\n",
      "###Split 1/4!\n",
      "Dropped 732 rows in 3 cycles.\n",
      "41 cycles left.\n",
      "Dropped 1552 rows in 5 cycles.\n",
      "36 cycles left.\n",
      "mdt=37.925925925925924; med_dt=19.0; std=46.74134970548893\n",
      "###Split 2/4!\n",
      "Dropped 370 rows in 3 cycles.\n",
      "30 cycles left.\n",
      "Dropped 949 rows in 11 cycles.\n",
      "37 cycles left.\n",
      "mdt=46.792792792792795; med_dt=27.0; std=50.27942052407073\n",
      "###Split 3/4!\n",
      "Dropped 806 rows in 4 cycles.\n",
      "42 cycles left.\n",
      "Dropped 1060 rows in 6 cycles.\n",
      "46 cycles left.\n",
      "mdt=29.702898550724637; med_dt=16.0; std=38.19503902460577\n",
      "###Split 4/4!\n",
      "Dropped 543 rows in 2 cycles.\n",
      "42 cycles left.\n",
      "Dropped 483 rows in 6 cycles.\n",
      "34 cycles left.\n",
      "mdt=45.588235294117645; med_dt=32.5; std=42.01688571421146\n",
      "/home/nkuechen/Documents/Thesis/mlruns\n",
      "!! Creating new split...\n",
      "###Split 1/4!\n",
      "Dropped 872 rows in 1 cycles.\n",
      "54 cycles left.\n",
      "Dropped 2194 rows in 12 cycles.\n",
      "35 cycles left.\n",
      "mdt=38.266666666666666; med_dt=27.0; std=35.554724196629806\n",
      "###Split 2/4!\n",
      "Dropped 0 rows in 0 cycles.\n",
      "49 cycles left.\n",
      "Dropped 268 rows in 4 cycles.\n",
      "39 cycles left.\n",
      "mdt=34.743589743589745; med_dt=28.0; std=27.68508927762961\n",
      "###Split 3/4!\n",
      "Dropped 0 rows in 0 cycles.\n",
      "45 cycles left.\n",
      "Dropped 844 rows in 5 cycles.\n",
      "46 cycles left.\n",
      "mdt=31.82608695652174; med_dt=19.5; std=34.986107603844715\n",
      "###Split 4/4!\n",
      "Dropped 1049 rows in 1 cycles.\n",
      "46 cycles left.\n",
      "Dropped 738 rows in 7 cycles.\n",
      "33 cycles left.\n",
      "mdt=43.484848484848484; med_dt=24.0; std=52.71025500367837\n",
      "/home/nkuechen/Documents/Thesis/mlruns\n",
      "!! Creating new split...\n",
      "###Split 1/4!\n",
      "Dropped 0 rows in 0 cycles.\n",
      "45 cycles left.\n",
      "Dropped 1304 rows in 6 cycles.\n",
      "30 cycles left.\n",
      "mdt=39.166666666666664; med_dt=27.0; std=34.86553535449521\n",
      "###Split 2/4!\n",
      "Dropped 1572 rows in 1 cycles.\n",
      "40 cycles left.\n",
      "Dropped 1069 rows in 7 cycles.\n",
      "58 cycles left.\n",
      "mdt=28.775862068965516; med_dt=20.0; std=28.230400445518093\n",
      "###Split 3/4!\n",
      "Dropped 107 rows in 1 cycles.\n",
      "65 cycles left.\n",
      "Dropped 1352 rows in 9 cycles.\n",
      "31 cycles left.\n",
      "mdt=44.01075268817204; med_dt=32.0; std=39.57584106759646\n",
      "###Split 4/4!\n",
      "Dropped 2922 rows in 3 cycles.\n",
      "47 cycles left.\n",
      "Dropped 479 rows in 7 cycles.\n",
      "34 cycles left.\n",
      "mdt=50.490196078431374; med_dt=26.0; std=63.00789634579413\n",
      "/home/nkuechen/Documents/Thesis/mlruns\n",
      "!! Creating new split...\n",
      "###Split 1/4!\n",
      "Dropped 0 rows in 0 cycles.\n",
      "51 cycles left.\n",
      "Dropped 1776 rows in 11 cycles.\n",
      "39 cycles left.\n",
      "mdt=38.78632478632478; med_dt=24.0; std=45.772165068301206\n",
      "###Split 2/4!\n",
      "Dropped 0 rows in 0 cycles.\n",
      "56 cycles left.\n",
      "Dropped 458 rows in 6 cycles.\n",
      "33 cycles left.\n",
      "mdt=43.06060606060606; med_dt=27.0; std=47.11469310844971\n",
      "###Split 3/4!\n",
      "Dropped 0 rows in 0 cycles.\n",
      "51 cycles left.\n",
      "Dropped 367 rows in 3 cycles.\n",
      "47 cycles left.\n",
      "mdt=30.26241134751773; med_dt=21.0; std=30.957221774587687\n",
      "###Split 4/4!\n",
      "Dropped 0 rows in 0 cycles.\n",
      "45 cycles left.\n",
      "Dropped 1603 rows in 9 cycles.\n",
      "34 cycles left.\n",
      "mdt=32.98039215686274; med_dt=21.0; std=33.3801574239867\n",
      "/home/nkuechen/Documents/Thesis/mlruns\n",
      "!! Creating new split...\n",
      "###Split 1/4!\n",
      "Dropped 980 rows in 6 cycles.\n",
      "84 cycles left.\n",
      "Dropped 997 rows in 9 cycles.\n",
      "28 cycles left.\n",
      "mdt=51.035714285714285; med_dt=35.5; std=49.127735941884296\n",
      "###Split 2/4!\n",
      "Dropped 438 rows in 3 cycles.\n",
      "88 cycles left.\n",
      "Dropped 401 rows in 5 cycles.\n",
      "39 cycles left.\n",
      "mdt=39.93162393162393; med_dt=19.0; std=49.190146761200936\n",
      "###Split 3/4!\n",
      "Dropped 404 rows in 6 cycles.\n",
      "76 cycles left.\n",
      "Dropped 2118 rows in 12 cycles.\n",
      "38 cycles left.\n",
      "mdt=52.19298245614035; med_dt=34.0; std=49.97014498028366\n",
      "###Split 4/4!\n",
      "Dropped 1520 rows in 5 cycles.\n",
      "80 cycles left.\n",
      "Dropped 688 rows in 3 cycles.\n",
      "48 cycles left.\n",
      "mdt=38.076388888888886; med_dt=22.0; std=42.535455775987494\n",
      "/home/nkuechen/Documents/Thesis/mlruns\n",
      "!! Creating new split...\n",
      "###Split 1/4!\n",
      "Dropped 0 rows in 0 cycles.\n",
      "89 cycles left.\n",
      "Dropped 695 rows in 7 cycles.\n",
      "38 cycles left.\n",
      "mdt=36.85964912280702; med_dt=19.0; std=42.17671203962415\n",
      "###Split 2/4!\n",
      "Dropped 393 rows in 1 cycles.\n",
      "105 cycles left.\n",
      "Dropped 361 rows in 5 cycles.\n",
      "36 cycles left.\n",
      "mdt=41.5462962962963; med_dt=22.5; std=46.290624652590544\n",
      "###Split 3/4!\n",
      "Dropped 1002 rows in 3 cycles.\n",
      "85 cycles left.\n",
      "Dropped 1678 rows in 7 cycles.\n",
      "40 cycles left.\n",
      "mdt=47.59166666666667; med_dt=19.0; std=57.381544047038524\n",
      "###Split 4/4!\n",
      "Dropped 1502 rows in 2 cycles.\n",
      "102 cycles left.\n",
      "Dropped 1470 rows in 10 cycles.\n",
      "39 cycles left.\n",
      "mdt=35.666666666666664; med_dt=20.0; std=39.42622668259481\n",
      "/home/nkuechen/Documents/Thesis/mlruns\n",
      "!! Creating new split...\n",
      "###Split 1/4!\n",
      "Dropped 67 rows in 1 cycles.\n",
      "101 cycles left.\n",
      "Dropped 1096 rows in 8 cycles.\n",
      "39 cycles left.\n",
      "mdt=41.888888888888886; med_dt=18.0; std=50.32794635424257\n",
      "###Split 2/4!\n",
      "Dropped 0 rows in 0 cycles.\n",
      "91 cycles left.\n",
      "Dropped 361 rows in 4 cycles.\n",
      "36 cycles left.\n",
      "mdt=38.76851851851852; med_dt=24.5; std=40.20954522790381\n",
      "###Split 3/4!\n",
      "Dropped 786 rows in 1 cycles.\n",
      "87 cycles left.\n",
      "Dropped 1701 rows in 10 cycles.\n",
      "35 cycles left.\n",
      "mdt=34.00952380952381; med_dt=17.0; std=36.42827139621231\n",
      "###Split 4/4!\n",
      "Dropped 0 rows in 0 cycles.\n",
      "88 cycles left.\n",
      "Dropped 886 rows in 6 cycles.\n",
      "43 cycles left.\n",
      "mdt=39.10077519379845; med_dt=19.0; std=46.5875594668093\n",
      "/home/nkuechen/Documents/Thesis/mlruns\n",
      "!! Creating new split...\n",
      "###Split 1/4!\n",
      "Dropped 0 rows in 0 cycles.\n",
      "88 cycles left.\n",
      "Dropped 1202 rows in 5 cycles.\n",
      "43 cycles left.\n",
      "mdt=29.271317829457363; med_dt=12.0; std=44.48268575942613\n",
      "###Split 2/4!\n",
      "Dropped 0 rows in 0 cycles.\n",
      "85 cycles left.\n",
      "Dropped 828 rows in 9 cycles.\n",
      "42 cycles left.\n",
      "mdt=36.57142857142857; med_dt=18.0; std=41.574073989902814\n",
      "###Split 3/4!\n",
      "Dropped 0 rows in 0 cycles.\n",
      "102 cycles left.\n",
      "Dropped 1397 rows in 7 cycles.\n",
      "35 cycles left.\n",
      "mdt=44.93333333333333; med_dt=27.0; std=43.95891299550105\n",
      "###Split 4/4!\n",
      "Dropped 0 rows in 0 cycles.\n",
      "102 cycles left.\n",
      "Dropped 777 rows in 8 cycles.\n",
      "33 cycles left.\n",
      "mdt=42.484848484848484; med_dt=22.0; std=48.43831099916461\n",
      "/home/nkuechen/Documents/Thesis/mlruns\n",
      "!! Creating new split...\n",
      "###Split 1/4!\n",
      "Dropped 584 rows in 3 cycles.\n",
      "76 cycles left.\n",
      "Dropped 737 rows in 3 cycles.\n",
      "43 cycles left.\n",
      "mdt=40.651162790697676; med_dt=22.0; std=51.49481063081728\n",
      "###Split 2/4!\n",
      "Dropped 1742 rows in 6 cycles.\n",
      "73 cycles left.\n",
      "Dropped 1162 rows in 10 cycles.\n",
      "35 cycles left.\n",
      "mdt=46.0; med_dt=28.0; std=53.92216612859687\n",
      "###Split 3/4!\n",
      "Dropped 1367 rows in 7 cycles.\n",
      "70 cycles left.\n",
      "Dropped 1142 rows in 7 cycles.\n",
      "38 cycles left.\n",
      "mdt=43.780701754385966; med_dt=26.0; std=43.55995238908234\n",
      "###Split 4/4!\n",
      "Dropped 1172 rows in 3 cycles.\n",
      "85 cycles left.\n",
      "Dropped 1163 rows in 9 cycles.\n",
      "37 cycles left.\n",
      "mdt=39.37837837837838; med_dt=26.0; std=37.10832791940304\n",
      "/home/nkuechen/Documents/Thesis/mlruns\n",
      "!! Creating new split...\n",
      "###Split 1/4!\n",
      "Dropped 49 rows in 1 cycles.\n",
      "85 cycles left.\n",
      "Dropped 1161 rows in 7 cycles.\n",
      "37 cycles left.\n",
      "mdt=38.63963963963964; med_dt=27.0; std=41.87729669222357\n",
      "###Split 2/4!\n",
      "Dropped 0 rows in 0 cycles.\n",
      "86 cycles left.\n",
      "Dropped 788 rows in 4 cycles.\n",
      "36 cycles left.\n",
      "mdt=42.074074074074076; med_dt=22.5; std=46.95460844019776\n",
      "###Split 3/4!\n",
      "Dropped 338 rows in 2 cycles.\n",
      "69 cycles left.\n",
      "Dropped 876 rows in 8 cycles.\n",
      "53 cycles left.\n",
      "mdt=36.132075471698116; med_dt=18.0; std=47.359339990878915\n",
      "###Split 4/4!\n",
      "Dropped 0 rows in 0 cycles.\n",
      "96 cycles left.\n",
      "Dropped 1379 rows in 10 cycles.\n",
      "27 cycles left.\n",
      "mdt=47.27160493827161; med_dt=27.0; std=49.755950657376\n",
      "/home/nkuechen/Documents/Thesis/mlruns\n",
      "!! Creating new split...\n",
      "###Split 1/4!\n",
      "Dropped 1880 rows in 2 cycles.\n",
      "101 cycles left.\n",
      "Dropped 838 rows in 4 cycles.\n",
      "29 cycles left.\n",
      "mdt=46.10344827586207; med_dt=28.0; std=56.1328544119327\n",
      "###Split 2/4!\n",
      "Dropped 0 rows in 0 cycles.\n",
      "91 cycles left.\n",
      "Dropped 873 rows in 4 cycles.\n",
      "43 cycles left.\n",
      "mdt=31.88372093023256; med_dt=16.0; std=37.81259949710311\n",
      "###Split 3/4!\n",
      "Dropped 169 rows in 1 cycles.\n",
      "87 cycles left.\n",
      "Dropped 1292 rows in 14 cycles.\n",
      "48 cycles left.\n",
      "mdt=35.208333333333336; med_dt=22.0; std=40.32091320477088\n",
      "###Split 4/4!\n",
      "Dropped 0 rows in 0 cycles.\n",
      "94 cycles left.\n",
      "Dropped 1201 rows in 7 cycles.\n",
      "33 cycles left.\n",
      "mdt=43.76767676767677; med_dt=24.0; std=51.18452028518793\n",
      "/home/nkuechen/Documents/Thesis/mlruns\n",
      "!! Creating new split...\n",
      "###Split 1/4!\n",
      "Dropped 0 rows in 0 cycles.\n",
      "109 cycles left.\n",
      "Dropped 481 rows in 4 cycles.\n",
      "36 cycles left.\n",
      "mdt=36.21296296296296; med_dt=24.0; std=34.65385738935265\n",
      "###Split 2/4!\n",
      "Dropped 0 rows in 0 cycles.\n",
      "97 cycles left.\n",
      "Dropped 532 rows in 5 cycles.\n",
      "39 cycles left.\n",
      "mdt=40.957264957264954; med_dt=21.0; std=52.164171016308565\n",
      "###Split 3/4!\n",
      "Dropped 0 rows in 0 cycles.\n",
      "98 cycles left.\n",
      "Dropped 2278 rows in 12 cycles.\n",
      "31 cycles left.\n",
      "mdt=46.666666666666664; med_dt=27.0; std=49.02716677962613\n",
      "###Split 4/4!\n",
      "Dropped 0 rows in 0 cycles.\n",
      "84 cycles left.\n",
      "Dropped 753 rows in 7 cycles.\n",
      "47 cycles left.\n",
      "mdt=31.70212765957447; med_dt=19.0; std=37.86458602580634\n",
      "/home/nkuechen/Documents/Thesis/mlruns\n",
      "!! Creating new split...\n",
      "###Split 1/4!\n",
      "Dropped 1343 rows in 3 cycles.\n",
      "75 cycles left.\n",
      "Dropped 600 rows in 7 cycles.\n",
      "39 cycles left.\n",
      "mdt=38.34188034188034; med_dt=22.0; std=37.73075156365602\n",
      "###Split 2/4!\n",
      "Dropped 1319 rows in 4 cycles.\n",
      "75 cycles left.\n",
      "Dropped 1100 rows in 8 cycles.\n",
      "43 cycles left.\n",
      "mdt=41.736434108527135; med_dt=28.0; std=41.61069469338157\n",
      "###Split 3/4!\n",
      "Dropped 177 rows in 1 cycles.\n",
      "88 cycles left.\n",
      "Dropped 1724 rows in 7 cycles.\n",
      "32 cycles left.\n",
      "mdt=43.458333333333336; med_dt=27.5; std=44.00660856305814\n",
      "###Split 4/4!\n",
      "Dropped 1181 rows in 6 cycles.\n",
      "81 cycles left.\n",
      "Dropped 780 rows in 7 cycles.\n",
      "39 cycles left.\n",
      "mdt=37.042735042735046; med_dt=22.0; std=42.87237932234293\n",
      "/home/nkuechen/Documents/Thesis/mlruns\n",
      "!! Creating new split...\n",
      "###Split 1/4!\n",
      "Dropped 0 rows in 0 cycles.\n",
      "88 cycles left.\n",
      "Dropped 849 rows in 8 cycles.\n",
      "28 cycles left.\n",
      "mdt=44.86904761904762; med_dt=32.0; std=40.172479255942875\n",
      "###Split 2/4!\n",
      "Dropped 0 rows in 0 cycles.\n",
      "103 cycles left.\n",
      "Dropped 773 rows in 6 cycles.\n",
      "32 cycles left.\n",
      "mdt=53.46875; med_dt=35.5; std=50.27610290622673\n",
      "###Split 3/4!\n",
      "Dropped 0 rows in 0 cycles.\n",
      "99 cycles left.\n",
      "Dropped 1968 rows in 11 cycles.\n",
      "41 cycles left.\n",
      "mdt=32.829268292682926; med_dt=21.0; std=35.84785086528517\n",
      "###Split 4/4!\n",
      "Dropped 0 rows in 0 cycles.\n",
      "86 cycles left.\n",
      "Dropped 614 rows in 4 cycles.\n",
      "52 cycles left.\n",
      "mdt=25.48076923076923; med_dt=19.0; std=25.189148852652895\n",
      "/home/nkuechen/Documents/Thesis/mlruns\n",
      "!! Creating new split...\n",
      "###Split 1/4!\n",
      "Dropped 0 rows in 0 cycles.\n",
      "99 cycles left.\n",
      "Dropped 967 rows in 7 cycles.\n",
      "33 cycles left.\n",
      "mdt=43.80808080808081; med_dt=36.0; std=33.37956695728835\n",
      "###Split 2/4!\n",
      "Dropped 0 rows in 0 cycles.\n",
      "79 cycles left.\n",
      "Dropped 874 rows in 5 cycles.\n",
      "44 cycles left.\n",
      "mdt=30.25; med_dt=18.0; std=31.510550181284884\n",
      "###Split 3/4!\n",
      "Dropped 107 rows in 1 cycles.\n",
      "91 cycles left.\n",
      "Dropped 1417 rows in 10 cycles.\n",
      "37 cycles left.\n",
      "mdt=44.14414414414414; med_dt=27.0; std=46.44726678541029\n",
      "###Split 4/4!\n",
      "Dropped 0 rows in 0 cycles.\n",
      "95 cycles left.\n",
      "Dropped 946 rows in 7 cycles.\n",
      "39 cycles left.\n",
      "mdt=43.324786324786324; med_dt=21.0; std=50.434323724718745\n",
      "/home/nkuechen/Documents/Thesis/mlruns\n",
      "!! Creating new split...\n",
      "###Split 1/4!\n",
      "Dropped 0 rows in 0 cycles.\n",
      "96 cycles left.\n",
      "Dropped 833 rows in 4 cycles.\n",
      "46 cycles left.\n",
      "mdt=40.57971014492754; med_dt=20.0; std=54.767203186245695\n",
      "###Split 2/4!\n",
      "Dropped 0 rows in 0 cycles.\n",
      "92 cycles left.\n",
      "Dropped 1193 rows in 5 cycles.\n",
      "27 cycles left.\n",
      "mdt=44.27160493827161; med_dt=32.0; std=33.14651811059907\n",
      "###Split 3/4!\n",
      "Dropped 0 rows in 0 cycles.\n",
      "93 cycles left.\n",
      "Dropped 897 rows in 8 cycles.\n",
      "42 cycles left.\n",
      "mdt=35.92063492063492; med_dt=22.5; std=36.12227980083171\n",
      "###Split 4/4!\n",
      "Dropped 25 rows in 1 cycles.\n",
      "91 cycles left.\n",
      "Dropped 1281 rows in 12 cycles.\n",
      "38 cycles left.\n",
      "mdt=37.40350877192982; med_dt=24.0; std=43.636601267109015\n",
      "/home/nkuechen/Documents/Thesis/mlruns\n",
      "!! Creating new split...\n",
      "###Split 1/4!\n",
      "Dropped 1511 rows in 5 cycles.\n",
      "91 cycles left.\n",
      "Dropped 1361 rows in 11 cycles.\n",
      "38 cycles left.\n",
      "mdt=43.71052631578947; med_dt=28.0; std=42.16836006950071\n",
      "###Split 2/4!\n",
      "Dropped 1259 rows in 8 cycles.\n",
      "76 cycles left.\n",
      "Dropped 345 rows in 4 cycles.\n",
      "40 cycles left.\n",
      "mdt=50.275; med_dt=33.0; std=49.75740522776484\n",
      "###Split 3/4!\n",
      "Dropped 841 rows in 3 cycles.\n",
      "75 cycles left.\n",
      "Dropped 1096 rows in 8 cycles.\n",
      "49 cycles left.\n",
      "mdt=40.50340136054422; med_dt=20.0; std=54.25392228833637\n",
      "###Split 4/4!\n",
      "Dropped 989 rows in 3 cycles.\n",
      "90 cycles left.\n",
      "Dropped 1402 rows in 6 cycles.\n",
      "26 cycles left.\n",
      "mdt=37.166666666666664; med_dt=21.0; std=40.24298526759494\n",
      "/home/nkuechen/Documents/Thesis/mlruns\n",
      "!! Creating new split...\n",
      "###Split 1/4!\n",
      "Dropped 1036 rows in 2 cycles.\n",
      "90 cycles left.\n",
      "Dropped 1009 rows in 11 cycles.\n",
      "44 cycles left.\n",
      "mdt=27.704545454545453; med_dt=13.5; std=37.04639569356644\n",
      "###Split 2/4!\n",
      "Dropped 176 rows in 1 cycles.\n",
      "92 cycles left.\n",
      "Dropped 958 rows in 4 cycles.\n",
      "36 cycles left.\n",
      "mdt=44.02777777777778; med_dt=26.5; std=45.961428743009776\n",
      "###Split 3/4!\n",
      "Dropped 0 rows in 0 cycles.\n",
      "88 cycles left.\n",
      "Dropped 1223 rows in 8 cycles.\n",
      "30 cycles left.\n",
      "mdt=58.31111111111111; med_dt=42.0; std=59.74141397062742\n",
      "###Split 4/4!\n",
      "Dropped 37 rows in 1 cycles.\n",
      "98 cycles left.\n",
      "Dropped 1014 rows in 6 cycles.\n",
      "43 cycles left.\n",
      "mdt=38.24031007751938; med_dt=20.0; std=43.5398374464707\n",
      "/home/nkuechen/Documents/Thesis/mlruns\n",
      "!! Creating new split...\n",
      "###Split 1/4!\n",
      "Dropped 0 rows in 0 cycles.\n",
      "85 cycles left.\n",
      "Dropped 569 rows in 5 cycles.\n",
      "36 cycles left.\n",
      "mdt=45.4537037037037; med_dt=22.0; std=54.31601364362477\n",
      "###Split 2/4!\n",
      "Dropped 0 rows in 0 cycles.\n",
      "88 cycles left.\n",
      "Dropped 1301 rows in 10 cycles.\n",
      "38 cycles left.\n",
      "mdt=41.86842105263158; med_dt=23.0; std=47.71011021581454\n",
      "###Split 3/4!\n",
      "Dropped 0 rows in 0 cycles.\n",
      "104 cycles left.\n",
      "Dropped 936 rows in 3 cycles.\n",
      "39 cycles left.\n",
      "mdt=27.05982905982906; med_dt=13.0; std=28.24988937223346\n",
      "###Split 4/4!\n",
      "Dropped 52 rows in 1 cycles.\n",
      "100 cycles left.\n",
      "Dropped 1238 rows in 10 cycles.\n",
      "40 cycles left.\n",
      "mdt=39.69166666666667; med_dt=19.0; std=49.572975808958205\n",
      "/home/nkuechen/Documents/Thesis/mlruns\n",
      "!! Creating new split...\n",
      "###Split 1/4!\n",
      "Dropped 0 rows in 0 cycles.\n",
      "103 cycles left.\n",
      "Dropped 929 rows in 6 cycles.\n",
      "37 cycles left.\n",
      "mdt=29.486486486486488; med_dt=12.0; std=43.73772463358938\n",
      "###Split 2/4!\n",
      "Dropped 0 rows in 0 cycles.\n",
      "93 cycles left.\n",
      "Dropped 1197 rows in 11 cycles.\n",
      "34 cycles left.\n",
      "mdt=55.754901960784316; med_dt=34.0; std=55.7391396745326\n",
      "###Split 3/4!\n",
      "Dropped 0 rows in 0 cycles.\n",
      "90 cycles left.\n",
      "Dropped 532 rows in 2 cycles.\n",
      "50 cycles left.\n",
      "mdt=31.773333333333333; med_dt=12.0; std=41.917720463890795\n",
      "###Split 4/4!\n",
      "Dropped 836 rows in 1 cycles.\n",
      "100 cycles left.\n",
      "Dropped 1546 rows in 10 cycles.\n",
      "32 cycles left.\n",
      "mdt=39.34375; med_dt=22.5; std=40.876803763717874\n",
      "/home/nkuechen/Documents/Thesis/mlruns\n",
      "!! Creating new split...\n",
      "###Split 1/4!\n",
      "Dropped 1038 rows in 4 cycles.\n",
      "74 cycles left.\n",
      "Dropped 2097 rows in 12 cycles.\n",
      "43 cycles left.\n",
      "mdt=41.75968992248062; med_dt=26.0; std=49.744895759941215\n",
      "###Split 2/4!\n",
      "Dropped 1036 rows in 5 cycles.\n",
      "84 cycles left.\n",
      "Dropped 350 rows in 4 cycles.\n",
      "40 cycles left.\n",
      "mdt=41.61666666666667; med_dt=23.0; std=51.25706184409021\n",
      "###Split 3/4!\n",
      "Dropped 2281 rows in 8 cycles.\n",
      "77 cycles left.\n",
      "Dropped 912 rows in 8 cycles.\n",
      "41 cycles left.\n",
      "mdt=42.03252032520325; med_dt=26.0; std=44.64656779192753\n",
      "###Split 4/4!\n",
      "Dropped 1637 rows in 7 cycles.\n",
      "84 cycles left.\n",
      "Dropped 845 rows in 5 cycles.\n",
      "29 cycles left.\n",
      "mdt=48.04597701149425; med_dt=26.0; std=54.58683013370027\n",
      "/home/nkuechen/Documents/Thesis/mlruns\n",
      "!! Creating new split...\n",
      "###Split 1/4!\n",
      "Dropped 0 rows in 0 cycles.\n",
      "86 cycles left.\n",
      "Dropped 1028 rows in 4 cycles.\n",
      "50 cycles left.\n",
      "mdt=33.49333333333333; med_dt=20.5; std=34.9469591746629\n",
      "###Split 2/4!\n",
      "Dropped 0 rows in 0 cycles.\n",
      "96 cycles left.\n",
      "Dropped 1821 rows in 12 cycles.\n",
      "34 cycles left.\n",
      "mdt=48.931372549019606; med_dt=27.5; std=57.25626257448579\n",
      "###Split 3/4!\n",
      "Dropped 1002 rows in 3 cycles.\n",
      "87 cycles left.\n",
      "Dropped 729 rows in 8 cycles.\n",
      "40 cycles left.\n",
      "mdt=40.21666666666667; med_dt=24.0; std=45.602299527789405\n",
      "###Split 4/4!\n",
      "Dropped 399 rows in 2 cycles.\n",
      "97 cycles left.\n",
      "Dropped 626 rows in 5 cycles.\n",
      "29 cycles left.\n",
      "mdt=46.14942528735632; med_dt=28.0; std=46.09797879620095\n",
      "/home/nkuechen/Documents/Thesis/mlruns\n",
      "!! Creating new split...\n",
      "###Split 1/4!\n",
      "Dropped 0 rows in 0 cycles.\n",
      "92 cycles left.\n",
      "Dropped 840 rows in 7 cycles.\n",
      "41 cycles left.\n",
      "mdt=43.02439024390244; med_dt=27.0; std=49.14165080805073\n",
      "###Split 2/4!\n",
      "Dropped 296 rows in 1 cycles.\n",
      "95 cycles left.\n",
      "Dropped 1075 rows in 7 cycles.\n",
      "37 cycles left.\n",
      "mdt=46.909909909909906; med_dt=25.0; std=57.44869227524702\n",
      "###Split 3/4!\n",
      "Dropped 40 rows in 1 cycles.\n",
      "85 cycles left.\n",
      "Dropped 1306 rows in 8 cycles.\n",
      "34 cycles left.\n",
      "mdt=41.59803921568628; med_dt=26.5; std=45.11624632468702\n",
      "###Split 4/4!\n",
      "Dropped 40 rows in 1 cycles.\n",
      "94 cycles left.\n",
      "Dropped 983 rows in 7 cycles.\n",
      "41 cycles left.\n",
      "mdt=27.86178861788618; med_dt=19.0; std=30.807908709895724\n",
      "/home/nkuechen/Documents/Thesis/mlruns\n",
      "!! Creating new split...\n",
      "###Split 1/4!\n",
      "Dropped 0 rows in 0 cycles.\n",
      "92 cycles left.\n",
      "Dropped 1065 rows in 9 cycles.\n",
      "48 cycles left.\n",
      "mdt=38.875; med_dt=17.0; std=58.43323291016281\n",
      "###Split 2/4!\n",
      "Dropped 0 rows in 0 cycles.\n",
      "99 cycles left.\n",
      "Dropped 1249 rows in 8 cycles.\n",
      "34 cycles left.\n",
      "mdt=31.784313725490197; med_dt=19.5; std=33.93177337152997\n",
      "###Split 3/4!\n",
      "Dropped 0 rows in 0 cycles.\n",
      "86 cycles left.\n",
      "Dropped 628 rows in 3 cycles.\n",
      "38 cycles left.\n",
      "mdt=42.1578947368421; med_dt=29.0; std=37.100995150829874\n",
      "###Split 4/4!\n",
      "Dropped 321 rows in 1 cycles.\n",
      "100 cycles left.\n",
      "Dropped 1262 rows in 9 cycles.\n",
      "33 cycles left.\n",
      "mdt=39.494949494949495; med_dt=23.0; std=44.74718516904728\n",
      "/home/nkuechen/Documents/Thesis/mlruns\n",
      "!! Creating new split...\n",
      "###Split 1/4!\n",
      "Dropped 470 rows in 1 cycles.\n",
      "79 cycles left.\n",
      "Dropped 310 rows in 4 cycles.\n",
      "39 cycles left.\n",
      "mdt=39.97435897435897; med_dt=25.0; std=44.640532258426106\n",
      "###Split 2/4!\n",
      "Dropped 1428 rows in 7 cycles.\n",
      "68 cycles left.\n",
      "Dropped 450 rows in 6 cycles.\n",
      "50 cycles left.\n",
      "mdt=34.74666666666667; med_dt=17.0; std=47.92802752275773\n",
      "###Split 3/4!\n",
      "Dropped 1340 rows in 6 cycles.\n",
      "81 cycles left.\n",
      "Dropped 1303 rows in 11 cycles.\n",
      "37 cycles left.\n",
      "mdt=42.027027027027025; med_dt=28.0; std=40.166872518509436\n",
      "###Split 4/4!\n",
      "Dropped 250 rows in 4 cycles.\n",
      "84 cycles left.\n",
      "Dropped 2141 rows in 8 cycles.\n",
      "27 cycles left.\n",
      "mdt=49.148148148148145; med_dt=33.0; std=45.17103603605572\n",
      "/home/nkuechen/Documents/Thesis/mlruns\n",
      "!! Creating new split...\n",
      "###Split 1/4!\n",
      "Dropped 25 rows in 1 cycles.\n",
      "87 cycles left.\n",
      "Dropped 869 rows in 10 cycles.\n",
      "38 cycles left.\n",
      "mdt=38.12280701754386; med_dt=23.0; std=39.5738572999188\n",
      "###Split 2/4!\n",
      "Dropped 118 rows in 2 cycles.\n",
      "86 cycles left.\n",
      "Dropped 692 rows in 3 cycles.\n",
      "49 cycles left.\n",
      "mdt=39.17006802721088; med_dt=22.0; std=50.798437780582915\n",
      "###Split 3/4!\n",
      "Dropped 718 rows in 2 cycles.\n",
      "82 cycles left.\n",
      "Dropped 771 rows in 7 cycles.\n",
      "41 cycles left.\n",
      "mdt=38.60162601626016; med_dt=21.0; std=46.11187171220906\n",
      "###Split 4/4!\n",
      "Dropped 0 rows in 0 cycles.\n",
      "101 cycles left.\n",
      "Dropped 1872 rows in 9 cycles.\n",
      "25 cycles left.\n",
      "mdt=51.08; med_dt=33.0; std=47.80258291487327\n",
      "/home/nkuechen/Documents/Thesis/mlruns\n",
      "!! Creating new split...\n",
      "###Split 1/4!\n",
      "Dropped 98 rows in 1 cycles.\n",
      "77 cycles left.\n",
      "Dropped 270 rows in 2 cycles.\n",
      "58 cycles left.\n",
      "mdt=34.13793103448276; med_dt=22.0; std=36.906739382006315\n",
      "###Split 2/4!\n",
      "Dropped 1179 rows in 1 cycles.\n",
      "95 cycles left.\n",
      "Dropped 2029 rows in 11 cycles.\n",
      "32 cycles left.\n",
      "mdt=47.895833333333336; med_dt=23.5; std=62.81445546983768\n",
      "###Split 3/4!\n",
      "Dropped 0 rows in 0 cycles.\n",
      "87 cycles left.\n",
      "Dropped 804 rows in 8 cycles.\n",
      "36 cycles left.\n",
      "mdt=39.138888888888886; med_dt=23.5; std=38.08797281084287\n",
      "###Split 4/4!\n",
      "Dropped 0 rows in 0 cycles.\n",
      "96 cycles left.\n",
      "Dropped 941 rows in 7 cycles.\n",
      "27 cycles left.\n",
      "mdt=53.407407407407405; med_dt=40.0; std=53.73432077435178\n",
      "/home/nkuechen/Documents/Thesis/mlruns\n",
      "!! Creating new split...\n",
      "###Split 1/4!\n",
      "Dropped 0 rows in 0 cycles.\n",
      "94 cycles left.\n",
      "Dropped 616 rows in 2 cycles.\n",
      "32 cycles left.\n",
      "mdt=42.708333333333336; med_dt=27.0; std=46.680857217445734\n",
      "###Split 2/4!\n",
      "Dropped 0 rows in 0 cycles.\n",
      "102 cycles left.\n",
      "Dropped 1204 rows in 8 cycles.\n",
      "45 cycles left.\n",
      "mdt=35.74814814814815; med_dt=23.0; std=34.92907491400857\n",
      "###Split 3/4!\n",
      "Dropped 0 rows in 0 cycles.\n",
      "96 cycles left.\n",
      "Dropped 1484 rows in 12 cycles.\n",
      "45 cycles left.\n",
      "mdt=26.08888888888889; med_dt=15.0; std=31.547135026735184\n",
      "###Split 4/4!\n",
      "Dropped 0 rows in 0 cycles.\n",
      "98 cycles left.\n",
      "Dropped 900 rows in 7 cycles.\n",
      "31 cycles left.\n",
      "mdt=58.61290322580645; med_dt=39.0; std=53.34328514504805\n",
      "/home/nkuechen/Documents/Thesis/mlruns\n",
      "!! Creating new split...\n",
      "###Split 1/4!\n",
      "Dropped 1016 rows in 4 cycles.\n",
      "77 cycles left.\n",
      "Dropped 1264 rows in 9 cycles.\n",
      "37 cycles left.\n",
      "mdt=48.67567567567568; med_dt=22.0; std=60.82735310536473\n",
      "###Split 2/4!\n",
      "Dropped 2451 rows in 10 cycles.\n",
      "74 cycles left.\n",
      "Dropped 925 rows in 8 cycles.\n",
      "39 cycles left.\n",
      "mdt=44.47008547008547; med_dt=30.0; std=38.08236073483357\n",
      "###Split 3/4!\n",
      "Dropped 3111 rows in 9 cycles.\n",
      "74 cycles left.\n",
      "Dropped 410 rows in 6 cycles.\n",
      "37 cycles left.\n",
      "mdt=45.88288288288288; med_dt=26.0; std=45.84732570796109\n",
      "###Split 4/4!\n",
      "Dropped 2289 rows in 7 cycles.\n",
      "77 cycles left.\n",
      "Dropped 1605 rows in 6 cycles.\n",
      "40 cycles left.\n",
      "mdt=37.925; med_dt=22.5; std=43.143010731751204\n",
      "/home/nkuechen/Documents/Thesis/mlruns\n",
      "!! Creating new split...\n",
      "###Split 1/4!\n",
      "Dropped 0 rows in 0 cycles.\n",
      "97 cycles left.\n",
      "Dropped 1165 rows in 5 cycles.\n",
      "29 cycles left.\n",
      "mdt=49.88505747126437; med_dt=17.0; std=63.79680842508176\n",
      "###Split 2/4!\n",
      "Dropped 132 rows in 2 cycles.\n",
      "90 cycles left.\n",
      "Dropped 1574 rows in 10 cycles.\n",
      "40 cycles left.\n",
      "mdt=31.958333333333332; med_dt=16.0; std=37.54983263019365\n",
      "###Split 3/4!\n",
      "Dropped 0 rows in 0 cycles.\n",
      "93 cycles left.\n",
      "Dropped 1039 rows in 9 cycles.\n",
      "43 cycles left.\n",
      "mdt=39.06976744186046; med_dt=17.0; std=51.835486041168856\n",
      "###Split 4/4!\n",
      "Dropped 287 rows in 1 cycles.\n",
      "95 cycles left.\n",
      "Dropped 266 rows in 4 cycles.\n",
      "41 cycles left.\n",
      "mdt=41.6910569105691; med_dt=28.0; std=37.45981697100009\n",
      "/home/nkuechen/Documents/Thesis/mlruns\n",
      "!! Creating new split...\n",
      "###Split 1/4!\n",
      "Dropped 118 rows in 2 cycles.\n",
      "84 cycles left.\n",
      "Dropped 1070 rows in 9 cycles.\n",
      "50 cycles left.\n",
      "mdt=31.506666666666668; med_dt=13.5; std=43.30015345110095\n",
      "###Split 2/4!\n",
      "Dropped 0 rows in 0 cycles.\n",
      "105 cycles left.\n",
      "Dropped 728 rows in 3 cycles.\n",
      "23 cycles left.\n",
      "mdt=49.01449275362319; med_dt=29.0; std=56.436829570672\n",
      "###Split 3/4!\n",
      "Dropped 0 rows in 0 cycles.\n",
      "87 cycles left.\n",
      "Dropped 1106 rows in 8 cycles.\n",
      "45 cycles left.\n",
      "mdt=36.49629629629629; med_dt=21.0; std=39.13412342077191\n",
      "###Split 4/4!\n",
      "Dropped 0 rows in 0 cycles.\n",
      "91 cycles left.\n",
      "Dropped 1300 rows in 9 cycles.\n",
      "35 cycles left.\n",
      "mdt=44.628571428571426; med_dt=23.0; std=51.00238223061035\n",
      "/home/nkuechen/Documents/Thesis/mlruns\n",
      "!! Creating new split...\n",
      "###Split 1/4!\n",
      "Dropped 0 rows in 0 cycles.\n",
      "87 cycles left.\n",
      "Dropped 382 rows in 6 cycles.\n",
      "61 cycles left.\n",
      "mdt=29.453551912568305; med_dt=13.0; std=39.841582143682324\n",
      "###Split 2/4!\n",
      "Dropped 0 rows in 0 cycles.\n",
      "79 cycles left.\n",
      "Dropped 674 rows in 4 cycles.\n",
      "39 cycles left.\n",
      "mdt=41.837606837606835; med_dt=20.0; std=45.94514701732614\n",
      "###Split 3/4!\n",
      "Dropped 0 rows in 0 cycles.\n",
      "103 cycles left.\n",
      "Dropped 1746 rows in 11 cycles.\n",
      "29 cycles left.\n",
      "mdt=44.48275862068966; med_dt=26.0; std=50.40773113230999\n",
      "###Split 4/4!\n",
      "Dropped 2350 rows in 1 cycles.\n",
      "94 cycles left.\n",
      "Dropped 1242 rows in 7 cycles.\n",
      "24 cycles left.\n",
      "mdt=47.27777777777778; med_dt=35.0; std=45.333707787124524\n",
      "/home/nkuechen/Documents/Thesis/mlruns\n",
      "!! Creating new split...\n",
      "###Split 1/4!\n",
      "Dropped 2122 rows in 7 cycles.\n",
      "70 cycles left.\n",
      "Dropped 1071 rows in 9 cycles.\n",
      "49 cycles left.\n",
      "mdt=34.795918367346935; med_dt=19.0; std=44.9607445975803\n",
      "###Split 2/4!\n",
      "Dropped 637 rows in 4 cycles.\n",
      "82 cycles left.\n",
      "Dropped 1180 rows in 8 cycles.\n",
      "38 cycles left.\n",
      "mdt=48.21052631578947; med_dt=30.5; std=54.67759951933402\n",
      "###Split 3/4!\n",
      "Dropped 2213 rows in 8 cycles.\n",
      "85 cycles left.\n",
      "Dropped 1211 rows in 7 cycles.\n",
      "27 cycles left.\n",
      "mdt=48.54320987654321; med_dt=38.0; std=40.84933152443243\n",
      "###Split 4/4!\n",
      "Dropped 2410 rows in 9 cycles.\n",
      "64 cycles left.\n",
      "Dropped 582 rows in 4 cycles.\n",
      "39 cycles left.\n",
      "mdt=33.06837606837607; med_dt=22.0; std=30.90534943757428\n",
      "/home/nkuechen/Documents/Thesis/mlruns\n",
      "!! Creating new split...\n",
      "###Split 1/4!\n",
      "Dropped 532 rows in 4 cycles.\n",
      "81 cycles left.\n",
      "Dropped 97 rows in 1 cycles.\n",
      "58 cycles left.\n",
      "mdt=32.45977011494253; med_dt=20.0; std=41.774381578534374\n",
      "###Split 2/4!\n",
      "Dropped 470 rows in 1 cycles.\n",
      "109 cycles left.\n",
      "Dropped 504 rows in 6 cycles.\n",
      "31 cycles left.\n",
      "mdt=51.30107526881721; med_dt=31.0; std=54.20704730326511\n",
      "###Split 3/4!\n",
      "Dropped 147 rows in 2 cycles.\n",
      "105 cycles left.\n",
      "Dropped 2248 rows in 11 cycles.\n",
      "30 cycles left.\n",
      "mdt=42.21111111111111; med_dt=23.0; std=56.103969842594616\n",
      "###Split 4/4!\n",
      "Dropped 322 rows in 2 cycles.\n",
      "83 cycles left.\n",
      "Dropped 1355 rows in 11 cycles.\n",
      "34 cycles left.\n",
      "mdt=40.705882352941174; med_dt=25.5; std=45.44175074197695\n",
      "/home/nkuechen/Documents/Thesis/mlruns\n",
      "!! Creating new split...\n",
      "###Split 1/4!\n",
      "Dropped 0 rows in 0 cycles.\n",
      "98 cycles left.\n",
      "Dropped 895 rows in 7 cycles.\n",
      "45 cycles left.\n",
      "mdt=36.41481481481482; med_dt=18.0; std=51.7107890719837\n",
      "###Split 2/4!\n",
      "Dropped 321 rows in 1 cycles.\n",
      "92 cycles left.\n",
      "Dropped 49 rows in 1 cycles.\n",
      "37 cycles left.\n",
      "mdt=36.126126126126124; med_dt=23.0; std=41.65000397285752\n",
      "###Split 3/4!\n",
      "Dropped 428 rows in 1 cycles.\n",
      "76 cycles left.\n",
      "Dropped 2100 rows in 12 cycles.\n",
      "30 cycles left.\n",
      "mdt=40.15555555555556; med_dt=26.0; std=37.48271041756337\n",
      "###Split 4/4!\n",
      "Dropped 0 rows in 0 cycles.\n",
      "97 cycles left.\n",
      "Dropped 1000 rows in 8 cycles.\n",
      "41 cycles left.\n",
      "mdt=39.05691056910569; med_dt=21.0; std=43.222491287026045\n",
      "/home/nkuechen/Documents/Thesis/mlruns\n",
      "!! Creating new split...\n",
      "###Split 1/4!\n",
      "Dropped 0 rows in 0 cycles.\n",
      "87 cycles left.\n",
      "Dropped 1206 rows in 6 cycles.\n",
      "50 cycles left.\n",
      "mdt=34.38666666666666; med_dt=21.5; std=39.39353359231549\n",
      "###Split 2/4!\n",
      "Dropped 0 rows in 0 cycles.\n",
      "98 cycles left.\n",
      "Dropped 744 rows in 8 cycles.\n",
      "41 cycles left.\n",
      "mdt=34.707317073170735; med_dt=23.0; std=32.48532669568648\n",
      "###Split 3/4!\n",
      "Dropped 49 rows in 1 cycles.\n",
      "92 cycles left.\n",
      "Dropped 766 rows in 4 cycles.\n",
      "26 cycles left.\n",
      "mdt=44.6025641025641; med_dt=26.5; std=45.541004274702324\n",
      "###Split 4/4!\n",
      "Dropped 0 rows in 0 cycles.\n",
      "96 cycles left.\n",
      "Dropped 1328 rows in 10 cycles.\n",
      "36 cycles left.\n",
      "mdt=40.157407407407405; med_dt=24.0; std=49.30313678643751\n",
      "/home/nkuechen/Documents/Thesis/mlruns\n",
      "!! Creating new split...\n",
      "###Split 1/4!\n",
      "Dropped 1714 rows in 8 cycles.\n",
      "72 cycles left.\n",
      "Dropped 1087 rows in 7 cycles.\n",
      "40 cycles left.\n",
      "mdt=36.88333333333333; med_dt=22.0; std=40.84710992088534\n",
      "###Split 2/4!\n",
      "Dropped 1086 rows in 7 cycles.\n",
      "74 cycles left.\n",
      "Dropped 1317 rows in 6 cycles.\n",
      "33 cycles left.\n",
      "mdt=38.76767676767677; med_dt=25.0; std=40.14464460625088\n",
      "###Split 3/4!\n",
      "Dropped 2410 rows in 9 cycles.\n",
      "75 cycles left.\n",
      "Dropped 1018 rows in 9 cycles.\n",
      "49 cycles left.\n",
      "mdt=34.61904761904762; med_dt=21.0; std=41.5222804436682\n",
      "###Split 4/4!\n",
      "Dropped 1490 rows in 8 cycles.\n",
      "80 cycles left.\n",
      "Dropped 782 rows in 7 cycles.\n",
      "31 cycles left.\n",
      "mdt=49.46236559139785; med_dt=33.0; std=48.38945036091994\n",
      "/home/nkuechen/Documents/Thesis/mlruns\n",
      "!! Creating new split...\n",
      "###Split 1/4!\n",
      "Dropped 0 rows in 0 cycles.\n",
      "93 cycles left.\n",
      "Dropped 490 rows in 5 cycles.\n",
      "37 cycles left.\n",
      "mdt=40.26126126126126; med_dt=24.0; std=43.22697516820953\n",
      "###Split 2/4!\n",
      "Dropped 786 rows in 1 cycles.\n",
      "95 cycles left.\n",
      "Dropped 669 rows in 7 cycles.\n",
      "39 cycles left.\n",
      "mdt=32.427350427350426; med_dt=18.0; std=37.015200444140994\n",
      "###Split 3/4!\n",
      "Dropped 226 rows in 1 cycles.\n",
      "86 cycles left.\n",
      "Dropped 1621 rows in 11 cycles.\n",
      "44 cycles left.\n",
      "mdt=36.78030303030303; med_dt=22.0; std=33.58081937968761\n",
      "###Split 4/4!\n",
      "Dropped 418 rows in 2 cycles.\n",
      "94 cycles left.\n",
      "Dropped 1264 rows in 5 cycles.\n",
      "33 cycles left.\n",
      "mdt=44.41414141414141; med_dt=21.0; std=54.949014035328695\n",
      "/home/nkuechen/Documents/Thesis/mlruns\n",
      "!! Creating new split...\n",
      "###Split 1/4!\n",
      "Dropped 96 rows in 1 cycles.\n",
      "79 cycles left.\n",
      "Dropped 404 rows in 4 cycles.\n",
      "48 cycles left.\n",
      "mdt=36.979166666666664; med_dt=19.0; std=44.051968796650975\n",
      "###Split 2/4!\n",
      "Dropped 0 rows in 0 cycles.\n",
      "90 cycles left.\n",
      "Dropped 1552 rows in 11 cycles.\n",
      "37 cycles left.\n",
      "mdt=42.45945945945946; med_dt=25.0; std=44.47081921743717\n",
      "###Split 3/4!\n",
      "Dropped 872 rows in 1 cycles.\n",
      "105 cycles left.\n",
      "Dropped 271 rows in 3 cycles.\n",
      "34 cycles left.\n",
      "mdt=46.55882352941177; med_dt=27.0; std=55.14447575649852\n",
      "###Split 4/4!\n",
      "Dropped 0 rows in 0 cycles.\n",
      "99 cycles left.\n",
      "Dropped 1977 rows in 11 cycles.\n",
      "34 cycles left.\n",
      "mdt=40.049019607843135; med_dt=21.5; std=44.344988321510584\n",
      "/home/nkuechen/Documents/Thesis/mlruns\n",
      "!! Creating new split...\n",
      "###Split 1/4!\n",
      "Dropped 0 rows in 0 cycles.\n",
      "92 cycles left.\n",
      "Dropped 1269 rows in 10 cycles.\n",
      "37 cycles left.\n",
      "mdt=44.73873873873874; med_dt=24.0; std=49.11408152266136\n",
      "###Split 2/4!\n",
      "Dropped 0 rows in 0 cycles.\n",
      "89 cycles left.\n",
      "Dropped 1920 rows in 8 cycles.\n",
      "31 cycles left.\n",
      "mdt=45.204301075268816; med_dt=27.0; std=48.78514650111405\n",
      "###Split 3/4!\n",
      "Dropped 0 rows in 0 cycles.\n",
      "88 cycles left.\n",
      "Dropped 808 rows in 8 cycles.\n",
      "41 cycles left.\n",
      "mdt=38.1869918699187; med_dt=21.0; std=42.835922466462414\n",
      "###Split 4/4!\n",
      "Dropped 0 rows in 0 cycles.\n",
      "100 cycles left.\n",
      "Dropped 207 rows in 3 cycles.\n",
      "44 cycles left.\n",
      "mdt=30.136363636363637; med_dt=22.0; std=30.017109446183056\n",
      "/home/nkuechen/Documents/Thesis/mlruns\n",
      "!! Creating new split...\n",
      "###Split 1/4!\n",
      "Dropped 1033 rows in 3 cycles.\n",
      "90 cycles left.\n",
      "Dropped 1186 rows in 7 cycles.\n",
      "43 cycles left.\n",
      "mdt=38.007751937984494; med_dt=20.0; std=46.51722963683189\n",
      "###Split 2/4!\n",
      "Dropped 1570 rows in 8 cycles.\n",
      "80 cycles left.\n",
      "Dropped 450 rows in 4 cycles.\n",
      "38 cycles left.\n",
      "mdt=59.75438596491228; med_dt=44.5; std=53.626970401538834\n",
      "###Split 3/4!\n",
      "Dropped 756 rows in 4 cycles.\n",
      "89 cycles left.\n",
      "Dropped 1695 rows in 13 cycles.\n",
      "33 cycles left.\n",
      "mdt=38.666666666666664; med_dt=20.0; std=45.99472960584889\n",
      "###Split 4/4!\n",
      "Dropped 858 rows in 5 cycles.\n",
      "75 cycles left.\n",
      "Dropped 713 rows in 4 cycles.\n",
      "39 cycles left.\n",
      "mdt=41.41880341880342; med_dt=25.0; std=46.10323594261209\n",
      "/home/nkuechen/Documents/Thesis/mlruns\n",
      "!! Creating new split...\n",
      "###Split 1/4!\n",
      "Dropped 418 rows in 1 cycles.\n",
      "97 cycles left.\n",
      "Dropped 1033 rows in 6 cycles.\n",
      "31 cycles left.\n",
      "mdt=50.8494623655914; med_dt=31.0; std=55.10302105890816\n",
      "###Split 2/4!\n",
      "Dropped 0 rows in 0 cycles.\n",
      "93 cycles left.\n",
      "Dropped 754 rows in 6 cycles.\n",
      "38 cycles left.\n",
      "mdt=39.19298245614035; med_dt=18.0; std=50.35782090393383\n",
      "###Split 3/4!\n",
      "Dropped 1108 rows in 4 cycles.\n",
      "95 cycles left.\n",
      "Dropped 1488 rows in 10 cycles.\n",
      "38 cycles left.\n",
      "mdt=37.771929824561404; med_dt=18.0; std=45.41138181150364\n",
      "###Split 4/4!\n",
      "Dropped 0 rows in 0 cycles.\n",
      "100 cycles left.\n",
      "Dropped 769 rows in 6 cycles.\n",
      "46 cycles left.\n",
      "mdt=36.97826086956522; med_dt=18.5; std=43.58075419386246\n",
      "/home/nkuechen/Documents/Thesis/mlruns\n",
      "!! Creating new split...\n",
      "###Split 1/4!\n",
      "Dropped 0 rows in 0 cycles.\n",
      "100 cycles left.\n",
      "Dropped 779 rows in 9 cycles.\n",
      "32 cycles left.\n",
      "mdt=36.822916666666664; med_dt=22.5; std=35.67620436873466\n",
      "###Split 2/4!\n",
      "Dropped 783 rows in 1 cycles.\n",
      "99 cycles left.\n",
      "Dropped 590 rows in 4 cycles.\n",
      "43 cycles left.\n",
      "mdt=34.992248062015506; med_dt=13.0; std=47.791293054754675\n",
      "###Split 3/4!\n",
      "Dropped 0 rows in 0 cycles.\n",
      "102 cycles left.\n",
      "Dropped 798 rows in 6 cycles.\n",
      "35 cycles left.\n",
      "mdt=45.86666666666667; med_dt=28.0; std=48.445957454165296\n",
      "###Split 4/4!\n",
      "Dropped 107 rows in 1 cycles.\n",
      "97 cycles left.\n",
      "Dropped 1877 rows in 9 cycles.\n",
      "43 cycles left.\n",
      "mdt=34.58914728682171; med_dt=18.0; std=42.964851761291804\n",
      "/home/nkuechen/Documents/Thesis/mlruns\n",
      "!! Creating new split...\n",
      "###Split 1/4!\n",
      "Dropped 283 rows in 1 cycles.\n",
      "99 cycles left.\n",
      "Dropped 971 rows in 7 cycles.\n",
      "43 cycles left.\n",
      "mdt=35.798449612403104; med_dt=20.0; std=43.056548331066274\n",
      "###Split 2/4!\n",
      "Dropped 0 rows in 0 cycles.\n",
      "88 cycles left.\n",
      "Dropped 1492 rows in 9 cycles.\n",
      "41 cycles left.\n",
      "mdt=33.853658536585364; med_dt=14.0; std=43.570087995274044\n",
      "###Split 3/4!\n",
      "Dropped 0 rows in 0 cycles.\n",
      "97 cycles left.\n",
      "Dropped 1058 rows in 10 cycles.\n",
      "37 cycles left.\n",
      "mdt=48.189189189189186; med_dt=25.0; std=59.235446156204205\n",
      "###Split 4/4!\n",
      "Dropped 0 rows in 0 cycles.\n",
      "98 cycles left.\n",
      "Dropped 523 rows in 2 cycles.\n",
      "32 cycles left.\n",
      "mdt=36.885416666666664; med_dt=20.5; std=41.30170239420795\n",
      "/home/nkuechen/Documents/Thesis/mlruns\n",
      "!! Creating new split...\n",
      "###Split 1/4!\n",
      "Dropped 392 rows in 5 cycles.\n",
      "88 cycles left.\n",
      "Dropped 2080 rows in 10 cycles.\n",
      "30 cycles left.\n",
      "mdt=40.63333333333333; med_dt=23.0; std=46.820804967212794\n",
      "###Split 2/4!\n",
      "Dropped 1904 rows in 11 cycles.\n",
      "76 cycles left.\n",
      "Dropped 846 rows in 7 cycles.\n",
      "40 cycles left.\n",
      "mdt=42.375; med_dt=25.0; std=47.524566015903815\n",
      "###Split 3/4!\n",
      "Dropped 1083 rows in 7 cycles.\n",
      "84 cycles left.\n",
      "Dropped 435 rows in 5 cycles.\n",
      "28 cycles left.\n",
      "mdt=60.464285714285715; med_dt=42.5; std=63.17934533430011\n",
      "###Split 4/4!\n",
      "Dropped 1503 rows in 5 cycles.\n",
      "73 cycles left.\n",
      "Dropped 843 rows in 7 cycles.\n",
      "55 cycles left.\n",
      "mdt=33.28484848484848; med_dt=22.0; std=30.678352067591632\n",
      "/home/nkuechen/Documents/Thesis/mlruns\n",
      "!! Creating new split...\n",
      "###Split 1/4!\n",
      "Dropped 653 rows in 2 cycles.\n",
      "83 cycles left.\n",
      "Dropped 1788 rows in 10 cycles.\n",
      "39 cycles left.\n",
      "mdt=37.94871794871795; med_dt=24.0; std=46.59387108990483\n",
      "###Split 2/4!\n",
      "Dropped 2083 rows in 3 cycles.\n",
      "84 cycles left.\n",
      "Dropped 587 rows in 7 cycles.\n",
      "36 cycles left.\n",
      "mdt=35.425925925925924; med_dt=23.0; std=34.926431597611874\n",
      "###Split 3/4!\n",
      "Dropped 2026 rows in 3 cycles.\n",
      "76 cycles left.\n",
      "Dropped 301 rows in 4 cycles.\n",
      "46 cycles left.\n",
      "mdt=51.427536231884055; med_dt=27.5; std=59.35338624836192\n",
      "###Split 4/4!\n",
      "Dropped 263 rows in 2 cycles.\n",
      "89 cycles left.\n",
      "Dropped 1528 rows in 8 cycles.\n",
      "32 cycles left.\n",
      "mdt=28.84375; med_dt=19.5; std=25.863152732620076\n",
      "/home/nkuechen/Documents/Thesis/mlruns\n",
      "!! Creating new split...\n",
      "###Split 1/4!\n",
      "Dropped 0 rows in 0 cycles.\n",
      "92 cycles left.\n",
      "Dropped 1266 rows in 9 cycles.\n",
      "45 cycles left.\n",
      "mdt=39.37777777777778; med_dt=23.0; std=44.9987434666819\n",
      "###Split 2/4!\n",
      "Dropped 0 rows in 0 cycles.\n",
      "108 cycles left.\n",
      "Dropped 1168 rows in 10 cycles.\n",
      "28 cycles left.\n",
      "mdt=45.82142857142857; med_dt=28.0; std=55.07465943830155\n",
      "###Split 3/4!\n",
      "Dropped 1647 rows in 1 cycles.\n",
      "100 cycles left.\n",
      "Dropped 765 rows in 4 cycles.\n",
      "39 cycles left.\n",
      "mdt=35.58974358974359; med_dt=22.0; std=35.42854946266176\n",
      "###Split 4/4!\n",
      "Dropped 996 rows in 2 cycles.\n",
      "88 cycles left.\n",
      "Dropped 1005 rows in 6 cycles.\n",
      "41 cycles left.\n",
      "mdt=30.5609756097561; med_dt=21.0; std=27.33298026981872\n",
      "/home/nkuechen/Documents/Thesis/mlruns\n",
      "!! Creating new split...\n",
      "###Split 1/4!\n",
      "Dropped 0 rows in 0 cycles.\n",
      "100 cycles left.\n",
      "Dropped 993 rows in 5 cycles.\n",
      "49 cycles left.\n",
      "mdt=34.42857142857143; med_dt=20.0; std=43.885596478016474\n",
      "###Split 2/4!\n",
      "Dropped 0 rows in 0 cycles.\n",
      "88 cycles left.\n",
      "Dropped 880 rows in 8 cycles.\n",
      "34 cycles left.\n",
      "mdt=41.911764705882355; med_dt=28.0; std=39.617312253851175\n",
      "###Split 3/4!\n",
      "Dropped 0 rows in 0 cycles.\n",
      "91 cycles left.\n",
      "Dropped 1801 rows in 10 cycles.\n",
      "35 cycles left.\n",
      "mdt=35.161904761904765; med_dt=19.0; std=40.846547632752745\n",
      "###Split 4/4!\n",
      "Dropped 0 rows in 0 cycles.\n",
      "94 cycles left.\n",
      "Dropped 530 rows in 6 cycles.\n",
      "35 cycles left.\n",
      "mdt=44.0; med_dt=30.0; std=44.39691108946335\n",
      "/home/nkuechen/Documents/Thesis/mlruns\n",
      "!! Creating new split...\n",
      "###Split 1/4!\n",
      "Dropped 75 rows in 1 cycles.\n",
      "85 cycles left.\n",
      "Dropped 604 rows in 8 cycles.\n",
      "43 cycles left.\n",
      "mdt=41.248062015503876; med_dt=28.0; std=42.86557879092997\n",
      "###Split 2/4!\n",
      "Dropped 923 rows in 3 cycles.\n",
      "86 cycles left.\n",
      "Dropped 1185 rows in 7 cycles.\n",
      "33 cycles left.\n",
      "mdt=32.78787878787879; med_dt=22.0; std=28.87810422415688\n",
      "###Split 3/4!\n",
      "Dropped 1266 rows in 5 cycles.\n",
      "84 cycles left.\n",
      "Dropped 1348 rows in 6 cycles.\n",
      "44 cycles left.\n",
      "mdt=31.083333333333332; med_dt=18.0; std=37.63823846767401\n",
      "###Split 4/4!\n",
      "Dropped 608 rows in 4 cycles.\n",
      "98 cycles left.\n",
      "Dropped 907 rows in 7 cycles.\n",
      "33 cycles left.\n",
      "mdt=38.56565656565657; med_dt=26.0; std=34.05526157190013\n",
      "/home/nkuechen/Documents/Thesis/mlruns\n",
      "!! Creating new split...\n",
      "###Split 1/4!\n",
      "Dropped 107 rows in 1 cycles.\n",
      "88 cycles left.\n",
      "Dropped 1283 rows in 10 cycles.\n",
      "30 cycles left.\n",
      "mdt=54.044444444444444; med_dt=36.0; std=49.87872205239672\n",
      "###Split 2/4!\n",
      "Dropped 77 rows in 1 cycles.\n",
      "101 cycles left.\n",
      "Dropped 590 rows in 3 cycles.\n",
      "29 cycles left.\n",
      "mdt=48.13793103448276; med_dt=38.0; std=36.57590828651764\n",
      "###Split 3/4!\n",
      "Dropped 613 rows in 1 cycles.\n",
      "86 cycles left.\n",
      "Dropped 778 rows in 6 cycles.\n",
      "56 cycles left.\n",
      "mdt=31.571428571428573; med_dt=16.0; std=36.40751025161001\n",
      "###Split 4/4!\n",
      "Dropped 118 rows in 2 cycles.\n",
      "101 cycles left.\n",
      "Dropped 1553 rows in 10 cycles.\n",
      "38 cycles left.\n",
      "mdt=28.105263157894736; med_dt=16.0; std=32.13468597130844\n",
      "/home/nkuechen/Documents/Thesis/mlruns\n",
      "!! Creating new split...\n",
      "###Split 1/4!\n",
      "Dropped 0 rows in 0 cycles.\n",
      "102 cycles left.\n",
      "Dropped 1776 rows in 10 cycles.\n",
      "32 cycles left.\n",
      "mdt=42.729166666666664; med_dt=28.0; std=40.510667105165716\n",
      "###Split 2/4!\n",
      "Dropped 278 rows in 1 cycles.\n",
      "85 cycles left.\n",
      "Dropped 499 rows in 5 cycles.\n",
      "53 cycles left.\n",
      "mdt=26.440251572327043; med_dt=16.0; std=29.109118326531846\n",
      "###Split 3/4!\n",
      "Dropped 393 rows in 1 cycles.\n",
      "93 cycles left.\n",
      "Dropped 966 rows in 7 cycles.\n",
      "39 cycles left.\n",
      "mdt=41.73504273504273; med_dt=22.0; std=43.104007222918234\n",
      "###Split 4/4!\n",
      "Dropped 470 rows in 1 cycles.\n",
      "101 cycles left.\n",
      "Dropped 803 rows in 6 cycles.\n",
      "29 cycles left.\n",
      "mdt=42.206896551724135; med_dt=35.0; std=30.310704429496305\n",
      "/home/nkuechen/Documents/Thesis/mlruns\n",
      "!! Creating new split...\n",
      "###Split 1/4!\n",
      "Dropped 37 rows in 1 cycles.\n",
      "99 cycles left.\n",
      "Dropped 1044 rows in 7 cycles.\n",
      "33 cycles left.\n",
      "mdt=42.17171717171717; med_dt=31.0; std=38.60680852813515\n",
      "###Split 2/4!\n",
      "Dropped 0 rows in 0 cycles.\n",
      "90 cycles left.\n",
      "Dropped 1576 rows in 10 cycles.\n",
      "41 cycles left.\n",
      "mdt=39.22764227642276; med_dt=24.0; std=43.757984267149084\n",
      "###Split 3/4!\n",
      "Dropped 470 rows in 1 cycles.\n",
      "94 cycles left.\n",
      "Dropped 785 rows in 3 cycles.\n",
      "47 cycles left.\n",
      "mdt=33.9290780141844; med_dt=20.0; std=36.341689205748914\n",
      "###Split 4/4!\n",
      "Dropped 0 rows in 0 cycles.\n",
      "105 cycles left.\n",
      "Dropped 799 rows in 9 cycles.\n",
      "32 cycles left.\n",
      "mdt=39.46875; med_dt=20.5; std=50.43972333492886\n",
      "/home/nkuechen/Documents/Thesis/mlruns\n",
      "!! Creating new split...\n",
      "###Split 1/4!\n",
      "Dropped 1037 rows in 7 cycles.\n",
      "90 cycles left.\n",
      "Dropped 926 rows in 6 cycles.\n",
      "33 cycles left.\n",
      "mdt=45.41414141414141; med_dt=27.0; std=46.843606141970355\n",
      "###Split 2/4!\n",
      "Dropped 1695 rows in 9 cycles.\n",
      "81 cycles left.\n",
      "Dropped 538 rows in 6 cycles.\n",
      "39 cycles left.\n",
      "mdt=44.256410256410255; med_dt=27.0; std=45.17982187949018\n",
      "###Split 3/4!\n",
      "Dropped 1705 rows in 10 cycles.\n",
      "76 cycles left.\n",
      "Dropped 858 rows in 9 cycles.\n",
      "46 cycles left.\n",
      "mdt=39.34057971014493; med_dt=20.0; std=44.59682454036639\n",
      "###Split 4/4!\n",
      "Dropped 1041 rows in 6 cycles.\n",
      "80 cycles left.\n",
      "Dropped 1722 rows in 7 cycles.\n",
      "35 cycles left.\n",
      "mdt=43.34285714285714; med_dt=23.0; std=49.16422016281441\n",
      "/home/nkuechen/Documents/Thesis/mlruns\n",
      "!! Creating new split...\n",
      "###Split 1/4!\n",
      "Dropped 0 rows in 0 cycles.\n",
      "91 cycles left.\n",
      "Dropped 929 rows in 5 cycles.\n",
      "43 cycles left.\n",
      "mdt=46.031007751937985; med_dt=23.0; std=59.50831327299438\n",
      "###Split 2/4!\n",
      "Dropped 0 rows in 0 cycles.\n",
      "98 cycles left.\n",
      "Dropped 889 rows in 5 cycles.\n",
      "30 cycles left.\n",
      "mdt=42.74444444444445; med_dt=27.5; std=42.83419223810994\n",
      "###Split 3/4!\n",
      "Dropped 0 rows in 0 cycles.\n",
      "90 cycles left.\n",
      "Dropped 1119 rows in 9 cycles.\n",
      "53 cycles left.\n",
      "mdt=32.308176100628934; med_dt=17.0; std=37.18235695864956\n",
      "###Split 4/4!\n",
      "Dropped 940 rows in 1 cycles.\n",
      "103 cycles left.\n",
      "Dropped 1107 rows in 9 cycles.\n",
      "27 cycles left.\n",
      "mdt=42.617283950617285; med_dt=19.0; std=51.911027373703995\n",
      "/home/nkuechen/Documents/Thesis/mlruns\n",
      "!! Creating new split...\n",
      "###Split 1/4!\n",
      "Dropped 786 rows in 1 cycles.\n",
      "96 cycles left.\n",
      "Dropped 953 rows in 9 cycles.\n",
      "32 cycles left.\n",
      "mdt=44.083333333333336; med_dt=17.0; std=52.80874822308221\n",
      "###Split 2/4!\n",
      "Dropped 49 rows in 1 cycles.\n",
      "91 cycles left.\n",
      "Dropped 678 rows in 3 cycles.\n",
      "34 cycles left.\n",
      "mdt=55.1078431372549; med_dt=33.0; std=62.39138120196666\n",
      "###Split 3/4!\n",
      "Dropped 0 rows in 0 cycles.\n",
      "101 cycles left.\n",
      "Dropped 2098 rows in 13 cycles.\n",
      "41 cycles left.\n",
      "mdt=33.38211382113821; med_dt=18.0; std=37.60243901560116\n",
      "###Split 4/4!\n",
      "Dropped 599 rows in 2 cycles.\n",
      "86 cycles left.\n",
      "Dropped 475 rows in 4 cycles.\n",
      "46 cycles left.\n",
      "mdt=31.76086956521739; med_dt=17.0; std=38.901315939856744\n",
      "/home/nkuechen/Documents/Thesis/mlruns\n",
      "!! Creating new split...\n",
      "###Split 1/4!\n",
      "Dropped 0 rows in 0 cycles.\n",
      "102 cycles left.\n",
      "Dropped 53 rows in 1 cycles.\n",
      "38 cycles left.\n",
      "mdt=33.55263157894737; med_dt=16.0; std=43.43963185711648\n",
      "###Split 2/4!\n",
      "Dropped 0 rows in 0 cycles.\n",
      "100 cycles left.\n",
      "Dropped 2018 rows in 14 cycles.\n",
      "39 cycles left.\n",
      "mdt=32.256410256410255; med_dt=14.0; std=38.60055219616404\n",
      "###Split 3/4!\n",
      "Dropped 0 rows in 0 cycles.\n",
      "93 cycles left.\n",
      "Dropped 1026 rows in 7 cycles.\n",
      "42 cycles left.\n",
      "mdt=38.42063492063492; med_dt=22.5; std=40.5612124467752\n",
      "###Split 4/4!\n",
      "Dropped 173 rows in 1 cycles.\n",
      "98 cycles left.\n",
      "Dropped 1107 rows in 7 cycles.\n",
      "34 cycles left.\n",
      "mdt=44.35294117647059; med_dt=21.5; std=55.279795808982634\n",
      "/home/nkuechen/Documents/Thesis/mlruns\n",
      "!! Creating new split...\n",
      "###Split 1/4!\n",
      "Dropped 958 rows in 7 cycles.\n",
      "69 cycles left.\n",
      "Dropped 573 rows in 5 cycles.\n",
      "50 cycles left.\n",
      "mdt=36.8; med_dt=22.0; std=45.75281412110079\n",
      "###Split 2/4!\n",
      "Dropped 835 rows in 3 cycles.\n",
      "84 cycles left.\n",
      "Dropped 1073 rows in 7 cycles.\n",
      "29 cycles left.\n",
      "mdt=47.229885057471265; med_dt=31.0; std=53.27929039546472\n",
      "###Split 3/4!\n",
      "Dropped 775 rows in 3 cycles.\n",
      "78 cycles left.\n",
      "Dropped 1713 rows in 9 cycles.\n",
      "30 cycles left.\n",
      "mdt=42.922222222222224; med_dt=25.0; std=44.31233281498699\n",
      "###Split 4/4!\n",
      "Dropped 1287 rows in 6 cycles.\n",
      "82 cycles left.\n",
      "Dropped 845 rows in 8 cycles.\n",
      "44 cycles left.\n",
      "mdt=43.09090909090909; med_dt=31.0; std=44.19815136430526\n",
      "/home/nkuechen/Documents/Thesis/mlruns\n",
      "!! Creating new split...\n",
      "###Split 1/4!\n",
      "Dropped 204 rows in 2 cycles.\n",
      "85 cycles left.\n",
      "Dropped 933 rows in 8 cycles.\n",
      "38 cycles left.\n",
      "mdt=44.90350877192982; med_dt=26.0; std=50.844960297836\n",
      "###Split 2/4!\n",
      "Dropped 386 rows in 2 cycles.\n",
      "95 cycles left.\n",
      "Dropped 783 rows in 7 cycles.\n",
      "40 cycles left.\n",
      "mdt=42.63333333333333; med_dt=27.0; std=52.10101299932234\n",
      "###Split 3/4!\n",
      "Dropped 772 rows in 2 cycles.\n",
      "80 cycles left.\n",
      "Dropped 1468 rows in 9 cycles.\n",
      "37 cycles left.\n",
      "mdt=28.61261261261261; med_dt=18.0; std=35.37448848416889\n",
      "###Split 4/4!\n",
      "Dropped 49 rows in 1 cycles.\n",
      "85 cycles left.\n",
      "Dropped 1020 rows in 5 cycles.\n",
      "38 cycles left.\n",
      "mdt=38.19298245614035; med_dt=25.0; std=36.882905561844\n",
      "/home/nkuechen/Documents/Thesis/mlruns\n",
      "!! Creating new split...\n",
      "###Split 1/4!\n",
      "Dropped 0 rows in 0 cycles.\n",
      "91 cycles left.\n",
      "Dropped 665 rows in 8 cycles.\n",
      "25 cycles left.\n",
      "mdt=44.973333333333336; med_dt=27.0; std=43.30172385585693\n",
      "###Split 2/4!\n",
      "Dropped 0 rows in 0 cycles.\n",
      "91 cycles left.\n",
      "Dropped 1469 rows in 10 cycles.\n",
      "40 cycles left.\n",
      "mdt=37.733333333333334; med_dt=23.0; std=38.31834489582705\n",
      "###Split 3/4!\n",
      "Dropped 0 rows in 0 cycles.\n",
      "105 cycles left.\n",
      "Dropped 1039 rows in 5 cycles.\n",
      "29 cycles left.\n",
      "mdt=59.195402298850574; med_dt=38.0; std=64.95760581774691\n",
      "###Split 4/4!\n",
      "Dropped 0 rows in 0 cycles.\n",
      "90 cycles left.\n",
      "Dropped 790 rows in 4 cycles.\n",
      "60 cycles left.\n",
      "mdt=31.55; med_dt=19.0; std=34.280910625789005\n",
      "/home/nkuechen/Documents/Thesis/mlruns\n",
      "!! Creating new split...\n",
      "###Split 1/4!\n",
      "Dropped 0 rows in 0 cycles.\n",
      "99 cycles left.\n",
      "Dropped 321 rows in 5 cycles.\n",
      "42 cycles left.\n",
      "mdt=35.07142857142857; med_dt=21.0; std=35.095375395479955\n",
      "###Split 2/4!\n",
      "Dropped 0 rows in 0 cycles.\n",
      "90 cycles left.\n",
      "Dropped 945 rows in 8 cycles.\n",
      "41 cycles left.\n",
      "mdt=41.829268292682926; med_dt=26.0; std=47.59529718468781\n",
      "###Split 3/4!\n",
      "Dropped 50 rows in 1 cycles.\n",
      "92 cycles left.\n",
      "Dropped 1519 rows in 10 cycles.\n",
      "42 cycles left.\n",
      "mdt=34.666666666666664; med_dt=20.0; std=38.77898301670022\n",
      "###Split 4/4!\n",
      "Dropped 1553 rows in 1 cycles.\n",
      "96 cycles left.\n",
      "Dropped 1419 rows in 6 cycles.\n",
      "28 cycles left.\n",
      "mdt=46.30952380952381; med_dt=25.0; std=56.89693610264512\n",
      "/home/nkuechen/Documents/Thesis/mlruns\n",
      "!! Creating new split...\n",
      "###Split 1/4!\n",
      "Dropped 1760 rows in 7 cycles.\n",
      "80 cycles left.\n",
      "Dropped 1447 rows in 7 cycles.\n",
      "36 cycles left.\n",
      "mdt=38.48148148148148; med_dt=26.0; std=42.55355699139647\n",
      "###Split 2/4!\n",
      "Dropped 1703 rows in 11 cycles.\n",
      "84 cycles left.\n",
      "Dropped 975 rows in 7 cycles.\n",
      "51 cycles left.\n",
      "mdt=24.50980392156863; med_dt=19.0; std=20.43485349143603\n",
      "###Split 3/4!\n",
      "Dropped 253 rows in 2 cycles.\n",
      "99 cycles left.\n",
      "Dropped 1014 rows in 6 cycles.\n",
      "31 cycles left.\n",
      "mdt=40.18279569892473; med_dt=26.0; std=44.92022707852464\n",
      "###Split 4/4!\n",
      "Dropped 338 rows in 2 cycles.\n",
      "108 cycles left.\n",
      "Dropped 768 rows in 9 cycles.\n",
      "35 cycles left.\n",
      "mdt=35.65714285714286; med_dt=22.0; std=41.02445927131035\n",
      "/home/nkuechen/Documents/Thesis/mlruns\n",
      "!! Creating new split...\n",
      "###Split 1/4!\n",
      "Dropped 139 rows in 2 cycles.\n",
      "93 cycles left.\n",
      "Dropped 910 rows in 6 cycles.\n",
      "41 cycles left.\n",
      "mdt=37.72357723577236; med_dt=25.0; std=35.78238218744334\n",
      "###Split 2/4!\n",
      "Dropped 393 rows in 1 cycles.\n",
      "88 cycles left.\n",
      "Dropped 967 rows in 10 cycles.\n",
      "43 cycles left.\n",
      "mdt=34.093023255813954; med_dt=23.0; std=39.36323430424553\n",
      "###Split 3/4!\n",
      "Dropped 37 rows in 1 cycles.\n",
      "98 cycles left.\n",
      "Dropped 1236 rows in 6 cycles.\n",
      "40 cycles left.\n",
      "mdt=41.75; med_dt=21.5; std=49.48606706269284\n",
      "###Split 4/4!\n",
      "Dropped 0 rows in 0 cycles.\n",
      "111 cycles left.\n",
      "Dropped 931 rows in 6 cycles.\n",
      "29 cycles left.\n",
      "mdt=38.81609195402299; med_dt=26.0; std=39.265242661658164\n",
      "/home/nkuechen/Documents/Thesis/mlruns\n",
      "!! Creating new split...\n",
      "###Split 1/4!\n",
      "Dropped 118 rows in 2 cycles.\n",
      "97 cycles left.\n",
      "Dropped 1056 rows in 5 cycles.\n",
      "35 cycles left.\n",
      "mdt=33.02857142857143; med_dt=23.0; std=29.2143008499204\n",
      "###Split 2/4!\n",
      "Dropped 470 rows in 1 cycles.\n",
      "95 cycles left.\n",
      "Dropped 344 rows in 4 cycles.\n",
      "41 cycles left.\n",
      "mdt=39.333333333333336; med_dt=23.0; std=43.41905217920955\n",
      "###Split 3/4!\n",
      "Dropped 0 rows in 0 cycles.\n",
      "96 cycles left.\n",
      "Dropped 1258 rows in 11 cycles.\n",
      "34 cycles left.\n",
      "mdt=46.450980392156865; med_dt=29.0; std=46.379218522993\n",
      "###Split 4/4!\n",
      "Dropped 0 rows in 0 cycles.\n",
      "84 cycles left.\n",
      "Dropped 1546 rows in 9 cycles.\n",
      "43 cycles left.\n",
      "mdt=42.91472868217054; med_dt=26.0; std=44.46425809773734\n",
      "/home/nkuechen/Documents/Thesis/mlruns\n",
      "!! Creating new split...\n",
      "###Split 1/4!\n",
      "Dropped 0 rows in 0 cycles.\n",
      "101 cycles left.\n",
      "Dropped 1214 rows in 11 cycles.\n",
      "40 cycles left.\n",
      "mdt=48.483333333333334; med_dt=30.5; std=48.99013222635305\n",
      "###Split 2/4!\n",
      "Dropped 0 rows in 0 cycles.\n",
      "87 cycles left.\n",
      "Dropped 1209 rows in 8 cycles.\n",
      "35 cycles left.\n",
      "mdt=47.67619047619048; med_dt=31.0; std=44.75190769822428\n",
      "###Split 3/4!\n",
      "Dropped 0 rows in 0 cycles.\n",
      "89 cycles left.\n",
      "Dropped 526 rows in 5 cycles.\n",
      "34 cycles left.\n",
      "mdt=44.127450980392155; med_dt=26.0; std=53.71505641493231\n",
      "###Split 4/4!\n",
      "Dropped 0 rows in 0 cycles.\n",
      "97 cycles left.\n",
      "Dropped 1255 rows in 5 cycles.\n",
      "44 cycles left.\n",
      "mdt=32.72727272727273; med_dt=18.5; std=45.44812075807724\n"
     ]
    }
   ],
   "source": [
    "best_params = {\n",
    "    \"LinearRegression\": {\n",
    "        \"max_noise\": 20,\n",
    "        \"add_noise\": True,\n",
    "        \"max_noise_temperature\": 0,\n",
    "        \"add_noise_temperature\": True,\n",
    "        \"random_max_time_warp_percent\": 1.0,\n",
    "        \"random_warp_status_times\": True,\n",
    "    },\n",
    "    \"DecisionTreeRegressor\": {\n",
    "        \"max_noise\": 10,\n",
    "        \"add_noise\": True,\n",
    "        \"max_noise_temperature\": 0,\n",
    "        \"add_noise_temperature\": True,\n",
    "        \"random_max_time_warp_percent\": 0.5,\n",
    "        \"random_warp_status_times\": True,\n",
    "    },\n",
    "    \"XGBRegressor\": {\n",
    "        \"max_noise\": 20,\n",
    "        \"add_noise\": True,\n",
    "        \"max_noise_temperature\": 5,\n",
    "        \"add_noise_temperature\": True,\n",
    "        \"random_max_time_warp_percent\": 1.0,\n",
    "        \"random_warp_status_times\": True,\n",
    "    },\n",
    "}\n",
    "\n",
    "for n_dev in [10, 20, 40]:\n",
    "    EXP_NAME = \"reg_best_n_aug\"\n",
    "    for i in range(5):\n",
    "        for model_class, train_df_params in best_params.items():\n",
    "            for n_aug in [1, 3, 5, 10]:\n",
    "                if model_class == \"LinearRegression\":\n",
    "                    model = LinearRegression(n_jobs=8)\n",
    "                elif model_class == \"DecisionTreeRegressor\":\n",
    "                    model = DecisionTreeRegressor()\n",
    "                elif model_class == \"XGBRegressor\":\n",
    "                    model = XGBRegressor()\n",
    "                cross_validate_regression_model(\n",
    "                    raw_merged_df=df_raw_merged,\n",
    "                    model=model,\n",
    "                    n_dev=n_dev,\n",
    "                    pred_hor=1,\n",
    "                    features=features,\n",
    "                    n_aug=n_aug,\n",
    "                    train_df_params=train_df_params,\n",
    "                    all_device_uuids=all_device_uuids,\n",
    "                    by_metric=\"metrics.mdt\",\n",
    "                    mlflow_experiment=EXP_NAME,\n",
    "                )"
   ]
  },
  {
   "cell_type": "code",
   "execution_count": 30,
   "metadata": {},
   "outputs": [
    {
     "name": "stdout",
     "output_type": "stream",
     "text": [
      "/home/nkuechen/Documents/Thesis\n",
      "Experiment with ID 397025654456766034 has been exported as a CSV to file: code/thesis_code/data/aug_effect/reg_best_n_aug.csv.\n",
      "10\n"
     ]
    },
    {
     "data": {
      "application/vnd.plotly.v1+json": {
       "config": {
        "plotlyServerURL": "https://plot.ly"
       },
       "data": [
        {
         "alignmentgroup": "True",
         "hovertemplate": "params.model_class=LinearRegression<br>Augmentationsanteil=%{x}<br>metrics.mdt=%{y}<extra></extra>",
         "legendgroup": "LinearRegression",
         "marker": {
          "color": "#636efa"
         },
         "name": "LinearRegression",
         "notched": false,
         "offsetgroup": "LinearRegression",
         "orientation": "v",
         "showlegend": true,
         "type": "box",
         "x": [
          "1",
          "1",
          "1",
          "1",
          "1",
          "3",
          "3",
          "3",
          "3",
          "3",
          "5",
          "5",
          "5",
          "5",
          "5",
          "10",
          "10",
          "10",
          "10",
          "10"
         ],
         "x0": " ",
         "xaxis": "x",
         "y": [
          40.1104876241037,
          40.9562158196612,
          39.73851495726496,
          32.280590865777626,
          44.72237496802714,
          41.31474405536555,
          36.968510876023664,
          38.93746060924369,
          40.82748314825521,
          41.31312114229002,
          39.1446920946921,
          43.46873548744329,
          38.177231759080165,
          39.05720899470899,
          40.87042202279893,
          36.14579647041136,
          36.63231035657506,
          37.332638888888894,
          34.35046462777662,
          39.97453703703704
         ],
         "y0": " ",
         "yaxis": "y"
        },
        {
         "alignmentgroup": "True",
         "hovertemplate": "params.model_class=DecisionTreeRegressor<br>Augmentationsanteil=%{x}<br>metrics.mdt=%{y}<extra></extra>",
         "legendgroup": "DecisionTreeRegressor",
         "marker": {
          "color": "#EF553B"
         },
         "name": "DecisionTreeRegressor",
         "notched": false,
         "offsetgroup": "DecisionTreeRegressor",
         "orientation": "v",
         "showlegend": true,
         "type": "box",
         "x": [
          "1",
          "1",
          "1",
          "1",
          "1",
          "3",
          "3",
          "3",
          "3",
          "3",
          "5",
          "5",
          "5",
          "5",
          "5",
          "10",
          "10",
          "10",
          "10",
          "10"
         ],
         "x0": " ",
         "xaxis": "x",
         "y": [
          41.64387010015334,
          42.62073863636363,
          39.91181426676951,
          40.14879123692488,
          38.311744639376215,
          38.36024305555556,
          36.77132323014676,
          35.89571523634024,
          40.01489136195019,
          37.22439872788711,
          38.76760361552029,
          41.07045062091778,
          40.63780864197531,
          38.72724545102594,
          39.18798672622202,
          33.655299904106144,
          38.83487448009507,
          38.756402792757456,
          41.29733982640959,
          39.39415113871635
         ],
         "y0": " ",
         "yaxis": "y"
        },
        {
         "alignmentgroup": "True",
         "hovertemplate": "params.model_class=XGBRegressor<br>Augmentationsanteil=%{x}<br>metrics.mdt=%{y}<extra></extra>",
         "legendgroup": "XGBRegressor",
         "marker": {
          "color": "#00cc96"
         },
         "name": "XGBRegressor",
         "notched": false,
         "offsetgroup": "XGBRegressor",
         "orientation": "v",
         "showlegend": true,
         "type": "box",
         "x": [
          "1",
          "1",
          "1",
          "1",
          "1",
          "3",
          "3",
          "3",
          "3",
          "3",
          "5",
          "5",
          "5",
          "5",
          "5",
          "10",
          "10",
          "10",
          "10",
          "10"
         ],
         "x0": " ",
         "xaxis": "x",
         "y": [
          32.79762392262393,
          33.78362855461134,
          36.94186661506708,
          33.40132275132275,
          37.81605051604032,
          33.55820763413103,
          33.32704678362573,
          35.10179122574956,
          36.28446515485221,
          35.48974204758086,
          39.32321441480518,
          39.435563280972175,
          39.751272092761454,
          37.10764736418341,
          38.34645909645909,
          36.17763037615979,
          32.45982905982906,
          36.40236211821578,
          35.77860960723864,
          37.88203463203463
         ],
         "y0": " ",
         "yaxis": "y"
        }
       ],
       "layout": {
        "boxmode": "group",
        "height": 600,
        "legend": {
         "title": {
          "text": "Modelltyp"
         },
         "tracegroupgap": 0
        },
        "template": {
         "data": {
          "bar": [
           {
            "error_x": {
             "color": "#2a3f5f"
            },
            "error_y": {
             "color": "#2a3f5f"
            },
            "marker": {
             "line": {
              "color": "#E5ECF6",
              "width": 0.5
             },
             "pattern": {
              "fillmode": "overlay",
              "size": 10,
              "solidity": 0.2
             }
            },
            "type": "bar"
           }
          ],
          "barpolar": [
           {
            "marker": {
             "line": {
              "color": "#E5ECF6",
              "width": 0.5
             },
             "pattern": {
              "fillmode": "overlay",
              "size": 10,
              "solidity": 0.2
             }
            },
            "type": "barpolar"
           }
          ],
          "carpet": [
           {
            "aaxis": {
             "endlinecolor": "#2a3f5f",
             "gridcolor": "white",
             "linecolor": "white",
             "minorgridcolor": "white",
             "startlinecolor": "#2a3f5f"
            },
            "baxis": {
             "endlinecolor": "#2a3f5f",
             "gridcolor": "white",
             "linecolor": "white",
             "minorgridcolor": "white",
             "startlinecolor": "#2a3f5f"
            },
            "type": "carpet"
           }
          ],
          "choropleth": [
           {
            "colorbar": {
             "outlinewidth": 0,
             "ticks": ""
            },
            "type": "choropleth"
           }
          ],
          "contour": [
           {
            "colorbar": {
             "outlinewidth": 0,
             "ticks": ""
            },
            "colorscale": [
             [
              0,
              "#0d0887"
             ],
             [
              0.1111111111111111,
              "#46039f"
             ],
             [
              0.2222222222222222,
              "#7201a8"
             ],
             [
              0.3333333333333333,
              "#9c179e"
             ],
             [
              0.4444444444444444,
              "#bd3786"
             ],
             [
              0.5555555555555556,
              "#d8576b"
             ],
             [
              0.6666666666666666,
              "#ed7953"
             ],
             [
              0.7777777777777778,
              "#fb9f3a"
             ],
             [
              0.8888888888888888,
              "#fdca26"
             ],
             [
              1,
              "#f0f921"
             ]
            ],
            "type": "contour"
           }
          ],
          "contourcarpet": [
           {
            "colorbar": {
             "outlinewidth": 0,
             "ticks": ""
            },
            "type": "contourcarpet"
           }
          ],
          "heatmap": [
           {
            "colorbar": {
             "outlinewidth": 0,
             "ticks": ""
            },
            "colorscale": [
             [
              0,
              "#0d0887"
             ],
             [
              0.1111111111111111,
              "#46039f"
             ],
             [
              0.2222222222222222,
              "#7201a8"
             ],
             [
              0.3333333333333333,
              "#9c179e"
             ],
             [
              0.4444444444444444,
              "#bd3786"
             ],
             [
              0.5555555555555556,
              "#d8576b"
             ],
             [
              0.6666666666666666,
              "#ed7953"
             ],
             [
              0.7777777777777778,
              "#fb9f3a"
             ],
             [
              0.8888888888888888,
              "#fdca26"
             ],
             [
              1,
              "#f0f921"
             ]
            ],
            "type": "heatmap"
           }
          ],
          "heatmapgl": [
           {
            "colorbar": {
             "outlinewidth": 0,
             "ticks": ""
            },
            "colorscale": [
             [
              0,
              "#0d0887"
             ],
             [
              0.1111111111111111,
              "#46039f"
             ],
             [
              0.2222222222222222,
              "#7201a8"
             ],
             [
              0.3333333333333333,
              "#9c179e"
             ],
             [
              0.4444444444444444,
              "#bd3786"
             ],
             [
              0.5555555555555556,
              "#d8576b"
             ],
             [
              0.6666666666666666,
              "#ed7953"
             ],
             [
              0.7777777777777778,
              "#fb9f3a"
             ],
             [
              0.8888888888888888,
              "#fdca26"
             ],
             [
              1,
              "#f0f921"
             ]
            ],
            "type": "heatmapgl"
           }
          ],
          "histogram": [
           {
            "marker": {
             "pattern": {
              "fillmode": "overlay",
              "size": 10,
              "solidity": 0.2
             }
            },
            "type": "histogram"
           }
          ],
          "histogram2d": [
           {
            "colorbar": {
             "outlinewidth": 0,
             "ticks": ""
            },
            "colorscale": [
             [
              0,
              "#0d0887"
             ],
             [
              0.1111111111111111,
              "#46039f"
             ],
             [
              0.2222222222222222,
              "#7201a8"
             ],
             [
              0.3333333333333333,
              "#9c179e"
             ],
             [
              0.4444444444444444,
              "#bd3786"
             ],
             [
              0.5555555555555556,
              "#d8576b"
             ],
             [
              0.6666666666666666,
              "#ed7953"
             ],
             [
              0.7777777777777778,
              "#fb9f3a"
             ],
             [
              0.8888888888888888,
              "#fdca26"
             ],
             [
              1,
              "#f0f921"
             ]
            ],
            "type": "histogram2d"
           }
          ],
          "histogram2dcontour": [
           {
            "colorbar": {
             "outlinewidth": 0,
             "ticks": ""
            },
            "colorscale": [
             [
              0,
              "#0d0887"
             ],
             [
              0.1111111111111111,
              "#46039f"
             ],
             [
              0.2222222222222222,
              "#7201a8"
             ],
             [
              0.3333333333333333,
              "#9c179e"
             ],
             [
              0.4444444444444444,
              "#bd3786"
             ],
             [
              0.5555555555555556,
              "#d8576b"
             ],
             [
              0.6666666666666666,
              "#ed7953"
             ],
             [
              0.7777777777777778,
              "#fb9f3a"
             ],
             [
              0.8888888888888888,
              "#fdca26"
             ],
             [
              1,
              "#f0f921"
             ]
            ],
            "type": "histogram2dcontour"
           }
          ],
          "mesh3d": [
           {
            "colorbar": {
             "outlinewidth": 0,
             "ticks": ""
            },
            "type": "mesh3d"
           }
          ],
          "parcoords": [
           {
            "line": {
             "colorbar": {
              "outlinewidth": 0,
              "ticks": ""
             }
            },
            "type": "parcoords"
           }
          ],
          "pie": [
           {
            "automargin": true,
            "type": "pie"
           }
          ],
          "scatter": [
           {
            "fillpattern": {
             "fillmode": "overlay",
             "size": 10,
             "solidity": 0.2
            },
            "type": "scatter"
           }
          ],
          "scatter3d": [
           {
            "line": {
             "colorbar": {
              "outlinewidth": 0,
              "ticks": ""
             }
            },
            "marker": {
             "colorbar": {
              "outlinewidth": 0,
              "ticks": ""
             }
            },
            "type": "scatter3d"
           }
          ],
          "scattercarpet": [
           {
            "marker": {
             "colorbar": {
              "outlinewidth": 0,
              "ticks": ""
             }
            },
            "type": "scattercarpet"
           }
          ],
          "scattergeo": [
           {
            "marker": {
             "colorbar": {
              "outlinewidth": 0,
              "ticks": ""
             }
            },
            "type": "scattergeo"
           }
          ],
          "scattergl": [
           {
            "marker": {
             "colorbar": {
              "outlinewidth": 0,
              "ticks": ""
             }
            },
            "type": "scattergl"
           }
          ],
          "scattermapbox": [
           {
            "marker": {
             "colorbar": {
              "outlinewidth": 0,
              "ticks": ""
             }
            },
            "type": "scattermapbox"
           }
          ],
          "scatterpolar": [
           {
            "marker": {
             "colorbar": {
              "outlinewidth": 0,
              "ticks": ""
             }
            },
            "type": "scatterpolar"
           }
          ],
          "scatterpolargl": [
           {
            "marker": {
             "colorbar": {
              "outlinewidth": 0,
              "ticks": ""
             }
            },
            "type": "scatterpolargl"
           }
          ],
          "scatterternary": [
           {
            "marker": {
             "colorbar": {
              "outlinewidth": 0,
              "ticks": ""
             }
            },
            "type": "scatterternary"
           }
          ],
          "surface": [
           {
            "colorbar": {
             "outlinewidth": 0,
             "ticks": ""
            },
            "colorscale": [
             [
              0,
              "#0d0887"
             ],
             [
              0.1111111111111111,
              "#46039f"
             ],
             [
              0.2222222222222222,
              "#7201a8"
             ],
             [
              0.3333333333333333,
              "#9c179e"
             ],
             [
              0.4444444444444444,
              "#bd3786"
             ],
             [
              0.5555555555555556,
              "#d8576b"
             ],
             [
              0.6666666666666666,
              "#ed7953"
             ],
             [
              0.7777777777777778,
              "#fb9f3a"
             ],
             [
              0.8888888888888888,
              "#fdca26"
             ],
             [
              1,
              "#f0f921"
             ]
            ],
            "type": "surface"
           }
          ],
          "table": [
           {
            "cells": {
             "fill": {
              "color": "#EBF0F8"
             },
             "line": {
              "color": "white"
             }
            },
            "header": {
             "fill": {
              "color": "#C8D4E3"
             },
             "line": {
              "color": "white"
             }
            },
            "type": "table"
           }
          ]
         },
         "layout": {
          "annotationdefaults": {
           "arrowcolor": "#2a3f5f",
           "arrowhead": 0,
           "arrowwidth": 1
          },
          "autotypenumbers": "strict",
          "coloraxis": {
           "colorbar": {
            "outlinewidth": 0,
            "ticks": ""
           }
          },
          "colorscale": {
           "diverging": [
            [
             0,
             "#8e0152"
            ],
            [
             0.1,
             "#c51b7d"
            ],
            [
             0.2,
             "#de77ae"
            ],
            [
             0.3,
             "#f1b6da"
            ],
            [
             0.4,
             "#fde0ef"
            ],
            [
             0.5,
             "#f7f7f7"
            ],
            [
             0.6,
             "#e6f5d0"
            ],
            [
             0.7,
             "#b8e186"
            ],
            [
             0.8,
             "#7fbc41"
            ],
            [
             0.9,
             "#4d9221"
            ],
            [
             1,
             "#276419"
            ]
           ],
           "sequential": [
            [
             0,
             "#0d0887"
            ],
            [
             0.1111111111111111,
             "#46039f"
            ],
            [
             0.2222222222222222,
             "#7201a8"
            ],
            [
             0.3333333333333333,
             "#9c179e"
            ],
            [
             0.4444444444444444,
             "#bd3786"
            ],
            [
             0.5555555555555556,
             "#d8576b"
            ],
            [
             0.6666666666666666,
             "#ed7953"
            ],
            [
             0.7777777777777778,
             "#fb9f3a"
            ],
            [
             0.8888888888888888,
             "#fdca26"
            ],
            [
             1,
             "#f0f921"
            ]
           ],
           "sequentialminus": [
            [
             0,
             "#0d0887"
            ],
            [
             0.1111111111111111,
             "#46039f"
            ],
            [
             0.2222222222222222,
             "#7201a8"
            ],
            [
             0.3333333333333333,
             "#9c179e"
            ],
            [
             0.4444444444444444,
             "#bd3786"
            ],
            [
             0.5555555555555556,
             "#d8576b"
            ],
            [
             0.6666666666666666,
             "#ed7953"
            ],
            [
             0.7777777777777778,
             "#fb9f3a"
            ],
            [
             0.8888888888888888,
             "#fdca26"
            ],
            [
             1,
             "#f0f921"
            ]
           ]
          },
          "colorway": [
           "#636efa",
           "#EF553B",
           "#00cc96",
           "#ab63fa",
           "#FFA15A",
           "#19d3f3",
           "#FF6692",
           "#B6E880",
           "#FF97FF",
           "#FECB52"
          ],
          "font": {
           "color": "#2a3f5f"
          },
          "geo": {
           "bgcolor": "white",
           "lakecolor": "white",
           "landcolor": "#E5ECF6",
           "showlakes": true,
           "showland": true,
           "subunitcolor": "white"
          },
          "hoverlabel": {
           "align": "left"
          },
          "hovermode": "closest",
          "mapbox": {
           "style": "light"
          },
          "paper_bgcolor": "white",
          "plot_bgcolor": "#E5ECF6",
          "polar": {
           "angularaxis": {
            "gridcolor": "white",
            "linecolor": "white",
            "ticks": ""
           },
           "bgcolor": "#E5ECF6",
           "radialaxis": {
            "gridcolor": "white",
            "linecolor": "white",
            "ticks": ""
           }
          },
          "scene": {
           "xaxis": {
            "backgroundcolor": "#E5ECF6",
            "gridcolor": "white",
            "gridwidth": 2,
            "linecolor": "white",
            "showbackground": true,
            "ticks": "",
            "zerolinecolor": "white"
           },
           "yaxis": {
            "backgroundcolor": "#E5ECF6",
            "gridcolor": "white",
            "gridwidth": 2,
            "linecolor": "white",
            "showbackground": true,
            "ticks": "",
            "zerolinecolor": "white"
           },
           "zaxis": {
            "backgroundcolor": "#E5ECF6",
            "gridcolor": "white",
            "gridwidth": 2,
            "linecolor": "white",
            "showbackground": true,
            "ticks": "",
            "zerolinecolor": "white"
           }
          },
          "shapedefaults": {
           "line": {
            "color": "#2a3f5f"
           }
          },
          "ternary": {
           "aaxis": {
            "gridcolor": "white",
            "linecolor": "white",
            "ticks": ""
           },
           "baxis": {
            "gridcolor": "white",
            "linecolor": "white",
            "ticks": ""
           },
           "bgcolor": "#E5ECF6",
           "caxis": {
            "gridcolor": "white",
            "linecolor": "white",
            "ticks": ""
           }
          },
          "title": {
           "x": 0.05
          },
          "xaxis": {
           "automargin": true,
           "gridcolor": "white",
           "linecolor": "white",
           "ticks": "",
           "title": {
            "standoff": 15
           },
           "zerolinecolor": "white",
           "zerolinewidth": 2
          },
          "yaxis": {
           "automargin": true,
           "gridcolor": "white",
           "linecolor": "white",
           "ticks": "",
           "title": {
            "standoff": 15
           },
           "zerolinecolor": "white",
           "zerolinewidth": 2
          }
         }
        },
        "title": {
         "text": "Einfluss des Augmentationsanteils auf die MDT (10 Trainingsgeräte)."
        },
        "width": 1000,
        "xaxis": {
         "anchor": "y",
         "domain": [
          0,
          1
         ],
         "title": {
          "text": "Augmentationsanteil"
         }
        },
        "yaxis": {
         "anchor": "x",
         "domain": [
          0,
          1
         ],
         "title": {
          "text": "MDT"
         }
        }
       }
      }
     },
     "metadata": {},
     "output_type": "display_data"
    },
    {
     "name": "stdout",
     "output_type": "stream",
     "text": [
      "{'DecisionTreeRegressor': {1: 40.14879123692488, 3: 37.22439872788711, 5: 39.18798672622202, 10: 38.83487448009507}, 'LinearRegression': {1: 40.1104876241037, 3: 40.82748314825521, 5: 39.1446920946921, 10: 36.63231035657506}, 'XGBRegressor': {1: 33.78362855461134, 3: 35.10179122574956, 5: 39.32321441480518, 10: 36.17763037615979}}\n",
      "                        1    3    5    10\n",
      "DecisionTreeRegressor 40.1 37.2 39.2 38.8\n",
      "LinearRegression      40.1 40.8 39.1 36.6\n",
      "XGBRegressor          33.8 35.1 39.3 36.2\n",
      "20\n"
     ]
    },
    {
     "data": {
      "application/vnd.plotly.v1+json": {
       "config": {
        "plotlyServerURL": "https://plot.ly"
       },
       "data": [
        {
         "alignmentgroup": "True",
         "hovertemplate": "params.model_class=LinearRegression<br>Augmentationsanteil=%{x}<br>metrics.mdt=%{y}<extra></extra>",
         "legendgroup": "LinearRegression",
         "marker": {
          "color": "#636efa"
         },
         "name": "LinearRegression",
         "notched": false,
         "offsetgroup": "LinearRegression",
         "orientation": "v",
         "showlegend": true,
         "type": "box",
         "x": [
          "1",
          "1",
          "1",
          "1",
          "1",
          "3",
          "3",
          "3",
          "3",
          "3",
          "5",
          "5",
          "5",
          "5",
          "5",
          "10",
          "10",
          "10",
          "10",
          "10"
         ],
         "x0": " ",
         "xaxis": "x",
         "y": [
          41.157703528565904,
          41.51123542373542,
          43.20023556331695,
          45.228297068428645,
          42.62668950736917,
          41.330672547913,
          41.56551991604075,
          40.7453202661536,
          40.55878629428325,
          39.89887203779867,
          39.23064266356949,
          41.06399258093744,
          38.61208228327904,
          40.3874440330855,
          41.28644955228354,
          37.17188995215311,
          37.473168704418704,
          41.91820723684211,
          38.42327765434949,
          38.29556623931624
         ],
         "y0": " ",
         "yaxis": "y"
        },
        {
         "alignmentgroup": "True",
         "hovertemplate": "params.model_class=DecisionTreeRegressor<br>Augmentationsanteil=%{x}<br>metrics.mdt=%{y}<extra></extra>",
         "legendgroup": "DecisionTreeRegressor",
         "marker": {
          "color": "#EF553B"
         },
         "name": "DecisionTreeRegressor",
         "notched": false,
         "offsetgroup": "DecisionTreeRegressor",
         "orientation": "v",
         "showlegend": true,
         "type": "box",
         "x": [
          "1",
          "1",
          "1",
          "1",
          "1",
          "3",
          "3",
          "3",
          "3",
          "3",
          "5",
          "5",
          "5",
          "5",
          "5",
          "10",
          "10",
          "10",
          "10",
          "10"
         ],
         "x0": " ",
         "xaxis": "x",
         "y": [
          42.34977561868318,
          41.66771115627823,
          41.23205388381283,
          39.095498674766965,
          41.163182858116414,
          40.88261027245115,
          38.76062779879136,
          38.64014068860094,
          37.87753719317861,
          40.36296830845512,
          40.987609805318144,
          40.90632515632515,
          38.34900071139567,
          37.70596064814815,
          39.808306513112825,
          39.83375197005516,
          39.55857907166047,
          36.35686697836868,
          42.007972528887066,
          38.85476997031875
         ],
         "y0": " ",
         "yaxis": "y"
        },
        {
         "alignmentgroup": "True",
         "hovertemplate": "params.model_class=XGBRegressor<br>Augmentationsanteil=%{x}<br>metrics.mdt=%{y}<extra></extra>",
         "legendgroup": "XGBRegressor",
         "marker": {
          "color": "#00cc96"
         },
         "name": "XGBRegressor",
         "notched": false,
         "offsetgroup": "XGBRegressor",
         "orientation": "v",
         "showlegend": true,
         "type": "box",
         "x": [
          "1",
          "1",
          "1",
          "1",
          "1",
          "3",
          "3",
          "3",
          "3",
          "3",
          "5",
          "5",
          "5",
          "5",
          "5",
          "10",
          "10",
          "10",
          "10",
          "10"
         ],
         "x0": " ",
         "xaxis": "x",
         "y": [
          35.01461968613131,
          37.25011363636364,
          38.76683006535948,
          34.82128382972936,
          40.00246314089025,
          37.14435513673318,
          36.431885608329765,
          39.267849349643775,
          37.23663899634644,
          37.080297962906656,
          37.97021116138764,
          37.18059110007639,
          40.6108693755589,
          38.343813649490805,
          38.91899348857741,
          37.24205173747857,
          37.05968671679198,
          39.26060764722138,
          37.48494632732593,
          36.27243358782783
         ],
         "y0": " ",
         "yaxis": "y"
        }
       ],
       "layout": {
        "boxmode": "group",
        "height": 600,
        "legend": {
         "title": {
          "text": "Modelltyp"
         },
         "tracegroupgap": 0
        },
        "template": {
         "data": {
          "bar": [
           {
            "error_x": {
             "color": "#2a3f5f"
            },
            "error_y": {
             "color": "#2a3f5f"
            },
            "marker": {
             "line": {
              "color": "#E5ECF6",
              "width": 0.5
             },
             "pattern": {
              "fillmode": "overlay",
              "size": 10,
              "solidity": 0.2
             }
            },
            "type": "bar"
           }
          ],
          "barpolar": [
           {
            "marker": {
             "line": {
              "color": "#E5ECF6",
              "width": 0.5
             },
             "pattern": {
              "fillmode": "overlay",
              "size": 10,
              "solidity": 0.2
             }
            },
            "type": "barpolar"
           }
          ],
          "carpet": [
           {
            "aaxis": {
             "endlinecolor": "#2a3f5f",
             "gridcolor": "white",
             "linecolor": "white",
             "minorgridcolor": "white",
             "startlinecolor": "#2a3f5f"
            },
            "baxis": {
             "endlinecolor": "#2a3f5f",
             "gridcolor": "white",
             "linecolor": "white",
             "minorgridcolor": "white",
             "startlinecolor": "#2a3f5f"
            },
            "type": "carpet"
           }
          ],
          "choropleth": [
           {
            "colorbar": {
             "outlinewidth": 0,
             "ticks": ""
            },
            "type": "choropleth"
           }
          ],
          "contour": [
           {
            "colorbar": {
             "outlinewidth": 0,
             "ticks": ""
            },
            "colorscale": [
             [
              0,
              "#0d0887"
             ],
             [
              0.1111111111111111,
              "#46039f"
             ],
             [
              0.2222222222222222,
              "#7201a8"
             ],
             [
              0.3333333333333333,
              "#9c179e"
             ],
             [
              0.4444444444444444,
              "#bd3786"
             ],
             [
              0.5555555555555556,
              "#d8576b"
             ],
             [
              0.6666666666666666,
              "#ed7953"
             ],
             [
              0.7777777777777778,
              "#fb9f3a"
             ],
             [
              0.8888888888888888,
              "#fdca26"
             ],
             [
              1,
              "#f0f921"
             ]
            ],
            "type": "contour"
           }
          ],
          "contourcarpet": [
           {
            "colorbar": {
             "outlinewidth": 0,
             "ticks": ""
            },
            "type": "contourcarpet"
           }
          ],
          "heatmap": [
           {
            "colorbar": {
             "outlinewidth": 0,
             "ticks": ""
            },
            "colorscale": [
             [
              0,
              "#0d0887"
             ],
             [
              0.1111111111111111,
              "#46039f"
             ],
             [
              0.2222222222222222,
              "#7201a8"
             ],
             [
              0.3333333333333333,
              "#9c179e"
             ],
             [
              0.4444444444444444,
              "#bd3786"
             ],
             [
              0.5555555555555556,
              "#d8576b"
             ],
             [
              0.6666666666666666,
              "#ed7953"
             ],
             [
              0.7777777777777778,
              "#fb9f3a"
             ],
             [
              0.8888888888888888,
              "#fdca26"
             ],
             [
              1,
              "#f0f921"
             ]
            ],
            "type": "heatmap"
           }
          ],
          "heatmapgl": [
           {
            "colorbar": {
             "outlinewidth": 0,
             "ticks": ""
            },
            "colorscale": [
             [
              0,
              "#0d0887"
             ],
             [
              0.1111111111111111,
              "#46039f"
             ],
             [
              0.2222222222222222,
              "#7201a8"
             ],
             [
              0.3333333333333333,
              "#9c179e"
             ],
             [
              0.4444444444444444,
              "#bd3786"
             ],
             [
              0.5555555555555556,
              "#d8576b"
             ],
             [
              0.6666666666666666,
              "#ed7953"
             ],
             [
              0.7777777777777778,
              "#fb9f3a"
             ],
             [
              0.8888888888888888,
              "#fdca26"
             ],
             [
              1,
              "#f0f921"
             ]
            ],
            "type": "heatmapgl"
           }
          ],
          "histogram": [
           {
            "marker": {
             "pattern": {
              "fillmode": "overlay",
              "size": 10,
              "solidity": 0.2
             }
            },
            "type": "histogram"
           }
          ],
          "histogram2d": [
           {
            "colorbar": {
             "outlinewidth": 0,
             "ticks": ""
            },
            "colorscale": [
             [
              0,
              "#0d0887"
             ],
             [
              0.1111111111111111,
              "#46039f"
             ],
             [
              0.2222222222222222,
              "#7201a8"
             ],
             [
              0.3333333333333333,
              "#9c179e"
             ],
             [
              0.4444444444444444,
              "#bd3786"
             ],
             [
              0.5555555555555556,
              "#d8576b"
             ],
             [
              0.6666666666666666,
              "#ed7953"
             ],
             [
              0.7777777777777778,
              "#fb9f3a"
             ],
             [
              0.8888888888888888,
              "#fdca26"
             ],
             [
              1,
              "#f0f921"
             ]
            ],
            "type": "histogram2d"
           }
          ],
          "histogram2dcontour": [
           {
            "colorbar": {
             "outlinewidth": 0,
             "ticks": ""
            },
            "colorscale": [
             [
              0,
              "#0d0887"
             ],
             [
              0.1111111111111111,
              "#46039f"
             ],
             [
              0.2222222222222222,
              "#7201a8"
             ],
             [
              0.3333333333333333,
              "#9c179e"
             ],
             [
              0.4444444444444444,
              "#bd3786"
             ],
             [
              0.5555555555555556,
              "#d8576b"
             ],
             [
              0.6666666666666666,
              "#ed7953"
             ],
             [
              0.7777777777777778,
              "#fb9f3a"
             ],
             [
              0.8888888888888888,
              "#fdca26"
             ],
             [
              1,
              "#f0f921"
             ]
            ],
            "type": "histogram2dcontour"
           }
          ],
          "mesh3d": [
           {
            "colorbar": {
             "outlinewidth": 0,
             "ticks": ""
            },
            "type": "mesh3d"
           }
          ],
          "parcoords": [
           {
            "line": {
             "colorbar": {
              "outlinewidth": 0,
              "ticks": ""
             }
            },
            "type": "parcoords"
           }
          ],
          "pie": [
           {
            "automargin": true,
            "type": "pie"
           }
          ],
          "scatter": [
           {
            "fillpattern": {
             "fillmode": "overlay",
             "size": 10,
             "solidity": 0.2
            },
            "type": "scatter"
           }
          ],
          "scatter3d": [
           {
            "line": {
             "colorbar": {
              "outlinewidth": 0,
              "ticks": ""
             }
            },
            "marker": {
             "colorbar": {
              "outlinewidth": 0,
              "ticks": ""
             }
            },
            "type": "scatter3d"
           }
          ],
          "scattercarpet": [
           {
            "marker": {
             "colorbar": {
              "outlinewidth": 0,
              "ticks": ""
             }
            },
            "type": "scattercarpet"
           }
          ],
          "scattergeo": [
           {
            "marker": {
             "colorbar": {
              "outlinewidth": 0,
              "ticks": ""
             }
            },
            "type": "scattergeo"
           }
          ],
          "scattergl": [
           {
            "marker": {
             "colorbar": {
              "outlinewidth": 0,
              "ticks": ""
             }
            },
            "type": "scattergl"
           }
          ],
          "scattermapbox": [
           {
            "marker": {
             "colorbar": {
              "outlinewidth": 0,
              "ticks": ""
             }
            },
            "type": "scattermapbox"
           }
          ],
          "scatterpolar": [
           {
            "marker": {
             "colorbar": {
              "outlinewidth": 0,
              "ticks": ""
             }
            },
            "type": "scatterpolar"
           }
          ],
          "scatterpolargl": [
           {
            "marker": {
             "colorbar": {
              "outlinewidth": 0,
              "ticks": ""
             }
            },
            "type": "scatterpolargl"
           }
          ],
          "scatterternary": [
           {
            "marker": {
             "colorbar": {
              "outlinewidth": 0,
              "ticks": ""
             }
            },
            "type": "scatterternary"
           }
          ],
          "surface": [
           {
            "colorbar": {
             "outlinewidth": 0,
             "ticks": ""
            },
            "colorscale": [
             [
              0,
              "#0d0887"
             ],
             [
              0.1111111111111111,
              "#46039f"
             ],
             [
              0.2222222222222222,
              "#7201a8"
             ],
             [
              0.3333333333333333,
              "#9c179e"
             ],
             [
              0.4444444444444444,
              "#bd3786"
             ],
             [
              0.5555555555555556,
              "#d8576b"
             ],
             [
              0.6666666666666666,
              "#ed7953"
             ],
             [
              0.7777777777777778,
              "#fb9f3a"
             ],
             [
              0.8888888888888888,
              "#fdca26"
             ],
             [
              1,
              "#f0f921"
             ]
            ],
            "type": "surface"
           }
          ],
          "table": [
           {
            "cells": {
             "fill": {
              "color": "#EBF0F8"
             },
             "line": {
              "color": "white"
             }
            },
            "header": {
             "fill": {
              "color": "#C8D4E3"
             },
             "line": {
              "color": "white"
             }
            },
            "type": "table"
           }
          ]
         },
         "layout": {
          "annotationdefaults": {
           "arrowcolor": "#2a3f5f",
           "arrowhead": 0,
           "arrowwidth": 1
          },
          "autotypenumbers": "strict",
          "coloraxis": {
           "colorbar": {
            "outlinewidth": 0,
            "ticks": ""
           }
          },
          "colorscale": {
           "diverging": [
            [
             0,
             "#8e0152"
            ],
            [
             0.1,
             "#c51b7d"
            ],
            [
             0.2,
             "#de77ae"
            ],
            [
             0.3,
             "#f1b6da"
            ],
            [
             0.4,
             "#fde0ef"
            ],
            [
             0.5,
             "#f7f7f7"
            ],
            [
             0.6,
             "#e6f5d0"
            ],
            [
             0.7,
             "#b8e186"
            ],
            [
             0.8,
             "#7fbc41"
            ],
            [
             0.9,
             "#4d9221"
            ],
            [
             1,
             "#276419"
            ]
           ],
           "sequential": [
            [
             0,
             "#0d0887"
            ],
            [
             0.1111111111111111,
             "#46039f"
            ],
            [
             0.2222222222222222,
             "#7201a8"
            ],
            [
             0.3333333333333333,
             "#9c179e"
            ],
            [
             0.4444444444444444,
             "#bd3786"
            ],
            [
             0.5555555555555556,
             "#d8576b"
            ],
            [
             0.6666666666666666,
             "#ed7953"
            ],
            [
             0.7777777777777778,
             "#fb9f3a"
            ],
            [
             0.8888888888888888,
             "#fdca26"
            ],
            [
             1,
             "#f0f921"
            ]
           ],
           "sequentialminus": [
            [
             0,
             "#0d0887"
            ],
            [
             0.1111111111111111,
             "#46039f"
            ],
            [
             0.2222222222222222,
             "#7201a8"
            ],
            [
             0.3333333333333333,
             "#9c179e"
            ],
            [
             0.4444444444444444,
             "#bd3786"
            ],
            [
             0.5555555555555556,
             "#d8576b"
            ],
            [
             0.6666666666666666,
             "#ed7953"
            ],
            [
             0.7777777777777778,
             "#fb9f3a"
            ],
            [
             0.8888888888888888,
             "#fdca26"
            ],
            [
             1,
             "#f0f921"
            ]
           ]
          },
          "colorway": [
           "#636efa",
           "#EF553B",
           "#00cc96",
           "#ab63fa",
           "#FFA15A",
           "#19d3f3",
           "#FF6692",
           "#B6E880",
           "#FF97FF",
           "#FECB52"
          ],
          "font": {
           "color": "#2a3f5f"
          },
          "geo": {
           "bgcolor": "white",
           "lakecolor": "white",
           "landcolor": "#E5ECF6",
           "showlakes": true,
           "showland": true,
           "subunitcolor": "white"
          },
          "hoverlabel": {
           "align": "left"
          },
          "hovermode": "closest",
          "mapbox": {
           "style": "light"
          },
          "paper_bgcolor": "white",
          "plot_bgcolor": "#E5ECF6",
          "polar": {
           "angularaxis": {
            "gridcolor": "white",
            "linecolor": "white",
            "ticks": ""
           },
           "bgcolor": "#E5ECF6",
           "radialaxis": {
            "gridcolor": "white",
            "linecolor": "white",
            "ticks": ""
           }
          },
          "scene": {
           "xaxis": {
            "backgroundcolor": "#E5ECF6",
            "gridcolor": "white",
            "gridwidth": 2,
            "linecolor": "white",
            "showbackground": true,
            "ticks": "",
            "zerolinecolor": "white"
           },
           "yaxis": {
            "backgroundcolor": "#E5ECF6",
            "gridcolor": "white",
            "gridwidth": 2,
            "linecolor": "white",
            "showbackground": true,
            "ticks": "",
            "zerolinecolor": "white"
           },
           "zaxis": {
            "backgroundcolor": "#E5ECF6",
            "gridcolor": "white",
            "gridwidth": 2,
            "linecolor": "white",
            "showbackground": true,
            "ticks": "",
            "zerolinecolor": "white"
           }
          },
          "shapedefaults": {
           "line": {
            "color": "#2a3f5f"
           }
          },
          "ternary": {
           "aaxis": {
            "gridcolor": "white",
            "linecolor": "white",
            "ticks": ""
           },
           "baxis": {
            "gridcolor": "white",
            "linecolor": "white",
            "ticks": ""
           },
           "bgcolor": "#E5ECF6",
           "caxis": {
            "gridcolor": "white",
            "linecolor": "white",
            "ticks": ""
           }
          },
          "title": {
           "x": 0.05
          },
          "xaxis": {
           "automargin": true,
           "gridcolor": "white",
           "linecolor": "white",
           "ticks": "",
           "title": {
            "standoff": 15
           },
           "zerolinecolor": "white",
           "zerolinewidth": 2
          },
          "yaxis": {
           "automargin": true,
           "gridcolor": "white",
           "linecolor": "white",
           "ticks": "",
           "title": {
            "standoff": 15
           },
           "zerolinecolor": "white",
           "zerolinewidth": 2
          }
         }
        },
        "title": {
         "text": "Einfluss des Augmentationsanteils auf die MDT (20 Trainingsgeräte)."
        },
        "width": 1000,
        "xaxis": {
         "anchor": "y",
         "domain": [
          0,
          1
         ],
         "title": {
          "text": "Augmentationsanteil"
         }
        },
        "yaxis": {
         "anchor": "x",
         "domain": [
          0,
          1
         ],
         "title": {
          "text": "MDT"
         }
        }
       }
      }
     },
     "metadata": {},
     "output_type": "display_data"
    },
    {
     "name": "stdout",
     "output_type": "stream",
     "text": [
      "{'DecisionTreeRegressor': {1: 41.23205388381283, 3: 38.76062779879136, 5: 39.808306513112825, 10: 39.55857907166047}, 'LinearRegression': {1: 42.62668950736917, 3: 40.7453202661536, 5: 40.3874440330855, 10: 38.29556623931624}, 'XGBRegressor': {1: 37.25011363636364, 3: 37.14435513673318, 5: 38.343813649490805, 10: 37.24205173747857}}\n",
      "                        1    3    5    10\n",
      "DecisionTreeRegressor 41.2 38.8 39.8 39.6\n",
      "LinearRegression      42.6 40.7 40.4 38.3\n",
      "XGBRegressor          37.3 37.1 38.3 37.2\n",
      "40\n"
     ]
    },
    {
     "data": {
      "application/vnd.plotly.v1+json": {
       "config": {
        "plotlyServerURL": "https://plot.ly"
       },
       "data": [
        {
         "alignmentgroup": "True",
         "hovertemplate": "params.model_class=LinearRegression<br>Augmentationsanteil=%{x}<br>metrics.mdt=%{y}<extra></extra>",
         "legendgroup": "LinearRegression",
         "marker": {
          "color": "#636efa"
         },
         "name": "LinearRegression",
         "notched": false,
         "offsetgroup": "LinearRegression",
         "orientation": "v",
         "showlegend": true,
         "type": "box",
         "x": [
          "1",
          "1",
          "1",
          "1",
          "1",
          "3",
          "3",
          "3",
          "3",
          "3",
          "5",
          "5",
          "5",
          "5",
          "5",
          "10",
          "10",
          "10",
          "10",
          "10"
         ],
         "x0": " ",
         "xaxis": "x",
         "y": [
          45.30917739059186,
          44.46190199709172,
          42.91389858575008,
          43.08849713088844,
          44.238411007161005,
          42.07093610523843,
          40.65105378925682,
          41.19815887896459,
          40.92522806190716,
          40.41606968810916,
          38.51840512070776,
          38.441926602682415,
          40.411506786289394,
          38.06774467054264,
          41.08353996423595,
          38.31523205476694,
          37.14565448311578,
          38.68167850121108,
          39.08961794515103,
          40.762923787160645
         ],
         "y0": " ",
         "yaxis": "y"
        },
        {
         "alignmentgroup": "True",
         "hovertemplate": "params.model_class=DecisionTreeRegressor<br>Augmentationsanteil=%{x}<br>metrics.mdt=%{y}<extra></extra>",
         "legendgroup": "DecisionTreeRegressor",
         "marker": {
          "color": "#EF553B"
         },
         "name": "DecisionTreeRegressor",
         "notched": false,
         "offsetgroup": "DecisionTreeRegressor",
         "orientation": "v",
         "showlegend": true,
         "type": "box",
         "x": [
          "1",
          "1",
          "1",
          "1",
          "1",
          "3",
          "3",
          "3",
          "3",
          "3",
          "5",
          "5",
          "5",
          "5",
          "5",
          "10",
          "10",
          "10",
          "10",
          "10"
         ],
         "x0": " ",
         "xaxis": "x",
         "y": [
          41.15450765701392,
          43.3637134814612,
          44.18936688311688,
          42.51075409265064,
          42.45256073086551,
          38.41148252663199,
          38.58560929350403,
          41.029348530920856,
          42.19769945909398,
          41.66945971195301,
          39.24079482677618,
          39.848531996846205,
          37.93835176640055,
          43.36301724137932,
          37.83748138717651,
          39.46922183507549,
          38.88475556161726,
          38.87556022408964,
          38.078039489320446,
          38.46348881245223
         ],
         "y0": " ",
         "yaxis": "y"
        },
        {
         "alignmentgroup": "True",
         "hovertemplate": "params.model_class=XGBRegressor<br>Augmentationsanteil=%{x}<br>metrics.mdt=%{y}<extra></extra>",
         "legendgroup": "XGBRegressor",
         "marker": {
          "color": "#00cc96"
         },
         "name": "XGBRegressor",
         "notched": false,
         "offsetgroup": "XGBRegressor",
         "orientation": "v",
         "showlegend": true,
         "type": "box",
         "x": [
          "1",
          "1",
          "1",
          "1",
          "1",
          "3",
          "3",
          "3",
          "3",
          "3",
          "5",
          "5",
          "5",
          "5",
          "5",
          "10",
          "10",
          "10",
          "10",
          "10"
         ],
         "x0": " ",
         "xaxis": "x",
         "y": [
          41.47405020405021,
          39.93310582786389,
          35.92123267559314,
          40.144845706618966,
          34.70780598977943,
          41.743625265253726,
          40.46476680206264,
          38.47076403326403,
          39.16195878562495,
          38.09567311140233,
          43.6450151660281,
          40.38175281925282,
          40.43190345905804,
          41.51161731584526,
          38.27783938144014,
          38.69929686558108,
          39.543864693940975,
          39.56659883007247,
          40.78956839904421,
          43.25356187929717
         ],
         "y0": " ",
         "yaxis": "y"
        }
       ],
       "layout": {
        "boxmode": "group",
        "height": 600,
        "legend": {
         "title": {
          "text": "Modelltyp"
         },
         "tracegroupgap": 0
        },
        "template": {
         "data": {
          "bar": [
           {
            "error_x": {
             "color": "#2a3f5f"
            },
            "error_y": {
             "color": "#2a3f5f"
            },
            "marker": {
             "line": {
              "color": "#E5ECF6",
              "width": 0.5
             },
             "pattern": {
              "fillmode": "overlay",
              "size": 10,
              "solidity": 0.2
             }
            },
            "type": "bar"
           }
          ],
          "barpolar": [
           {
            "marker": {
             "line": {
              "color": "#E5ECF6",
              "width": 0.5
             },
             "pattern": {
              "fillmode": "overlay",
              "size": 10,
              "solidity": 0.2
             }
            },
            "type": "barpolar"
           }
          ],
          "carpet": [
           {
            "aaxis": {
             "endlinecolor": "#2a3f5f",
             "gridcolor": "white",
             "linecolor": "white",
             "minorgridcolor": "white",
             "startlinecolor": "#2a3f5f"
            },
            "baxis": {
             "endlinecolor": "#2a3f5f",
             "gridcolor": "white",
             "linecolor": "white",
             "minorgridcolor": "white",
             "startlinecolor": "#2a3f5f"
            },
            "type": "carpet"
           }
          ],
          "choropleth": [
           {
            "colorbar": {
             "outlinewidth": 0,
             "ticks": ""
            },
            "type": "choropleth"
           }
          ],
          "contour": [
           {
            "colorbar": {
             "outlinewidth": 0,
             "ticks": ""
            },
            "colorscale": [
             [
              0,
              "#0d0887"
             ],
             [
              0.1111111111111111,
              "#46039f"
             ],
             [
              0.2222222222222222,
              "#7201a8"
             ],
             [
              0.3333333333333333,
              "#9c179e"
             ],
             [
              0.4444444444444444,
              "#bd3786"
             ],
             [
              0.5555555555555556,
              "#d8576b"
             ],
             [
              0.6666666666666666,
              "#ed7953"
             ],
             [
              0.7777777777777778,
              "#fb9f3a"
             ],
             [
              0.8888888888888888,
              "#fdca26"
             ],
             [
              1,
              "#f0f921"
             ]
            ],
            "type": "contour"
           }
          ],
          "contourcarpet": [
           {
            "colorbar": {
             "outlinewidth": 0,
             "ticks": ""
            },
            "type": "contourcarpet"
           }
          ],
          "heatmap": [
           {
            "colorbar": {
             "outlinewidth": 0,
             "ticks": ""
            },
            "colorscale": [
             [
              0,
              "#0d0887"
             ],
             [
              0.1111111111111111,
              "#46039f"
             ],
             [
              0.2222222222222222,
              "#7201a8"
             ],
             [
              0.3333333333333333,
              "#9c179e"
             ],
             [
              0.4444444444444444,
              "#bd3786"
             ],
             [
              0.5555555555555556,
              "#d8576b"
             ],
             [
              0.6666666666666666,
              "#ed7953"
             ],
             [
              0.7777777777777778,
              "#fb9f3a"
             ],
             [
              0.8888888888888888,
              "#fdca26"
             ],
             [
              1,
              "#f0f921"
             ]
            ],
            "type": "heatmap"
           }
          ],
          "heatmapgl": [
           {
            "colorbar": {
             "outlinewidth": 0,
             "ticks": ""
            },
            "colorscale": [
             [
              0,
              "#0d0887"
             ],
             [
              0.1111111111111111,
              "#46039f"
             ],
             [
              0.2222222222222222,
              "#7201a8"
             ],
             [
              0.3333333333333333,
              "#9c179e"
             ],
             [
              0.4444444444444444,
              "#bd3786"
             ],
             [
              0.5555555555555556,
              "#d8576b"
             ],
             [
              0.6666666666666666,
              "#ed7953"
             ],
             [
              0.7777777777777778,
              "#fb9f3a"
             ],
             [
              0.8888888888888888,
              "#fdca26"
             ],
             [
              1,
              "#f0f921"
             ]
            ],
            "type": "heatmapgl"
           }
          ],
          "histogram": [
           {
            "marker": {
             "pattern": {
              "fillmode": "overlay",
              "size": 10,
              "solidity": 0.2
             }
            },
            "type": "histogram"
           }
          ],
          "histogram2d": [
           {
            "colorbar": {
             "outlinewidth": 0,
             "ticks": ""
            },
            "colorscale": [
             [
              0,
              "#0d0887"
             ],
             [
              0.1111111111111111,
              "#46039f"
             ],
             [
              0.2222222222222222,
              "#7201a8"
             ],
             [
              0.3333333333333333,
              "#9c179e"
             ],
             [
              0.4444444444444444,
              "#bd3786"
             ],
             [
              0.5555555555555556,
              "#d8576b"
             ],
             [
              0.6666666666666666,
              "#ed7953"
             ],
             [
              0.7777777777777778,
              "#fb9f3a"
             ],
             [
              0.8888888888888888,
              "#fdca26"
             ],
             [
              1,
              "#f0f921"
             ]
            ],
            "type": "histogram2d"
           }
          ],
          "histogram2dcontour": [
           {
            "colorbar": {
             "outlinewidth": 0,
             "ticks": ""
            },
            "colorscale": [
             [
              0,
              "#0d0887"
             ],
             [
              0.1111111111111111,
              "#46039f"
             ],
             [
              0.2222222222222222,
              "#7201a8"
             ],
             [
              0.3333333333333333,
              "#9c179e"
             ],
             [
              0.4444444444444444,
              "#bd3786"
             ],
             [
              0.5555555555555556,
              "#d8576b"
             ],
             [
              0.6666666666666666,
              "#ed7953"
             ],
             [
              0.7777777777777778,
              "#fb9f3a"
             ],
             [
              0.8888888888888888,
              "#fdca26"
             ],
             [
              1,
              "#f0f921"
             ]
            ],
            "type": "histogram2dcontour"
           }
          ],
          "mesh3d": [
           {
            "colorbar": {
             "outlinewidth": 0,
             "ticks": ""
            },
            "type": "mesh3d"
           }
          ],
          "parcoords": [
           {
            "line": {
             "colorbar": {
              "outlinewidth": 0,
              "ticks": ""
             }
            },
            "type": "parcoords"
           }
          ],
          "pie": [
           {
            "automargin": true,
            "type": "pie"
           }
          ],
          "scatter": [
           {
            "fillpattern": {
             "fillmode": "overlay",
             "size": 10,
             "solidity": 0.2
            },
            "type": "scatter"
           }
          ],
          "scatter3d": [
           {
            "line": {
             "colorbar": {
              "outlinewidth": 0,
              "ticks": ""
             }
            },
            "marker": {
             "colorbar": {
              "outlinewidth": 0,
              "ticks": ""
             }
            },
            "type": "scatter3d"
           }
          ],
          "scattercarpet": [
           {
            "marker": {
             "colorbar": {
              "outlinewidth": 0,
              "ticks": ""
             }
            },
            "type": "scattercarpet"
           }
          ],
          "scattergeo": [
           {
            "marker": {
             "colorbar": {
              "outlinewidth": 0,
              "ticks": ""
             }
            },
            "type": "scattergeo"
           }
          ],
          "scattergl": [
           {
            "marker": {
             "colorbar": {
              "outlinewidth": 0,
              "ticks": ""
             }
            },
            "type": "scattergl"
           }
          ],
          "scattermapbox": [
           {
            "marker": {
             "colorbar": {
              "outlinewidth": 0,
              "ticks": ""
             }
            },
            "type": "scattermapbox"
           }
          ],
          "scatterpolar": [
           {
            "marker": {
             "colorbar": {
              "outlinewidth": 0,
              "ticks": ""
             }
            },
            "type": "scatterpolar"
           }
          ],
          "scatterpolargl": [
           {
            "marker": {
             "colorbar": {
              "outlinewidth": 0,
              "ticks": ""
             }
            },
            "type": "scatterpolargl"
           }
          ],
          "scatterternary": [
           {
            "marker": {
             "colorbar": {
              "outlinewidth": 0,
              "ticks": ""
             }
            },
            "type": "scatterternary"
           }
          ],
          "surface": [
           {
            "colorbar": {
             "outlinewidth": 0,
             "ticks": ""
            },
            "colorscale": [
             [
              0,
              "#0d0887"
             ],
             [
              0.1111111111111111,
              "#46039f"
             ],
             [
              0.2222222222222222,
              "#7201a8"
             ],
             [
              0.3333333333333333,
              "#9c179e"
             ],
             [
              0.4444444444444444,
              "#bd3786"
             ],
             [
              0.5555555555555556,
              "#d8576b"
             ],
             [
              0.6666666666666666,
              "#ed7953"
             ],
             [
              0.7777777777777778,
              "#fb9f3a"
             ],
             [
              0.8888888888888888,
              "#fdca26"
             ],
             [
              1,
              "#f0f921"
             ]
            ],
            "type": "surface"
           }
          ],
          "table": [
           {
            "cells": {
             "fill": {
              "color": "#EBF0F8"
             },
             "line": {
              "color": "white"
             }
            },
            "header": {
             "fill": {
              "color": "#C8D4E3"
             },
             "line": {
              "color": "white"
             }
            },
            "type": "table"
           }
          ]
         },
         "layout": {
          "annotationdefaults": {
           "arrowcolor": "#2a3f5f",
           "arrowhead": 0,
           "arrowwidth": 1
          },
          "autotypenumbers": "strict",
          "coloraxis": {
           "colorbar": {
            "outlinewidth": 0,
            "ticks": ""
           }
          },
          "colorscale": {
           "diverging": [
            [
             0,
             "#8e0152"
            ],
            [
             0.1,
             "#c51b7d"
            ],
            [
             0.2,
             "#de77ae"
            ],
            [
             0.3,
             "#f1b6da"
            ],
            [
             0.4,
             "#fde0ef"
            ],
            [
             0.5,
             "#f7f7f7"
            ],
            [
             0.6,
             "#e6f5d0"
            ],
            [
             0.7,
             "#b8e186"
            ],
            [
             0.8,
             "#7fbc41"
            ],
            [
             0.9,
             "#4d9221"
            ],
            [
             1,
             "#276419"
            ]
           ],
           "sequential": [
            [
             0,
             "#0d0887"
            ],
            [
             0.1111111111111111,
             "#46039f"
            ],
            [
             0.2222222222222222,
             "#7201a8"
            ],
            [
             0.3333333333333333,
             "#9c179e"
            ],
            [
             0.4444444444444444,
             "#bd3786"
            ],
            [
             0.5555555555555556,
             "#d8576b"
            ],
            [
             0.6666666666666666,
             "#ed7953"
            ],
            [
             0.7777777777777778,
             "#fb9f3a"
            ],
            [
             0.8888888888888888,
             "#fdca26"
            ],
            [
             1,
             "#f0f921"
            ]
           ],
           "sequentialminus": [
            [
             0,
             "#0d0887"
            ],
            [
             0.1111111111111111,
             "#46039f"
            ],
            [
             0.2222222222222222,
             "#7201a8"
            ],
            [
             0.3333333333333333,
             "#9c179e"
            ],
            [
             0.4444444444444444,
             "#bd3786"
            ],
            [
             0.5555555555555556,
             "#d8576b"
            ],
            [
             0.6666666666666666,
             "#ed7953"
            ],
            [
             0.7777777777777778,
             "#fb9f3a"
            ],
            [
             0.8888888888888888,
             "#fdca26"
            ],
            [
             1,
             "#f0f921"
            ]
           ]
          },
          "colorway": [
           "#636efa",
           "#EF553B",
           "#00cc96",
           "#ab63fa",
           "#FFA15A",
           "#19d3f3",
           "#FF6692",
           "#B6E880",
           "#FF97FF",
           "#FECB52"
          ],
          "font": {
           "color": "#2a3f5f"
          },
          "geo": {
           "bgcolor": "white",
           "lakecolor": "white",
           "landcolor": "#E5ECF6",
           "showlakes": true,
           "showland": true,
           "subunitcolor": "white"
          },
          "hoverlabel": {
           "align": "left"
          },
          "hovermode": "closest",
          "mapbox": {
           "style": "light"
          },
          "paper_bgcolor": "white",
          "plot_bgcolor": "#E5ECF6",
          "polar": {
           "angularaxis": {
            "gridcolor": "white",
            "linecolor": "white",
            "ticks": ""
           },
           "bgcolor": "#E5ECF6",
           "radialaxis": {
            "gridcolor": "white",
            "linecolor": "white",
            "ticks": ""
           }
          },
          "scene": {
           "xaxis": {
            "backgroundcolor": "#E5ECF6",
            "gridcolor": "white",
            "gridwidth": 2,
            "linecolor": "white",
            "showbackground": true,
            "ticks": "",
            "zerolinecolor": "white"
           },
           "yaxis": {
            "backgroundcolor": "#E5ECF6",
            "gridcolor": "white",
            "gridwidth": 2,
            "linecolor": "white",
            "showbackground": true,
            "ticks": "",
            "zerolinecolor": "white"
           },
           "zaxis": {
            "backgroundcolor": "#E5ECF6",
            "gridcolor": "white",
            "gridwidth": 2,
            "linecolor": "white",
            "showbackground": true,
            "ticks": "",
            "zerolinecolor": "white"
           }
          },
          "shapedefaults": {
           "line": {
            "color": "#2a3f5f"
           }
          },
          "ternary": {
           "aaxis": {
            "gridcolor": "white",
            "linecolor": "white",
            "ticks": ""
           },
           "baxis": {
            "gridcolor": "white",
            "linecolor": "white",
            "ticks": ""
           },
           "bgcolor": "#E5ECF6",
           "caxis": {
            "gridcolor": "white",
            "linecolor": "white",
            "ticks": ""
           }
          },
          "title": {
           "x": 0.05
          },
          "xaxis": {
           "automargin": true,
           "gridcolor": "white",
           "linecolor": "white",
           "ticks": "",
           "title": {
            "standoff": 15
           },
           "zerolinecolor": "white",
           "zerolinewidth": 2
          },
          "yaxis": {
           "automargin": true,
           "gridcolor": "white",
           "linecolor": "white",
           "ticks": "",
           "title": {
            "standoff": 15
           },
           "zerolinecolor": "white",
           "zerolinewidth": 2
          }
         }
        },
        "title": {
         "text": "Einfluss des Augmentationsanteils auf die MDT (40 Trainingsgeräte)."
        },
        "width": 1000,
        "xaxis": {
         "anchor": "y",
         "domain": [
          0,
          1
         ],
         "title": {
          "text": "Augmentationsanteil"
         }
        },
        "yaxis": {
         "anchor": "x",
         "domain": [
          0,
          1
         ],
         "title": {
          "text": "MDT"
         }
        }
       }
      }
     },
     "metadata": {},
     "output_type": "display_data"
    },
    {
     "name": "stdout",
     "output_type": "stream",
     "text": [
      "{'DecisionTreeRegressor': {1: 42.51075409265064, 3: 41.029348530920856, 5: 39.24079482677618, 10: 38.87556022408964}, 'LinearRegression': {1: 44.238411007161005, 3: 40.92522806190716, 5: 38.51840512070776, 10: 38.68167850121108}, 'XGBRegressor': {1: 39.93310582786389, 3: 39.16195878562495, 5: 40.43190345905804, 10: 39.56659883007247}}\n",
      "                        1    3    5    10\n",
      "DecisionTreeRegressor 42.5 41.0 39.2 38.9\n",
      "LinearRegression      44.2 40.9 38.5 38.7\n",
      "XGBRegressor          39.9 39.2 40.4 39.6\n",
      "63\n"
     ]
    },
    {
     "data": {
      "application/vnd.plotly.v1+json": {
       "config": {
        "plotlyServerURL": "https://plot.ly"
       },
       "data": [
        {
         "alignmentgroup": "True",
         "hovertemplate": "params.model_class=LinearRegression<br>Augmentationsanteil=%{x}<br>metrics.mdt=%{y}<extra></extra>",
         "legendgroup": "LinearRegression",
         "marker": {
          "color": "#636efa"
         },
         "name": "LinearRegression",
         "notched": false,
         "offsetgroup": "LinearRegression",
         "orientation": "v",
         "showlegend": true,
         "type": "box",
         "x": [
          "1",
          "1",
          "1",
          "1",
          "1",
          "3",
          "3",
          "3",
          "3",
          "3",
          "5",
          "5",
          "5",
          "5",
          "5",
          "10",
          "10",
          "10",
          "10",
          "10"
         ],
         "x0": " ",
         "xaxis": "x",
         "y": [
          42.85456032331032,
          41.81583979328165,
          42.2035548762293,
          43.64580378250591,
          43.00628812173804,
          40.63515502113063,
          40.09388053467001,
          40.26500711697722,
          42.47623317619731,
          39.64481981981982,
          38.57652474695082,
          39.24985974945533,
          38.758569726888695,
          38.2135462455103,
          37.95176366356424,
          36.77001064653504,
          36.06530190905191,
          36.73352573352573,
          36.66751443001444,
          38.17695455503805
         ],
         "y0": " ",
         "yaxis": "y"
        },
        {
         "alignmentgroup": "True",
         "hovertemplate": "params.model_class=DecisionTreeRegressor<br>Augmentationsanteil=%{x}<br>metrics.mdt=%{y}<extra></extra>",
         "legendgroup": "DecisionTreeRegressor",
         "marker": {
          "color": "#EF553B"
         },
         "name": "DecisionTreeRegressor",
         "notched": false,
         "offsetgroup": "DecisionTreeRegressor",
         "orientation": "v",
         "showlegend": true,
         "type": "box",
         "x": [
          "1",
          "1",
          "1",
          "1",
          "1",
          "3",
          "3",
          "3",
          "3",
          "3",
          "5",
          "5",
          "5",
          "5",
          "5",
          "10",
          "10",
          "10",
          "10",
          "10"
         ],
         "x0": " ",
         "xaxis": "x",
         "y": [
          44.03686876215946,
          39.87224298861128,
          41.48323722771397,
          44.0281410350688,
          42.228750944822366,
          39.33614891215107,
          41.02806296929963,
          39.325163906142166,
          37.971591000660766,
          38.56424634733458,
          39.34894867589027,
          38.01100185984135,
          37.15997557659143,
          37.90609217171717,
          39.72307347670251,
          36.37890622970411,
          38.03799635384457,
          37.551867041498376,
          39.07393717393717,
          36.14329566860346
         ],
         "y0": " ",
         "yaxis": "y"
        },
        {
         "alignmentgroup": "True",
         "hovertemplate": "params.model_class=XGBRegressor<br>Augmentationsanteil=%{x}<br>metrics.mdt=%{y}<extra></extra>",
         "legendgroup": "XGBRegressor",
         "marker": {
          "color": "#00cc96"
         },
         "name": "XGBRegressor",
         "notched": false,
         "offsetgroup": "XGBRegressor",
         "orientation": "v",
         "showlegend": true,
         "type": "box",
         "x": [
          "1",
          "1",
          "1",
          "1",
          "1",
          "3",
          "3",
          "3",
          "3",
          "3",
          "5",
          "5",
          "5",
          "5",
          "5",
          "10",
          "10",
          "10",
          "10",
          "10"
         ],
         "x0": " ",
         "xaxis": "x",
         "y": [
          40.66411789964422,
          37.97153107083674,
          40.12081497161154,
          38.20968709923452,
          39.86637856897145,
          38.33663243075008,
          40.47328296703297,
          39.39952468702469,
          41.70154330764087,
          39.05700757575757,
          38.46075701052659,
          39.346428571428575,
          38.17257786762504,
          38.95437448726922,
          39.24027565571683,
          39.970631720430106,
          39.58585761085761,
          36.20452155221062,
          38.81423212005109,
          40.83303376906318
         ],
         "y0": " ",
         "yaxis": "y"
        }
       ],
       "layout": {
        "boxmode": "group",
        "height": 600,
        "legend": {
         "title": {
          "text": "Modelltyp"
         },
         "tracegroupgap": 0
        },
        "template": {
         "data": {
          "bar": [
           {
            "error_x": {
             "color": "#2a3f5f"
            },
            "error_y": {
             "color": "#2a3f5f"
            },
            "marker": {
             "line": {
              "color": "#E5ECF6",
              "width": 0.5
             },
             "pattern": {
              "fillmode": "overlay",
              "size": 10,
              "solidity": 0.2
             }
            },
            "type": "bar"
           }
          ],
          "barpolar": [
           {
            "marker": {
             "line": {
              "color": "#E5ECF6",
              "width": 0.5
             },
             "pattern": {
              "fillmode": "overlay",
              "size": 10,
              "solidity": 0.2
             }
            },
            "type": "barpolar"
           }
          ],
          "carpet": [
           {
            "aaxis": {
             "endlinecolor": "#2a3f5f",
             "gridcolor": "white",
             "linecolor": "white",
             "minorgridcolor": "white",
             "startlinecolor": "#2a3f5f"
            },
            "baxis": {
             "endlinecolor": "#2a3f5f",
             "gridcolor": "white",
             "linecolor": "white",
             "minorgridcolor": "white",
             "startlinecolor": "#2a3f5f"
            },
            "type": "carpet"
           }
          ],
          "choropleth": [
           {
            "colorbar": {
             "outlinewidth": 0,
             "ticks": ""
            },
            "type": "choropleth"
           }
          ],
          "contour": [
           {
            "colorbar": {
             "outlinewidth": 0,
             "ticks": ""
            },
            "colorscale": [
             [
              0,
              "#0d0887"
             ],
             [
              0.1111111111111111,
              "#46039f"
             ],
             [
              0.2222222222222222,
              "#7201a8"
             ],
             [
              0.3333333333333333,
              "#9c179e"
             ],
             [
              0.4444444444444444,
              "#bd3786"
             ],
             [
              0.5555555555555556,
              "#d8576b"
             ],
             [
              0.6666666666666666,
              "#ed7953"
             ],
             [
              0.7777777777777778,
              "#fb9f3a"
             ],
             [
              0.8888888888888888,
              "#fdca26"
             ],
             [
              1,
              "#f0f921"
             ]
            ],
            "type": "contour"
           }
          ],
          "contourcarpet": [
           {
            "colorbar": {
             "outlinewidth": 0,
             "ticks": ""
            },
            "type": "contourcarpet"
           }
          ],
          "heatmap": [
           {
            "colorbar": {
             "outlinewidth": 0,
             "ticks": ""
            },
            "colorscale": [
             [
              0,
              "#0d0887"
             ],
             [
              0.1111111111111111,
              "#46039f"
             ],
             [
              0.2222222222222222,
              "#7201a8"
             ],
             [
              0.3333333333333333,
              "#9c179e"
             ],
             [
              0.4444444444444444,
              "#bd3786"
             ],
             [
              0.5555555555555556,
              "#d8576b"
             ],
             [
              0.6666666666666666,
              "#ed7953"
             ],
             [
              0.7777777777777778,
              "#fb9f3a"
             ],
             [
              0.8888888888888888,
              "#fdca26"
             ],
             [
              1,
              "#f0f921"
             ]
            ],
            "type": "heatmap"
           }
          ],
          "heatmapgl": [
           {
            "colorbar": {
             "outlinewidth": 0,
             "ticks": ""
            },
            "colorscale": [
             [
              0,
              "#0d0887"
             ],
             [
              0.1111111111111111,
              "#46039f"
             ],
             [
              0.2222222222222222,
              "#7201a8"
             ],
             [
              0.3333333333333333,
              "#9c179e"
             ],
             [
              0.4444444444444444,
              "#bd3786"
             ],
             [
              0.5555555555555556,
              "#d8576b"
             ],
             [
              0.6666666666666666,
              "#ed7953"
             ],
             [
              0.7777777777777778,
              "#fb9f3a"
             ],
             [
              0.8888888888888888,
              "#fdca26"
             ],
             [
              1,
              "#f0f921"
             ]
            ],
            "type": "heatmapgl"
           }
          ],
          "histogram": [
           {
            "marker": {
             "pattern": {
              "fillmode": "overlay",
              "size": 10,
              "solidity": 0.2
             }
            },
            "type": "histogram"
           }
          ],
          "histogram2d": [
           {
            "colorbar": {
             "outlinewidth": 0,
             "ticks": ""
            },
            "colorscale": [
             [
              0,
              "#0d0887"
             ],
             [
              0.1111111111111111,
              "#46039f"
             ],
             [
              0.2222222222222222,
              "#7201a8"
             ],
             [
              0.3333333333333333,
              "#9c179e"
             ],
             [
              0.4444444444444444,
              "#bd3786"
             ],
             [
              0.5555555555555556,
              "#d8576b"
             ],
             [
              0.6666666666666666,
              "#ed7953"
             ],
             [
              0.7777777777777778,
              "#fb9f3a"
             ],
             [
              0.8888888888888888,
              "#fdca26"
             ],
             [
              1,
              "#f0f921"
             ]
            ],
            "type": "histogram2d"
           }
          ],
          "histogram2dcontour": [
           {
            "colorbar": {
             "outlinewidth": 0,
             "ticks": ""
            },
            "colorscale": [
             [
              0,
              "#0d0887"
             ],
             [
              0.1111111111111111,
              "#46039f"
             ],
             [
              0.2222222222222222,
              "#7201a8"
             ],
             [
              0.3333333333333333,
              "#9c179e"
             ],
             [
              0.4444444444444444,
              "#bd3786"
             ],
             [
              0.5555555555555556,
              "#d8576b"
             ],
             [
              0.6666666666666666,
              "#ed7953"
             ],
             [
              0.7777777777777778,
              "#fb9f3a"
             ],
             [
              0.8888888888888888,
              "#fdca26"
             ],
             [
              1,
              "#f0f921"
             ]
            ],
            "type": "histogram2dcontour"
           }
          ],
          "mesh3d": [
           {
            "colorbar": {
             "outlinewidth": 0,
             "ticks": ""
            },
            "type": "mesh3d"
           }
          ],
          "parcoords": [
           {
            "line": {
             "colorbar": {
              "outlinewidth": 0,
              "ticks": ""
             }
            },
            "type": "parcoords"
           }
          ],
          "pie": [
           {
            "automargin": true,
            "type": "pie"
           }
          ],
          "scatter": [
           {
            "fillpattern": {
             "fillmode": "overlay",
             "size": 10,
             "solidity": 0.2
            },
            "type": "scatter"
           }
          ],
          "scatter3d": [
           {
            "line": {
             "colorbar": {
              "outlinewidth": 0,
              "ticks": ""
             }
            },
            "marker": {
             "colorbar": {
              "outlinewidth": 0,
              "ticks": ""
             }
            },
            "type": "scatter3d"
           }
          ],
          "scattercarpet": [
           {
            "marker": {
             "colorbar": {
              "outlinewidth": 0,
              "ticks": ""
             }
            },
            "type": "scattercarpet"
           }
          ],
          "scattergeo": [
           {
            "marker": {
             "colorbar": {
              "outlinewidth": 0,
              "ticks": ""
             }
            },
            "type": "scattergeo"
           }
          ],
          "scattergl": [
           {
            "marker": {
             "colorbar": {
              "outlinewidth": 0,
              "ticks": ""
             }
            },
            "type": "scattergl"
           }
          ],
          "scattermapbox": [
           {
            "marker": {
             "colorbar": {
              "outlinewidth": 0,
              "ticks": ""
             }
            },
            "type": "scattermapbox"
           }
          ],
          "scatterpolar": [
           {
            "marker": {
             "colorbar": {
              "outlinewidth": 0,
              "ticks": ""
             }
            },
            "type": "scatterpolar"
           }
          ],
          "scatterpolargl": [
           {
            "marker": {
             "colorbar": {
              "outlinewidth": 0,
              "ticks": ""
             }
            },
            "type": "scatterpolargl"
           }
          ],
          "scatterternary": [
           {
            "marker": {
             "colorbar": {
              "outlinewidth": 0,
              "ticks": ""
             }
            },
            "type": "scatterternary"
           }
          ],
          "surface": [
           {
            "colorbar": {
             "outlinewidth": 0,
             "ticks": ""
            },
            "colorscale": [
             [
              0,
              "#0d0887"
             ],
             [
              0.1111111111111111,
              "#46039f"
             ],
             [
              0.2222222222222222,
              "#7201a8"
             ],
             [
              0.3333333333333333,
              "#9c179e"
             ],
             [
              0.4444444444444444,
              "#bd3786"
             ],
             [
              0.5555555555555556,
              "#d8576b"
             ],
             [
              0.6666666666666666,
              "#ed7953"
             ],
             [
              0.7777777777777778,
              "#fb9f3a"
             ],
             [
              0.8888888888888888,
              "#fdca26"
             ],
             [
              1,
              "#f0f921"
             ]
            ],
            "type": "surface"
           }
          ],
          "table": [
           {
            "cells": {
             "fill": {
              "color": "#EBF0F8"
             },
             "line": {
              "color": "white"
             }
            },
            "header": {
             "fill": {
              "color": "#C8D4E3"
             },
             "line": {
              "color": "white"
             }
            },
            "type": "table"
           }
          ]
         },
         "layout": {
          "annotationdefaults": {
           "arrowcolor": "#2a3f5f",
           "arrowhead": 0,
           "arrowwidth": 1
          },
          "autotypenumbers": "strict",
          "coloraxis": {
           "colorbar": {
            "outlinewidth": 0,
            "ticks": ""
           }
          },
          "colorscale": {
           "diverging": [
            [
             0,
             "#8e0152"
            ],
            [
             0.1,
             "#c51b7d"
            ],
            [
             0.2,
             "#de77ae"
            ],
            [
             0.3,
             "#f1b6da"
            ],
            [
             0.4,
             "#fde0ef"
            ],
            [
             0.5,
             "#f7f7f7"
            ],
            [
             0.6,
             "#e6f5d0"
            ],
            [
             0.7,
             "#b8e186"
            ],
            [
             0.8,
             "#7fbc41"
            ],
            [
             0.9,
             "#4d9221"
            ],
            [
             1,
             "#276419"
            ]
           ],
           "sequential": [
            [
             0,
             "#0d0887"
            ],
            [
             0.1111111111111111,
             "#46039f"
            ],
            [
             0.2222222222222222,
             "#7201a8"
            ],
            [
             0.3333333333333333,
             "#9c179e"
            ],
            [
             0.4444444444444444,
             "#bd3786"
            ],
            [
             0.5555555555555556,
             "#d8576b"
            ],
            [
             0.6666666666666666,
             "#ed7953"
            ],
            [
             0.7777777777777778,
             "#fb9f3a"
            ],
            [
             0.8888888888888888,
             "#fdca26"
            ],
            [
             1,
             "#f0f921"
            ]
           ],
           "sequentialminus": [
            [
             0,
             "#0d0887"
            ],
            [
             0.1111111111111111,
             "#46039f"
            ],
            [
             0.2222222222222222,
             "#7201a8"
            ],
            [
             0.3333333333333333,
             "#9c179e"
            ],
            [
             0.4444444444444444,
             "#bd3786"
            ],
            [
             0.5555555555555556,
             "#d8576b"
            ],
            [
             0.6666666666666666,
             "#ed7953"
            ],
            [
             0.7777777777777778,
             "#fb9f3a"
            ],
            [
             0.8888888888888888,
             "#fdca26"
            ],
            [
             1,
             "#f0f921"
            ]
           ]
          },
          "colorway": [
           "#636efa",
           "#EF553B",
           "#00cc96",
           "#ab63fa",
           "#FFA15A",
           "#19d3f3",
           "#FF6692",
           "#B6E880",
           "#FF97FF",
           "#FECB52"
          ],
          "font": {
           "color": "#2a3f5f"
          },
          "geo": {
           "bgcolor": "white",
           "lakecolor": "white",
           "landcolor": "#E5ECF6",
           "showlakes": true,
           "showland": true,
           "subunitcolor": "white"
          },
          "hoverlabel": {
           "align": "left"
          },
          "hovermode": "closest",
          "mapbox": {
           "style": "light"
          },
          "paper_bgcolor": "white",
          "plot_bgcolor": "#E5ECF6",
          "polar": {
           "angularaxis": {
            "gridcolor": "white",
            "linecolor": "white",
            "ticks": ""
           },
           "bgcolor": "#E5ECF6",
           "radialaxis": {
            "gridcolor": "white",
            "linecolor": "white",
            "ticks": ""
           }
          },
          "scene": {
           "xaxis": {
            "backgroundcolor": "#E5ECF6",
            "gridcolor": "white",
            "gridwidth": 2,
            "linecolor": "white",
            "showbackground": true,
            "ticks": "",
            "zerolinecolor": "white"
           },
           "yaxis": {
            "backgroundcolor": "#E5ECF6",
            "gridcolor": "white",
            "gridwidth": 2,
            "linecolor": "white",
            "showbackground": true,
            "ticks": "",
            "zerolinecolor": "white"
           },
           "zaxis": {
            "backgroundcolor": "#E5ECF6",
            "gridcolor": "white",
            "gridwidth": 2,
            "linecolor": "white",
            "showbackground": true,
            "ticks": "",
            "zerolinecolor": "white"
           }
          },
          "shapedefaults": {
           "line": {
            "color": "#2a3f5f"
           }
          },
          "ternary": {
           "aaxis": {
            "gridcolor": "white",
            "linecolor": "white",
            "ticks": ""
           },
           "baxis": {
            "gridcolor": "white",
            "linecolor": "white",
            "ticks": ""
           },
           "bgcolor": "#E5ECF6",
           "caxis": {
            "gridcolor": "white",
            "linecolor": "white",
            "ticks": ""
           }
          },
          "title": {
           "x": 0.05
          },
          "xaxis": {
           "automargin": true,
           "gridcolor": "white",
           "linecolor": "white",
           "ticks": "",
           "title": {
            "standoff": 15
           },
           "zerolinecolor": "white",
           "zerolinewidth": 2
          },
          "yaxis": {
           "automargin": true,
           "gridcolor": "white",
           "linecolor": "white",
           "ticks": "",
           "title": {
            "standoff": 15
           },
           "zerolinecolor": "white",
           "zerolinewidth": 2
          }
         }
        },
        "title": {
         "text": "Einfluss des Augmentationsanteils auf die MDT (63 Trainingsgeräte)."
        },
        "width": 1000,
        "xaxis": {
         "anchor": "y",
         "domain": [
          0,
          1
         ],
         "title": {
          "text": "Augmentationsanteil"
         }
        },
        "yaxis": {
         "anchor": "x",
         "domain": [
          0,
          1
         ],
         "title": {
          "text": "MDT"
         }
        }
       }
      }
     },
     "metadata": {},
     "output_type": "display_data"
    },
    {
     "name": "stdout",
     "output_type": "stream",
     "text": [
      "{'DecisionTreeRegressor': {1: 42.228750944822366, 3: 39.325163906142166, 5: 38.01100185984135, 10: 37.551867041498376}, 'LinearRegression': {1: 42.85456032331032, 3: 40.26500711697722, 5: 38.57652474695082, 10: 36.73352573352573}, 'XGBRegressor': {1: 39.86637856897145, 3: 39.39952468702469, 5: 38.95437448726922, 10: 39.58585761085761}}\n",
      "                        1    3    5    10\n",
      "DecisionTreeRegressor 42.2 39.3 38.0 37.6\n",
      "LinearRegression      42.9 40.3 38.6 36.7\n",
      "XGBRegressor          39.9 39.4 39.0 39.6\n"
     ]
    }
   ],
   "source": [
    "EXP_NAME = \"reg_best_n_aug\"\n",
    "reg_exp_results = load_exp_results(EXP_NAME)\n",
    "if reg_exp_results is not None:\n",
    "    try:\n",
    "        for n_dev, n_dev_group in reg_exp_results.groupby(by=\"params.n_dev\"):\n",
    "            n_dev_group[\"Augmentationsanteil\"] = n_dev_group[\"params.n_aug\"].astype(str)\n",
    "            n_dev_group.sort_values(by=\"params.n_aug\", inplace=True)\n",
    "            print(n_dev)\n",
    "            fig = px.box(\n",
    "                n_dev_group,\n",
    "                x=\"Augmentationsanteil\",\n",
    "                y=\"metrics.mdt\",\n",
    "                color=\"params.model_class\",\n",
    "                title=f\"Einfluss des Augmentationsanteils auf die MDT ({n_dev} Trainingsgeräte).\",\n",
    "                width=1000,\n",
    "                height=600,\n",
    "            )\n",
    "            fig.update_yaxes(title=\"MDT\")\n",
    "            fig.update_layout(legend_title=\"Modelltyp\")\n",
    "            fig.show()\n",
    "\n",
    "            medians = {}\n",
    "            for model_class, model_group in n_dev_group.groupby(\n",
    "                by=\"params.model_class\"\n",
    "            ):\n",
    "                medians[model_class] = {}\n",
    "                for param_value, param_group in model_group.groupby(by=f\"params.n_aug\"):\n",
    "                    medians[model_class][param_value] = param_group[\n",
    "                        \"metrics.mdt\"\n",
    "                    ].median()\n",
    "            print(medians)\n",
    "            medians_df = pd.DataFrame(medians).T\n",
    "            pd.options.display.float_format = \"{:.1f}\".format\n",
    "            print(medians_df)\n",
    "\n",
    "    except ValueError:\n",
    "        print(f\"{EXP_NAME} does not seem to be finished.\")\n",
    "        raise"
   ]
  }
 ],
 "metadata": {
  "kernelspec": {
   "display_name": "ba_niklas",
   "language": "python",
   "name": "python3"
  },
  "language_info": {
   "codemirror_mode": {
    "name": "ipython",
    "version": 3
   },
   "file_extension": ".py",
   "mimetype": "text/x-python",
   "name": "python",
   "nbconvert_exporter": "python",
   "pygments_lexer": "ipython3",
   "version": "3.11.9"
  }
 },
 "nbformat": 4,
 "nbformat_minor": 2
}
