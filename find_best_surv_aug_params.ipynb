{
 "cells": [
  {
   "cell_type": "markdown",
   "metadata": {},
   "source": [
    "# Find best survival augmentation parameters"
   ]
  },
  {
   "cell_type": "markdown",
   "metadata": {},
   "source": [
    "This notebooks does experiments to find the best augmentation parameters for the survival models and evaluates them."
   ]
  },
  {
   "cell_type": "code",
   "execution_count": 6,
   "metadata": {},
   "outputs": [],
   "source": [
    "import os\n",
    "\n",
    "import pandas as pd\n",
    "import mlflow\n",
    "from dotenv import load_dotenv\n",
    "import plotly.express as px\n",
    "\n",
    "from cross_validate_survival import cross_validate_survival_model"
   ]
  },
  {
   "cell_type": "code",
   "execution_count": 7,
   "metadata": {},
   "outputs": [],
   "source": [
    "load_dotenv()\n",
    "mlflow.set_tracking_uri(os.environ.get(\"MLFLOW_TRACKING_URL\"))"
   ]
  },
  {
   "cell_type": "code",
   "execution_count": 8,
   "metadata": {},
   "outputs": [],
   "source": [
    "df_raw_merged = pd.read_parquet(\"./data/my_datasets/raw_merged.parquet\")\n",
    "all_device_uuids = df_raw_merged[\"device_uuid\"].unique()"
   ]
  },
  {
   "cell_type": "code",
   "execution_count": 9,
   "metadata": {},
   "outputs": [],
   "source": [
    "def load_exp_results(exp_name):\n",
    "    run_path = \"/home/nkuechen/Documents/Thesis\"\n",
    "    os.chdir(run_path)\n",
    "    print(os.getcwd())\n",
    "\n",
    "    surv_id = mlflow.get_experiment_by_name(exp_name)\n",
    "    if surv_id is None:\n",
    "        print(f\"Could not find experiment {exp_name}\")\n",
    "        return None\n",
    "    else:\n",
    "        output_csv = f\"code/thesis_code/data/aug_effect/{exp_name}.csv\"\n",
    "        command = f\"mlflow experiments csv -o {output_csv} -x {surv_id.experiment_id}\"\n",
    "        os.system(command)\n",
    "        return pd.read_csv(output_csv)"
   ]
  },
  {
   "cell_type": "markdown",
   "metadata": {},
   "source": [
    "## Einfluss von Augmentationsparametern auf den `c_index_ipcw`"
   ]
  },
  {
   "cell_type": "code",
   "execution_count": 10,
   "metadata": {},
   "outputs": [
    {
     "name": "stdout",
     "output_type": "stream",
     "text": [
      "/home/nkuechen/Documents/Thesis/mlruns\n",
      "Created experiment surv_max_noise\n",
      "!! Creating new split...\n",
      "###Split 1/4!\n",
      "c_index_ipcw=0.8758197350010851; ibs=0.2818228498116978\n",
      "###Split 2/4!\n",
      "c_index_ipcw=0.895309155217861; ibs=0.1311100544057656\n",
      "###Split 3/4!\n",
      "c_index_ipcw=0.963961875042469; ibs=0.054508242380875996\n",
      "###Split 4/4!\n",
      "c_index_ipcw=0.7997250725058778; ibs=0.12340692404005246\n",
      "/home/nkuechen/Documents/Thesis/mlruns\n",
      "!! Creating new split...\n",
      "###Split 1/4!\n",
      "c_index_ipcw=0.9139072213203338; ibs=0.0827131578193899\n",
      "###Split 2/4!\n",
      "c_index_ipcw=0.9004169637314711; ibs=0.09338812521379387\n",
      "###Split 3/4!\n",
      "c_index_ipcw=0.8364998644400353; ibs=0.08128788561503755\n",
      "###Split 4/4!\n",
      "c_index_ipcw=0.884321614160028; ibs=0.05267185034585318\n",
      "/home/nkuechen/Documents/Thesis/mlruns\n",
      "!! Creating new split...\n",
      "###Split 1/4!\n",
      "c_index_ipcw=0.8143077908406068; ibs=0.10971669111529515\n",
      "###Split 2/4!\n",
      "c_index_ipcw=0.9547490784573349; ibs=0.05910401161831924\n",
      "###Split 3/4!\n",
      "c_index_ipcw=0.8398766670955158; ibs=0.07162068359081261\n",
      "###Split 4/4!\n",
      "c_index_ipcw=0.9128040753989339; ibs=0.07636114312493526\n",
      "/home/nkuechen/Documents/Thesis/mlruns\n",
      "!! Creating new split...\n",
      "###Split 1/4!\n",
      "c_index_ipcw=0.9544821071993216; ibs=0.07725564241189033\n",
      "###Split 2/4!\n",
      "c_index_ipcw=0.875681706491765; ibs=0.11396573342722305\n",
      "###Split 3/4!\n",
      "c_index_ipcw=0.9418657944620459; ibs=0.10225018692372642\n",
      "###Split 4/4!\n",
      "c_index_ipcw=0.8663180724732621; ibs=0.13205511147292848\n",
      "/home/nkuechen/Documents/Thesis/mlruns\n",
      "!! Creating new split...\n",
      "###Split 1/4!\n",
      "c_index_ipcw=0.8812024014747797; ibs=0.061732260452260754\n",
      "###Split 2/4!\n",
      "c_index_ipcw=0.8630608266724361; ibs=0.061517157554536\n",
      "###Split 3/4!\n",
      "c_index_ipcw=0.8907532357011063; ibs=0.08834856559439183\n",
      "###Split 4/4!\n",
      "c_index_ipcw=0.8314287984508831; ibs=0.10194984694279496\n",
      "/home/nkuechen/Documents/Thesis/mlruns\n",
      "!! Creating new split...\n",
      "###Split 1/4!\n",
      "c_index_ipcw=0.8585327501054743; ibs=0.08808182078189822\n",
      "###Split 2/4!\n",
      "c_index_ipcw=0.9420584741563294; ibs=0.06719917892630958\n",
      "###Split 3/4!\n",
      "c_index_ipcw=0.914181380756146; ibs=0.07627035673275952\n",
      "###Split 4/4!\n",
      "c_index_ipcw=0.9478963647731511; ibs=0.04782967403053589\n",
      "/home/nkuechen/Documents/Thesis/mlruns\n",
      "!! Creating new split...\n",
      "###Split 1/4!\n",
      "c_index_ipcw=0.8814003306558502; ibs=0.36690087800624643\n",
      "###Split 2/4!\n",
      "c_index_ipcw=0.8391862571376885; ibs=0.06938569323623225\n",
      "###Split 3/4!\n",
      "c_index_ipcw=0.9245639045630528; ibs=0.04301644089182498\n",
      "###Split 4/4!\n",
      "c_index_ipcw=0.8526839517492677; ibs=0.08660915630986524\n",
      "/home/nkuechen/Documents/Thesis/mlruns\n",
      "!! Creating new split...\n",
      "###Split 1/4!\n",
      "c_index_ipcw=0.9727826089516057; ibs=0.04142186930571132\n",
      "###Split 2/4!\n",
      "c_index_ipcw=0.9270545625153457; ibs=0.062049392881879765\n",
      "###Split 3/4!\n",
      "c_index_ipcw=0.872652750646048; ibs=0.12821643271624553\n",
      "###Split 4/4!\n",
      "c_index_ipcw=0.8580916671199009; ibs=0.09339918941666484\n",
      "/home/nkuechen/Documents/Thesis/mlruns\n",
      "!! Creating new split...\n",
      "###Split 1/4!\n",
      "c_index_ipcw=0.9072715539241908; ibs=0.09251444762141083\n",
      "###Split 2/4!\n",
      "c_index_ipcw=0.8573178313840626; ibs=0.06316122146043061\n",
      "###Split 3/4!\n",
      "c_index_ipcw=0.8978679892194893; ibs=0.07207016530863693\n",
      "###Split 4/4!\n",
      "c_index_ipcw=0.9408401528787154; ibs=0.029162318919817555\n",
      "/home/nkuechen/Documents/Thesis/mlruns\n",
      "!! Creating new split...\n",
      "###Split 1/4!\n",
      "c_index_ipcw=0.7822136911128013; ibs=0.16212417728481407\n",
      "###Split 2/4!\n",
      "c_index_ipcw=0.9797195587954759; ibs=0.08144251397709824\n",
      "###Split 3/4!\n",
      "c_index_ipcw=0.9582000754544884; ibs=0.10484223816695103\n",
      "###Split 4/4!\n",
      "c_index_ipcw=0.9859451130609526; ibs=0.06213258999482451\n",
      "/home/nkuechen/Documents/Thesis/mlruns\n",
      "!! Creating new split...\n",
      "###Split 1/4!\n",
      "c_index_ipcw=0.855157005455626; ibs=0.1333653042404685\n",
      "###Split 2/4!\n",
      "c_index_ipcw=0.8966960127048732; ibs=0.07820484835406462\n",
      "###Split 3/4!\n",
      "c_index_ipcw=0.8792326901019816; ibs=0.10589498480931368\n",
      "###Split 4/4!\n",
      "c_index_ipcw=1.0; ibs=0.029493187058129842\n",
      "/home/nkuechen/Documents/Thesis/mlruns\n",
      "!! Creating new split...\n",
      "###Split 1/4!\n",
      "c_index_ipcw=0.8940080601959237; ibs=0.0809153996765663\n",
      "###Split 2/4!\n",
      "c_index_ipcw=0.8700444634960359; ibs=0.09585095908189788\n",
      "###Split 3/4!\n",
      "c_index_ipcw=0.906370006760292; ibs=0.06104912263304821\n",
      "###Split 4/4!\n",
      "c_index_ipcw=0.9243532845024205; ibs=0.07178356678477317\n",
      "/home/nkuechen/Documents/Thesis/mlruns\n",
      "!! Creating new split...\n",
      "###Split 1/4!\n",
      "c_index_ipcw=0.8866406162311831; ibs=0.048378486208340565\n",
      "###Split 2/4!\n",
      "c_index_ipcw=0.920819415293359; ibs=0.22314272848943217\n",
      "###Split 3/4!\n",
      "c_index_ipcw=0.9593429424132972; ibs=0.12268154409100367\n",
      "###Split 4/4!\n",
      "c_index_ipcw=0.8772980881340333; ibs=0.08853758974005951\n",
      "/home/nkuechen/Documents/Thesis/mlruns\n",
      "!! Creating new split...\n",
      "###Split 1/4!\n",
      "c_index_ipcw=0.9694461394545935; ibs=0.025126356193723425\n",
      "###Split 2/4!\n",
      "c_index_ipcw=0.770819846744619; ibs=0.13466892803416522\n",
      "###Split 3/4!\n",
      "c_index_ipcw=0.9496489212896349; ibs=0.05290904620918012\n",
      "###Split 4/4!\n",
      "c_index_ipcw=0.8833306118112867; ibs=0.08342328588660167\n",
      "/home/nkuechen/Documents/Thesis/mlruns\n",
      "!! Creating new split...\n",
      "###Split 1/4!\n",
      "c_index_ipcw=0.8881667977713743; ibs=0.0765201812363018\n",
      "###Split 2/4!\n",
      "c_index_ipcw=0.8577776236000995; ibs=0.0991235302781895\n",
      "###Split 3/4!\n",
      "c_index_ipcw=0.9660358024455027; ibs=0.07740087352067557\n",
      "###Split 4/4!\n",
      "c_index_ipcw=0.8616319081158741; ibs=0.06095206721307081\n",
      "/home/nkuechen/Documents/Thesis/mlruns\n",
      "!! Creating new split...\n",
      "###Split 1/4!\n",
      "c_index_ipcw=0.9030341688424829; ibs=0.13951851480736902\n",
      "###Split 2/4!\n",
      "c_index_ipcw=0.9904461215663337; ibs=0.12285518958724459\n",
      "###Split 3/4!\n",
      "c_index_ipcw=0.8867523989232237; ibs=0.1253604472370434\n",
      "###Split 4/4!\n",
      "c_index_ipcw=0.8879301656000504; ibs=0.12674948937654387\n",
      "/home/nkuechen/Documents/Thesis/mlruns\n",
      "!! Creating new split...\n",
      "###Split 1/4!\n",
      "c_index_ipcw=0.8548370715098585; ibs=0.10145673119479032\n",
      "###Split 2/4!\n",
      "c_index_ipcw=0.9174488399815345; ibs=0.03379656774885708\n",
      "###Split 3/4!\n",
      "c_index_ipcw=0.8412571451930845; ibs=0.09993647105556377\n",
      "###Split 4/4!\n",
      "c_index_ipcw=0.9055900606375739; ibs=0.0694652034186272\n",
      "/home/nkuechen/Documents/Thesis/mlruns\n",
      "!! Creating new split...\n",
      "###Split 1/4!\n",
      "c_index_ipcw=0.9716360441159682; ibs=0.031975543662647404\n",
      "###Split 2/4!\n",
      "c_index_ipcw=0.9309451502009745; ibs=0.06039922565822794\n",
      "###Split 3/4!\n",
      "c_index_ipcw=0.9011166250596226; ibs=0.06672658854639152\n",
      "###Split 4/4!\n",
      "c_index_ipcw=0.8094965122052442; ibs=0.1263905012375689\n",
      "/home/nkuechen/Documents/Thesis/mlruns\n",
      "!! Creating new split...\n",
      "###Split 1/4!\n",
      "c_index_ipcw=0.9572010871789859; ibs=0.037652178425015316\n",
      "###Split 2/4!\n",
      "c_index_ipcw=0.9699642371398106; ibs=0.34313124825067487\n",
      "###Split 3/4!\n",
      "c_index_ipcw=0.9419495012125643; ibs=0.09751568179656331\n",
      "###Split 4/4!\n",
      "c_index_ipcw=0.8932223229941301; ibs=0.09317831700669928\n",
      "/home/nkuechen/Documents/Thesis/mlruns\n",
      "!! Creating new split...\n",
      "###Split 1/4!\n",
      "c_index_ipcw=0.951867535258818; ibs=0.06589913498818503\n",
      "###Split 2/4!\n",
      "c_index_ipcw=0.923706612203206; ibs=0.056656886961130505\n",
      "###Split 3/4!\n",
      "c_index_ipcw=0.8086450320560378; ibs=0.11023908995982326\n",
      "###Split 4/4!\n",
      "c_index_ipcw=0.7984275883659636; ibs=0.11638968024923628\n",
      "/home/nkuechen/Documents/Thesis/mlruns\n",
      "!! Creating new split...\n",
      "###Split 1/4!\n",
      "c_index_ipcw=0.9190195538190513; ibs=0.046854688342470474\n",
      "###Split 2/4!\n",
      "c_index_ipcw=0.8794607160029029; ibs=0.08045071718614771\n",
      "###Split 3/4!\n",
      "c_index_ipcw=0.8928222284676913; ibs=0.07073942049565968\n",
      "###Split 4/4!\n",
      "c_index_ipcw=0.8505074339337924; ibs=0.10151588980532768\n",
      "/home/nkuechen/Documents/Thesis/mlruns\n",
      "!! Creating new split...\n",
      "###Split 1/4!\n",
      "c_index_ipcw=0.9486869452914491; ibs=0.09629240869419985\n",
      "###Split 2/4!\n",
      "c_index_ipcw=0.8758981391336448; ibs=0.11968917155744971\n",
      "###Split 3/4!\n",
      "c_index_ipcw=0.9646679032120006; ibs=0.1336035126308721\n",
      "###Split 4/4!\n",
      "c_index_ipcw=0.9350630159044707; ibs=0.08737193138860833\n",
      "/home/nkuechen/Documents/Thesis/mlruns\n",
      "!! Creating new split...\n",
      "###Split 1/4!\n",
      "c_index_ipcw=0.7568698739745994; ibs=0.16894670207046447\n",
      "###Split 2/4!\n",
      "c_index_ipcw=0.863837637124213; ibs=0.10504795039249606\n",
      "###Split 3/4!\n",
      "c_index_ipcw=0.9583244020741682; ibs=0.037492710829813466\n",
      "###Split 4/4!\n",
      "c_index_ipcw=0.7307742470512145; ibs=0.033202726166334046\n",
      "/home/nkuechen/Documents/Thesis/mlruns\n",
      "!! Creating new split...\n",
      "###Split 1/4!\n",
      "c_index_ipcw=0.8731851567664217; ibs=0.11501581605030342\n",
      "###Split 2/4!\n",
      "c_index_ipcw=0.8866374728054313; ibs=0.07108156532654851\n",
      "###Split 3/4!\n",
      "c_index_ipcw=0.9401982359930972; ibs=0.049830423344995524\n",
      "###Split 4/4!\n",
      "c_index_ipcw=0.868550212299029; ibs=0.0624507036565575\n",
      "/home/nkuechen/Documents/Thesis/mlruns\n",
      "!! Creating new split...\n",
      "###Split 1/4!\n",
      "c_index_ipcw=0.8887047422847688; ibs=0.10076919301763046\n",
      "###Split 2/4!\n",
      "c_index_ipcw=0.9091431879194968; ibs=0.16034207720157984\n",
      "###Split 3/4!\n",
      "c_index_ipcw=0.9410315814396164; ibs=0.06604759553952767\n",
      "###Split 4/4!\n",
      "c_index_ipcw=0.91989617175818; ibs=0.09053801000751481\n",
      "/home/nkuechen/Documents/Thesis/mlruns\n",
      "!! Creating new split...\n",
      "###Split 1/4!\n",
      "c_index_ipcw=0.9069800691222139; ibs=0.0580215890720604\n",
      "###Split 2/4!\n",
      "c_index_ipcw=0.76929847351957; ibs=0.12540582152833513\n",
      "###Split 3/4!\n",
      "c_index_ipcw=0.8694991892125825; ibs=0.08857729146536336\n",
      "###Split 4/4!\n",
      "c_index_ipcw=0.7825432524070399; ibs=0.17036633621369304\n",
      "/home/nkuechen/Documents/Thesis/mlruns\n",
      "!! Creating new split...\n",
      "###Split 1/4!\n",
      "c_index_ipcw=0.9076718480248022; ibs=0.06989151752707953\n",
      "###Split 2/4!\n",
      "c_index_ipcw=0.8908201643832591; ibs=0.07621441652821698\n",
      "###Split 3/4!\n",
      "c_index_ipcw=0.9172410506490931; ibs=0.0846087187136621\n",
      "###Split 4/4!\n",
      "c_index_ipcw=0.8861395951811089; ibs=0.05847649384027789\n",
      "/home/nkuechen/Documents/Thesis/mlruns\n",
      "!! Creating new split...\n",
      "###Split 1/4!\n",
      "c_index_ipcw=0.9369658286656746; ibs=0.14602770610911742\n",
      "###Split 2/4!\n",
      "c_index_ipcw=0.8962341255068099; ibs=0.05407709432695101\n",
      "###Split 3/4!\n",
      "c_index_ipcw=0.9114885340376178; ibs=0.09282790396414937\n",
      "###Split 4/4!\n",
      "c_index_ipcw=0.9231927184273692; ibs=0.13562505646239373\n",
      "/home/nkuechen/Documents/Thesis/mlruns\n",
      "!! Creating new split...\n",
      "###Split 1/4!\n",
      "c_index_ipcw=0.9246917466996984; ibs=0.04790054964645442\n",
      "###Split 2/4!\n",
      "c_index_ipcw=0.8455507846048254; ibs=0.09790116210757914\n",
      "###Split 3/4!\n",
      "c_index_ipcw=0.9231821934869283; ibs=0.06699186417499309\n",
      "###Split 4/4!\n",
      "c_index_ipcw=0.9485516742193018; ibs=0.06430695418270721\n",
      "/home/nkuechen/Documents/Thesis/mlruns\n",
      "!! Creating new split...\n",
      "###Split 1/4!\n",
      "c_index_ipcw=0.8903559761061843; ibs=0.06835443840154386\n",
      "###Split 2/4!\n",
      "c_index_ipcw=0.9389978955547553; ibs=0.09260820221395433\n",
      "###Split 3/4!\n",
      "c_index_ipcw=0.9265253313428852; ibs=0.05930376105600404\n",
      "###Split 4/4!\n",
      "c_index_ipcw=0.9061837445354838; ibs=0.07877363647285353\n",
      "/home/nkuechen/Documents/Thesis/mlruns\n",
      "Created experiment surv_max_noise_temperature\n",
      "!! Creating new split...\n",
      "###Split 1/4!\n",
      "c_index_ipcw=0.9551852090654149; ibs=0.11622845900387141\n",
      "###Split 2/4!\n",
      "c_index_ipcw=0.9785136167864354; ibs=0.06184546373624052\n",
      "###Split 3/4!\n",
      "c_index_ipcw=0.8591533114274813; ibs=0.14185572724326295\n",
      "###Split 4/4!\n",
      "c_index_ipcw=0.969909757049209; ibs=0.180471226700752\n",
      "/home/nkuechen/Documents/Thesis/mlruns\n",
      "!! Creating new split...\n",
      "###Split 1/4!\n",
      "c_index_ipcw=0.9546954068413752; ibs=0.1579594283137206\n",
      "###Split 2/4!\n",
      "c_index_ipcw=0.8258936402807585; ibs=0.10663000252857639\n",
      "###Split 3/4!\n",
      "c_index_ipcw=0.9833012104933682; ibs=0.03368166366558928\n",
      "###Split 4/4!\n",
      "c_index_ipcw=0.8267027869369798; ibs=0.10710882706277582\n",
      "/home/nkuechen/Documents/Thesis/mlruns\n",
      "!! Creating new split...\n",
      "###Split 1/4!\n",
      "c_index_ipcw=0.932601442876141; ibs=0.06998680561648583\n",
      "###Split 2/4!\n",
      "c_index_ipcw=0.8846086946722123; ibs=0.10732993773610683\n",
      "###Split 3/4!\n",
      "c_index_ipcw=0.9528233513445579; ibs=0.0822303023262169\n",
      "###Split 4/4!\n",
      "c_index_ipcw=0.8752311993880865; ibs=0.17102025137526736\n",
      "/home/nkuechen/Documents/Thesis/mlruns\n",
      "!! Creating new split...\n",
      "###Split 1/4!\n",
      "c_index_ipcw=0.8928023669995613; ibs=0.128353655107472\n",
      "###Split 2/4!\n",
      "c_index_ipcw=0.7323159438766382; ibs=0.12909124290865814\n",
      "###Split 3/4!\n",
      "c_index_ipcw=0.8667553706196424; ibs=0.11057885130825824\n",
      "###Split 4/4!\n",
      "c_index_ipcw=0.8998498853723866; ibs=0.17772415945716946\n",
      "/home/nkuechen/Documents/Thesis/mlruns\n",
      "!! Creating new split...\n",
      "###Split 1/4!\n",
      "c_index_ipcw=0.8692751123987514; ibs=0.10255838391428754\n",
      "###Split 2/4!\n",
      "c_index_ipcw=0.8695729734234542; ibs=0.19243399051530813\n",
      "###Split 3/4!\n",
      "c_index_ipcw=0.8868423568944769; ibs=0.10719032382065266\n",
      "###Split 4/4!\n",
      "c_index_ipcw=0.9247337491222125; ibs=0.08937249750473479\n",
      "/home/nkuechen/Documents/Thesis/mlruns\n",
      "!! Creating new split...\n",
      "###Split 1/4!\n",
      "c_index_ipcw=0.954423385683158; ibs=0.06399620454546041\n",
      "###Split 2/4!\n",
      "c_index_ipcw=0.9900075751268465; ibs=0.17723241884854965\n",
      "###Split 3/4!\n",
      "c_index_ipcw=0.8580334211224738; ibs=0.12434313141965048\n",
      "###Split 4/4!\n",
      "c_index_ipcw=0.9173776425115409; ibs=0.14667359838479582\n",
      "/home/nkuechen/Documents/Thesis/mlruns\n",
      "!! Creating new split...\n",
      "###Split 1/4!\n",
      "c_index_ipcw=0.9818029880236003; ibs=0.08138581377109355\n",
      "###Split 2/4!\n",
      "c_index_ipcw=0.965634368369456; ibs=0.04095627785569516\n",
      "###Split 3/4!\n",
      "c_index_ipcw=0.8963251829097354; ibs=0.13165649813353958\n",
      "###Split 4/4!\n",
      "c_index_ipcw=0.8725798237744911; ibs=0.16647431456068007\n",
      "/home/nkuechen/Documents/Thesis/mlruns\n",
      "!! Creating new split...\n",
      "###Split 1/4!\n",
      "c_index_ipcw=0.9713831060889252; ibs=0.06440942061642117\n",
      "###Split 2/4!\n",
      "c_index_ipcw=0.8156464140695666; ibs=0.18251730042301884\n",
      "###Split 3/4!\n",
      "c_index_ipcw=0.9101119059773352; ibs=0.09009444244716981\n",
      "###Split 4/4!\n",
      "c_index_ipcw=0.9593009423678983; ibs=0.06793009706844912\n",
      "/home/nkuechen/Documents/Thesis/mlruns\n",
      "!! Creating new split...\n",
      "###Split 1/4!\n",
      "c_index_ipcw=0.8930673500269137; ibs=0.1030618074470004\n",
      "###Split 2/4!\n",
      "c_index_ipcw=0.7597729737121025; ibs=0.1339669557285757\n",
      "###Split 3/4!\n",
      "c_index_ipcw=0.9484124154496131; ibs=0.17245501105650746\n",
      "###Split 4/4!\n",
      "c_index_ipcw=0.9060443053258116; ibs=0.07707613231335125\n",
      "/home/nkuechen/Documents/Thesis/mlruns\n",
      "!! Creating new split...\n",
      "###Split 1/4!\n",
      "c_index_ipcw=0.9471092019866498; ibs=0.07057451587750829\n",
      "###Split 2/4!\n",
      "c_index_ipcw=0.8738323292107283; ibs=0.03542086266608853\n",
      "###Split 3/4!\n",
      "c_index_ipcw=0.8810485454806036; ibs=0.1636538217138862\n",
      "###Split 4/4!\n",
      "c_index_ipcw=0.8972089749777464; ibs=0.26297491805319423\n",
      "/home/nkuechen/Documents/Thesis/mlruns\n",
      "!! Creating new split...\n",
      "###Split 1/4!\n",
      "c_index_ipcw=0.9224166549368915; ibs=0.08037757466011886\n",
      "###Split 2/4!\n",
      "c_index_ipcw=0.9201935211276197; ibs=0.1318280220094324\n",
      "###Split 3/4!\n",
      "c_index_ipcw=0.8683818043515245; ibs=0.14133219666065835\n",
      "###Split 4/4!\n",
      "c_index_ipcw=0.9017898744530505; ibs=0.12335134665899983\n",
      "/home/nkuechen/Documents/Thesis/mlruns\n",
      "!! Creating new split...\n",
      "###Split 1/4!\n",
      "c_index_ipcw=0.8317861164256529; ibs=0.15662470230388925\n",
      "###Split 2/4!\n",
      "c_index_ipcw=0.8997910187028867; ibs=0.08006294523873297\n",
      "###Split 3/4!\n",
      "c_index_ipcw=0.9367953391221563; ibs=0.14893212172544987\n",
      "###Split 4/4!\n",
      "c_index_ipcw=0.8006112169755717; ibs=0.08475392558766237\n",
      "/home/nkuechen/Documents/Thesis/mlruns\n",
      "!! Creating new split...\n",
      "###Split 1/4!\n",
      "c_index_ipcw=0.7255271852866418; ibs=0.24011956035828474\n",
      "###Split 2/4!\n",
      "c_index_ipcw=0.8482170775698572; ibs=0.08608940115055354\n",
      "###Split 3/4!\n",
      "c_index_ipcw=0.9849242170402971; ibs=0.08196612373997496\n",
      "###Split 4/4!\n",
      "c_index_ipcw=0.9116286222739918; ibs=0.08972252585478889\n",
      "/home/nkuechen/Documents/Thesis/mlruns\n",
      "!! Creating new split...\n",
      "###Split 1/4!\n",
      "c_index_ipcw=0.9582749017413711; ibs=0.04547480530550055\n",
      "###Split 2/4!\n",
      "c_index_ipcw=0.9509825756514063; ibs=0.07517139039070701\n",
      "###Split 3/4!\n",
      "c_index_ipcw=0.9427170932777978; ibs=0.14902463394948948\n",
      "###Split 4/4!\n",
      "c_index_ipcw=0.8951041249639549; ibs=0.14784981896240512\n",
      "/home/nkuechen/Documents/Thesis/mlruns\n",
      "!! Creating new split...\n",
      "###Split 1/4!\n",
      "c_index_ipcw=0.9281687692419347; ibs=0.06466348776953616\n",
      "###Split 2/4!\n",
      "c_index_ipcw=0.7522575003522759; ibs=0.1587061326180886\n",
      "###Split 3/4!\n",
      "c_index_ipcw=0.8908731131656343; ibs=0.09851945167461412\n",
      "###Split 4/4!\n",
      "c_index_ipcw=0.9132658748262217; ibs=0.10228774017604608\n",
      "/home/nkuechen/Documents/Thesis/mlruns\n",
      "!! Creating new split...\n",
      "###Split 1/4!\n",
      "c_index_ipcw=0.8449422725362594; ibs=0.15077003774207515\n",
      "###Split 2/4!\n",
      "c_index_ipcw=0.7836179820039085; ibs=0.11818527534571141\n",
      "###Split 3/4!\n",
      "c_index_ipcw=0.9480711533083259; ibs=0.14119097877202583\n",
      "###Split 4/4!\n",
      "c_index_ipcw=0.873228273105479; ibs=0.10034230820821792\n",
      "/home/nkuechen/Documents/Thesis/mlruns\n",
      "!! Creating new split...\n",
      "###Split 1/4!\n",
      "c_index_ipcw=0.8798076002240885; ibs=0.11131647344068504\n",
      "###Split 2/4!\n",
      "c_index_ipcw=0.9737986580338908; ibs=0.03333254992954022\n",
      "###Split 3/4!\n",
      "c_index_ipcw=0.8696360216850932; ibs=0.12384371393457598\n",
      "###Split 4/4!\n",
      "c_index_ipcw=0.8831272494933275; ibs=0.1532166878201287\n",
      "/home/nkuechen/Documents/Thesis/mlruns\n",
      "!! Creating new split...\n",
      "###Split 1/4!\n",
      "c_index_ipcw=0.8385686004170797; ibs=0.10154192512478123\n",
      "###Split 2/4!\n",
      "c_index_ipcw=0.9783879268680362; ibs=0.09820348976213326\n",
      "###Split 3/4!\n",
      "c_index_ipcw=0.9205872028488596; ibs=0.126892380162773\n",
      "###Split 4/4!\n",
      "c_index_ipcw=0.9632383423824015; ibs=0.0523897435833784\n",
      "/home/nkuechen/Documents/Thesis/mlruns\n",
      "!! Creating new split...\n",
      "###Split 1/4!\n",
      "c_index_ipcw=0.9409064420202178; ibs=0.08600475789655296\n",
      "###Split 2/4!\n",
      "c_index_ipcw=0.9146289103212162; ibs=0.17058661719291504\n",
      "###Split 3/4!\n",
      "c_index_ipcw=0.8980694997388678; ibs=0.0908950253428579\n",
      "###Split 4/4!\n",
      "c_index_ipcw=0.8039480986987565; ibs=0.12428426617688788\n",
      "/home/nkuechen/Documents/Thesis/mlruns\n",
      "!! Creating new split...\n",
      "###Split 1/4!\n",
      "c_index_ipcw=0.905602599608593; ibs=0.10214546738011518\n",
      "###Split 2/4!\n",
      "c_index_ipcw=0.923254093617456; ibs=0.155086021430882\n",
      "###Split 3/4!\n",
      "c_index_ipcw=0.9591662663542635; ibs=0.11261686322083238\n",
      "###Split 4/4!\n",
      "c_index_ipcw=0.8940749988867106; ibs=0.0711262029892431\n",
      "/home/nkuechen/Documents/Thesis/mlruns\n",
      "Created experiment surv_random_max_time_warp_percent\n",
      "!! Creating new split...\n",
      "###Split 1/4!\n",
      "c_index_ipcw=0.8262349688203159; ibs=0.15071611095543958\n",
      "###Split 2/4!\n",
      "c_index_ipcw=0.9086493847473835; ibs=0.09399767785257955\n",
      "###Split 3/4!\n",
      "c_index_ipcw=0.9524235079688568; ibs=0.06675315724357324\n",
      "###Split 4/4!\n",
      "c_index_ipcw=0.9543537099997675; ibs=0.14377661299735134\n",
      "/home/nkuechen/Documents/Thesis/mlruns\n",
      "!! Creating new split...\n",
      "###Split 1/4!\n",
      "c_index_ipcw=0.8919411255059096; ibs=0.047075429149179386\n",
      "###Split 2/4!\n",
      "c_index_ipcw=0.7893672114547823; ibs=0.1144437104483324\n",
      "###Split 3/4!\n",
      "c_index_ipcw=0.9335363407374613; ibs=0.035188592562034916\n",
      "###Split 4/4!\n",
      "c_index_ipcw=0.9134688086477305; ibs=0.09087966672014929\n",
      "/home/nkuechen/Documents/Thesis/mlruns\n",
      "!! Creating new split...\n",
      "###Split 1/4!\n",
      "c_index_ipcw=0.9706602922308041; ibs=0.03436411128045172\n",
      "###Split 2/4!\n",
      "c_index_ipcw=0.9201113507873887; ibs=0.059660175309167535\n",
      "###Split 3/4!\n",
      "c_index_ipcw=0.8543537391214009; ibs=0.10050249801237786\n",
      "###Split 4/4!\n",
      "c_index_ipcw=0.9010160150027993; ibs=0.08939575594663093\n",
      "/home/nkuechen/Documents/Thesis/mlruns\n",
      "!! Creating new split...\n",
      "###Split 1/4!\n",
      "c_index_ipcw=0.9261842998211735; ibs=0.1956083742164659\n",
      "###Split 2/4!\n",
      "c_index_ipcw=0.9117109790627859; ibs=0.07603484537615501\n",
      "###Split 3/4!\n",
      "c_index_ipcw=0.9697147745376626; ibs=0.06357394886773779\n",
      "###Split 4/4!\n",
      "c_index_ipcw=0.900178860073195; ibs=0.12541010103580455\n",
      "/home/nkuechen/Documents/Thesis/mlruns\n",
      "!! Creating new split...\n",
      "###Split 1/4!\n",
      "c_index_ipcw=0.9579739349001964; ibs=0.039854653614702994\n",
      "###Split 2/4!\n",
      "c_index_ipcw=0.8738025809378; ibs=0.11291828044077902\n",
      "###Split 3/4!\n",
      "c_index_ipcw=0.8433814610127268; ibs=0.1430468287408786\n",
      "###Split 4/4!\n",
      "c_index_ipcw=0.979846026163776; ibs=0.06031906741016103\n",
      "/home/nkuechen/Documents/Thesis/mlruns\n",
      "!! Creating new split...\n",
      "###Split 1/4!\n",
      "c_index_ipcw=0.8641842133719565; ibs=0.10843899750576674\n",
      "###Split 2/4!\n",
      "c_index_ipcw=0.9785607774069848; ibs=0.04856785209005159\n",
      "###Split 3/4!\n",
      "c_index_ipcw=0.873951761504035; ibs=0.07887923696521355\n",
      "###Split 4/4!\n",
      "c_index_ipcw=0.9119005366056414; ibs=0.08217396925011798\n",
      "/home/nkuechen/Documents/Thesis/mlruns\n",
      "!! Creating new split...\n",
      "###Split 1/4!\n",
      "c_index_ipcw=0.917027353086614; ibs=0.08045375794827768\n",
      "###Split 2/4!\n",
      "c_index_ipcw=0.9443911902828658; ibs=0.02759803230793671\n",
      "###Split 3/4!\n",
      "c_index_ipcw=0.8898801011842716; ibs=0.09884067058505816\n",
      "###Split 4/4!\n",
      "c_index_ipcw=0.872097206782373; ibs=0.3572513079143924\n",
      "/home/nkuechen/Documents/Thesis/mlruns\n",
      "!! Creating new split...\n",
      "###Split 1/4!\n",
      "c_index_ipcw=0.8938423772886901; ibs=0.09456419223061562\n",
      "###Split 2/4!\n",
      "c_index_ipcw=0.91014796789942; ibs=0.07177160458147423\n",
      "###Split 3/4!\n",
      "c_index_ipcw=0.8660216605234095; ibs=0.10729658910307632\n",
      "###Split 4/4!\n",
      "c_index_ipcw=0.9229542071681655; ibs=0.04963926638779995\n",
      "/home/nkuechen/Documents/Thesis/mlruns\n",
      "!! Creating new split...\n",
      "###Split 1/4!\n",
      "c_index_ipcw=0.9087086879145274; ibs=0.04890623210818328\n",
      "###Split 2/4!\n",
      "c_index_ipcw=0.9276071572071669; ibs=0.10140591524156005\n",
      "###Split 3/4!\n",
      "c_index_ipcw=0.8195029364909131; ibs=0.13715602278841682\n",
      "###Split 4/4!\n",
      "c_index_ipcw=0.9184753501492787; ibs=0.046856605806023084\n",
      "/home/nkuechen/Documents/Thesis/mlruns\n",
      "!! Creating new split...\n",
      "###Split 1/4!\n",
      "c_index_ipcw=0.9406083429299331; ibs=0.03673837251359113\n",
      "###Split 2/4!\n",
      "c_index_ipcw=0.945010309786815; ibs=0.11070367504630997\n",
      "###Split 3/4!\n",
      "c_index_ipcw=0.880900294739009; ibs=0.1817702707078146\n",
      "###Split 4/4!\n",
      "c_index_ipcw=0.8646428435460239; ibs=0.10788404535129247\n",
      "/home/nkuechen/Documents/Thesis/mlruns\n",
      "!! Creating new split...\n",
      "###Split 1/4!\n",
      "c_index_ipcw=0.9707769297002641; ibs=0.0406259457059022\n",
      "###Split 2/4!\n",
      "c_index_ipcw=0.8775394858331239; ibs=0.06584727594907833\n",
      "###Split 3/4!\n",
      "c_index_ipcw=0.9016199157612766; ibs=0.12140991107667638\n",
      "###Split 4/4!\n",
      "c_index_ipcw=0.8722904493165494; ibs=0.11214619942603103\n",
      "/home/nkuechen/Documents/Thesis/mlruns\n",
      "!! Creating new split...\n",
      "###Split 1/4!\n",
      "c_index_ipcw=0.9077443078567039; ibs=0.08599218486219048\n",
      "###Split 2/4!\n",
      "c_index_ipcw=0.876457571211891; ibs=0.08800497484300966\n",
      "###Split 3/4!\n",
      "c_index_ipcw=0.9045339814093416; ibs=0.0701593158406564\n",
      "###Split 4/4!\n",
      "c_index_ipcw=0.9068093476831093; ibs=0.08300384687491758\n",
      "/home/nkuechen/Documents/Thesis/mlruns\n",
      "!! Creating new split...\n",
      "###Split 1/4!\n",
      "c_index_ipcw=0.951842905828301; ibs=0.08903297124950352\n",
      "###Split 2/4!\n",
      "c_index_ipcw=0.8264121124553804; ibs=0.09938051530485525\n",
      "###Split 3/4!\n",
      "c_index_ipcw=0.9303411121634312; ibs=0.05946261746118994\n",
      "###Split 4/4!\n",
      "c_index_ipcw=0.9029638543236256; ibs=0.27205629126172737\n",
      "/home/nkuechen/Documents/Thesis/mlruns\n",
      "!! Creating new split...\n",
      "###Split 1/4!\n"
     ]
    },
    {
     "name": "stderr",
     "output_type": "stream",
     "text": [
      "/home/nkuechen/miniconda3/envs/ba_niklas/lib/python3.11/site-packages/lifelines/fitters/coxph_fitter.py:1611: ConvergenceWarning: Newton-Rhaphson failed to converge sufficiently. Please see the following tips in the lifelines documentation: https://lifelines.readthedocs.io/en/latest/Examples.html#problems-with-convergence-in-the-cox-proportional-hazard-model\n",
      "  warnings.warn(\n"
     ]
    },
    {
     "name": "stdout",
     "output_type": "stream",
     "text": [
      "c_index_ipcw=0.8846454939280238; ibs=0.11339916447599742\n",
      "###Split 2/4!\n",
      "c_index_ipcw=0.926400846358064; ibs=0.0897988557180379\n",
      "###Split 3/4!\n",
      "c_index_ipcw=0.9426822293319143; ibs=0.04527546317645588\n",
      "###Split 4/4!\n",
      "c_index_ipcw=0.8644916904578759; ibs=0.092269273126611\n",
      "/home/nkuechen/Documents/Thesis/mlruns\n",
      "!! Creating new split...\n",
      "###Split 1/4!\n",
      "c_index_ipcw=0.9136111567769708; ibs=0.06947499291072377\n",
      "###Split 2/4!\n",
      "c_index_ipcw=0.8867956089368627; ibs=0.11274498958370867\n",
      "###Split 3/4!\n",
      "c_index_ipcw=0.9519031549110526; ibs=0.02435476844882596\n",
      "###Split 4/4!\n",
      "c_index_ipcw=0.8558458904460082; ibs=0.10584319019174147\n",
      "/home/nkuechen/Documents/Thesis/mlruns\n",
      "!! Creating new split...\n",
      "###Split 1/4!\n",
      "c_index_ipcw=0.8821801774841339; ibs=0.10258333169292971\n",
      "###Split 2/4!\n",
      "c_index_ipcw=0.9058315427071801; ibs=0.18659510908759705\n",
      "###Split 3/4!\n",
      "c_index_ipcw=0.9555465687266266; ibs=0.12538086278424246\n",
      "###Split 4/4!\n",
      "c_index_ipcw=0.9117785135629732; ibs=0.0567897679985607\n",
      "/home/nkuechen/Documents/Thesis/mlruns\n",
      "!! Creating new split...\n",
      "###Split 1/4!\n",
      "c_index_ipcw=0.8860859240836266; ibs=0.091771132232284\n",
      "###Split 2/4!\n",
      "c_index_ipcw=1.0; ibs=0.025927666877410483\n",
      "###Split 3/4!\n",
      "c_index_ipcw=0.8320789282155978; ibs=0.12699321092077592\n",
      "###Split 4/4!\n",
      "c_index_ipcw=0.9326495471051998; ibs=0.06814426321344008\n",
      "/home/nkuechen/Documents/Thesis/mlruns\n",
      "!! Creating new split...\n",
      "###Split 1/4!\n",
      "c_index_ipcw=0.9164675989328255; ibs=0.08497818941996418\n",
      "###Split 2/4!\n",
      "c_index_ipcw=0.9005769766900917; ibs=0.09840857175218871\n",
      "###Split 3/4!\n",
      "c_index_ipcw=0.9564885656939903; ibs=0.03174218597359082\n",
      "###Split 4/4!\n",
      "c_index_ipcw=0.8245975484511845; ibs=0.12731635172740954\n",
      "/home/nkuechen/Documents/Thesis/mlruns\n",
      "!! Creating new split...\n",
      "###Split 1/4!\n",
      "c_index_ipcw=0.8727453249458065; ibs=0.09545220340640713\n",
      "###Split 2/4!\n",
      "c_index_ipcw=0.9096432534490636; ibs=0.13235762350593316\n",
      "###Split 3/4!\n",
      "c_index_ipcw=0.9066830272022118; ibs=0.15272565383412762\n",
      "###Split 4/4!\n",
      "c_index_ipcw=0.9471646721313229; ibs=0.06215479488880897\n",
      "/home/nkuechen/Documents/Thesis/mlruns\n",
      "!! Creating new split...\n",
      "###Split 1/4!\n",
      "c_index_ipcw=0.9443132985539963; ibs=0.051986037491571734\n",
      "###Split 2/4!\n",
      "c_index_ipcw=0.9076018010903559; ibs=0.0688038264676884\n",
      "###Split 3/4!\n",
      "c_index_ipcw=0.8162537025891516; ibs=0.16851882591687378\n",
      "###Split 4/4!\n",
      "c_index_ipcw=0.9828003232617766; ibs=0.050088933939957725\n",
      "/home/nkuechen/Documents/Thesis/mlruns\n",
      "!! Creating new split...\n",
      "###Split 1/4!\n",
      "c_index_ipcw=0.9291331889149823; ibs=0.0746548257974152\n",
      "###Split 2/4!\n",
      "c_index_ipcw=0.8982030724745018; ibs=0.05083981297871683\n",
      "###Split 3/4!\n",
      "c_index_ipcw=0.7895194076645201; ibs=0.17899843337535523\n",
      "###Split 4/4!\n",
      "c_index_ipcw=0.9226661538575016; ibs=0.051946927756384174\n",
      "/home/nkuechen/Documents/Thesis/mlruns\n",
      "!! Creating new split...\n",
      "###Split 1/4!\n",
      "c_index_ipcw=0.9118260642362809; ibs=0.08142615015315541\n",
      "###Split 2/4!\n",
      "c_index_ipcw=0.8741717803324286; ibs=0.14031993903714493\n",
      "###Split 3/4!\n",
      "c_index_ipcw=0.9052115717485607; ibs=0.1443527951756626\n",
      "###Split 4/4!\n",
      "c_index_ipcw=0.8709449250673433; ibs=0.09843237220026295\n",
      "/home/nkuechen/Documents/Thesis/mlruns\n",
      "!! Creating new split...\n",
      "###Split 1/4!\n",
      "c_index_ipcw=0.9813163474651041; ibs=0.04899006345845913\n",
      "###Split 2/4!\n",
      "c_index_ipcw=0.871400473024719; ibs=0.12584090860674993\n",
      "###Split 3/4!\n",
      "c_index_ipcw=0.9009487839116265; ibs=0.08537249581639918\n",
      "###Split 4/4!\n",
      "c_index_ipcw=0.9152969068749574; ibs=0.0694647451473689\n",
      "/home/nkuechen/Documents/Thesis/mlruns\n",
      "!! Creating new split...\n",
      "###Split 1/4!\n",
      "c_index_ipcw=0.9361121174233997; ibs=0.07872073425013613\n",
      "###Split 2/4!\n",
      "c_index_ipcw=0.8791904670087972; ibs=0.07687475295967384\n",
      "###Split 3/4!\n",
      "c_index_ipcw=0.9050500779208734; ibs=0.1140972094745917\n",
      "###Split 4/4!\n",
      "c_index_ipcw=0.9309099162399253; ibs=0.07991616295875704\n",
      "/home/nkuechen/Documents/Thesis/mlruns\n",
      "!! Creating new split...\n",
      "###Split 1/4!\n",
      "c_index_ipcw=0.970722288100493; ibs=0.10743006506301886\n",
      "###Split 2/4!\n",
      "c_index_ipcw=0.898143779714126; ibs=0.18757042460949847\n",
      "###Split 3/4!\n",
      "c_index_ipcw=0.876830319938216; ibs=0.09102939628526524\n",
      "###Split 4/4!\n",
      "c_index_ipcw=0.9345012040912842; ibs=0.09359590118142941\n",
      "/home/nkuechen/Documents/Thesis/mlruns\n",
      "!! Creating new split...\n",
      "###Split 1/4!\n",
      "c_index_ipcw=0.9343889734440061; ibs=0.05773506620500505\n",
      "###Split 2/4!\n",
      "c_index_ipcw=0.9127109354170164; ibs=0.115083151892726\n",
      "###Split 3/4!\n",
      "c_index_ipcw=0.8475864045314812; ibs=0.13409975415584732\n",
      "###Split 4/4!\n",
      "c_index_ipcw=0.896840749069233; ibs=0.07411209355479058\n",
      "/home/nkuechen/Documents/Thesis/mlruns\n",
      "!! Creating new split...\n",
      "###Split 1/4!\n",
      "c_index_ipcw=0.9485617798949664; ibs=0.04707206208088498\n",
      "###Split 2/4!\n",
      "c_index_ipcw=0.8098075938499183; ibs=0.10198205749032058\n",
      "###Split 3/4!\n",
      "c_index_ipcw=0.863449088491008; ibs=0.08012659234872754\n",
      "###Split 4/4!\n",
      "c_index_ipcw=0.931279366546724; ibs=0.05175039866407223\n",
      "/home/nkuechen/Documents/Thesis/mlruns\n",
      "!! Creating new split...\n",
      "###Split 1/4!\n",
      "c_index_ipcw=0.9179821670417632; ibs=0.18935356727544\n",
      "###Split 2/4!\n",
      "c_index_ipcw=0.8782684219322807; ibs=0.1200724146453436\n",
      "###Split 3/4!\n",
      "c_index_ipcw=0.9711879515517055; ibs=0.051165120644317046\n",
      "###Split 4/4!\n",
      "c_index_ipcw=0.9130200933663061; ibs=0.14175816730997412\n",
      "/home/nkuechen/Documents/Thesis/mlruns\n",
      "!! Creating new split...\n",
      "###Split 1/4!\n",
      "c_index_ipcw=0.9021527828039064; ibs=0.08045285417368762\n",
      "###Split 2/4!\n",
      "c_index_ipcw=0.8844905993532911; ibs=0.07511204141759079\n",
      "###Split 3/4!\n",
      "c_index_ipcw=0.9207381059581723; ibs=0.08472415030384452\n",
      "###Split 4/4!\n",
      "c_index_ipcw=0.9549385669126305; ibs=0.04987886406450397\n",
      "/home/nkuechen/Documents/Thesis/mlruns\n",
      "!! Creating new split...\n",
      "###Split 1/4!\n",
      "c_index_ipcw=0.9311736736719595; ibs=0.05798478993376404\n",
      "###Split 2/4!\n",
      "c_index_ipcw=0.8686660855483488; ibs=0.07189452252482852\n",
      "###Split 3/4!\n",
      "c_index_ipcw=0.878231354458568; ibs=0.10778028519509347\n",
      "###Split 4/4!\n",
      "c_index_ipcw=0.9310010155374363; ibs=0.0597581451386198\n"
     ]
    }
   ],
   "source": [
    "surv_experiments = {}\n",
    "for param, param_bool, param_values in [\n",
    "    (\"max_noise\", \"add_noise\", [0, 10, 20]),\n",
    "    (\"max_noise_temperature\", \"add_noise_temperature\", [0, 5]),\n",
    "    (\"random_max_time_warp_percent\", \"random_warp_status_times\", [0, 0.5, 1]),\n",
    "]:\n",
    "    EXP_NAME = f\"surv_{param}\"\n",
    "    surv_experiments[EXP_NAME] = (param, param_bool, param_values)\n",
    "    if mlflow.get_experiment_by_name(EXP_NAME) is None:\n",
    "        for n_dev in [63, 63, 63, 63, 63]:\n",
    "            for model_class in [\"CoxPHFitter\", \"RandomSurvivalForest\"]:\n",
    "                for param_value in param_values:\n",
    "                    cross_validate_survival_model(\n",
    "                        raw_merged_df=df_raw_merged,\n",
    "                        model_class=model_class,\n",
    "                        n_dev=n_dev,\n",
    "                        n_aug=1,\n",
    "                        train_df_params={\n",
    "                            param_bool: True,\n",
    "                            param: param_value,\n",
    "                        },\n",
    "                        all_device_uuids=all_device_uuids,\n",
    "                        by_metric=\"metrics.c_index_ipcw\",\n",
    "                        mlflow_experiment=EXP_NAME,\n",
    "                    )\n",
    "    else:\n",
    "        print(f\"Skipping {EXP_NAME} because the experiment already exists.\")"
   ]
  },
  {
   "cell_type": "code",
   "execution_count": 21,
   "metadata": {},
   "outputs": [
    {
     "name": "stdout",
     "output_type": "stream",
     "text": [
      "/home/nkuechen/Documents/Thesis\n",
      "Experiment with ID 722659421398569041 has been exported as a CSV to file: code/thesis_code/data/aug_effect/surv_max_noise.csv.\n"
     ]
    },
    {
     "data": {
      "application/vnd.plotly.v1+json": {
       "config": {
        "plotlyServerURL": "https://plot.ly"
       },
       "data": [
        {
         "alignmentgroup": "True",
         "hovertemplate": "params.model_class=RandomSurvivalForest<br>params.max_noise=%{x}<br>metrics.c_index_ipcw=%{y}<extra></extra>",
         "legendgroup": "RandomSurvivalForest",
         "marker": {
          "color": "#636efa"
         },
         "name": "RandomSurvivalForest",
         "notched": false,
         "offsetgroup": "RandomSurvivalForest",
         "orientation": "v",
         "showlegend": true,
         "type": "box",
         "x": [
          20,
          10,
          0,
          20,
          10,
          0,
          20,
          10,
          0,
          20,
          10,
          0,
          20,
          10,
          0
         ],
         "x0": " ",
         "xaxis": "x",
         "y": [
          0.9155157368848272,
          0.9104940997526884,
          0.916970301659368,
          0.8921427694659948,
          0.8274515400560488,
          0.9310790008853912,
          0.9032985828954524,
          0.8797832793305128,
          0.9170407137330226,
          0.898693953738668,
          0.9077714270656202,
          0.9265196096059296,
          0.9156672424477752,
          0.8666113155748013,
          0.9095869201565988
         ],
         "y0": " ",
         "yaxis": "y"
        },
        {
         "alignmentgroup": "True",
         "hovertemplate": "params.model_class=CoxPHFitter<br>params.max_noise=%{x}<br>metrics.c_index_ipcw=%{y}<extra></extra>",
         "legendgroup": "CoxPHFitter",
         "marker": {
          "color": "#EF553B"
         },
         "name": "CoxPHFitter",
         "notched": false,
         "offsetgroup": "CoxPHFitter",
         "orientation": "v",
         "showlegend": true,
         "type": "box",
         "x": [
          20,
          10,
          0,
          20,
          10,
          0,
          20,
          10,
          0,
          20,
          10,
          0,
          20,
          10,
          0
         ],
         "x0": " ",
         "xaxis": "x",
         "y": [
          0.9004681645595658,
          0.8320802460653516,
          0.9146939208505154,
          0.8854524830558594,
          0.8706616919710064,
          0.9405842871313728,
          0.8934030329832127,
          0.8933113798250336,
          0.911025265517968,
          0.9008243818516144,
          0.9076453973082252,
          0.8744586110264648,
          0.8804344029480977,
          0.883786415912967,
          0.8837039594418232
         ],
         "y0": " ",
         "yaxis": "y"
        }
       ],
       "layout": {
        "boxmode": "group",
        "height": 600,
        "legend": {
         "title": {
          "text": "params.model_class"
         },
         "tracegroupgap": 0
        },
        "template": {
         "data": {
          "bar": [
           {
            "error_x": {
             "color": "#2a3f5f"
            },
            "error_y": {
             "color": "#2a3f5f"
            },
            "marker": {
             "line": {
              "color": "#E5ECF6",
              "width": 0.5
             },
             "pattern": {
              "fillmode": "overlay",
              "size": 10,
              "solidity": 0.2
             }
            },
            "type": "bar"
           }
          ],
          "barpolar": [
           {
            "marker": {
             "line": {
              "color": "#E5ECF6",
              "width": 0.5
             },
             "pattern": {
              "fillmode": "overlay",
              "size": 10,
              "solidity": 0.2
             }
            },
            "type": "barpolar"
           }
          ],
          "carpet": [
           {
            "aaxis": {
             "endlinecolor": "#2a3f5f",
             "gridcolor": "white",
             "linecolor": "white",
             "minorgridcolor": "white",
             "startlinecolor": "#2a3f5f"
            },
            "baxis": {
             "endlinecolor": "#2a3f5f",
             "gridcolor": "white",
             "linecolor": "white",
             "minorgridcolor": "white",
             "startlinecolor": "#2a3f5f"
            },
            "type": "carpet"
           }
          ],
          "choropleth": [
           {
            "colorbar": {
             "outlinewidth": 0,
             "ticks": ""
            },
            "type": "choropleth"
           }
          ],
          "contour": [
           {
            "colorbar": {
             "outlinewidth": 0,
             "ticks": ""
            },
            "colorscale": [
             [
              0,
              "#0d0887"
             ],
             [
              0.1111111111111111,
              "#46039f"
             ],
             [
              0.2222222222222222,
              "#7201a8"
             ],
             [
              0.3333333333333333,
              "#9c179e"
             ],
             [
              0.4444444444444444,
              "#bd3786"
             ],
             [
              0.5555555555555556,
              "#d8576b"
             ],
             [
              0.6666666666666666,
              "#ed7953"
             ],
             [
              0.7777777777777778,
              "#fb9f3a"
             ],
             [
              0.8888888888888888,
              "#fdca26"
             ],
             [
              1,
              "#f0f921"
             ]
            ],
            "type": "contour"
           }
          ],
          "contourcarpet": [
           {
            "colorbar": {
             "outlinewidth": 0,
             "ticks": ""
            },
            "type": "contourcarpet"
           }
          ],
          "heatmap": [
           {
            "colorbar": {
             "outlinewidth": 0,
             "ticks": ""
            },
            "colorscale": [
             [
              0,
              "#0d0887"
             ],
             [
              0.1111111111111111,
              "#46039f"
             ],
             [
              0.2222222222222222,
              "#7201a8"
             ],
             [
              0.3333333333333333,
              "#9c179e"
             ],
             [
              0.4444444444444444,
              "#bd3786"
             ],
             [
              0.5555555555555556,
              "#d8576b"
             ],
             [
              0.6666666666666666,
              "#ed7953"
             ],
             [
              0.7777777777777778,
              "#fb9f3a"
             ],
             [
              0.8888888888888888,
              "#fdca26"
             ],
             [
              1,
              "#f0f921"
             ]
            ],
            "type": "heatmap"
           }
          ],
          "heatmapgl": [
           {
            "colorbar": {
             "outlinewidth": 0,
             "ticks": ""
            },
            "colorscale": [
             [
              0,
              "#0d0887"
             ],
             [
              0.1111111111111111,
              "#46039f"
             ],
             [
              0.2222222222222222,
              "#7201a8"
             ],
             [
              0.3333333333333333,
              "#9c179e"
             ],
             [
              0.4444444444444444,
              "#bd3786"
             ],
             [
              0.5555555555555556,
              "#d8576b"
             ],
             [
              0.6666666666666666,
              "#ed7953"
             ],
             [
              0.7777777777777778,
              "#fb9f3a"
             ],
             [
              0.8888888888888888,
              "#fdca26"
             ],
             [
              1,
              "#f0f921"
             ]
            ],
            "type": "heatmapgl"
           }
          ],
          "histogram": [
           {
            "marker": {
             "pattern": {
              "fillmode": "overlay",
              "size": 10,
              "solidity": 0.2
             }
            },
            "type": "histogram"
           }
          ],
          "histogram2d": [
           {
            "colorbar": {
             "outlinewidth": 0,
             "ticks": ""
            },
            "colorscale": [
             [
              0,
              "#0d0887"
             ],
             [
              0.1111111111111111,
              "#46039f"
             ],
             [
              0.2222222222222222,
              "#7201a8"
             ],
             [
              0.3333333333333333,
              "#9c179e"
             ],
             [
              0.4444444444444444,
              "#bd3786"
             ],
             [
              0.5555555555555556,
              "#d8576b"
             ],
             [
              0.6666666666666666,
              "#ed7953"
             ],
             [
              0.7777777777777778,
              "#fb9f3a"
             ],
             [
              0.8888888888888888,
              "#fdca26"
             ],
             [
              1,
              "#f0f921"
             ]
            ],
            "type": "histogram2d"
           }
          ],
          "histogram2dcontour": [
           {
            "colorbar": {
             "outlinewidth": 0,
             "ticks": ""
            },
            "colorscale": [
             [
              0,
              "#0d0887"
             ],
             [
              0.1111111111111111,
              "#46039f"
             ],
             [
              0.2222222222222222,
              "#7201a8"
             ],
             [
              0.3333333333333333,
              "#9c179e"
             ],
             [
              0.4444444444444444,
              "#bd3786"
             ],
             [
              0.5555555555555556,
              "#d8576b"
             ],
             [
              0.6666666666666666,
              "#ed7953"
             ],
             [
              0.7777777777777778,
              "#fb9f3a"
             ],
             [
              0.8888888888888888,
              "#fdca26"
             ],
             [
              1,
              "#f0f921"
             ]
            ],
            "type": "histogram2dcontour"
           }
          ],
          "mesh3d": [
           {
            "colorbar": {
             "outlinewidth": 0,
             "ticks": ""
            },
            "type": "mesh3d"
           }
          ],
          "parcoords": [
           {
            "line": {
             "colorbar": {
              "outlinewidth": 0,
              "ticks": ""
             }
            },
            "type": "parcoords"
           }
          ],
          "pie": [
           {
            "automargin": true,
            "type": "pie"
           }
          ],
          "scatter": [
           {
            "fillpattern": {
             "fillmode": "overlay",
             "size": 10,
             "solidity": 0.2
            },
            "type": "scatter"
           }
          ],
          "scatter3d": [
           {
            "line": {
             "colorbar": {
              "outlinewidth": 0,
              "ticks": ""
             }
            },
            "marker": {
             "colorbar": {
              "outlinewidth": 0,
              "ticks": ""
             }
            },
            "type": "scatter3d"
           }
          ],
          "scattercarpet": [
           {
            "marker": {
             "colorbar": {
              "outlinewidth": 0,
              "ticks": ""
             }
            },
            "type": "scattercarpet"
           }
          ],
          "scattergeo": [
           {
            "marker": {
             "colorbar": {
              "outlinewidth": 0,
              "ticks": ""
             }
            },
            "type": "scattergeo"
           }
          ],
          "scattergl": [
           {
            "marker": {
             "colorbar": {
              "outlinewidth": 0,
              "ticks": ""
             }
            },
            "type": "scattergl"
           }
          ],
          "scattermapbox": [
           {
            "marker": {
             "colorbar": {
              "outlinewidth": 0,
              "ticks": ""
             }
            },
            "type": "scattermapbox"
           }
          ],
          "scatterpolar": [
           {
            "marker": {
             "colorbar": {
              "outlinewidth": 0,
              "ticks": ""
             }
            },
            "type": "scatterpolar"
           }
          ],
          "scatterpolargl": [
           {
            "marker": {
             "colorbar": {
              "outlinewidth": 0,
              "ticks": ""
             }
            },
            "type": "scatterpolargl"
           }
          ],
          "scatterternary": [
           {
            "marker": {
             "colorbar": {
              "outlinewidth": 0,
              "ticks": ""
             }
            },
            "type": "scatterternary"
           }
          ],
          "surface": [
           {
            "colorbar": {
             "outlinewidth": 0,
             "ticks": ""
            },
            "colorscale": [
             [
              0,
              "#0d0887"
             ],
             [
              0.1111111111111111,
              "#46039f"
             ],
             [
              0.2222222222222222,
              "#7201a8"
             ],
             [
              0.3333333333333333,
              "#9c179e"
             ],
             [
              0.4444444444444444,
              "#bd3786"
             ],
             [
              0.5555555555555556,
              "#d8576b"
             ],
             [
              0.6666666666666666,
              "#ed7953"
             ],
             [
              0.7777777777777778,
              "#fb9f3a"
             ],
             [
              0.8888888888888888,
              "#fdca26"
             ],
             [
              1,
              "#f0f921"
             ]
            ],
            "type": "surface"
           }
          ],
          "table": [
           {
            "cells": {
             "fill": {
              "color": "#EBF0F8"
             },
             "line": {
              "color": "white"
             }
            },
            "header": {
             "fill": {
              "color": "#C8D4E3"
             },
             "line": {
              "color": "white"
             }
            },
            "type": "table"
           }
          ]
         },
         "layout": {
          "annotationdefaults": {
           "arrowcolor": "#2a3f5f",
           "arrowhead": 0,
           "arrowwidth": 1
          },
          "autotypenumbers": "strict",
          "coloraxis": {
           "colorbar": {
            "outlinewidth": 0,
            "ticks": ""
           }
          },
          "colorscale": {
           "diverging": [
            [
             0,
             "#8e0152"
            ],
            [
             0.1,
             "#c51b7d"
            ],
            [
             0.2,
             "#de77ae"
            ],
            [
             0.3,
             "#f1b6da"
            ],
            [
             0.4,
             "#fde0ef"
            ],
            [
             0.5,
             "#f7f7f7"
            ],
            [
             0.6,
             "#e6f5d0"
            ],
            [
             0.7,
             "#b8e186"
            ],
            [
             0.8,
             "#7fbc41"
            ],
            [
             0.9,
             "#4d9221"
            ],
            [
             1,
             "#276419"
            ]
           ],
           "sequential": [
            [
             0,
             "#0d0887"
            ],
            [
             0.1111111111111111,
             "#46039f"
            ],
            [
             0.2222222222222222,
             "#7201a8"
            ],
            [
             0.3333333333333333,
             "#9c179e"
            ],
            [
             0.4444444444444444,
             "#bd3786"
            ],
            [
             0.5555555555555556,
             "#d8576b"
            ],
            [
             0.6666666666666666,
             "#ed7953"
            ],
            [
             0.7777777777777778,
             "#fb9f3a"
            ],
            [
             0.8888888888888888,
             "#fdca26"
            ],
            [
             1,
             "#f0f921"
            ]
           ],
           "sequentialminus": [
            [
             0,
             "#0d0887"
            ],
            [
             0.1111111111111111,
             "#46039f"
            ],
            [
             0.2222222222222222,
             "#7201a8"
            ],
            [
             0.3333333333333333,
             "#9c179e"
            ],
            [
             0.4444444444444444,
             "#bd3786"
            ],
            [
             0.5555555555555556,
             "#d8576b"
            ],
            [
             0.6666666666666666,
             "#ed7953"
            ],
            [
             0.7777777777777778,
             "#fb9f3a"
            ],
            [
             0.8888888888888888,
             "#fdca26"
            ],
            [
             1,
             "#f0f921"
            ]
           ]
          },
          "colorway": [
           "#636efa",
           "#EF553B",
           "#00cc96",
           "#ab63fa",
           "#FFA15A",
           "#19d3f3",
           "#FF6692",
           "#B6E880",
           "#FF97FF",
           "#FECB52"
          ],
          "font": {
           "color": "#2a3f5f"
          },
          "geo": {
           "bgcolor": "white",
           "lakecolor": "white",
           "landcolor": "#E5ECF6",
           "showlakes": true,
           "showland": true,
           "subunitcolor": "white"
          },
          "hoverlabel": {
           "align": "left"
          },
          "hovermode": "closest",
          "mapbox": {
           "style": "light"
          },
          "paper_bgcolor": "white",
          "plot_bgcolor": "#E5ECF6",
          "polar": {
           "angularaxis": {
            "gridcolor": "white",
            "linecolor": "white",
            "ticks": ""
           },
           "bgcolor": "#E5ECF6",
           "radialaxis": {
            "gridcolor": "white",
            "linecolor": "white",
            "ticks": ""
           }
          },
          "scene": {
           "xaxis": {
            "backgroundcolor": "#E5ECF6",
            "gridcolor": "white",
            "gridwidth": 2,
            "linecolor": "white",
            "showbackground": true,
            "ticks": "",
            "zerolinecolor": "white"
           },
           "yaxis": {
            "backgroundcolor": "#E5ECF6",
            "gridcolor": "white",
            "gridwidth": 2,
            "linecolor": "white",
            "showbackground": true,
            "ticks": "",
            "zerolinecolor": "white"
           },
           "zaxis": {
            "backgroundcolor": "#E5ECF6",
            "gridcolor": "white",
            "gridwidth": 2,
            "linecolor": "white",
            "showbackground": true,
            "ticks": "",
            "zerolinecolor": "white"
           }
          },
          "shapedefaults": {
           "line": {
            "color": "#2a3f5f"
           }
          },
          "ternary": {
           "aaxis": {
            "gridcolor": "white",
            "linecolor": "white",
            "ticks": ""
           },
           "baxis": {
            "gridcolor": "white",
            "linecolor": "white",
            "ticks": ""
           },
           "bgcolor": "#E5ECF6",
           "caxis": {
            "gridcolor": "white",
            "linecolor": "white",
            "ticks": ""
           }
          },
          "title": {
           "x": 0.05
          },
          "xaxis": {
           "automargin": true,
           "gridcolor": "white",
           "linecolor": "white",
           "ticks": "",
           "title": {
            "standoff": 15
           },
           "zerolinecolor": "white",
           "zerolinewidth": 2
          },
          "yaxis": {
           "automargin": true,
           "gridcolor": "white",
           "linecolor": "white",
           "ticks": "",
           "title": {
            "standoff": 15
           },
           "zerolinecolor": "white",
           "zerolinewidth": 2
          }
         }
        },
        "title": {
         "text": "Einfluss von max_noise auf den metrics.c_index_ipcw."
        },
        "width": 1000,
        "xaxis": {
         "anchor": "y",
         "domain": [
          0,
          1
         ],
         "title": {
          "text": "params.max_noise"
         }
        },
        "yaxis": {
         "anchor": "x",
         "domain": [
          0,
          1
         ],
         "title": {
          "text": "metrics.c_index_ipcw"
         }
        }
       }
      }
     },
     "metadata": {},
     "output_type": "display_data"
    },
    {
     "name": "stdout",
     "output_type": "stream",
     "text": [
      "{'CoxPHFitter': {0: 0.911025265517968, 10: 0.883786415912967, 20: 0.8934030329832127}, 'RandomSurvivalForest': {0: 0.9170407137330226, 10: 0.8797832793305128, 20: 0.9032985828954524}}\n",
      "                        0     10    20\n",
      "CoxPHFitter          0.911 0.884 0.893\n",
      "RandomSurvivalForest 0.917 0.880 0.903\n",
      "/home/nkuechen/Documents/Thesis\n",
      "Experiment with ID 722659421398569041 has been exported as a CSV to file: code/thesis_code/data/aug_effect/surv_max_noise.csv.\n"
     ]
    },
    {
     "data": {
      "application/vnd.plotly.v1+json": {
       "config": {
        "plotlyServerURL": "https://plot.ly"
       },
       "data": [
        {
         "alignmentgroup": "True",
         "hovertemplate": "params.model_class=RandomSurvivalForest<br>params.max_noise=%{x}<br>metrics.ibs=%{y}<extra></extra>",
         "legendgroup": "RandomSurvivalForest",
         "marker": {
          "color": "#636efa"
         },
         "name": "RandomSurvivalForest",
         "notched": false,
         "offsetgroup": "RandomSurvivalForest",
         "orientation": "v",
         "showlegend": true,
         "type": "box",
         "x": [
          20,
          10,
          0,
          20,
          10,
          0,
          20,
          10,
          0,
          20,
          10,
          0,
          20,
          10,
          0
         ],
         "x0": " ",
         "xaxis": "x",
         "y": [
          0.0747600095360889,
          0.0692751325279334,
          0.1071394402156528,
          0.0745946270946012,
          0.086172522364777,
          0.1092392560677825,
          0.0713729647762089,
          0.0761637433544595,
          0.1286209102520502,
          0.0773997620440714,
          0.0867395811154941,
          0.1026353798559219,
          0.0698452576178758,
          0.0783869576359958,
          0.106381668558942
         ],
         "y0": " ",
         "yaxis": "y"
        },
        {
         "alignmentgroup": "True",
         "hovertemplate": "params.model_class=CoxPHFitter<br>params.max_noise=%{x}<br>metrics.ibs=%{y}<extra></extra>",
         "legendgroup": "CoxPHFitter",
         "marker": {
          "color": "#EF553B"
         },
         "name": "CoxPHFitter",
         "notched": false,
         "offsetgroup": "CoxPHFitter",
         "orientation": "v",
         "showlegend": true,
         "type": "box",
         "x": [
          20,
          10,
          0,
          20,
          10,
          0,
          20,
          10,
          0,
          20,
          10,
          0,
          20,
          10,
          0
         ],
         "x0": " ",
         "xaxis": "x",
         "y": [
          0.0722977866523091,
          0.1105927595698629,
          0.1044242189415632,
          0.0748901789574013,
          0.0872961980395937,
          0.1428693563697382,
          0.0784991630620594,
          0.0740319040809176,
          0.1206850871322089,
          0.0642270383275739,
          0.0812717210801253,
          0.1414780421110422,
          0.0792006323623405,
          0.0775152547485186,
          0.1477120176595979
         ],
         "y0": " ",
         "yaxis": "y"
        }
       ],
       "layout": {
        "boxmode": "group",
        "height": 600,
        "legend": {
         "title": {
          "text": "params.model_class"
         },
         "tracegroupgap": 0
        },
        "template": {
         "data": {
          "bar": [
           {
            "error_x": {
             "color": "#2a3f5f"
            },
            "error_y": {
             "color": "#2a3f5f"
            },
            "marker": {
             "line": {
              "color": "#E5ECF6",
              "width": 0.5
             },
             "pattern": {
              "fillmode": "overlay",
              "size": 10,
              "solidity": 0.2
             }
            },
            "type": "bar"
           }
          ],
          "barpolar": [
           {
            "marker": {
             "line": {
              "color": "#E5ECF6",
              "width": 0.5
             },
             "pattern": {
              "fillmode": "overlay",
              "size": 10,
              "solidity": 0.2
             }
            },
            "type": "barpolar"
           }
          ],
          "carpet": [
           {
            "aaxis": {
             "endlinecolor": "#2a3f5f",
             "gridcolor": "white",
             "linecolor": "white",
             "minorgridcolor": "white",
             "startlinecolor": "#2a3f5f"
            },
            "baxis": {
             "endlinecolor": "#2a3f5f",
             "gridcolor": "white",
             "linecolor": "white",
             "minorgridcolor": "white",
             "startlinecolor": "#2a3f5f"
            },
            "type": "carpet"
           }
          ],
          "choropleth": [
           {
            "colorbar": {
             "outlinewidth": 0,
             "ticks": ""
            },
            "type": "choropleth"
           }
          ],
          "contour": [
           {
            "colorbar": {
             "outlinewidth": 0,
             "ticks": ""
            },
            "colorscale": [
             [
              0,
              "#0d0887"
             ],
             [
              0.1111111111111111,
              "#46039f"
             ],
             [
              0.2222222222222222,
              "#7201a8"
             ],
             [
              0.3333333333333333,
              "#9c179e"
             ],
             [
              0.4444444444444444,
              "#bd3786"
             ],
             [
              0.5555555555555556,
              "#d8576b"
             ],
             [
              0.6666666666666666,
              "#ed7953"
             ],
             [
              0.7777777777777778,
              "#fb9f3a"
             ],
             [
              0.8888888888888888,
              "#fdca26"
             ],
             [
              1,
              "#f0f921"
             ]
            ],
            "type": "contour"
           }
          ],
          "contourcarpet": [
           {
            "colorbar": {
             "outlinewidth": 0,
             "ticks": ""
            },
            "type": "contourcarpet"
           }
          ],
          "heatmap": [
           {
            "colorbar": {
             "outlinewidth": 0,
             "ticks": ""
            },
            "colorscale": [
             [
              0,
              "#0d0887"
             ],
             [
              0.1111111111111111,
              "#46039f"
             ],
             [
              0.2222222222222222,
              "#7201a8"
             ],
             [
              0.3333333333333333,
              "#9c179e"
             ],
             [
              0.4444444444444444,
              "#bd3786"
             ],
             [
              0.5555555555555556,
              "#d8576b"
             ],
             [
              0.6666666666666666,
              "#ed7953"
             ],
             [
              0.7777777777777778,
              "#fb9f3a"
             ],
             [
              0.8888888888888888,
              "#fdca26"
             ],
             [
              1,
              "#f0f921"
             ]
            ],
            "type": "heatmap"
           }
          ],
          "heatmapgl": [
           {
            "colorbar": {
             "outlinewidth": 0,
             "ticks": ""
            },
            "colorscale": [
             [
              0,
              "#0d0887"
             ],
             [
              0.1111111111111111,
              "#46039f"
             ],
             [
              0.2222222222222222,
              "#7201a8"
             ],
             [
              0.3333333333333333,
              "#9c179e"
             ],
             [
              0.4444444444444444,
              "#bd3786"
             ],
             [
              0.5555555555555556,
              "#d8576b"
             ],
             [
              0.6666666666666666,
              "#ed7953"
             ],
             [
              0.7777777777777778,
              "#fb9f3a"
             ],
             [
              0.8888888888888888,
              "#fdca26"
             ],
             [
              1,
              "#f0f921"
             ]
            ],
            "type": "heatmapgl"
           }
          ],
          "histogram": [
           {
            "marker": {
             "pattern": {
              "fillmode": "overlay",
              "size": 10,
              "solidity": 0.2
             }
            },
            "type": "histogram"
           }
          ],
          "histogram2d": [
           {
            "colorbar": {
             "outlinewidth": 0,
             "ticks": ""
            },
            "colorscale": [
             [
              0,
              "#0d0887"
             ],
             [
              0.1111111111111111,
              "#46039f"
             ],
             [
              0.2222222222222222,
              "#7201a8"
             ],
             [
              0.3333333333333333,
              "#9c179e"
             ],
             [
              0.4444444444444444,
              "#bd3786"
             ],
             [
              0.5555555555555556,
              "#d8576b"
             ],
             [
              0.6666666666666666,
              "#ed7953"
             ],
             [
              0.7777777777777778,
              "#fb9f3a"
             ],
             [
              0.8888888888888888,
              "#fdca26"
             ],
             [
              1,
              "#f0f921"
             ]
            ],
            "type": "histogram2d"
           }
          ],
          "histogram2dcontour": [
           {
            "colorbar": {
             "outlinewidth": 0,
             "ticks": ""
            },
            "colorscale": [
             [
              0,
              "#0d0887"
             ],
             [
              0.1111111111111111,
              "#46039f"
             ],
             [
              0.2222222222222222,
              "#7201a8"
             ],
             [
              0.3333333333333333,
              "#9c179e"
             ],
             [
              0.4444444444444444,
              "#bd3786"
             ],
             [
              0.5555555555555556,
              "#d8576b"
             ],
             [
              0.6666666666666666,
              "#ed7953"
             ],
             [
              0.7777777777777778,
              "#fb9f3a"
             ],
             [
              0.8888888888888888,
              "#fdca26"
             ],
             [
              1,
              "#f0f921"
             ]
            ],
            "type": "histogram2dcontour"
           }
          ],
          "mesh3d": [
           {
            "colorbar": {
             "outlinewidth": 0,
             "ticks": ""
            },
            "type": "mesh3d"
           }
          ],
          "parcoords": [
           {
            "line": {
             "colorbar": {
              "outlinewidth": 0,
              "ticks": ""
             }
            },
            "type": "parcoords"
           }
          ],
          "pie": [
           {
            "automargin": true,
            "type": "pie"
           }
          ],
          "scatter": [
           {
            "fillpattern": {
             "fillmode": "overlay",
             "size": 10,
             "solidity": 0.2
            },
            "type": "scatter"
           }
          ],
          "scatter3d": [
           {
            "line": {
             "colorbar": {
              "outlinewidth": 0,
              "ticks": ""
             }
            },
            "marker": {
             "colorbar": {
              "outlinewidth": 0,
              "ticks": ""
             }
            },
            "type": "scatter3d"
           }
          ],
          "scattercarpet": [
           {
            "marker": {
             "colorbar": {
              "outlinewidth": 0,
              "ticks": ""
             }
            },
            "type": "scattercarpet"
           }
          ],
          "scattergeo": [
           {
            "marker": {
             "colorbar": {
              "outlinewidth": 0,
              "ticks": ""
             }
            },
            "type": "scattergeo"
           }
          ],
          "scattergl": [
           {
            "marker": {
             "colorbar": {
              "outlinewidth": 0,
              "ticks": ""
             }
            },
            "type": "scattergl"
           }
          ],
          "scattermapbox": [
           {
            "marker": {
             "colorbar": {
              "outlinewidth": 0,
              "ticks": ""
             }
            },
            "type": "scattermapbox"
           }
          ],
          "scatterpolar": [
           {
            "marker": {
             "colorbar": {
              "outlinewidth": 0,
              "ticks": ""
             }
            },
            "type": "scatterpolar"
           }
          ],
          "scatterpolargl": [
           {
            "marker": {
             "colorbar": {
              "outlinewidth": 0,
              "ticks": ""
             }
            },
            "type": "scatterpolargl"
           }
          ],
          "scatterternary": [
           {
            "marker": {
             "colorbar": {
              "outlinewidth": 0,
              "ticks": ""
             }
            },
            "type": "scatterternary"
           }
          ],
          "surface": [
           {
            "colorbar": {
             "outlinewidth": 0,
             "ticks": ""
            },
            "colorscale": [
             [
              0,
              "#0d0887"
             ],
             [
              0.1111111111111111,
              "#46039f"
             ],
             [
              0.2222222222222222,
              "#7201a8"
             ],
             [
              0.3333333333333333,
              "#9c179e"
             ],
             [
              0.4444444444444444,
              "#bd3786"
             ],
             [
              0.5555555555555556,
              "#d8576b"
             ],
             [
              0.6666666666666666,
              "#ed7953"
             ],
             [
              0.7777777777777778,
              "#fb9f3a"
             ],
             [
              0.8888888888888888,
              "#fdca26"
             ],
             [
              1,
              "#f0f921"
             ]
            ],
            "type": "surface"
           }
          ],
          "table": [
           {
            "cells": {
             "fill": {
              "color": "#EBF0F8"
             },
             "line": {
              "color": "white"
             }
            },
            "header": {
             "fill": {
              "color": "#C8D4E3"
             },
             "line": {
              "color": "white"
             }
            },
            "type": "table"
           }
          ]
         },
         "layout": {
          "annotationdefaults": {
           "arrowcolor": "#2a3f5f",
           "arrowhead": 0,
           "arrowwidth": 1
          },
          "autotypenumbers": "strict",
          "coloraxis": {
           "colorbar": {
            "outlinewidth": 0,
            "ticks": ""
           }
          },
          "colorscale": {
           "diverging": [
            [
             0,
             "#8e0152"
            ],
            [
             0.1,
             "#c51b7d"
            ],
            [
             0.2,
             "#de77ae"
            ],
            [
             0.3,
             "#f1b6da"
            ],
            [
             0.4,
             "#fde0ef"
            ],
            [
             0.5,
             "#f7f7f7"
            ],
            [
             0.6,
             "#e6f5d0"
            ],
            [
             0.7,
             "#b8e186"
            ],
            [
             0.8,
             "#7fbc41"
            ],
            [
             0.9,
             "#4d9221"
            ],
            [
             1,
             "#276419"
            ]
           ],
           "sequential": [
            [
             0,
             "#0d0887"
            ],
            [
             0.1111111111111111,
             "#46039f"
            ],
            [
             0.2222222222222222,
             "#7201a8"
            ],
            [
             0.3333333333333333,
             "#9c179e"
            ],
            [
             0.4444444444444444,
             "#bd3786"
            ],
            [
             0.5555555555555556,
             "#d8576b"
            ],
            [
             0.6666666666666666,
             "#ed7953"
            ],
            [
             0.7777777777777778,
             "#fb9f3a"
            ],
            [
             0.8888888888888888,
             "#fdca26"
            ],
            [
             1,
             "#f0f921"
            ]
           ],
           "sequentialminus": [
            [
             0,
             "#0d0887"
            ],
            [
             0.1111111111111111,
             "#46039f"
            ],
            [
             0.2222222222222222,
             "#7201a8"
            ],
            [
             0.3333333333333333,
             "#9c179e"
            ],
            [
             0.4444444444444444,
             "#bd3786"
            ],
            [
             0.5555555555555556,
             "#d8576b"
            ],
            [
             0.6666666666666666,
             "#ed7953"
            ],
            [
             0.7777777777777778,
             "#fb9f3a"
            ],
            [
             0.8888888888888888,
             "#fdca26"
            ],
            [
             1,
             "#f0f921"
            ]
           ]
          },
          "colorway": [
           "#636efa",
           "#EF553B",
           "#00cc96",
           "#ab63fa",
           "#FFA15A",
           "#19d3f3",
           "#FF6692",
           "#B6E880",
           "#FF97FF",
           "#FECB52"
          ],
          "font": {
           "color": "#2a3f5f"
          },
          "geo": {
           "bgcolor": "white",
           "lakecolor": "white",
           "landcolor": "#E5ECF6",
           "showlakes": true,
           "showland": true,
           "subunitcolor": "white"
          },
          "hoverlabel": {
           "align": "left"
          },
          "hovermode": "closest",
          "mapbox": {
           "style": "light"
          },
          "paper_bgcolor": "white",
          "plot_bgcolor": "#E5ECF6",
          "polar": {
           "angularaxis": {
            "gridcolor": "white",
            "linecolor": "white",
            "ticks": ""
           },
           "bgcolor": "#E5ECF6",
           "radialaxis": {
            "gridcolor": "white",
            "linecolor": "white",
            "ticks": ""
           }
          },
          "scene": {
           "xaxis": {
            "backgroundcolor": "#E5ECF6",
            "gridcolor": "white",
            "gridwidth": 2,
            "linecolor": "white",
            "showbackground": true,
            "ticks": "",
            "zerolinecolor": "white"
           },
           "yaxis": {
            "backgroundcolor": "#E5ECF6",
            "gridcolor": "white",
            "gridwidth": 2,
            "linecolor": "white",
            "showbackground": true,
            "ticks": "",
            "zerolinecolor": "white"
           },
           "zaxis": {
            "backgroundcolor": "#E5ECF6",
            "gridcolor": "white",
            "gridwidth": 2,
            "linecolor": "white",
            "showbackground": true,
            "ticks": "",
            "zerolinecolor": "white"
           }
          },
          "shapedefaults": {
           "line": {
            "color": "#2a3f5f"
           }
          },
          "ternary": {
           "aaxis": {
            "gridcolor": "white",
            "linecolor": "white",
            "ticks": ""
           },
           "baxis": {
            "gridcolor": "white",
            "linecolor": "white",
            "ticks": ""
           },
           "bgcolor": "#E5ECF6",
           "caxis": {
            "gridcolor": "white",
            "linecolor": "white",
            "ticks": ""
           }
          },
          "title": {
           "x": 0.05
          },
          "xaxis": {
           "automargin": true,
           "gridcolor": "white",
           "linecolor": "white",
           "ticks": "",
           "title": {
            "standoff": 15
           },
           "zerolinecolor": "white",
           "zerolinewidth": 2
          },
          "yaxis": {
           "automargin": true,
           "gridcolor": "white",
           "linecolor": "white",
           "ticks": "",
           "title": {
            "standoff": 15
           },
           "zerolinecolor": "white",
           "zerolinewidth": 2
          }
         }
        },
        "title": {
         "text": "Einfluss von max_noise auf den metrics.ibs."
        },
        "width": 1000,
        "xaxis": {
         "anchor": "y",
         "domain": [
          0,
          1
         ],
         "title": {
          "text": "params.max_noise"
         }
        },
        "yaxis": {
         "anchor": "x",
         "domain": [
          0,
          1
         ],
         "title": {
          "text": "metrics.ibs"
         }
        }
       }
      }
     },
     "metadata": {},
     "output_type": "display_data"
    },
    {
     "name": "stdout",
     "output_type": "stream",
     "text": [
      "{'CoxPHFitter': {0: 0.1414780421110422, 10: 0.0812717210801253, 20: 0.0748901789574013}, 'RandomSurvivalForest': {0: 0.1071394402156528, 10: 0.0783869576359958, 20: 0.0745946270946012}}\n",
      "                        0     10    20\n",
      "CoxPHFitter          0.141 0.081 0.075\n",
      "RandomSurvivalForest 0.107 0.078 0.075\n",
      "/home/nkuechen/Documents/Thesis\n",
      "Experiment with ID 374792384496278134 has been exported as a CSV to file: code/thesis_code/data/aug_effect/surv_max_noise_temperature.csv.\n"
     ]
    },
    {
     "data": {
      "application/vnd.plotly.v1+json": {
       "config": {
        "plotlyServerURL": "https://plot.ly"
       },
       "data": [
        {
         "alignmentgroup": "True",
         "hovertemplate": "params.model_class=RandomSurvivalForest<br>params.max_noise_temperature=%{x}<br>metrics.c_index_ipcw=%{y}<extra></extra>",
         "legendgroup": "RandomSurvivalForest",
         "marker": {
          "color": "#636efa"
         },
         "name": "RandomSurvivalForest",
         "notched": false,
         "offsetgroup": "RandomSurvivalForest",
         "orientation": "v",
         "showlegend": true,
         "type": "box",
         "x": [
          5,
          0,
          5,
          0,
          5,
          0,
          5,
          0,
          5,
          0
         ],
         "x0": " ",
         "xaxis": "x",
         "y": [
          0.9205244896167558,
          0.8893882376947645,
          0.8624649202384931,
          0.8711413143965167,
          0.8672459228065669,
          0.9031954637172714,
          0.9141105921259312,
          0.9290855907693208,
          0.8479308917170572,
          0.9113161720702494
         ],
         "y0": " ",
         "yaxis": "y"
        },
        {
         "alignmentgroup": "True",
         "hovertemplate": "params.model_class=CoxPHFitter<br>params.max_noise_temperature=%{x}<br>metrics.c_index_ipcw=%{y}<extra></extra>",
         "legendgroup": "CoxPHFitter",
         "marker": {
          "color": "#EF553B"
         },
         "name": "CoxPHFitter",
         "notched": false,
         "offsetgroup": "CoxPHFitter",
         "orientation": "v",
         "showlegend": true,
         "type": "box",
         "x": [
          5,
          0,
          5,
          0,
          5,
          0,
          5,
          0,
          5,
          0
         ],
         "x0": " ",
         "xaxis": "x",
         "y": [
          0.9251955181290944,
          0.9015923823591,
          0.9367696739086326,
          0.867574275542697,
          0.899799762913932,
          0.8768242611286103,
          0.9299605061110048,
          0.8876060479597238,
          0.8976482611381205,
          0.9406904735821352
         ],
         "y0": " ",
         "yaxis": "y"
        }
       ],
       "layout": {
        "boxmode": "group",
        "height": 600,
        "legend": {
         "title": {
          "text": "params.model_class"
         },
         "tracegroupgap": 0
        },
        "template": {
         "data": {
          "bar": [
           {
            "error_x": {
             "color": "#2a3f5f"
            },
            "error_y": {
             "color": "#2a3f5f"
            },
            "marker": {
             "line": {
              "color": "#E5ECF6",
              "width": 0.5
             },
             "pattern": {
              "fillmode": "overlay",
              "size": 10,
              "solidity": 0.2
             }
            },
            "type": "bar"
           }
          ],
          "barpolar": [
           {
            "marker": {
             "line": {
              "color": "#E5ECF6",
              "width": 0.5
             },
             "pattern": {
              "fillmode": "overlay",
              "size": 10,
              "solidity": 0.2
             }
            },
            "type": "barpolar"
           }
          ],
          "carpet": [
           {
            "aaxis": {
             "endlinecolor": "#2a3f5f",
             "gridcolor": "white",
             "linecolor": "white",
             "minorgridcolor": "white",
             "startlinecolor": "#2a3f5f"
            },
            "baxis": {
             "endlinecolor": "#2a3f5f",
             "gridcolor": "white",
             "linecolor": "white",
             "minorgridcolor": "white",
             "startlinecolor": "#2a3f5f"
            },
            "type": "carpet"
           }
          ],
          "choropleth": [
           {
            "colorbar": {
             "outlinewidth": 0,
             "ticks": ""
            },
            "type": "choropleth"
           }
          ],
          "contour": [
           {
            "colorbar": {
             "outlinewidth": 0,
             "ticks": ""
            },
            "colorscale": [
             [
              0,
              "#0d0887"
             ],
             [
              0.1111111111111111,
              "#46039f"
             ],
             [
              0.2222222222222222,
              "#7201a8"
             ],
             [
              0.3333333333333333,
              "#9c179e"
             ],
             [
              0.4444444444444444,
              "#bd3786"
             ],
             [
              0.5555555555555556,
              "#d8576b"
             ],
             [
              0.6666666666666666,
              "#ed7953"
             ],
             [
              0.7777777777777778,
              "#fb9f3a"
             ],
             [
              0.8888888888888888,
              "#fdca26"
             ],
             [
              1,
              "#f0f921"
             ]
            ],
            "type": "contour"
           }
          ],
          "contourcarpet": [
           {
            "colorbar": {
             "outlinewidth": 0,
             "ticks": ""
            },
            "type": "contourcarpet"
           }
          ],
          "heatmap": [
           {
            "colorbar": {
             "outlinewidth": 0,
             "ticks": ""
            },
            "colorscale": [
             [
              0,
              "#0d0887"
             ],
             [
              0.1111111111111111,
              "#46039f"
             ],
             [
              0.2222222222222222,
              "#7201a8"
             ],
             [
              0.3333333333333333,
              "#9c179e"
             ],
             [
              0.4444444444444444,
              "#bd3786"
             ],
             [
              0.5555555555555556,
              "#d8576b"
             ],
             [
              0.6666666666666666,
              "#ed7953"
             ],
             [
              0.7777777777777778,
              "#fb9f3a"
             ],
             [
              0.8888888888888888,
              "#fdca26"
             ],
             [
              1,
              "#f0f921"
             ]
            ],
            "type": "heatmap"
           }
          ],
          "heatmapgl": [
           {
            "colorbar": {
             "outlinewidth": 0,
             "ticks": ""
            },
            "colorscale": [
             [
              0,
              "#0d0887"
             ],
             [
              0.1111111111111111,
              "#46039f"
             ],
             [
              0.2222222222222222,
              "#7201a8"
             ],
             [
              0.3333333333333333,
              "#9c179e"
             ],
             [
              0.4444444444444444,
              "#bd3786"
             ],
             [
              0.5555555555555556,
              "#d8576b"
             ],
             [
              0.6666666666666666,
              "#ed7953"
             ],
             [
              0.7777777777777778,
              "#fb9f3a"
             ],
             [
              0.8888888888888888,
              "#fdca26"
             ],
             [
              1,
              "#f0f921"
             ]
            ],
            "type": "heatmapgl"
           }
          ],
          "histogram": [
           {
            "marker": {
             "pattern": {
              "fillmode": "overlay",
              "size": 10,
              "solidity": 0.2
             }
            },
            "type": "histogram"
           }
          ],
          "histogram2d": [
           {
            "colorbar": {
             "outlinewidth": 0,
             "ticks": ""
            },
            "colorscale": [
             [
              0,
              "#0d0887"
             ],
             [
              0.1111111111111111,
              "#46039f"
             ],
             [
              0.2222222222222222,
              "#7201a8"
             ],
             [
              0.3333333333333333,
              "#9c179e"
             ],
             [
              0.4444444444444444,
              "#bd3786"
             ],
             [
              0.5555555555555556,
              "#d8576b"
             ],
             [
              0.6666666666666666,
              "#ed7953"
             ],
             [
              0.7777777777777778,
              "#fb9f3a"
             ],
             [
              0.8888888888888888,
              "#fdca26"
             ],
             [
              1,
              "#f0f921"
             ]
            ],
            "type": "histogram2d"
           }
          ],
          "histogram2dcontour": [
           {
            "colorbar": {
             "outlinewidth": 0,
             "ticks": ""
            },
            "colorscale": [
             [
              0,
              "#0d0887"
             ],
             [
              0.1111111111111111,
              "#46039f"
             ],
             [
              0.2222222222222222,
              "#7201a8"
             ],
             [
              0.3333333333333333,
              "#9c179e"
             ],
             [
              0.4444444444444444,
              "#bd3786"
             ],
             [
              0.5555555555555556,
              "#d8576b"
             ],
             [
              0.6666666666666666,
              "#ed7953"
             ],
             [
              0.7777777777777778,
              "#fb9f3a"
             ],
             [
              0.8888888888888888,
              "#fdca26"
             ],
             [
              1,
              "#f0f921"
             ]
            ],
            "type": "histogram2dcontour"
           }
          ],
          "mesh3d": [
           {
            "colorbar": {
             "outlinewidth": 0,
             "ticks": ""
            },
            "type": "mesh3d"
           }
          ],
          "parcoords": [
           {
            "line": {
             "colorbar": {
              "outlinewidth": 0,
              "ticks": ""
             }
            },
            "type": "parcoords"
           }
          ],
          "pie": [
           {
            "automargin": true,
            "type": "pie"
           }
          ],
          "scatter": [
           {
            "fillpattern": {
             "fillmode": "overlay",
             "size": 10,
             "solidity": 0.2
            },
            "type": "scatter"
           }
          ],
          "scatter3d": [
           {
            "line": {
             "colorbar": {
              "outlinewidth": 0,
              "ticks": ""
             }
            },
            "marker": {
             "colorbar": {
              "outlinewidth": 0,
              "ticks": ""
             }
            },
            "type": "scatter3d"
           }
          ],
          "scattercarpet": [
           {
            "marker": {
             "colorbar": {
              "outlinewidth": 0,
              "ticks": ""
             }
            },
            "type": "scattercarpet"
           }
          ],
          "scattergeo": [
           {
            "marker": {
             "colorbar": {
              "outlinewidth": 0,
              "ticks": ""
             }
            },
            "type": "scattergeo"
           }
          ],
          "scattergl": [
           {
            "marker": {
             "colorbar": {
              "outlinewidth": 0,
              "ticks": ""
             }
            },
            "type": "scattergl"
           }
          ],
          "scattermapbox": [
           {
            "marker": {
             "colorbar": {
              "outlinewidth": 0,
              "ticks": ""
             }
            },
            "type": "scattermapbox"
           }
          ],
          "scatterpolar": [
           {
            "marker": {
             "colorbar": {
              "outlinewidth": 0,
              "ticks": ""
             }
            },
            "type": "scatterpolar"
           }
          ],
          "scatterpolargl": [
           {
            "marker": {
             "colorbar": {
              "outlinewidth": 0,
              "ticks": ""
             }
            },
            "type": "scatterpolargl"
           }
          ],
          "scatterternary": [
           {
            "marker": {
             "colorbar": {
              "outlinewidth": 0,
              "ticks": ""
             }
            },
            "type": "scatterternary"
           }
          ],
          "surface": [
           {
            "colorbar": {
             "outlinewidth": 0,
             "ticks": ""
            },
            "colorscale": [
             [
              0,
              "#0d0887"
             ],
             [
              0.1111111111111111,
              "#46039f"
             ],
             [
              0.2222222222222222,
              "#7201a8"
             ],
             [
              0.3333333333333333,
              "#9c179e"
             ],
             [
              0.4444444444444444,
              "#bd3786"
             ],
             [
              0.5555555555555556,
              "#d8576b"
             ],
             [
              0.6666666666666666,
              "#ed7953"
             ],
             [
              0.7777777777777778,
              "#fb9f3a"
             ],
             [
              0.8888888888888888,
              "#fdca26"
             ],
             [
              1,
              "#f0f921"
             ]
            ],
            "type": "surface"
           }
          ],
          "table": [
           {
            "cells": {
             "fill": {
              "color": "#EBF0F8"
             },
             "line": {
              "color": "white"
             }
            },
            "header": {
             "fill": {
              "color": "#C8D4E3"
             },
             "line": {
              "color": "white"
             }
            },
            "type": "table"
           }
          ]
         },
         "layout": {
          "annotationdefaults": {
           "arrowcolor": "#2a3f5f",
           "arrowhead": 0,
           "arrowwidth": 1
          },
          "autotypenumbers": "strict",
          "coloraxis": {
           "colorbar": {
            "outlinewidth": 0,
            "ticks": ""
           }
          },
          "colorscale": {
           "diverging": [
            [
             0,
             "#8e0152"
            ],
            [
             0.1,
             "#c51b7d"
            ],
            [
             0.2,
             "#de77ae"
            ],
            [
             0.3,
             "#f1b6da"
            ],
            [
             0.4,
             "#fde0ef"
            ],
            [
             0.5,
             "#f7f7f7"
            ],
            [
             0.6,
             "#e6f5d0"
            ],
            [
             0.7,
             "#b8e186"
            ],
            [
             0.8,
             "#7fbc41"
            ],
            [
             0.9,
             "#4d9221"
            ],
            [
             1,
             "#276419"
            ]
           ],
           "sequential": [
            [
             0,
             "#0d0887"
            ],
            [
             0.1111111111111111,
             "#46039f"
            ],
            [
             0.2222222222222222,
             "#7201a8"
            ],
            [
             0.3333333333333333,
             "#9c179e"
            ],
            [
             0.4444444444444444,
             "#bd3786"
            ],
            [
             0.5555555555555556,
             "#d8576b"
            ],
            [
             0.6666666666666666,
             "#ed7953"
            ],
            [
             0.7777777777777778,
             "#fb9f3a"
            ],
            [
             0.8888888888888888,
             "#fdca26"
            ],
            [
             1,
             "#f0f921"
            ]
           ],
           "sequentialminus": [
            [
             0,
             "#0d0887"
            ],
            [
             0.1111111111111111,
             "#46039f"
            ],
            [
             0.2222222222222222,
             "#7201a8"
            ],
            [
             0.3333333333333333,
             "#9c179e"
            ],
            [
             0.4444444444444444,
             "#bd3786"
            ],
            [
             0.5555555555555556,
             "#d8576b"
            ],
            [
             0.6666666666666666,
             "#ed7953"
            ],
            [
             0.7777777777777778,
             "#fb9f3a"
            ],
            [
             0.8888888888888888,
             "#fdca26"
            ],
            [
             1,
             "#f0f921"
            ]
           ]
          },
          "colorway": [
           "#636efa",
           "#EF553B",
           "#00cc96",
           "#ab63fa",
           "#FFA15A",
           "#19d3f3",
           "#FF6692",
           "#B6E880",
           "#FF97FF",
           "#FECB52"
          ],
          "font": {
           "color": "#2a3f5f"
          },
          "geo": {
           "bgcolor": "white",
           "lakecolor": "white",
           "landcolor": "#E5ECF6",
           "showlakes": true,
           "showland": true,
           "subunitcolor": "white"
          },
          "hoverlabel": {
           "align": "left"
          },
          "hovermode": "closest",
          "mapbox": {
           "style": "light"
          },
          "paper_bgcolor": "white",
          "plot_bgcolor": "#E5ECF6",
          "polar": {
           "angularaxis": {
            "gridcolor": "white",
            "linecolor": "white",
            "ticks": ""
           },
           "bgcolor": "#E5ECF6",
           "radialaxis": {
            "gridcolor": "white",
            "linecolor": "white",
            "ticks": ""
           }
          },
          "scene": {
           "xaxis": {
            "backgroundcolor": "#E5ECF6",
            "gridcolor": "white",
            "gridwidth": 2,
            "linecolor": "white",
            "showbackground": true,
            "ticks": "",
            "zerolinecolor": "white"
           },
           "yaxis": {
            "backgroundcolor": "#E5ECF6",
            "gridcolor": "white",
            "gridwidth": 2,
            "linecolor": "white",
            "showbackground": true,
            "ticks": "",
            "zerolinecolor": "white"
           },
           "zaxis": {
            "backgroundcolor": "#E5ECF6",
            "gridcolor": "white",
            "gridwidth": 2,
            "linecolor": "white",
            "showbackground": true,
            "ticks": "",
            "zerolinecolor": "white"
           }
          },
          "shapedefaults": {
           "line": {
            "color": "#2a3f5f"
           }
          },
          "ternary": {
           "aaxis": {
            "gridcolor": "white",
            "linecolor": "white",
            "ticks": ""
           },
           "baxis": {
            "gridcolor": "white",
            "linecolor": "white",
            "ticks": ""
           },
           "bgcolor": "#E5ECF6",
           "caxis": {
            "gridcolor": "white",
            "linecolor": "white",
            "ticks": ""
           }
          },
          "title": {
           "x": 0.05
          },
          "xaxis": {
           "automargin": true,
           "gridcolor": "white",
           "linecolor": "white",
           "ticks": "",
           "title": {
            "standoff": 15
           },
           "zerolinecolor": "white",
           "zerolinewidth": 2
          },
          "yaxis": {
           "automargin": true,
           "gridcolor": "white",
           "linecolor": "white",
           "ticks": "",
           "title": {
            "standoff": 15
           },
           "zerolinecolor": "white",
           "zerolinewidth": 2
          }
         }
        },
        "title": {
         "text": "Einfluss von max_noise_temperature auf den metrics.c_index_ipcw."
        },
        "width": 1000,
        "xaxis": {
         "anchor": "y",
         "domain": [
          0,
          1
         ],
         "title": {
          "text": "params.max_noise_temperature"
         }
        },
        "yaxis": {
         "anchor": "x",
         "domain": [
          0,
          1
         ],
         "title": {
          "text": "metrics.c_index_ipcw"
         }
        }
       }
      }
     },
     "metadata": {},
     "output_type": "display_data"
    },
    {
     "name": "stdout",
     "output_type": "stream",
     "text": [
      "{'CoxPHFitter': {0: 0.8876060479597238, 5: 0.9251955181290944}, 'RandomSurvivalForest': {0: 0.9031954637172714, 5: 0.8672459228065669}}\n",
      "                         0     5\n",
      "CoxPHFitter          0.888 0.925\n",
      "RandomSurvivalForest 0.903 0.867\n",
      "/home/nkuechen/Documents/Thesis\n",
      "Experiment with ID 374792384496278134 has been exported as a CSV to file: code/thesis_code/data/aug_effect/surv_max_noise_temperature.csv.\n"
     ]
    },
    {
     "data": {
      "application/vnd.plotly.v1+json": {
       "config": {
        "plotlyServerURL": "https://plot.ly"
       },
       "data": [
        {
         "alignmentgroup": "True",
         "hovertemplate": "params.model_class=RandomSurvivalForest<br>params.max_noise_temperature=%{x}<br>metrics.ibs=%{y}<extra></extra>",
         "legendgroup": "RandomSurvivalForest",
         "marker": {
          "color": "#636efa"
         },
         "name": "RandomSurvivalForest",
         "notched": false,
         "offsetgroup": "RandomSurvivalForest",
         "orientation": "v",
         "showlegend": true,
         "type": "box",
         "x": [
          5,
          0,
          5,
          0,
          5,
          0,
          5,
          0,
          5,
          0
         ],
         "x0": " ",
         "xaxis": "x",
         "y": [
          0.1102436387552681,
          0.1179426666523034,
          0.1276221500170075,
          0.1060442030595712,
          0.1175934237139336,
          0.1192222849973023,
          0.1012378151387647,
          0.105118226080252,
          0.1364369771953894,
          0.1076418242635192
         ],
         "y0": " ",
         "yaxis": "y"
        },
        {
         "alignmentgroup": "True",
         "hovertemplate": "params.model_class=CoxPHFitter<br>params.max_noise_temperature=%{x}<br>metrics.ibs=%{y}<extra></extra>",
         "legendgroup": "CoxPHFitter",
         "marker": {
          "color": "#EF553B"
         },
         "name": "CoxPHFitter",
         "notched": false,
         "offsetgroup": "CoxPHFitter",
         "orientation": "v",
         "showlegend": true,
         "type": "box",
         "x": [
          5,
          0,
          5,
          0,
          5,
          0,
          5,
          0,
          5,
          0
         ],
         "x0": " ",
         "xaxis": "x",
         "y": [
          0.0947568846582664,
          0.1054273562812324,
          0.1043801621520255,
          0.1244744027759005,
          0.1331560295776693,
          0.1216399766363587,
          0.128061338299614,
          0.1228887989387457,
          0.1013449803926655,
          0.1251002191710317
         ],
         "y0": " ",
         "yaxis": "y"
        }
       ],
       "layout": {
        "boxmode": "group",
        "height": 600,
        "legend": {
         "title": {
          "text": "params.model_class"
         },
         "tracegroupgap": 0
        },
        "template": {
         "data": {
          "bar": [
           {
            "error_x": {
             "color": "#2a3f5f"
            },
            "error_y": {
             "color": "#2a3f5f"
            },
            "marker": {
             "line": {
              "color": "#E5ECF6",
              "width": 0.5
             },
             "pattern": {
              "fillmode": "overlay",
              "size": 10,
              "solidity": 0.2
             }
            },
            "type": "bar"
           }
          ],
          "barpolar": [
           {
            "marker": {
             "line": {
              "color": "#E5ECF6",
              "width": 0.5
             },
             "pattern": {
              "fillmode": "overlay",
              "size": 10,
              "solidity": 0.2
             }
            },
            "type": "barpolar"
           }
          ],
          "carpet": [
           {
            "aaxis": {
             "endlinecolor": "#2a3f5f",
             "gridcolor": "white",
             "linecolor": "white",
             "minorgridcolor": "white",
             "startlinecolor": "#2a3f5f"
            },
            "baxis": {
             "endlinecolor": "#2a3f5f",
             "gridcolor": "white",
             "linecolor": "white",
             "minorgridcolor": "white",
             "startlinecolor": "#2a3f5f"
            },
            "type": "carpet"
           }
          ],
          "choropleth": [
           {
            "colorbar": {
             "outlinewidth": 0,
             "ticks": ""
            },
            "type": "choropleth"
           }
          ],
          "contour": [
           {
            "colorbar": {
             "outlinewidth": 0,
             "ticks": ""
            },
            "colorscale": [
             [
              0,
              "#0d0887"
             ],
             [
              0.1111111111111111,
              "#46039f"
             ],
             [
              0.2222222222222222,
              "#7201a8"
             ],
             [
              0.3333333333333333,
              "#9c179e"
             ],
             [
              0.4444444444444444,
              "#bd3786"
             ],
             [
              0.5555555555555556,
              "#d8576b"
             ],
             [
              0.6666666666666666,
              "#ed7953"
             ],
             [
              0.7777777777777778,
              "#fb9f3a"
             ],
             [
              0.8888888888888888,
              "#fdca26"
             ],
             [
              1,
              "#f0f921"
             ]
            ],
            "type": "contour"
           }
          ],
          "contourcarpet": [
           {
            "colorbar": {
             "outlinewidth": 0,
             "ticks": ""
            },
            "type": "contourcarpet"
           }
          ],
          "heatmap": [
           {
            "colorbar": {
             "outlinewidth": 0,
             "ticks": ""
            },
            "colorscale": [
             [
              0,
              "#0d0887"
             ],
             [
              0.1111111111111111,
              "#46039f"
             ],
             [
              0.2222222222222222,
              "#7201a8"
             ],
             [
              0.3333333333333333,
              "#9c179e"
             ],
             [
              0.4444444444444444,
              "#bd3786"
             ],
             [
              0.5555555555555556,
              "#d8576b"
             ],
             [
              0.6666666666666666,
              "#ed7953"
             ],
             [
              0.7777777777777778,
              "#fb9f3a"
             ],
             [
              0.8888888888888888,
              "#fdca26"
             ],
             [
              1,
              "#f0f921"
             ]
            ],
            "type": "heatmap"
           }
          ],
          "heatmapgl": [
           {
            "colorbar": {
             "outlinewidth": 0,
             "ticks": ""
            },
            "colorscale": [
             [
              0,
              "#0d0887"
             ],
             [
              0.1111111111111111,
              "#46039f"
             ],
             [
              0.2222222222222222,
              "#7201a8"
             ],
             [
              0.3333333333333333,
              "#9c179e"
             ],
             [
              0.4444444444444444,
              "#bd3786"
             ],
             [
              0.5555555555555556,
              "#d8576b"
             ],
             [
              0.6666666666666666,
              "#ed7953"
             ],
             [
              0.7777777777777778,
              "#fb9f3a"
             ],
             [
              0.8888888888888888,
              "#fdca26"
             ],
             [
              1,
              "#f0f921"
             ]
            ],
            "type": "heatmapgl"
           }
          ],
          "histogram": [
           {
            "marker": {
             "pattern": {
              "fillmode": "overlay",
              "size": 10,
              "solidity": 0.2
             }
            },
            "type": "histogram"
           }
          ],
          "histogram2d": [
           {
            "colorbar": {
             "outlinewidth": 0,
             "ticks": ""
            },
            "colorscale": [
             [
              0,
              "#0d0887"
             ],
             [
              0.1111111111111111,
              "#46039f"
             ],
             [
              0.2222222222222222,
              "#7201a8"
             ],
             [
              0.3333333333333333,
              "#9c179e"
             ],
             [
              0.4444444444444444,
              "#bd3786"
             ],
             [
              0.5555555555555556,
              "#d8576b"
             ],
             [
              0.6666666666666666,
              "#ed7953"
             ],
             [
              0.7777777777777778,
              "#fb9f3a"
             ],
             [
              0.8888888888888888,
              "#fdca26"
             ],
             [
              1,
              "#f0f921"
             ]
            ],
            "type": "histogram2d"
           }
          ],
          "histogram2dcontour": [
           {
            "colorbar": {
             "outlinewidth": 0,
             "ticks": ""
            },
            "colorscale": [
             [
              0,
              "#0d0887"
             ],
             [
              0.1111111111111111,
              "#46039f"
             ],
             [
              0.2222222222222222,
              "#7201a8"
             ],
             [
              0.3333333333333333,
              "#9c179e"
             ],
             [
              0.4444444444444444,
              "#bd3786"
             ],
             [
              0.5555555555555556,
              "#d8576b"
             ],
             [
              0.6666666666666666,
              "#ed7953"
             ],
             [
              0.7777777777777778,
              "#fb9f3a"
             ],
             [
              0.8888888888888888,
              "#fdca26"
             ],
             [
              1,
              "#f0f921"
             ]
            ],
            "type": "histogram2dcontour"
           }
          ],
          "mesh3d": [
           {
            "colorbar": {
             "outlinewidth": 0,
             "ticks": ""
            },
            "type": "mesh3d"
           }
          ],
          "parcoords": [
           {
            "line": {
             "colorbar": {
              "outlinewidth": 0,
              "ticks": ""
             }
            },
            "type": "parcoords"
           }
          ],
          "pie": [
           {
            "automargin": true,
            "type": "pie"
           }
          ],
          "scatter": [
           {
            "fillpattern": {
             "fillmode": "overlay",
             "size": 10,
             "solidity": 0.2
            },
            "type": "scatter"
           }
          ],
          "scatter3d": [
           {
            "line": {
             "colorbar": {
              "outlinewidth": 0,
              "ticks": ""
             }
            },
            "marker": {
             "colorbar": {
              "outlinewidth": 0,
              "ticks": ""
             }
            },
            "type": "scatter3d"
           }
          ],
          "scattercarpet": [
           {
            "marker": {
             "colorbar": {
              "outlinewidth": 0,
              "ticks": ""
             }
            },
            "type": "scattercarpet"
           }
          ],
          "scattergeo": [
           {
            "marker": {
             "colorbar": {
              "outlinewidth": 0,
              "ticks": ""
             }
            },
            "type": "scattergeo"
           }
          ],
          "scattergl": [
           {
            "marker": {
             "colorbar": {
              "outlinewidth": 0,
              "ticks": ""
             }
            },
            "type": "scattergl"
           }
          ],
          "scattermapbox": [
           {
            "marker": {
             "colorbar": {
              "outlinewidth": 0,
              "ticks": ""
             }
            },
            "type": "scattermapbox"
           }
          ],
          "scatterpolar": [
           {
            "marker": {
             "colorbar": {
              "outlinewidth": 0,
              "ticks": ""
             }
            },
            "type": "scatterpolar"
           }
          ],
          "scatterpolargl": [
           {
            "marker": {
             "colorbar": {
              "outlinewidth": 0,
              "ticks": ""
             }
            },
            "type": "scatterpolargl"
           }
          ],
          "scatterternary": [
           {
            "marker": {
             "colorbar": {
              "outlinewidth": 0,
              "ticks": ""
             }
            },
            "type": "scatterternary"
           }
          ],
          "surface": [
           {
            "colorbar": {
             "outlinewidth": 0,
             "ticks": ""
            },
            "colorscale": [
             [
              0,
              "#0d0887"
             ],
             [
              0.1111111111111111,
              "#46039f"
             ],
             [
              0.2222222222222222,
              "#7201a8"
             ],
             [
              0.3333333333333333,
              "#9c179e"
             ],
             [
              0.4444444444444444,
              "#bd3786"
             ],
             [
              0.5555555555555556,
              "#d8576b"
             ],
             [
              0.6666666666666666,
              "#ed7953"
             ],
             [
              0.7777777777777778,
              "#fb9f3a"
             ],
             [
              0.8888888888888888,
              "#fdca26"
             ],
             [
              1,
              "#f0f921"
             ]
            ],
            "type": "surface"
           }
          ],
          "table": [
           {
            "cells": {
             "fill": {
              "color": "#EBF0F8"
             },
             "line": {
              "color": "white"
             }
            },
            "header": {
             "fill": {
              "color": "#C8D4E3"
             },
             "line": {
              "color": "white"
             }
            },
            "type": "table"
           }
          ]
         },
         "layout": {
          "annotationdefaults": {
           "arrowcolor": "#2a3f5f",
           "arrowhead": 0,
           "arrowwidth": 1
          },
          "autotypenumbers": "strict",
          "coloraxis": {
           "colorbar": {
            "outlinewidth": 0,
            "ticks": ""
           }
          },
          "colorscale": {
           "diverging": [
            [
             0,
             "#8e0152"
            ],
            [
             0.1,
             "#c51b7d"
            ],
            [
             0.2,
             "#de77ae"
            ],
            [
             0.3,
             "#f1b6da"
            ],
            [
             0.4,
             "#fde0ef"
            ],
            [
             0.5,
             "#f7f7f7"
            ],
            [
             0.6,
             "#e6f5d0"
            ],
            [
             0.7,
             "#b8e186"
            ],
            [
             0.8,
             "#7fbc41"
            ],
            [
             0.9,
             "#4d9221"
            ],
            [
             1,
             "#276419"
            ]
           ],
           "sequential": [
            [
             0,
             "#0d0887"
            ],
            [
             0.1111111111111111,
             "#46039f"
            ],
            [
             0.2222222222222222,
             "#7201a8"
            ],
            [
             0.3333333333333333,
             "#9c179e"
            ],
            [
             0.4444444444444444,
             "#bd3786"
            ],
            [
             0.5555555555555556,
             "#d8576b"
            ],
            [
             0.6666666666666666,
             "#ed7953"
            ],
            [
             0.7777777777777778,
             "#fb9f3a"
            ],
            [
             0.8888888888888888,
             "#fdca26"
            ],
            [
             1,
             "#f0f921"
            ]
           ],
           "sequentialminus": [
            [
             0,
             "#0d0887"
            ],
            [
             0.1111111111111111,
             "#46039f"
            ],
            [
             0.2222222222222222,
             "#7201a8"
            ],
            [
             0.3333333333333333,
             "#9c179e"
            ],
            [
             0.4444444444444444,
             "#bd3786"
            ],
            [
             0.5555555555555556,
             "#d8576b"
            ],
            [
             0.6666666666666666,
             "#ed7953"
            ],
            [
             0.7777777777777778,
             "#fb9f3a"
            ],
            [
             0.8888888888888888,
             "#fdca26"
            ],
            [
             1,
             "#f0f921"
            ]
           ]
          },
          "colorway": [
           "#636efa",
           "#EF553B",
           "#00cc96",
           "#ab63fa",
           "#FFA15A",
           "#19d3f3",
           "#FF6692",
           "#B6E880",
           "#FF97FF",
           "#FECB52"
          ],
          "font": {
           "color": "#2a3f5f"
          },
          "geo": {
           "bgcolor": "white",
           "lakecolor": "white",
           "landcolor": "#E5ECF6",
           "showlakes": true,
           "showland": true,
           "subunitcolor": "white"
          },
          "hoverlabel": {
           "align": "left"
          },
          "hovermode": "closest",
          "mapbox": {
           "style": "light"
          },
          "paper_bgcolor": "white",
          "plot_bgcolor": "#E5ECF6",
          "polar": {
           "angularaxis": {
            "gridcolor": "white",
            "linecolor": "white",
            "ticks": ""
           },
           "bgcolor": "#E5ECF6",
           "radialaxis": {
            "gridcolor": "white",
            "linecolor": "white",
            "ticks": ""
           }
          },
          "scene": {
           "xaxis": {
            "backgroundcolor": "#E5ECF6",
            "gridcolor": "white",
            "gridwidth": 2,
            "linecolor": "white",
            "showbackground": true,
            "ticks": "",
            "zerolinecolor": "white"
           },
           "yaxis": {
            "backgroundcolor": "#E5ECF6",
            "gridcolor": "white",
            "gridwidth": 2,
            "linecolor": "white",
            "showbackground": true,
            "ticks": "",
            "zerolinecolor": "white"
           },
           "zaxis": {
            "backgroundcolor": "#E5ECF6",
            "gridcolor": "white",
            "gridwidth": 2,
            "linecolor": "white",
            "showbackground": true,
            "ticks": "",
            "zerolinecolor": "white"
           }
          },
          "shapedefaults": {
           "line": {
            "color": "#2a3f5f"
           }
          },
          "ternary": {
           "aaxis": {
            "gridcolor": "white",
            "linecolor": "white",
            "ticks": ""
           },
           "baxis": {
            "gridcolor": "white",
            "linecolor": "white",
            "ticks": ""
           },
           "bgcolor": "#E5ECF6",
           "caxis": {
            "gridcolor": "white",
            "linecolor": "white",
            "ticks": ""
           }
          },
          "title": {
           "x": 0.05
          },
          "xaxis": {
           "automargin": true,
           "gridcolor": "white",
           "linecolor": "white",
           "ticks": "",
           "title": {
            "standoff": 15
           },
           "zerolinecolor": "white",
           "zerolinewidth": 2
          },
          "yaxis": {
           "automargin": true,
           "gridcolor": "white",
           "linecolor": "white",
           "ticks": "",
           "title": {
            "standoff": 15
           },
           "zerolinecolor": "white",
           "zerolinewidth": 2
          }
         }
        },
        "title": {
         "text": "Einfluss von max_noise_temperature auf den metrics.ibs."
        },
        "width": 1000,
        "xaxis": {
         "anchor": "y",
         "domain": [
          0,
          1
         ],
         "title": {
          "text": "params.max_noise_temperature"
         }
        },
        "yaxis": {
         "anchor": "x",
         "domain": [
          0,
          1
         ],
         "title": {
          "text": "metrics.ibs"
         }
        }
       }
      }
     },
     "metadata": {},
     "output_type": "display_data"
    },
    {
     "name": "stdout",
     "output_type": "stream",
     "text": [
      "{'CoxPHFitter': {0: 0.1228887989387457, 5: 0.1043801621520255}, 'RandomSurvivalForest': {0: 0.1076418242635192, 5: 0.1175934237139336}}\n",
      "                         0     5\n",
      "CoxPHFitter          0.123 0.104\n",
      "RandomSurvivalForest 0.108 0.118\n",
      "/home/nkuechen/Documents/Thesis\n",
      "Experiment with ID 498940377533771453 has been exported as a CSV to file: code/thesis_code/data/aug_effect/surv_random_max_time_warp_percent.csv.\n"
     ]
    },
    {
     "data": {
      "application/vnd.plotly.v1+json": {
       "config": {
        "plotlyServerURL": "https://plot.ly"
       },
       "data": [
        {
         "alignmentgroup": "True",
         "hovertemplate": "params.model_class=RandomSurvivalForest<br>params.random_max_time_warp_percent=%{x}<br>metrics.c_index_ipcw=%{y}<extra></extra>",
         "legendgroup": "RandomSurvivalForest",
         "marker": {
          "color": "#636efa"
         },
         "name": "RandomSurvivalForest",
         "notched": false,
         "offsetgroup": "RandomSurvivalForest",
         "orientation": "v",
         "showlegend": true,
         "type": "box",
         "x": [
          1,
          0.5,
          0,
          1,
          0.5,
          0,
          1,
          0.5,
          0,
          1,
          0.5,
          0,
          1,
          0.5,
          0
         ],
         "x0": " ",
         "xaxis": "x",
         "y": [
          0.902268032304078,
          0.9155800137570002,
          0.920114658473014,
          0.9128156446482488,
          0.9172406278191018,
          0.8905385853461534,
          0.899532672442023,
          0.912703599851106,
          0.9138342006202284,
          0.8988863020402614,
          0.9055566951528036,
          0.9077904477504452,
          0.9071493222221544,
          0.9137510007536248,
          0.9269472283737044
         ],
         "y0": " ",
         "yaxis": "y"
        },
        {
         "alignmentgroup": "True",
         "hovertemplate": "params.model_class=CoxPHFitter<br>params.random_max_time_warp_percent=%{x}<br>metrics.c_index_ipcw=%{y}<extra></extra>",
         "legendgroup": "CoxPHFitter",
         "marker": {
          "color": "#EF553B"
         },
         "name": "CoxPHFitter",
         "notched": false,
         "offsetgroup": "CoxPHFitter",
         "orientation": "v",
         "showlegend": true,
         "type": "box",
         "x": [
          1,
          0.5,
          0,
          1,
          0.5,
          0,
          1,
          0.5,
          0,
          1,
          0.5,
          0,
          1,
          0.5,
          0
         ],
         "x0": " ",
         "xaxis": "x",
         "y": [
          0.8882744571956541,
          0.8978817656154342,
          0.9200493979610298,
          0.8848804557278764,
          0.9127422813738202,
          0.9090590694321012,
          0.9020389527677236,
          0.9045550650189697,
          0.9028899961926846,
          0.8935735329404716,
          0.8982415532199213,
          0.905848962834031,
          0.9115353492855982,
          0.882078371586471,
          0.910415392884081
         ],
         "y0": " ",
         "yaxis": "y"
        }
       ],
       "layout": {
        "boxmode": "group",
        "height": 600,
        "legend": {
         "title": {
          "text": "params.model_class"
         },
         "tracegroupgap": 0
        },
        "template": {
         "data": {
          "bar": [
           {
            "error_x": {
             "color": "#2a3f5f"
            },
            "error_y": {
             "color": "#2a3f5f"
            },
            "marker": {
             "line": {
              "color": "#E5ECF6",
              "width": 0.5
             },
             "pattern": {
              "fillmode": "overlay",
              "size": 10,
              "solidity": 0.2
             }
            },
            "type": "bar"
           }
          ],
          "barpolar": [
           {
            "marker": {
             "line": {
              "color": "#E5ECF6",
              "width": 0.5
             },
             "pattern": {
              "fillmode": "overlay",
              "size": 10,
              "solidity": 0.2
             }
            },
            "type": "barpolar"
           }
          ],
          "carpet": [
           {
            "aaxis": {
             "endlinecolor": "#2a3f5f",
             "gridcolor": "white",
             "linecolor": "white",
             "minorgridcolor": "white",
             "startlinecolor": "#2a3f5f"
            },
            "baxis": {
             "endlinecolor": "#2a3f5f",
             "gridcolor": "white",
             "linecolor": "white",
             "minorgridcolor": "white",
             "startlinecolor": "#2a3f5f"
            },
            "type": "carpet"
           }
          ],
          "choropleth": [
           {
            "colorbar": {
             "outlinewidth": 0,
             "ticks": ""
            },
            "type": "choropleth"
           }
          ],
          "contour": [
           {
            "colorbar": {
             "outlinewidth": 0,
             "ticks": ""
            },
            "colorscale": [
             [
              0,
              "#0d0887"
             ],
             [
              0.1111111111111111,
              "#46039f"
             ],
             [
              0.2222222222222222,
              "#7201a8"
             ],
             [
              0.3333333333333333,
              "#9c179e"
             ],
             [
              0.4444444444444444,
              "#bd3786"
             ],
             [
              0.5555555555555556,
              "#d8576b"
             ],
             [
              0.6666666666666666,
              "#ed7953"
             ],
             [
              0.7777777777777778,
              "#fb9f3a"
             ],
             [
              0.8888888888888888,
              "#fdca26"
             ],
             [
              1,
              "#f0f921"
             ]
            ],
            "type": "contour"
           }
          ],
          "contourcarpet": [
           {
            "colorbar": {
             "outlinewidth": 0,
             "ticks": ""
            },
            "type": "contourcarpet"
           }
          ],
          "heatmap": [
           {
            "colorbar": {
             "outlinewidth": 0,
             "ticks": ""
            },
            "colorscale": [
             [
              0,
              "#0d0887"
             ],
             [
              0.1111111111111111,
              "#46039f"
             ],
             [
              0.2222222222222222,
              "#7201a8"
             ],
             [
              0.3333333333333333,
              "#9c179e"
             ],
             [
              0.4444444444444444,
              "#bd3786"
             ],
             [
              0.5555555555555556,
              "#d8576b"
             ],
             [
              0.6666666666666666,
              "#ed7953"
             ],
             [
              0.7777777777777778,
              "#fb9f3a"
             ],
             [
              0.8888888888888888,
              "#fdca26"
             ],
             [
              1,
              "#f0f921"
             ]
            ],
            "type": "heatmap"
           }
          ],
          "heatmapgl": [
           {
            "colorbar": {
             "outlinewidth": 0,
             "ticks": ""
            },
            "colorscale": [
             [
              0,
              "#0d0887"
             ],
             [
              0.1111111111111111,
              "#46039f"
             ],
             [
              0.2222222222222222,
              "#7201a8"
             ],
             [
              0.3333333333333333,
              "#9c179e"
             ],
             [
              0.4444444444444444,
              "#bd3786"
             ],
             [
              0.5555555555555556,
              "#d8576b"
             ],
             [
              0.6666666666666666,
              "#ed7953"
             ],
             [
              0.7777777777777778,
              "#fb9f3a"
             ],
             [
              0.8888888888888888,
              "#fdca26"
             ],
             [
              1,
              "#f0f921"
             ]
            ],
            "type": "heatmapgl"
           }
          ],
          "histogram": [
           {
            "marker": {
             "pattern": {
              "fillmode": "overlay",
              "size": 10,
              "solidity": 0.2
             }
            },
            "type": "histogram"
           }
          ],
          "histogram2d": [
           {
            "colorbar": {
             "outlinewidth": 0,
             "ticks": ""
            },
            "colorscale": [
             [
              0,
              "#0d0887"
             ],
             [
              0.1111111111111111,
              "#46039f"
             ],
             [
              0.2222222222222222,
              "#7201a8"
             ],
             [
              0.3333333333333333,
              "#9c179e"
             ],
             [
              0.4444444444444444,
              "#bd3786"
             ],
             [
              0.5555555555555556,
              "#d8576b"
             ],
             [
              0.6666666666666666,
              "#ed7953"
             ],
             [
              0.7777777777777778,
              "#fb9f3a"
             ],
             [
              0.8888888888888888,
              "#fdca26"
             ],
             [
              1,
              "#f0f921"
             ]
            ],
            "type": "histogram2d"
           }
          ],
          "histogram2dcontour": [
           {
            "colorbar": {
             "outlinewidth": 0,
             "ticks": ""
            },
            "colorscale": [
             [
              0,
              "#0d0887"
             ],
             [
              0.1111111111111111,
              "#46039f"
             ],
             [
              0.2222222222222222,
              "#7201a8"
             ],
             [
              0.3333333333333333,
              "#9c179e"
             ],
             [
              0.4444444444444444,
              "#bd3786"
             ],
             [
              0.5555555555555556,
              "#d8576b"
             ],
             [
              0.6666666666666666,
              "#ed7953"
             ],
             [
              0.7777777777777778,
              "#fb9f3a"
             ],
             [
              0.8888888888888888,
              "#fdca26"
             ],
             [
              1,
              "#f0f921"
             ]
            ],
            "type": "histogram2dcontour"
           }
          ],
          "mesh3d": [
           {
            "colorbar": {
             "outlinewidth": 0,
             "ticks": ""
            },
            "type": "mesh3d"
           }
          ],
          "parcoords": [
           {
            "line": {
             "colorbar": {
              "outlinewidth": 0,
              "ticks": ""
             }
            },
            "type": "parcoords"
           }
          ],
          "pie": [
           {
            "automargin": true,
            "type": "pie"
           }
          ],
          "scatter": [
           {
            "fillpattern": {
             "fillmode": "overlay",
             "size": 10,
             "solidity": 0.2
            },
            "type": "scatter"
           }
          ],
          "scatter3d": [
           {
            "line": {
             "colorbar": {
              "outlinewidth": 0,
              "ticks": ""
             }
            },
            "marker": {
             "colorbar": {
              "outlinewidth": 0,
              "ticks": ""
             }
            },
            "type": "scatter3d"
           }
          ],
          "scattercarpet": [
           {
            "marker": {
             "colorbar": {
              "outlinewidth": 0,
              "ticks": ""
             }
            },
            "type": "scattercarpet"
           }
          ],
          "scattergeo": [
           {
            "marker": {
             "colorbar": {
              "outlinewidth": 0,
              "ticks": ""
             }
            },
            "type": "scattergeo"
           }
          ],
          "scattergl": [
           {
            "marker": {
             "colorbar": {
              "outlinewidth": 0,
              "ticks": ""
             }
            },
            "type": "scattergl"
           }
          ],
          "scattermapbox": [
           {
            "marker": {
             "colorbar": {
              "outlinewidth": 0,
              "ticks": ""
             }
            },
            "type": "scattermapbox"
           }
          ],
          "scatterpolar": [
           {
            "marker": {
             "colorbar": {
              "outlinewidth": 0,
              "ticks": ""
             }
            },
            "type": "scatterpolar"
           }
          ],
          "scatterpolargl": [
           {
            "marker": {
             "colorbar": {
              "outlinewidth": 0,
              "ticks": ""
             }
            },
            "type": "scatterpolargl"
           }
          ],
          "scatterternary": [
           {
            "marker": {
             "colorbar": {
              "outlinewidth": 0,
              "ticks": ""
             }
            },
            "type": "scatterternary"
           }
          ],
          "surface": [
           {
            "colorbar": {
             "outlinewidth": 0,
             "ticks": ""
            },
            "colorscale": [
             [
              0,
              "#0d0887"
             ],
             [
              0.1111111111111111,
              "#46039f"
             ],
             [
              0.2222222222222222,
              "#7201a8"
             ],
             [
              0.3333333333333333,
              "#9c179e"
             ],
             [
              0.4444444444444444,
              "#bd3786"
             ],
             [
              0.5555555555555556,
              "#d8576b"
             ],
             [
              0.6666666666666666,
              "#ed7953"
             ],
             [
              0.7777777777777778,
              "#fb9f3a"
             ],
             [
              0.8888888888888888,
              "#fdca26"
             ],
             [
              1,
              "#f0f921"
             ]
            ],
            "type": "surface"
           }
          ],
          "table": [
           {
            "cells": {
             "fill": {
              "color": "#EBF0F8"
             },
             "line": {
              "color": "white"
             }
            },
            "header": {
             "fill": {
              "color": "#C8D4E3"
             },
             "line": {
              "color": "white"
             }
            },
            "type": "table"
           }
          ]
         },
         "layout": {
          "annotationdefaults": {
           "arrowcolor": "#2a3f5f",
           "arrowhead": 0,
           "arrowwidth": 1
          },
          "autotypenumbers": "strict",
          "coloraxis": {
           "colorbar": {
            "outlinewidth": 0,
            "ticks": ""
           }
          },
          "colorscale": {
           "diverging": [
            [
             0,
             "#8e0152"
            ],
            [
             0.1,
             "#c51b7d"
            ],
            [
             0.2,
             "#de77ae"
            ],
            [
             0.3,
             "#f1b6da"
            ],
            [
             0.4,
             "#fde0ef"
            ],
            [
             0.5,
             "#f7f7f7"
            ],
            [
             0.6,
             "#e6f5d0"
            ],
            [
             0.7,
             "#b8e186"
            ],
            [
             0.8,
             "#7fbc41"
            ],
            [
             0.9,
             "#4d9221"
            ],
            [
             1,
             "#276419"
            ]
           ],
           "sequential": [
            [
             0,
             "#0d0887"
            ],
            [
             0.1111111111111111,
             "#46039f"
            ],
            [
             0.2222222222222222,
             "#7201a8"
            ],
            [
             0.3333333333333333,
             "#9c179e"
            ],
            [
             0.4444444444444444,
             "#bd3786"
            ],
            [
             0.5555555555555556,
             "#d8576b"
            ],
            [
             0.6666666666666666,
             "#ed7953"
            ],
            [
             0.7777777777777778,
             "#fb9f3a"
            ],
            [
             0.8888888888888888,
             "#fdca26"
            ],
            [
             1,
             "#f0f921"
            ]
           ],
           "sequentialminus": [
            [
             0,
             "#0d0887"
            ],
            [
             0.1111111111111111,
             "#46039f"
            ],
            [
             0.2222222222222222,
             "#7201a8"
            ],
            [
             0.3333333333333333,
             "#9c179e"
            ],
            [
             0.4444444444444444,
             "#bd3786"
            ],
            [
             0.5555555555555556,
             "#d8576b"
            ],
            [
             0.6666666666666666,
             "#ed7953"
            ],
            [
             0.7777777777777778,
             "#fb9f3a"
            ],
            [
             0.8888888888888888,
             "#fdca26"
            ],
            [
             1,
             "#f0f921"
            ]
           ]
          },
          "colorway": [
           "#636efa",
           "#EF553B",
           "#00cc96",
           "#ab63fa",
           "#FFA15A",
           "#19d3f3",
           "#FF6692",
           "#B6E880",
           "#FF97FF",
           "#FECB52"
          ],
          "font": {
           "color": "#2a3f5f"
          },
          "geo": {
           "bgcolor": "white",
           "lakecolor": "white",
           "landcolor": "#E5ECF6",
           "showlakes": true,
           "showland": true,
           "subunitcolor": "white"
          },
          "hoverlabel": {
           "align": "left"
          },
          "hovermode": "closest",
          "mapbox": {
           "style": "light"
          },
          "paper_bgcolor": "white",
          "plot_bgcolor": "#E5ECF6",
          "polar": {
           "angularaxis": {
            "gridcolor": "white",
            "linecolor": "white",
            "ticks": ""
           },
           "bgcolor": "#E5ECF6",
           "radialaxis": {
            "gridcolor": "white",
            "linecolor": "white",
            "ticks": ""
           }
          },
          "scene": {
           "xaxis": {
            "backgroundcolor": "#E5ECF6",
            "gridcolor": "white",
            "gridwidth": 2,
            "linecolor": "white",
            "showbackground": true,
            "ticks": "",
            "zerolinecolor": "white"
           },
           "yaxis": {
            "backgroundcolor": "#E5ECF6",
            "gridcolor": "white",
            "gridwidth": 2,
            "linecolor": "white",
            "showbackground": true,
            "ticks": "",
            "zerolinecolor": "white"
           },
           "zaxis": {
            "backgroundcolor": "#E5ECF6",
            "gridcolor": "white",
            "gridwidth": 2,
            "linecolor": "white",
            "showbackground": true,
            "ticks": "",
            "zerolinecolor": "white"
           }
          },
          "shapedefaults": {
           "line": {
            "color": "#2a3f5f"
           }
          },
          "ternary": {
           "aaxis": {
            "gridcolor": "white",
            "linecolor": "white",
            "ticks": ""
           },
           "baxis": {
            "gridcolor": "white",
            "linecolor": "white",
            "ticks": ""
           },
           "bgcolor": "#E5ECF6",
           "caxis": {
            "gridcolor": "white",
            "linecolor": "white",
            "ticks": ""
           }
          },
          "title": {
           "x": 0.05
          },
          "xaxis": {
           "automargin": true,
           "gridcolor": "white",
           "linecolor": "white",
           "ticks": "",
           "title": {
            "standoff": 15
           },
           "zerolinecolor": "white",
           "zerolinewidth": 2
          },
          "yaxis": {
           "automargin": true,
           "gridcolor": "white",
           "linecolor": "white",
           "ticks": "",
           "title": {
            "standoff": 15
           },
           "zerolinecolor": "white",
           "zerolinewidth": 2
          }
         }
        },
        "title": {
         "text": "Einfluss von random_max_time_warp_percent auf den metrics.c_index_ipcw."
        },
        "width": 1000,
        "xaxis": {
         "anchor": "y",
         "domain": [
          0,
          1
         ],
         "title": {
          "text": "params.random_max_time_warp_percent"
         }
        },
        "yaxis": {
         "anchor": "x",
         "domain": [
          0,
          1
         ],
         "title": {
          "text": "metrics.c_index_ipcw"
         }
        }
       }
      }
     },
     "metadata": {},
     "output_type": "display_data"
    },
    {
     "name": "stdout",
     "output_type": "stream",
     "text": [
      "{'CoxPHFitter': {0.0: 0.9090590694321012, 0.5: 0.8982415532199213, 1.0: 0.8935735329404716}, 'RandomSurvivalForest': {0.0: 0.9138342006202284, 0.5: 0.9137510007536248, 1.0: 0.902268032304078}}\n",
      "                      0.000  0.500  1.000\n",
      "CoxPHFitter           0.909  0.898  0.894\n",
      "RandomSurvivalForest  0.914  0.914  0.902\n",
      "/home/nkuechen/Documents/Thesis\n",
      "Experiment with ID 498940377533771453 has been exported as a CSV to file: code/thesis_code/data/aug_effect/surv_random_max_time_warp_percent.csv.\n"
     ]
    },
    {
     "data": {
      "application/vnd.plotly.v1+json": {
       "config": {
        "plotlyServerURL": "https://plot.ly"
       },
       "data": [
        {
         "alignmentgroup": "True",
         "hovertemplate": "params.model_class=RandomSurvivalForest<br>params.random_max_time_warp_percent=%{x}<br>metrics.ibs=%{y}<extra></extra>",
         "legendgroup": "RandomSurvivalForest",
         "marker": {
          "color": "#636efa"
         },
         "name": "RandomSurvivalForest",
         "notched": false,
         "offsetgroup": "RandomSurvivalForest",
         "orientation": "v",
         "showlegend": true,
         "type": "box",
         "x": [
          1,
          0.5,
          0,
          1,
          0.5,
          0,
          1,
          0.5,
          0,
          1,
          0.5,
          0,
          1,
          0.5,
          0
         ],
         "x0": " ",
         "xaxis": "x",
         "y": [
          0.0743544356980764,
          0.0725419774899067,
          0.1255873174687687,
          0.0874022149107896,
          0.0824170532572442,
          0.1161328141415564,
          0.0856113247182883,
          0.0782090683109776,
          0.1178372678908324,
          0.0817900806051935,
          0.0850073330394219,
          0.109274090904752,
          0.0795150139527874,
          0.0890347075516304,
          0.1151568173740408
         ],
         "y0": " ",
         "yaxis": "y"
        },
        {
         "alignmentgroup": "True",
         "hovertemplate": "params.model_class=CoxPHFitter<br>params.random_max_time_warp_percent=%{x}<br>metrics.ibs=%{y}<extra></extra>",
         "legendgroup": "CoxPHFitter",
         "marker": {
          "color": "#EF553B"
         },
         "name": "CoxPHFitter",
         "notched": false,
         "offsetgroup": "CoxPHFitter",
         "orientation": "v",
         "showlegend": true,
         "type": "box",
         "x": [
          1,
          0.5,
          0,
          1,
          0.5,
          0,
          1,
          0.5,
          0,
          1,
          0.5,
          0,
          1,
          0.5,
          0
         ],
         "x0": " ",
         "xaxis": "x",
         "y": [
          0.0702327776460013,
          0.0952575164520922,
          0.119906446784803,
          0.0891099999769678,
          0.0848494059540229,
          0.1106725689088192,
          0.0781044852837499,
          0.0851856891242755,
          0.129983098819319,
          0.0835811939860458,
          0.0808179130757415,
          0.1410359421889162,
          0.070980635137157,
          0.071896849719924,
          0.1138108897622359
         ],
         "y0": " ",
         "yaxis": "y"
        }
       ],
       "layout": {
        "boxmode": "group",
        "height": 600,
        "legend": {
         "title": {
          "text": "params.model_class"
         },
         "tracegroupgap": 0
        },
        "template": {
         "data": {
          "bar": [
           {
            "error_x": {
             "color": "#2a3f5f"
            },
            "error_y": {
             "color": "#2a3f5f"
            },
            "marker": {
             "line": {
              "color": "#E5ECF6",
              "width": 0.5
             },
             "pattern": {
              "fillmode": "overlay",
              "size": 10,
              "solidity": 0.2
             }
            },
            "type": "bar"
           }
          ],
          "barpolar": [
           {
            "marker": {
             "line": {
              "color": "#E5ECF6",
              "width": 0.5
             },
             "pattern": {
              "fillmode": "overlay",
              "size": 10,
              "solidity": 0.2
             }
            },
            "type": "barpolar"
           }
          ],
          "carpet": [
           {
            "aaxis": {
             "endlinecolor": "#2a3f5f",
             "gridcolor": "white",
             "linecolor": "white",
             "minorgridcolor": "white",
             "startlinecolor": "#2a3f5f"
            },
            "baxis": {
             "endlinecolor": "#2a3f5f",
             "gridcolor": "white",
             "linecolor": "white",
             "minorgridcolor": "white",
             "startlinecolor": "#2a3f5f"
            },
            "type": "carpet"
           }
          ],
          "choropleth": [
           {
            "colorbar": {
             "outlinewidth": 0,
             "ticks": ""
            },
            "type": "choropleth"
           }
          ],
          "contour": [
           {
            "colorbar": {
             "outlinewidth": 0,
             "ticks": ""
            },
            "colorscale": [
             [
              0,
              "#0d0887"
             ],
             [
              0.1111111111111111,
              "#46039f"
             ],
             [
              0.2222222222222222,
              "#7201a8"
             ],
             [
              0.3333333333333333,
              "#9c179e"
             ],
             [
              0.4444444444444444,
              "#bd3786"
             ],
             [
              0.5555555555555556,
              "#d8576b"
             ],
             [
              0.6666666666666666,
              "#ed7953"
             ],
             [
              0.7777777777777778,
              "#fb9f3a"
             ],
             [
              0.8888888888888888,
              "#fdca26"
             ],
             [
              1,
              "#f0f921"
             ]
            ],
            "type": "contour"
           }
          ],
          "contourcarpet": [
           {
            "colorbar": {
             "outlinewidth": 0,
             "ticks": ""
            },
            "type": "contourcarpet"
           }
          ],
          "heatmap": [
           {
            "colorbar": {
             "outlinewidth": 0,
             "ticks": ""
            },
            "colorscale": [
             [
              0,
              "#0d0887"
             ],
             [
              0.1111111111111111,
              "#46039f"
             ],
             [
              0.2222222222222222,
              "#7201a8"
             ],
             [
              0.3333333333333333,
              "#9c179e"
             ],
             [
              0.4444444444444444,
              "#bd3786"
             ],
             [
              0.5555555555555556,
              "#d8576b"
             ],
             [
              0.6666666666666666,
              "#ed7953"
             ],
             [
              0.7777777777777778,
              "#fb9f3a"
             ],
             [
              0.8888888888888888,
              "#fdca26"
             ],
             [
              1,
              "#f0f921"
             ]
            ],
            "type": "heatmap"
           }
          ],
          "heatmapgl": [
           {
            "colorbar": {
             "outlinewidth": 0,
             "ticks": ""
            },
            "colorscale": [
             [
              0,
              "#0d0887"
             ],
             [
              0.1111111111111111,
              "#46039f"
             ],
             [
              0.2222222222222222,
              "#7201a8"
             ],
             [
              0.3333333333333333,
              "#9c179e"
             ],
             [
              0.4444444444444444,
              "#bd3786"
             ],
             [
              0.5555555555555556,
              "#d8576b"
             ],
             [
              0.6666666666666666,
              "#ed7953"
             ],
             [
              0.7777777777777778,
              "#fb9f3a"
             ],
             [
              0.8888888888888888,
              "#fdca26"
             ],
             [
              1,
              "#f0f921"
             ]
            ],
            "type": "heatmapgl"
           }
          ],
          "histogram": [
           {
            "marker": {
             "pattern": {
              "fillmode": "overlay",
              "size": 10,
              "solidity": 0.2
             }
            },
            "type": "histogram"
           }
          ],
          "histogram2d": [
           {
            "colorbar": {
             "outlinewidth": 0,
             "ticks": ""
            },
            "colorscale": [
             [
              0,
              "#0d0887"
             ],
             [
              0.1111111111111111,
              "#46039f"
             ],
             [
              0.2222222222222222,
              "#7201a8"
             ],
             [
              0.3333333333333333,
              "#9c179e"
             ],
             [
              0.4444444444444444,
              "#bd3786"
             ],
             [
              0.5555555555555556,
              "#d8576b"
             ],
             [
              0.6666666666666666,
              "#ed7953"
             ],
             [
              0.7777777777777778,
              "#fb9f3a"
             ],
             [
              0.8888888888888888,
              "#fdca26"
             ],
             [
              1,
              "#f0f921"
             ]
            ],
            "type": "histogram2d"
           }
          ],
          "histogram2dcontour": [
           {
            "colorbar": {
             "outlinewidth": 0,
             "ticks": ""
            },
            "colorscale": [
             [
              0,
              "#0d0887"
             ],
             [
              0.1111111111111111,
              "#46039f"
             ],
             [
              0.2222222222222222,
              "#7201a8"
             ],
             [
              0.3333333333333333,
              "#9c179e"
             ],
             [
              0.4444444444444444,
              "#bd3786"
             ],
             [
              0.5555555555555556,
              "#d8576b"
             ],
             [
              0.6666666666666666,
              "#ed7953"
             ],
             [
              0.7777777777777778,
              "#fb9f3a"
             ],
             [
              0.8888888888888888,
              "#fdca26"
             ],
             [
              1,
              "#f0f921"
             ]
            ],
            "type": "histogram2dcontour"
           }
          ],
          "mesh3d": [
           {
            "colorbar": {
             "outlinewidth": 0,
             "ticks": ""
            },
            "type": "mesh3d"
           }
          ],
          "parcoords": [
           {
            "line": {
             "colorbar": {
              "outlinewidth": 0,
              "ticks": ""
             }
            },
            "type": "parcoords"
           }
          ],
          "pie": [
           {
            "automargin": true,
            "type": "pie"
           }
          ],
          "scatter": [
           {
            "fillpattern": {
             "fillmode": "overlay",
             "size": 10,
             "solidity": 0.2
            },
            "type": "scatter"
           }
          ],
          "scatter3d": [
           {
            "line": {
             "colorbar": {
              "outlinewidth": 0,
              "ticks": ""
             }
            },
            "marker": {
             "colorbar": {
              "outlinewidth": 0,
              "ticks": ""
             }
            },
            "type": "scatter3d"
           }
          ],
          "scattercarpet": [
           {
            "marker": {
             "colorbar": {
              "outlinewidth": 0,
              "ticks": ""
             }
            },
            "type": "scattercarpet"
           }
          ],
          "scattergeo": [
           {
            "marker": {
             "colorbar": {
              "outlinewidth": 0,
              "ticks": ""
             }
            },
            "type": "scattergeo"
           }
          ],
          "scattergl": [
           {
            "marker": {
             "colorbar": {
              "outlinewidth": 0,
              "ticks": ""
             }
            },
            "type": "scattergl"
           }
          ],
          "scattermapbox": [
           {
            "marker": {
             "colorbar": {
              "outlinewidth": 0,
              "ticks": ""
             }
            },
            "type": "scattermapbox"
           }
          ],
          "scatterpolar": [
           {
            "marker": {
             "colorbar": {
              "outlinewidth": 0,
              "ticks": ""
             }
            },
            "type": "scatterpolar"
           }
          ],
          "scatterpolargl": [
           {
            "marker": {
             "colorbar": {
              "outlinewidth": 0,
              "ticks": ""
             }
            },
            "type": "scatterpolargl"
           }
          ],
          "scatterternary": [
           {
            "marker": {
             "colorbar": {
              "outlinewidth": 0,
              "ticks": ""
             }
            },
            "type": "scatterternary"
           }
          ],
          "surface": [
           {
            "colorbar": {
             "outlinewidth": 0,
             "ticks": ""
            },
            "colorscale": [
             [
              0,
              "#0d0887"
             ],
             [
              0.1111111111111111,
              "#46039f"
             ],
             [
              0.2222222222222222,
              "#7201a8"
             ],
             [
              0.3333333333333333,
              "#9c179e"
             ],
             [
              0.4444444444444444,
              "#bd3786"
             ],
             [
              0.5555555555555556,
              "#d8576b"
             ],
             [
              0.6666666666666666,
              "#ed7953"
             ],
             [
              0.7777777777777778,
              "#fb9f3a"
             ],
             [
              0.8888888888888888,
              "#fdca26"
             ],
             [
              1,
              "#f0f921"
             ]
            ],
            "type": "surface"
           }
          ],
          "table": [
           {
            "cells": {
             "fill": {
              "color": "#EBF0F8"
             },
             "line": {
              "color": "white"
             }
            },
            "header": {
             "fill": {
              "color": "#C8D4E3"
             },
             "line": {
              "color": "white"
             }
            },
            "type": "table"
           }
          ]
         },
         "layout": {
          "annotationdefaults": {
           "arrowcolor": "#2a3f5f",
           "arrowhead": 0,
           "arrowwidth": 1
          },
          "autotypenumbers": "strict",
          "coloraxis": {
           "colorbar": {
            "outlinewidth": 0,
            "ticks": ""
           }
          },
          "colorscale": {
           "diverging": [
            [
             0,
             "#8e0152"
            ],
            [
             0.1,
             "#c51b7d"
            ],
            [
             0.2,
             "#de77ae"
            ],
            [
             0.3,
             "#f1b6da"
            ],
            [
             0.4,
             "#fde0ef"
            ],
            [
             0.5,
             "#f7f7f7"
            ],
            [
             0.6,
             "#e6f5d0"
            ],
            [
             0.7,
             "#b8e186"
            ],
            [
             0.8,
             "#7fbc41"
            ],
            [
             0.9,
             "#4d9221"
            ],
            [
             1,
             "#276419"
            ]
           ],
           "sequential": [
            [
             0,
             "#0d0887"
            ],
            [
             0.1111111111111111,
             "#46039f"
            ],
            [
             0.2222222222222222,
             "#7201a8"
            ],
            [
             0.3333333333333333,
             "#9c179e"
            ],
            [
             0.4444444444444444,
             "#bd3786"
            ],
            [
             0.5555555555555556,
             "#d8576b"
            ],
            [
             0.6666666666666666,
             "#ed7953"
            ],
            [
             0.7777777777777778,
             "#fb9f3a"
            ],
            [
             0.8888888888888888,
             "#fdca26"
            ],
            [
             1,
             "#f0f921"
            ]
           ],
           "sequentialminus": [
            [
             0,
             "#0d0887"
            ],
            [
             0.1111111111111111,
             "#46039f"
            ],
            [
             0.2222222222222222,
             "#7201a8"
            ],
            [
             0.3333333333333333,
             "#9c179e"
            ],
            [
             0.4444444444444444,
             "#bd3786"
            ],
            [
             0.5555555555555556,
             "#d8576b"
            ],
            [
             0.6666666666666666,
             "#ed7953"
            ],
            [
             0.7777777777777778,
             "#fb9f3a"
            ],
            [
             0.8888888888888888,
             "#fdca26"
            ],
            [
             1,
             "#f0f921"
            ]
           ]
          },
          "colorway": [
           "#636efa",
           "#EF553B",
           "#00cc96",
           "#ab63fa",
           "#FFA15A",
           "#19d3f3",
           "#FF6692",
           "#B6E880",
           "#FF97FF",
           "#FECB52"
          ],
          "font": {
           "color": "#2a3f5f"
          },
          "geo": {
           "bgcolor": "white",
           "lakecolor": "white",
           "landcolor": "#E5ECF6",
           "showlakes": true,
           "showland": true,
           "subunitcolor": "white"
          },
          "hoverlabel": {
           "align": "left"
          },
          "hovermode": "closest",
          "mapbox": {
           "style": "light"
          },
          "paper_bgcolor": "white",
          "plot_bgcolor": "#E5ECF6",
          "polar": {
           "angularaxis": {
            "gridcolor": "white",
            "linecolor": "white",
            "ticks": ""
           },
           "bgcolor": "#E5ECF6",
           "radialaxis": {
            "gridcolor": "white",
            "linecolor": "white",
            "ticks": ""
           }
          },
          "scene": {
           "xaxis": {
            "backgroundcolor": "#E5ECF6",
            "gridcolor": "white",
            "gridwidth": 2,
            "linecolor": "white",
            "showbackground": true,
            "ticks": "",
            "zerolinecolor": "white"
           },
           "yaxis": {
            "backgroundcolor": "#E5ECF6",
            "gridcolor": "white",
            "gridwidth": 2,
            "linecolor": "white",
            "showbackground": true,
            "ticks": "",
            "zerolinecolor": "white"
           },
           "zaxis": {
            "backgroundcolor": "#E5ECF6",
            "gridcolor": "white",
            "gridwidth": 2,
            "linecolor": "white",
            "showbackground": true,
            "ticks": "",
            "zerolinecolor": "white"
           }
          },
          "shapedefaults": {
           "line": {
            "color": "#2a3f5f"
           }
          },
          "ternary": {
           "aaxis": {
            "gridcolor": "white",
            "linecolor": "white",
            "ticks": ""
           },
           "baxis": {
            "gridcolor": "white",
            "linecolor": "white",
            "ticks": ""
           },
           "bgcolor": "#E5ECF6",
           "caxis": {
            "gridcolor": "white",
            "linecolor": "white",
            "ticks": ""
           }
          },
          "title": {
           "x": 0.05
          },
          "xaxis": {
           "automargin": true,
           "gridcolor": "white",
           "linecolor": "white",
           "ticks": "",
           "title": {
            "standoff": 15
           },
           "zerolinecolor": "white",
           "zerolinewidth": 2
          },
          "yaxis": {
           "automargin": true,
           "gridcolor": "white",
           "linecolor": "white",
           "ticks": "",
           "title": {
            "standoff": 15
           },
           "zerolinecolor": "white",
           "zerolinewidth": 2
          }
         }
        },
        "title": {
         "text": "Einfluss von random_max_time_warp_percent auf den metrics.ibs."
        },
        "width": 1000,
        "xaxis": {
         "anchor": "y",
         "domain": [
          0,
          1
         ],
         "title": {
          "text": "params.random_max_time_warp_percent"
         }
        },
        "yaxis": {
         "anchor": "x",
         "domain": [
          0,
          1
         ],
         "title": {
          "text": "metrics.ibs"
         }
        }
       }
      }
     },
     "metadata": {},
     "output_type": "display_data"
    },
    {
     "name": "stdout",
     "output_type": "stream",
     "text": [
      "{'CoxPHFitter': {0.0: 0.119906446784803, 0.5: 0.0848494059540229, 1.0: 0.0781044852837499}, 'RandomSurvivalForest': {0.0: 0.1161328141415564, 0.5: 0.0824170532572442, 1.0: 0.0817900806051935}}\n",
      "                      0.000  0.500  1.000\n",
      "CoxPHFitter           0.120  0.085  0.078\n",
      "RandomSurvivalForest  0.116  0.082  0.082\n"
     ]
    }
   ],
   "source": [
    "for surv_exp, (param, param_bool, param_values) in surv_experiments.items():\n",
    "    for metric in [\"metrics.c_index_ipcw\", \"metrics.ibs\"]:\n",
    "        surv_exp_results = load_exp_results(surv_exp)\n",
    "        if surv_exp_results is not None:\n",
    "            try:\n",
    "                fig = px.box(\n",
    "                    surv_exp_results,\n",
    "                    x=f\"params.{param}\",\n",
    "                    y=metric,\n",
    "                    color=\"params.model_class\",\n",
    "                    title=f\"Einfluss von {param} auf den {metric}.\",\n",
    "                    width=1000,\n",
    "                    height=600,\n",
    "                )\n",
    "                fig.show()\n",
    "\n",
    "                medians = {}\n",
    "                for model_class, model_group in surv_exp_results.groupby(\n",
    "                    by=\"params.model_class\"\n",
    "                ):\n",
    "                    medians[model_class] = {}\n",
    "                    for param_value, param_group in model_group.groupby(\n",
    "                        by=f\"params.{param}\"\n",
    "                    ):\n",
    "                        medians[model_class][param_value] = param_group[metric].median()\n",
    "                print(medians)\n",
    "                medians_df = pd.DataFrame(medians).T\n",
    "                pd.options.display.float_format = \"{:.3f}\".format\n",
    "                print(medians_df)\n",
    "\n",
    "            except ValueError:\n",
    "                print(f\"{surv_exp} does not seem to be finished.\")\n",
    "                raise"
   ]
  },
  {
   "cell_type": "code",
   "execution_count": 36,
   "metadata": {},
   "outputs": [
    {
     "name": "stdout",
     "output_type": "stream",
     "text": [
      "/home/nkuechen/Documents/Thesis/mlruns\n",
      "!! Creating new split...\n",
      "###Split 1/4!\n",
      "c_index_ipcw=0.8054002616866897; ibs=0.09042501318897533\n",
      "###Split 2/4!\n",
      "c_index_ipcw=0.9806959431224812; ibs=0.04552569193680494\n",
      "###Split 3/4!\n",
      "c_index_ipcw=0.7671373880357674; ibs=0.1804475370225664\n",
      "###Split 4/4!\n",
      "c_index_ipcw=0.8791911892058939; ibs=0.07226249500860259\n",
      "/home/nkuechen/Documents/Thesis/mlruns\n",
      "!! Creating new split...\n",
      "###Split 1/4!\n",
      "c_index_ipcw=0.8821815856603242; ibs=0.07385300717032242\n",
      "###Split 2/4!\n",
      "c_index_ipcw=0.8989038572191117; ibs=0.07278401649464464\n",
      "###Split 3/4!\n",
      "c_index_ipcw=0.8838771533082528; ibs=0.09103228701097178\n",
      "###Split 4/4!\n",
      "c_index_ipcw=0.8322474697555241; ibs=0.1205652518096355\n",
      "/home/nkuechen/Documents/Thesis/mlruns\n",
      "!! Creating new split...\n",
      "###Split 1/4!\n",
      "c_index_ipcw=0.9064009131836575; ibs=0.05148934642409827\n",
      "###Split 2/4!\n",
      "c_index_ipcw=0.8839647914016563; ibs=0.22352301904631117\n",
      "###Split 3/4!\n",
      "c_index_ipcw=0.8776596794230974; ibs=0.09048160901796491\n",
      "###Split 4/4!\n",
      "c_index_ipcw=0.8282680119331504; ibs=0.1902223492751327\n",
      "/home/nkuechen/Documents/Thesis/mlruns\n",
      "!! Creating new split...\n",
      "###Split 1/4!\n",
      "c_index_ipcw=0.8463226061180341; ibs=0.21561269195239152\n",
      "###Split 2/4!\n",
      "c_index_ipcw=0.857947327477474; ibs=0.14381258330230925\n",
      "###Split 3/4!\n",
      "c_index_ipcw=0.9085889325000722; ibs=0.0545086394611834\n",
      "###Split 4/4!\n",
      "c_index_ipcw=0.9150516922162895; ibs=0.13395396349396954\n",
      "/home/nkuechen/Documents/Thesis/mlruns\n",
      "!! Creating new split...\n",
      "###Split 1/4!\n",
      "c_index_ipcw=0.7943314392673687; ibs=0.16870250338398265\n",
      "###Split 2/4!\n",
      "c_index_ipcw=0.8789865593864218; ibs=0.09880429346905571\n",
      "###Split 3/4!\n",
      "c_index_ipcw=0.9234796395271984; ibs=0.07692037299978673\n",
      "###Split 4/4!\n",
      "c_index_ipcw=0.8184686724922852; ibs=0.09054484635231987\n",
      "/home/nkuechen/Documents/Thesis/mlruns\n",
      "!! Creating new split...\n",
      "###Split 1/4!\n",
      "c_index_ipcw=0.8821907085432178; ibs=0.155361605279849\n",
      "###Split 2/4!\n",
      "c_index_ipcw=0.6943614012338725; ibs=0.16196960788455966\n",
      "###Split 3/4!\n",
      "c_index_ipcw=0.9020378577939208; ibs=0.10160584629204099\n",
      "###Split 4/4!\n",
      "c_index_ipcw=0.7359114635244783; ibs=0.12917858168976434\n",
      "/home/nkuechen/Documents/Thesis/mlruns\n",
      "!! Creating new split...\n",
      "###Split 1/4!\n",
      "c_index_ipcw=0.8580739576213631; ibs=0.11446086373673423\n",
      "###Split 2/4!\n",
      "c_index_ipcw=0.956733660650281; ibs=0.05973878468464766\n",
      "###Split 3/4!\n",
      "c_index_ipcw=0.7687984042855378; ibs=0.22437714837499143\n",
      "###Split 4/4!\n",
      "c_index_ipcw=0.8618014653067089; ibs=0.21441728034687418\n",
      "/home/nkuechen/Documents/Thesis/mlruns\n",
      "!! Creating new split...\n",
      "###Split 1/4!\n",
      "c_index_ipcw=0.9643418937981892; ibs=0.0574004392973355\n",
      "###Split 2/4!\n",
      "c_index_ipcw=0.7718452613757338; ibs=0.336517913961867\n",
      "###Split 3/4!\n",
      "c_index_ipcw=0.9153154686274688; ibs=0.16261291917455775\n",
      "###Split 4/4!\n",
      "c_index_ipcw=0.7492957746478873; ibs=0.08435673097999224\n",
      "/home/nkuechen/Documents/Thesis/mlruns\n",
      "!! Creating new split...\n",
      "###Split 1/4!\n",
      "c_index_ipcw=0.7874335729915598; ibs=0.0479496185294692\n",
      "###Split 2/4!\n",
      "c_index_ipcw=0.8731500208980431; ibs=0.0606673395871335\n",
      "###Split 3/4!\n",
      "c_index_ipcw=0.9042072252864133; ibs=0.0840125276575446\n",
      "###Split 4/4!\n",
      "c_index_ipcw=0.7709389907230523; ibs=0.14356982752763212\n",
      "/home/nkuechen/Documents/Thesis/mlruns\n",
      "!! Creating new split...\n",
      "###Split 1/4!\n",
      "c_index_ipcw=0.7387507865329624; ibs=0.147477672398496\n",
      "###Split 2/4!\n",
      "c_index_ipcw=0.7967884968151066; ibs=0.12922120064057016\n",
      "###Split 3/4!\n",
      "c_index_ipcw=0.9785720263086491; ibs=0.12300513807394707\n",
      "###Split 4/4!\n",
      "c_index_ipcw=0.6383037694013304; ibs=0.1097273137549284\n",
      "/home/nkuechen/Documents/Thesis/mlruns\n",
      "!! Creating new split...\n",
      "###Split 1/4!\n",
      "c_index_ipcw=0.872015075221649; ibs=0.07787934320015616\n",
      "###Split 2/4!\n",
      "c_index_ipcw=0.7298194271672687; ibs=0.18650908427852764\n",
      "###Split 3/4!\n",
      "c_index_ipcw=0.9457764454572329; ibs=0.07968523480067193\n",
      "###Split 4/4!\n",
      "c_index_ipcw=0.9410242128370631; ibs=0.10634954577383246\n",
      "/home/nkuechen/Documents/Thesis/mlruns\n",
      "!! Creating new split...\n",
      "###Split 1/4!\n",
      "c_index_ipcw=0.896093664609049; ibs=0.08706400073349593\n",
      "###Split 2/4!\n",
      "c_index_ipcw=0.54835614590206; ibs=0.1374654379170395\n",
      "###Split 3/4!\n",
      "c_index_ipcw=0.8064182720306413; ibs=0.3751300669016978\n",
      "###Split 4/4!\n",
      "c_index_ipcw=0.854145728643216; ibs=0.05162903921109349\n",
      "/home/nkuechen/Documents/Thesis/mlruns\n",
      "!! Creating new split...\n",
      "###Split 1/4!\n",
      "c_index_ipcw=0.6617401299659409; ibs=0.1509468473933527\n",
      "###Split 2/4!\n",
      "c_index_ipcw=0.9146456959242347; ibs=0.10568903009308789\n",
      "###Split 3/4!\n",
      "c_index_ipcw=0.8655326549904033; ibs=0.13451643838968105\n",
      "###Split 4/4!\n",
      "c_index_ipcw=0.8628168749620571; ibs=0.20327098411372935\n",
      "/home/nkuechen/Documents/Thesis/mlruns\n",
      "!! Creating new split...\n",
      "###Split 1/4!\n",
      "c_index_ipcw=0.7271291827587439; ibs=0.15686962211311095\n",
      "###Split 2/4!\n",
      "c_index_ipcw=0.9620568302448673; ibs=0.06998544537649262\n",
      "###Split 3/4!\n",
      "c_index_ipcw=0.8859393402714716; ibs=0.14459740321940756\n",
      "###Split 4/4!\n",
      "ERROR WITH THE C_INDEX_IPCW! Leaving out test.\n",
      "n_aug=3, n_dev=10, by_metric='metrics.ibs'\n",
      "RandomSurvivalForest\n",
      "{'max_noise': 20, 'add_noise': True, 'max_noise_temperature': 0, 'add_noise_temperature': True, 'random_max_time_warp_percent': 1.0, 'random_warp_status_times': True}\n",
      "[(False, 252.) (False, 207.) ( True, 226.) (False, 145.) (False, 230.)\n",
      " (False,  43.) ( True,  86.) (False,  65.) (False,  25.) ( True,  51.)\n",
      " ( True,  90.) ( True,  54.) (False, 435.) ( True,  56.) ( True, 179.)\n",
      " ( True, 167.) ( True,  57.)]\n",
      "[( True, 435.) (False,  95.) ( True,  41.) (False, 108.) (False, 288.)\n",
      " ( True, 405.) (False,  41.) (False,  58.) (False,  45.) (False, 303.)\n",
      " (False, 358.) (False,  79.) ( True, 315.) (False, 173.) (False,  63.)\n",
      " (False,  78.) (False, 435.) (False, 287.) ( True, 158.) ( True,  52.)\n",
      " (False,  46.) ( True, 175.) (False,  39.) (False,  78.) (False,  84.)\n",
      " ( True, 134.) ( True,  32.) ( True,  55.) (False,  48.) (False,  53.)\n",
      " (False,  59.) (False,  63.) (False,  50.)]\n",
      "c_index_ipcw=0.8859393402714716; ibs=0.1754326252282254\n",
      "/home/nkuechen/Documents/Thesis/mlruns\n",
      "!! Creating new split...\n",
      "###Split 1/4!\n",
      "c_index_ipcw=0.8840298390658254; ibs=0.14418841361971546\n",
      "###Split 2/4!\n",
      "c_index_ipcw=0.8480769230769231; ibs=0.15616197396838527\n",
      "###Split 3/4!\n",
      "c_index_ipcw=0.8813014623296054; ibs=0.07388450787191769\n",
      "###Split 4/4!\n",
      "c_index_ipcw=0.8867582042342115; ibs=0.10022694440852103\n",
      "/home/nkuechen/Documents/Thesis/mlruns\n",
      "!! Creating new split...\n",
      "###Split 1/4!\n",
      "c_index_ipcw=0.9147759557234383; ibs=0.04826009342490714\n",
      "###Split 2/4!\n",
      "c_index_ipcw=0.8440081333662441; ibs=0.2139106296894503\n",
      "###Split 3/4!\n",
      "c_index_ipcw=0.7945832747387627; ibs=0.15536747530642786\n",
      "###Split 4/4!\n",
      "c_index_ipcw=0.831806621951325; ibs=0.07615118970059927\n",
      "/home/nkuechen/Documents/Thesis/mlruns\n",
      "!! Creating new split...\n",
      "###Split 1/4!\n",
      "c_index_ipcw=0.6599732262382865; ibs=0.18338158106326544\n",
      "###Split 2/4!\n",
      "c_index_ipcw=0.8380589767913242; ibs=0.07202167148252575\n",
      "###Split 3/4!\n",
      "c_index_ipcw=0.6301749674012367; ibs=0.17182394720646588\n",
      "###Split 4/4!\n",
      "c_index_ipcw=0.9333332391497722; ibs=0.06607516165934772\n",
      "/home/nkuechen/Documents/Thesis/mlruns\n",
      "!! Creating new split...\n",
      "###Split 1/4!\n",
      "c_index_ipcw=0.8752208475266877; ibs=0.03995673130653673\n",
      "###Split 2/4!\n",
      "c_index_ipcw=0.8419520458052966; ibs=0.29208519716394443\n",
      "###Split 3/4!\n",
      "c_index_ipcw=0.6275775550317559; ibs=0.20474012015268206\n",
      "###Split 4/4!\n",
      "c_index_ipcw=0.44565217391304346; ibs=0.20087188689531796\n",
      "/home/nkuechen/Documents/Thesis/mlruns\n",
      "!! Creating new split...\n",
      "###Split 1/4!\n",
      "c_index_ipcw=0.7602118303286357; ibs=0.2353130144913906\n",
      "###Split 2/4!\n",
      "c_index_ipcw=0.877471073280013; ibs=0.0793991995540066\n",
      "###Split 3/4!\n",
      "c_index_ipcw=0.7930660109382287; ibs=0.08450928300193558\n",
      "###Split 4/4!\n",
      "c_index_ipcw=0.9209039548022598; ibs=0.1161257155884154\n",
      "/home/nkuechen/Documents/Thesis/mlruns\n",
      "!! Creating new split...\n",
      "###Split 1/4!\n",
      "c_index_ipcw=0.8806385762064775; ibs=0.08752851329389257\n",
      "###Split 2/4!\n",
      "c_index_ipcw=0.7777777777777778; ibs=0.16295438809757531\n",
      "###Split 3/4!\n",
      "c_index_ipcw=0.7643680228653953; ibs=0.24799839609476457\n",
      "###Split 4/4!\n",
      "c_index_ipcw=0.8986911379338722; ibs=0.06318249886471938\n",
      "/home/nkuechen/Documents/Thesis/mlruns\n",
      "!! Creating new split...\n",
      "###Split 1/4!\n",
      "c_index_ipcw=0.6988431308597398; ibs=0.45012295988939005\n",
      "###Split 2/4!\n",
      "c_index_ipcw=0.915735024194894; ibs=0.09175380368565444\n",
      "###Split 3/4!\n",
      "c_index_ipcw=0.8785637440230445; ibs=0.08101672239320336\n",
      "###Split 4/4!\n",
      "c_index_ipcw=0.8702261423836969; ibs=0.07825475354805282\n",
      "/home/nkuechen/Documents/Thesis/mlruns\n",
      "!! Creating new split...\n",
      "###Split 1/4!\n",
      "c_index_ipcw=0.9438809310568135; ibs=0.14656823930261084\n",
      "###Split 2/4!\n",
      "c_index_ipcw=0.740853528319508; ibs=0.1256192002044264\n",
      "###Split 3/4!\n",
      "c_index_ipcw=0.8559633775803327; ibs=0.09818638568839325\n",
      "###Split 4/4!\n",
      "c_index_ipcw=0.896943725572461; ibs=0.1598517592346247\n",
      "/home/nkuechen/Documents/Thesis/mlruns\n",
      "!! Creating new split...\n",
      "###Split 1/4!\n",
      "c_index_ipcw=0.8847304525202904; ibs=0.26407626548417085\n",
      "###Split 2/4!\n",
      "c_index_ipcw=0.8674549847008551; ibs=0.12040926622856168\n",
      "###Split 3/4!\n",
      "c_index_ipcw=0.9532016431670716; ibs=0.056397276744346\n",
      "###Split 4/4!\n",
      "c_index_ipcw=0.7397260273972602; ibs=0.1261514615394692\n",
      "/home/nkuechen/Documents/Thesis/mlruns\n",
      "!! Creating new split...\n",
      "###Split 1/4!\n",
      "c_index_ipcw=0.8933929981574099; ibs=0.0863829890964674\n",
      "###Split 2/4!\n",
      "c_index_ipcw=0.7194128244870157; ibs=0.14063890578406152\n",
      "###Split 3/4!\n",
      "c_index_ipcw=0.8562287709158825; ibs=0.32880595960209\n",
      "###Split 4/4!\n",
      "c_index_ipcw=0.8715299113526596; ibs=0.1600278609701063\n",
      "/home/nkuechen/Documents/Thesis/mlruns\n",
      "!! Creating new split...\n",
      "###Split 1/4!\n",
      "c_index_ipcw=0.886323108009425; ibs=0.10698534028860927\n",
      "###Split 2/4!\n",
      "c_index_ipcw=0.6824211289812621; ibs=0.18610832889175336\n",
      "###Split 3/4!\n",
      "c_index_ipcw=0.9812988450829846; ibs=0.0863244175209898\n",
      "###Split 4/4!\n",
      "c_index_ipcw=0.7798852363264057; ibs=0.216125274368847\n",
      "/home/nkuechen/Documents/Thesis/mlruns\n",
      "!! Creating new split...\n",
      "###Split 1/4!\n",
      "c_index_ipcw=0.7949835278415279; ibs=0.20015375144682918\n",
      "###Split 2/4!\n",
      "c_index_ipcw=0.7862204364255607; ibs=0.13913906257174977\n",
      "###Split 3/4!\n",
      "c_index_ipcw=0.7017723406681443; ibs=0.1459518466358274\n",
      "###Split 4/4!\n",
      "c_index_ipcw=0.8913480286539732; ibs=0.0982109998761363\n",
      "/home/nkuechen/Documents/Thesis/mlruns\n",
      "!! Creating new split...\n",
      "###Split 1/4!\n",
      "c_index_ipcw=0.8890536806130829; ibs=0.09205750521490307\n",
      "###Split 2/4!\n",
      "c_index_ipcw=0.7649895030939157; ibs=0.12738159127002865\n",
      "###Split 3/4!\n",
      "c_index_ipcw=0.672817820553797; ibs=0.19456543668504392\n",
      "###Split 4/4!\n",
      "c_index_ipcw=0.857584511034296; ibs=0.11273230462881484\n",
      "/home/nkuechen/Documents/Thesis/mlruns\n",
      "!! Creating new split...\n",
      "###Split 1/4!\n",
      "c_index_ipcw=0.8365736149924377; ibs=0.1870807133805052\n",
      "###Split 2/4!\n",
      "c_index_ipcw=0.8184022561757169; ibs=0.09358031497361688\n",
      "###Split 3/4!\n",
      "c_index_ipcw=0.8449219160521908; ibs=0.07742438796213011\n",
      "###Split 4/4!\n",
      "c_index_ipcw=0.8622733946491193; ibs=0.17009868763039818\n",
      "/home/nkuechen/Documents/Thesis/mlruns\n",
      "!! Creating new split...\n",
      "###Split 1/4!\n",
      "c_index_ipcw=0.7667495338719703; ibs=0.0497179348913563\n",
      "###Split 2/4!\n",
      "c_index_ipcw=0.8749668370225057; ibs=0.12239319821519441\n",
      "###Split 3/4!\n",
      "c_index_ipcw=0.8796926248837466; ibs=0.12138267233450666\n",
      "###Split 4/4!\n",
      "c_index_ipcw=0.8957654424863492; ibs=0.233767131797086\n",
      "/home/nkuechen/Documents/Thesis/mlruns\n",
      "!! Creating new split...\n",
      "###Split 1/4!\n",
      "c_index_ipcw=0.8621163450612497; ibs=0.11681593620207902\n",
      "###Split 2/4!\n",
      "c_index_ipcw=0.8953996520874753; ibs=0.07621526810070074\n",
      "###Split 3/4!\n",
      "c_index_ipcw=0.8659642110851185; ibs=0.10363255953032817\n",
      "###Split 4/4!\n",
      "c_index_ipcw=0.9431624115853776; ibs=0.14917444063614896\n",
      "/home/nkuechen/Documents/Thesis/mlruns\n",
      "!! Creating new split...\n",
      "###Split 1/4!\n",
      "c_index_ipcw=0.6870229007633588; ibs=0.12864109135072854\n",
      "###Split 2/4!\n",
      "c_index_ipcw=0.8770240919641447; ibs=0.19897728186951308\n",
      "###Split 3/4!\n",
      "c_index_ipcw=0.760088204551113; ibs=0.15125808621431217\n",
      "###Split 4/4!\n",
      "c_index_ipcw=0.7651881189115857; ibs=0.07005636405470123\n",
      "/home/nkuechen/Documents/Thesis/mlruns\n",
      "!! Creating new split...\n",
      "###Split 1/4!\n",
      "c_index_ipcw=0.7383642789586341; ibs=0.12099881107299568\n",
      "###Split 2/4!\n",
      "c_index_ipcw=0.7104639890542767; ibs=0.28868433354393125\n",
      "###Split 3/4!\n",
      "c_index_ipcw=0.8460860378434212; ibs=0.13021953741962958\n",
      "###Split 4/4!\n",
      "c_index_ipcw=0.8574255721906728; ibs=0.0664943110736086\n",
      "/home/nkuechen/Documents/Thesis/mlruns\n",
      "!! Creating new split...\n",
      "###Split 1/4!\n",
      "c_index_ipcw=0.7644444080984012; ibs=0.11945584338774407\n",
      "###Split 2/4!\n",
      "c_index_ipcw=0.8227204343172048; ibs=0.3196658010739884\n",
      "###Split 3/4!\n",
      "c_index_ipcw=0.8336742330412797; ibs=0.1628685356518965\n",
      "###Split 4/4!\n",
      "c_index_ipcw=0.8940614971085455; ibs=0.1465009821795489\n",
      "/home/nkuechen/Documents/Thesis/mlruns\n",
      "!! Creating new split...\n",
      "###Split 1/4!\n",
      "c_index_ipcw=0.9306789573816224; ibs=0.14970231672307488\n",
      "###Split 2/4!\n",
      "c_index_ipcw=0.8023123413997759; ibs=0.20287223420490322\n",
      "###Split 3/4!\n",
      "c_index_ipcw=0.965913046244073; ibs=0.031125499149989213\n",
      "###Split 4/4!\n",
      "c_index_ipcw=0.6990530804165119; ibs=0.1227442523569193\n",
      "/home/nkuechen/Documents/Thesis/mlruns\n",
      "!! Creating new split...\n",
      "###Split 1/4!\n",
      "c_index_ipcw=0.9325630928119397; ibs=0.06551748330444646\n",
      "###Split 2/4!\n",
      "c_index_ipcw=0.8713744621719292; ibs=0.05841251081412208\n",
      "###Split 3/4!\n",
      "c_index_ipcw=0.8675011863211521; ibs=0.08212276249492789\n",
      "###Split 4/4!\n",
      "c_index_ipcw=0.9320592657691131; ibs=0.1405146646686715\n",
      "/home/nkuechen/Documents/Thesis/mlruns\n",
      "!! Creating new split...\n",
      "###Split 1/4!\n",
      "c_index_ipcw=0.8865034261052182; ibs=0.09579805610545442\n",
      "###Split 2/4!\n",
      "c_index_ipcw=0.5507204723185496; ibs=0.19459503895723196\n",
      "###Split 3/4!\n",
      "c_index_ipcw=0.8985445539636245; ibs=0.0769751146409949\n",
      "###Split 4/4!\n",
      "c_index_ipcw=0.8396985068822571; ibs=0.18687156377099193\n",
      "/home/nkuechen/Documents/Thesis/mlruns\n",
      "!! Creating new split...\n",
      "###Split 1/4!\n",
      "c_index_ipcw=0.7758447198309307; ibs=0.13457110476950085\n",
      "###Split 2/4!\n",
      "c_index_ipcw=0.9010689517936602; ibs=0.08389643365029426\n",
      "###Split 3/4!\n",
      "c_index_ipcw=0.8505838271995267; ibs=0.08745182724154388\n",
      "###Split 4/4!\n",
      "c_index_ipcw=0.9345765019999545; ibs=0.07384678337638417\n",
      "/home/nkuechen/Documents/Thesis/mlruns\n",
      "!! Creating new split...\n",
      "###Split 1/4!\n",
      "c_index_ipcw=0.8610441640499967; ibs=0.15367800981783403\n",
      "###Split 2/4!\n",
      "c_index_ipcw=0.8764564005855362; ibs=0.039843229709356734\n",
      "###Split 3/4!\n",
      "c_index_ipcw=0.9483596785361775; ibs=0.08208014452155064\n",
      "###Split 4/4!\n",
      "c_index_ipcw=0.8244870595296485; ibs=0.15272997956494633\n",
      "/home/nkuechen/Documents/Thesis/mlruns\n",
      "!! Creating new split...\n",
      "###Split 1/4!\n",
      "c_index_ipcw=0.7375104328126862; ibs=0.12714441118565636\n",
      "###Split 2/4!\n",
      "c_index_ipcw=0.8482142857142857; ibs=0.12250463787712512\n",
      "###Split 3/4!\n",
      "c_index_ipcw=0.8440933690498786; ibs=0.1122223432305873\n",
      "###Split 4/4!\n",
      "c_index_ipcw=0.8432123874214045; ibs=0.11883868123012827\n",
      "/home/nkuechen/Documents/Thesis/mlruns\n",
      "!! Creating new split...\n",
      "###Split 1/4!\n",
      "c_index_ipcw=0.7203219315895373; ibs=0.17088762365777163\n",
      "###Split 2/4!\n",
      "c_index_ipcw=0.7953137915448414; ibs=0.09943534897512078\n",
      "###Split 3/4!\n",
      "c_index_ipcw=0.773919927521397; ibs=0.17870409745616514\n",
      "###Split 4/4!\n",
      "c_index_ipcw=0.9341591161784073; ibs=0.2039172014976422\n",
      "/home/nkuechen/Documents/Thesis/mlruns\n",
      "!! Creating new split...\n",
      "###Split 1/4!\n",
      "c_index_ipcw=0.8997380866406945; ibs=0.08533946454321238\n",
      "###Split 2/4!\n",
      "c_index_ipcw=0.89969803170598; ibs=0.12291571389919112\n",
      "###Split 3/4!\n",
      "c_index_ipcw=0.8928619980148925; ibs=0.07028981206585858\n",
      "###Split 4/4!\n",
      "c_index_ipcw=0.9240987271203311; ibs=0.09245225536404975\n",
      "/home/nkuechen/Documents/Thesis/mlruns\n",
      "!! Creating new split...\n",
      "###Split 1/4!\n",
      "c_index_ipcw=0.8188044162584648; ibs=0.10579316194950346\n",
      "###Split 2/4!\n",
      "c_index_ipcw=0.8163415984644603; ibs=0.08768514770753762\n",
      "###Split 3/4!\n",
      "c_index_ipcw=0.9057549394391758; ibs=0.058329963910639965\n",
      "###Split 4/4!\n",
      "c_index_ipcw=0.9819662795597573; ibs=0.039014313168282605\n",
      "/home/nkuechen/Documents/Thesis/mlruns\n",
      "!! Creating new split...\n",
      "###Split 1/4!\n",
      "c_index_ipcw=0.8615375814804895; ibs=0.14059331537309083\n",
      "###Split 2/4!\n",
      "c_index_ipcw=0.9169105607750514; ibs=0.056593053126169246\n",
      "###Split 3/4!\n",
      "c_index_ipcw=0.8608463977025714; ibs=0.1381285694851322\n",
      "###Split 4/4!\n",
      "c_index_ipcw=0.9044614169204177; ibs=0.10943382567391524\n",
      "/home/nkuechen/Documents/Thesis/mlruns\n",
      "!! Creating new split...\n",
      "###Split 1/4!\n",
      "c_index_ipcw=0.8192773647446555; ibs=0.16504169897566476\n",
      "###Split 2/4!\n",
      "c_index_ipcw=0.8670981388661609; ibs=0.28672485541909015\n",
      "###Split 3/4!\n",
      "c_index_ipcw=0.9402043662707783; ibs=0.06819803689688791\n",
      "###Split 4/4!\n",
      "c_index_ipcw=0.9801604796755137; ibs=0.02043846686882536\n",
      "/home/nkuechen/Documents/Thesis/mlruns\n",
      "!! Creating new split...\n",
      "###Split 1/4!\n",
      "c_index_ipcw=0.8227543216707215; ibs=0.07578472100020711\n",
      "###Split 2/4!\n",
      "c_index_ipcw=0.91840543183537; ibs=0.13531753559036033\n",
      "###Split 3/4!\n",
      "c_index_ipcw=0.9065222268130376; ibs=0.07036619129595308\n",
      "###Split 4/4!\n",
      "c_index_ipcw=0.8822539340628536; ibs=0.11124979540421338\n",
      "/home/nkuechen/Documents/Thesis/mlruns\n",
      "!! Creating new split...\n",
      "###Split 1/4!\n",
      "c_index_ipcw=0.9580313125867349; ibs=0.09026430566389329\n",
      "###Split 2/4!\n",
      "c_index_ipcw=0.8457707056596437; ibs=0.13857949965733457\n",
      "###Split 3/4!\n",
      "c_index_ipcw=0.8694860756807626; ibs=0.0874202519570694\n",
      "###Split 4/4!\n",
      "c_index_ipcw=0.8976233075969253; ibs=0.1557870703853304\n",
      "/home/nkuechen/Documents/Thesis/mlruns\n",
      "!! Creating new split...\n",
      "###Split 1/4!\n",
      "c_index_ipcw=0.7946078609280445; ibs=0.1922784216245726\n",
      "###Split 2/4!\n",
      "c_index_ipcw=0.8646876377510989; ibs=0.09148894118061904\n",
      "###Split 3/4!\n",
      "c_index_ipcw=0.9167340689079819; ibs=0.20864749261825954\n",
      "###Split 4/4!\n",
      "c_index_ipcw=0.8024979619616008; ibs=0.09458276993832065\n",
      "/home/nkuechen/Documents/Thesis/mlruns\n",
      "!! Creating new split...\n",
      "###Split 1/4!\n",
      "c_index_ipcw=0.8289319558418662; ibs=0.06752790017251846\n",
      "###Split 2/4!\n",
      "c_index_ipcw=0.88036471121351; ibs=0.11242721537065993\n",
      "###Split 3/4!\n",
      "c_index_ipcw=0.8689440542576158; ibs=0.10166952286191235\n",
      "###Split 4/4!\n",
      "c_index_ipcw=0.7224321322937322; ibs=0.1964980933018993\n",
      "/home/nkuechen/Documents/Thesis/mlruns\n",
      "!! Creating new split...\n",
      "###Split 1/4!\n",
      "c_index_ipcw=0.7412876401980956; ibs=0.14723479909657364\n",
      "###Split 2/4!\n",
      "c_index_ipcw=0.9286696435407956; ibs=0.05494234330092627\n",
      "###Split 3/4!\n",
      "c_index_ipcw=0.8459196354438087; ibs=0.16024312943225913\n",
      "###Split 4/4!\n",
      "c_index_ipcw=0.7997461463724225; ibs=0.12089934393880918\n",
      "/home/nkuechen/Documents/Thesis/mlruns\n",
      "!! Creating new split...\n",
      "###Split 1/4!\n",
      "c_index_ipcw=0.7940748138120234; ibs=0.18871233789770722\n",
      "###Split 2/4!\n",
      "c_index_ipcw=0.7775132765999913; ibs=0.14714740679349392\n",
      "###Split 3/4!\n",
      "c_index_ipcw=0.9280118820421508; ibs=0.08652999857235341\n",
      "###Split 4/4!\n",
      "c_index_ipcw=0.9286498173658089; ibs=0.05250187049381333\n",
      "/home/nkuechen/Documents/Thesis/mlruns\n",
      "!! Creating new split...\n",
      "###Split 1/4!\n",
      "c_index_ipcw=0.9088038256471287; ibs=0.05297615560467515\n",
      "###Split 2/4!\n",
      "c_index_ipcw=0.8757051598866082; ibs=0.06185340029396656\n",
      "###Split 3/4!\n",
      "c_index_ipcw=0.8811967517921337; ibs=0.08056216362664001\n",
      "###Split 4/4!\n",
      "c_index_ipcw=0.7772872368975502; ibs=0.350463473356065\n",
      "/home/nkuechen/Documents/Thesis/mlruns\n",
      "!! Creating new split...\n",
      "###Split 1/4!\n",
      "c_index_ipcw=0.8665441555174154; ibs=0.11414525230752191\n",
      "###Split 2/4!\n",
      "c_index_ipcw=0.7988776526647517; ibs=0.14446489079647806\n",
      "###Split 3/4!\n",
      "c_index_ipcw=0.8273321543271078; ibs=0.2272031917706919\n",
      "###Split 4/4!\n",
      "c_index_ipcw=0.7970084480138218; ibs=0.1160596004149768\n",
      "/home/nkuechen/Documents/Thesis/mlruns\n",
      "!! Creating new split...\n",
      "###Split 1/4!\n",
      "c_index_ipcw=0.8408484051616899; ibs=0.24387957973309363\n",
      "###Split 2/4!\n",
      "c_index_ipcw=0.8958287242787963; ibs=0.07720652112214989\n",
      "###Split 3/4!\n",
      "c_index_ipcw=0.9003086996402545; ibs=0.09793141270967141\n",
      "###Split 4/4!\n",
      "c_index_ipcw=0.8569539859230898; ibs=0.09691863040163463\n",
      "/home/nkuechen/Documents/Thesis/mlruns\n",
      "!! Creating new split...\n",
      "###Split 1/4!\n",
      "c_index_ipcw=0.8702710233533858; ibs=0.07754617028052367\n",
      "###Split 2/4!\n",
      "c_index_ipcw=0.8794021967981012; ibs=0.18204036743017069\n",
      "###Split 3/4!\n",
      "c_index_ipcw=0.889836369775662; ibs=0.1128139739526297\n",
      "###Split 4/4!\n",
      "c_index_ipcw=0.9644219031516541; ibs=0.05741355918253095\n",
      "/home/nkuechen/Documents/Thesis/mlruns\n",
      "!! Creating new split...\n",
      "###Split 1/4!\n",
      "c_index_ipcw=0.8484601887915656; ibs=0.08536200774240024\n",
      "###Split 2/4!\n",
      "c_index_ipcw=0.738255033557047; ibs=0.15241801039722402\n",
      "###Split 3/4!\n",
      "c_index_ipcw=0.9501286023920358; ibs=0.047096712090124594\n",
      "###Split 4/4!\n",
      "c_index_ipcw=0.8555972689739715; ibs=0.14138551233534483\n",
      "/home/nkuechen/Documents/Thesis/mlruns\n",
      "!! Creating new split...\n",
      "###Split 1/4!\n",
      "c_index_ipcw=0.8122906696846617; ibs=0.06787497335204506\n",
      "###Split 2/4!\n",
      "c_index_ipcw=0.8255414514898117; ibs=0.08087083388919632\n",
      "###Split 3/4!\n",
      "c_index_ipcw=0.8550798244696507; ibs=0.050273354648522825\n",
      "###Split 4/4!\n",
      "c_index_ipcw=0.82466967914413; ibs=0.3041526459056611\n",
      "/home/nkuechen/Documents/Thesis/mlruns\n",
      "!! Creating new split...\n",
      "###Split 1/4!\n",
      "c_index_ipcw=0.9046592827766549; ibs=0.1173533299246847\n",
      "###Split 2/4!\n",
      "c_index_ipcw=0.916486820346305; ibs=0.07974571495704827\n",
      "###Split 3/4!\n",
      "c_index_ipcw=0.7634068738390809; ibs=0.15360862639219228\n",
      "###Split 4/4!\n",
      "c_index_ipcw=0.8902464242831567; ibs=0.050580729535556895\n",
      "/home/nkuechen/Documents/Thesis/mlruns\n",
      "!! Creating new split...\n",
      "###Split 1/4!\n",
      "c_index_ipcw=0.9462042345189011; ibs=0.03205436837890024\n",
      "###Split 2/4!\n",
      "c_index_ipcw=0.794223979628322; ibs=0.1005279063157252\n",
      "###Split 3/4!\n",
      "c_index_ipcw=0.8691243632546123; ibs=0.1234687201404203\n",
      "###Split 4/4!\n",
      "c_index_ipcw=0.8372725278413509; ibs=0.07519259171649054\n",
      "/home/nkuechen/Documents/Thesis/mlruns\n",
      "!! Creating new split...\n",
      "###Split 1/4!\n",
      "c_index_ipcw=0.8782658874079722; ibs=0.06331706368067415\n",
      "###Split 2/4!\n",
      "c_index_ipcw=0.946122396596676; ibs=0.09121517564188505\n",
      "###Split 3/4!\n",
      "c_index_ipcw=0.9156126746010822; ibs=0.0849259851720499\n",
      "###Split 4/4!\n",
      "c_index_ipcw=0.8876936445629702; ibs=0.08613232485250956\n",
      "/home/nkuechen/Documents/Thesis/mlruns\n",
      "!! Creating new split...\n",
      "###Split 1/4!\n",
      "c_index_ipcw=0.9329890976539211; ibs=0.08581112918167208\n",
      "###Split 2/4!\n",
      "c_index_ipcw=0.7906794445383183; ibs=0.24630479890498327\n",
      "###Split 3/4!\n",
      "c_index_ipcw=0.8722683912065867; ibs=0.15024018027958294\n",
      "###Split 4/4!\n",
      "c_index_ipcw=0.9167888534051244; ibs=0.06495979302673256\n",
      "/home/nkuechen/Documents/Thesis/mlruns\n",
      "!! Creating new split...\n",
      "###Split 1/4!\n",
      "c_index_ipcw=0.9412766146209428; ibs=0.036403099966060615\n",
      "###Split 2/4!\n",
      "c_index_ipcw=0.8406096112995961; ibs=0.07948147759580525\n",
      "###Split 3/4!\n",
      "c_index_ipcw=0.8555788586217998; ibs=0.1177536897487116\n",
      "###Split 4/4!\n",
      "c_index_ipcw=0.8534755216646001; ibs=0.13242590009970853\n",
      "/home/nkuechen/Documents/Thesis/mlruns\n",
      "!! Creating new split...\n",
      "###Split 1/4!\n",
      "c_index_ipcw=0.8772066511847355; ibs=0.07935443178686868\n",
      "###Split 2/4!\n",
      "c_index_ipcw=0.8489974100046717; ibs=0.06677669937127505\n",
      "###Split 3/4!\n",
      "c_index_ipcw=0.8706214781013007; ibs=0.22988151319992356\n",
      "###Split 4/4!\n",
      "c_index_ipcw=0.8652602497007473; ibs=0.09899669357179233\n",
      "/home/nkuechen/Documents/Thesis/mlruns\n",
      "!! Creating new split...\n",
      "###Split 1/4!\n",
      "c_index_ipcw=0.9387698145692994; ibs=0.0624905355158724\n",
      "###Split 2/4!\n",
      "c_index_ipcw=0.7375731883155787; ibs=0.0685328836086941\n",
      "###Split 3/4!\n",
      "c_index_ipcw=0.913907798392617; ibs=0.2356338414298165\n",
      "###Split 4/4!\n",
      "c_index_ipcw=0.6369827217012003; ibs=0.20020905576573597\n",
      "/home/nkuechen/Documents/Thesis/mlruns\n",
      "!! Creating new split...\n",
      "###Split 1/4!\n",
      "c_index_ipcw=0.9342606601455852; ibs=0.17491304113304462\n",
      "###Split 2/4!\n",
      "c_index_ipcw=0.7793201313594341; ibs=0.07624601370860067\n",
      "###Split 3/4!\n",
      "c_index_ipcw=0.7571618527391406; ibs=0.12700092367319624\n",
      "###Split 4/4!\n",
      "c_index_ipcw=0.7775329627510151; ibs=0.19544112301227962\n",
      "/home/nkuechen/Documents/Thesis/mlruns\n",
      "!! Creating new split...\n",
      "###Split 1/4!\n",
      "c_index_ipcw=0.7949692542515178; ibs=0.13141464380975615\n",
      "###Split 2/4!\n",
      "c_index_ipcw=0.9368092974901286; ibs=0.046335405792321274\n",
      "###Split 3/4!\n",
      "c_index_ipcw=0.8208932276375637; ibs=0.14641552297856816\n",
      "###Split 4/4!\n",
      "c_index_ipcw=0.9262533535536276; ibs=0.032878623982506745\n",
      "/home/nkuechen/Documents/Thesis/mlruns\n",
      "!! Creating new split...\n",
      "###Split 1/4!\n",
      "c_index_ipcw=0.981849560895965; ibs=0.025956738478003925\n",
      "###Split 2/4!\n",
      "c_index_ipcw=0.7956342942320658; ibs=0.10834184536909236\n",
      "###Split 3/4!\n",
      "c_index_ipcw=0.8473753195867487; ibs=0.2459521972098365\n",
      "###Split 4/4!\n",
      "c_index_ipcw=0.8034326045325841; ibs=0.21478105537996478\n",
      "/home/nkuechen/Documents/Thesis/mlruns\n",
      "!! Creating new split...\n",
      "###Split 1/4!\n",
      "c_index_ipcw=0.8127253872764988; ibs=0.2678833143802045\n",
      "###Split 2/4!\n",
      "c_index_ipcw=0.9148678217913916; ibs=0.0602882596620518\n",
      "###Split 3/4!\n",
      "c_index_ipcw=0.9083794274634851; ibs=0.10581990484253673\n",
      "###Split 4/4!\n",
      "c_index_ipcw=0.8750725333087989; ibs=0.040638294817743705\n",
      "/home/nkuechen/Documents/Thesis/mlruns\n",
      "!! Creating new split...\n",
      "###Split 1/4!\n",
      "c_index_ipcw=0.9502583530778349; ibs=0.07111242010000798\n",
      "###Split 2/4!\n",
      "c_index_ipcw=0.876314571547436; ibs=0.3200686243497895\n",
      "###Split 3/4!\n",
      "c_index_ipcw=0.905840617396631; ibs=0.061999306038635814\n",
      "###Split 4/4!\n",
      "c_index_ipcw=0.9250249906016887; ibs=0.11397551809598892\n",
      "/home/nkuechen/Documents/Thesis/mlruns\n",
      "!! Creating new split...\n",
      "###Split 1/4!\n",
      "c_index_ipcw=0.9196441993607383; ibs=0.06386329779223392\n",
      "###Split 2/4!\n",
      "c_index_ipcw=0.9222613654567527; ibs=0.07901815244688576\n",
      "###Split 3/4!\n",
      "c_index_ipcw=0.8466839276835373; ibs=0.10023193339570967\n",
      "###Split 4/4!\n",
      "c_index_ipcw=0.9711102759252748; ibs=0.05137660689105042\n",
      "/home/nkuechen/Documents/Thesis/mlruns\n",
      "!! Creating new split...\n",
      "###Split 1/4!\n",
      "c_index_ipcw=0.8847142219059327; ibs=0.12767312776869508\n",
      "###Split 2/4!\n",
      "c_index_ipcw=0.8116804272699562; ibs=0.19786456954198184\n",
      "###Split 3/4!\n",
      "c_index_ipcw=0.9404452756631526; ibs=0.13539943108943586\n",
      "###Split 4/4!\n",
      "c_index_ipcw=0.9050923206994148; ibs=0.061957017065678625\n",
      "/home/nkuechen/Documents/Thesis/mlruns\n",
      "!! Creating new split...\n",
      "###Split 1/4!\n",
      "c_index_ipcw=0.9122173088443243; ibs=0.1072121525010163\n",
      "###Split 2/4!\n",
      "c_index_ipcw=0.6460019971769435; ibs=0.15428443983721304\n",
      "###Split 3/4!\n",
      "c_index_ipcw=0.8835266799342777; ibs=0.08067746130893882\n",
      "###Split 4/4!\n",
      "c_index_ipcw=0.8685206498374523; ibs=0.11758136968057938\n",
      "/home/nkuechen/Documents/Thesis/mlruns\n",
      "!! Creating new split...\n",
      "###Split 1/4!\n",
      "c_index_ipcw=0.6457176721943627; ibs=0.17154595678450246\n",
      "###Split 2/4!\n",
      "c_index_ipcw=0.8981711350043847; ibs=0.12218473080218553\n",
      "###Split 3/4!\n",
      "c_index_ipcw=0.8761188051194159; ibs=0.16092730049534654\n",
      "###Split 4/4!\n",
      "c_index_ipcw=0.9399899793832225; ibs=0.036318365816201695\n",
      "/home/nkuechen/Documents/Thesis/mlruns\n",
      "!! Creating new split...\n",
      "###Split 1/4!\n",
      "c_index_ipcw=0.935665686790877; ibs=0.12335129796187747\n",
      "###Split 2/4!\n",
      "c_index_ipcw=0.8300108235535849; ibs=0.15193780119487532\n",
      "###Split 3/4!\n",
      "c_index_ipcw=0.8914626011965627; ibs=0.07118263107413217\n",
      "###Split 4/4!\n",
      "c_index_ipcw=0.8275558785114381; ibs=0.17374003280615385\n",
      "/home/nkuechen/Documents/Thesis/mlruns\n",
      "!! Creating new split...\n",
      "###Split 1/4!\n",
      "c_index_ipcw=1.0; ibs=0.0062543782779784915\n",
      "###Split 2/4!\n",
      "c_index_ipcw=0.7475742067935458; ibs=0.2313640795501817\n",
      "###Split 3/4!\n",
      "c_index_ipcw=0.8084835965724207; ibs=0.17963163790776704\n",
      "###Split 4/4!\n",
      "c_index_ipcw=0.8484088957602817; ibs=0.07293814912250988\n",
      "/home/nkuechen/Documents/Thesis/mlruns\n",
      "!! Creating new split...\n",
      "###Split 1/4!\n",
      "c_index_ipcw=0.9292239278748352; ibs=0.10679257290631698\n",
      "###Split 2/4!\n",
      "c_index_ipcw=0.8212434705913553; ibs=0.13197996168926887\n",
      "###Split 3/4!\n",
      "c_index_ipcw=0.9038643066920372; ibs=0.10965589325658001\n",
      "###Split 4/4!\n",
      "c_index_ipcw=0.774568894598392; ibs=0.10534332500467086\n",
      "/home/nkuechen/Documents/Thesis/mlruns\n",
      "!! Creating new split...\n",
      "###Split 1/4!\n",
      "c_index_ipcw=0.902180118221294; ibs=0.12447588134120464\n",
      "###Split 2/4!\n",
      "c_index_ipcw=0.8458105912795911; ibs=0.10595702699050309\n",
      "###Split 3/4!\n",
      "c_index_ipcw=0.9101829077385352; ibs=0.1559836748942805\n",
      "###Split 4/4!\n",
      "c_index_ipcw=0.8461507823688392; ibs=0.21334414459907075\n",
      "/home/nkuechen/Documents/Thesis/mlruns\n",
      "!! Creating new split...\n",
      "###Split 1/4!\n",
      "c_index_ipcw=0.8387138308643863; ibs=0.10915927342326251\n",
      "###Split 2/4!\n",
      "c_index_ipcw=0.9119461418152828; ibs=0.060733291287492434\n",
      "###Split 3/4!\n",
      "c_index_ipcw=0.85856525160243; ibs=0.15472169683778467\n",
      "###Split 4/4!\n",
      "c_index_ipcw=0.9106050527102598; ibs=0.04386683894913175\n",
      "/home/nkuechen/Documents/Thesis/mlruns\n",
      "!! Creating new split...\n",
      "###Split 1/4!\n",
      "c_index_ipcw=0.7805938610888076; ibs=0.1777745696842216\n",
      "###Split 2/4!\n",
      "c_index_ipcw=0.8394613243061884; ibs=0.1577736313840787\n",
      "###Split 3/4!\n",
      "c_index_ipcw=0.7465189895934631; ibs=0.10079635862747795\n",
      "###Split 4/4!\n",
      "c_index_ipcw=0.8985347925348149; ibs=0.06024748288219276\n",
      "/home/nkuechen/Documents/Thesis/mlruns\n",
      "!! Creating new split...\n",
      "###Split 1/4!\n",
      "c_index_ipcw=0.8293834193161255; ibs=0.11554554604798875\n",
      "###Split 2/4!\n",
      "c_index_ipcw=0.8782086234029329; ibs=0.12975260023257992\n",
      "###Split 3/4!\n",
      "c_index_ipcw=0.9474078705341942; ibs=0.056175370795264426\n",
      "###Split 4/4!\n",
      "c_index_ipcw=0.7523146503136567; ibs=0.12707498896725092\n",
      "/home/nkuechen/Documents/Thesis/mlruns\n",
      "!! Creating new split...\n",
      "###Split 1/4!\n",
      "c_index_ipcw=0.8142258378573646; ibs=0.0912764599925784\n",
      "###Split 2/4!\n",
      "c_index_ipcw=0.854525476191644; ibs=0.08759102962552105\n",
      "###Split 3/4!\n",
      "c_index_ipcw=0.8889686767366158; ibs=0.15211164503314595\n",
      "###Split 4/4!\n",
      "c_index_ipcw=0.9360427871880228; ibs=0.07884558042029866\n",
      "/home/nkuechen/Documents/Thesis/mlruns\n",
      "!! Creating new split...\n",
      "###Split 1/4!\n",
      "c_index_ipcw=0.8380392543790158; ibs=0.07620943971776817\n",
      "###Split 2/4!\n",
      "c_index_ipcw=0.8991161884271167; ibs=0.0754897134953967\n",
      "###Split 3/4!\n",
      "c_index_ipcw=0.955224991160991; ibs=0.03987612806316716\n",
      "###Split 4/4!\n",
      "c_index_ipcw=0.8990149255187239; ibs=0.07194502464972174\n",
      "/home/nkuechen/Documents/Thesis/mlruns\n",
      "!! Creating new split...\n",
      "###Split 1/4!\n",
      "c_index_ipcw=0.9276853607174449; ibs=0.06664123480111538\n",
      "###Split 2/4!\n",
      "c_index_ipcw=0.9617296315725458; ibs=0.06878112363712519\n",
      "###Split 3/4!\n",
      "c_index_ipcw=0.9449408304736959; ibs=0.03975977651651538\n",
      "###Split 4/4!\n",
      "c_index_ipcw=0.8101485633505884; ibs=0.31204416688852593\n",
      "/home/nkuechen/Documents/Thesis/mlruns\n",
      "!! Creating new split...\n",
      "###Split 1/4!\n",
      "c_index_ipcw=0.8413428036172907; ibs=0.09437519924581864\n",
      "###Split 2/4!\n",
      "c_index_ipcw=0.884573005604403; ibs=0.123507609112724\n",
      "###Split 3/4!\n",
      "c_index_ipcw=0.9356941552282017; ibs=0.08767695378661652\n",
      "###Split 4/4!\n",
      "c_index_ipcw=0.8830173971663112; ibs=0.3413413024693888\n",
      "/home/nkuechen/Documents/Thesis/mlruns\n",
      "!! Creating new split...\n",
      "###Split 1/4!\n",
      "c_index_ipcw=0.9414252873563218; ibs=0.08036313720580292\n",
      "###Split 2/4!\n",
      "c_index_ipcw=0.8730462764244282; ibs=0.26499302239733824\n",
      "###Split 3/4!\n",
      "c_index_ipcw=0.9102610337242357; ibs=0.1348067548250703\n",
      "###Split 4/4!\n",
      "c_index_ipcw=0.9414444721934281; ibs=0.18681892562347635\n",
      "/home/nkuechen/Documents/Thesis/mlruns\n",
      "!! Creating new split...\n",
      "###Split 1/4!\n",
      "c_index_ipcw=0.9177276180225088; ibs=0.042830853177037144\n",
      "###Split 2/4!\n",
      "c_index_ipcw=0.9219232790043984; ibs=0.08073263522842959\n",
      "###Split 3/4!\n",
      "c_index_ipcw=0.8290911268840224; ibs=0.09727044942488923\n",
      "###Split 4/4!\n",
      "c_index_ipcw=0.931883021404784; ibs=0.0919348079179025\n",
      "/home/nkuechen/Documents/Thesis/mlruns\n",
      "!! Creating new split...\n",
      "###Split 1/4!\n",
      "c_index_ipcw=0.8367795014186371; ibs=0.09406694948656417\n",
      "###Split 2/4!\n",
      "c_index_ipcw=0.8589811566263001; ibs=0.10937014851943103\n",
      "###Split 3/4!\n",
      "c_index_ipcw=0.7984596822964539; ibs=0.15185341241975572\n",
      "###Split 4/4!\n",
      "c_index_ipcw=0.9331401115099408; ibs=0.0613428073671614\n",
      "/home/nkuechen/Documents/Thesis/mlruns\n",
      "!! Creating new split...\n",
      "###Split 1/4!\n",
      "c_index_ipcw=0.8592836041816361; ibs=0.14019884929226997\n",
      "###Split 2/4!\n",
      "c_index_ipcw=0.8466508227716442; ibs=0.08992868540088943\n",
      "###Split 3/4!\n",
      "c_index_ipcw=0.8528295385095248; ibs=0.1489475996182191\n",
      "###Split 4/4!\n",
      "c_index_ipcw=0.8655388896894443; ibs=0.09190379777711805\n",
      "/home/nkuechen/Documents/Thesis/mlruns\n",
      "!! Creating new split...\n",
      "###Split 1/4!\n",
      "c_index_ipcw=0.8844427426259448; ibs=0.22054395623279613\n",
      "###Split 2/4!\n",
      "c_index_ipcw=0.8544464654168707; ibs=0.07722994659217024\n",
      "###Split 3/4!\n",
      "c_index_ipcw=0.9211419492994825; ibs=0.13419316607143825\n",
      "###Split 4/4!\n",
      "c_index_ipcw=0.8066831689405882; ibs=0.21854821787464226\n",
      "/home/nkuechen/Documents/Thesis/mlruns\n",
      "!! Creating new split...\n",
      "###Split 1/4!\n",
      "c_index_ipcw=0.9287015804244254; ibs=0.044139636313069545\n",
      "###Split 2/4!\n",
      "c_index_ipcw=0.8134445236577885; ibs=0.1591411785239194\n",
      "###Split 3/4!\n",
      "c_index_ipcw=0.8510945950980041; ibs=0.054197088544807016\n",
      "###Split 4/4!\n",
      "c_index_ipcw=0.9050000335035132; ibs=0.059412800672237996\n",
      "/home/nkuechen/Documents/Thesis/mlruns\n",
      "!! Creating new split...\n",
      "###Split 1/4!\n",
      "c_index_ipcw=0.8992533150847847; ibs=0.07825759077945411\n",
      "###Split 2/4!\n",
      "c_index_ipcw=0.7238240496142617; ibs=0.1885648156728998\n",
      "###Split 3/4!\n",
      "c_index_ipcw=0.8246266472860551; ibs=0.10086222816300719\n",
      "###Split 4/4!\n",
      "c_index_ipcw=0.9278802067050678; ibs=0.049468316860172536\n",
      "/home/nkuechen/Documents/Thesis/mlruns\n",
      "!! Creating new split...\n",
      "###Split 1/4!\n",
      "c_index_ipcw=0.777376140208473; ibs=0.15840804437327027\n",
      "###Split 2/4!\n",
      "c_index_ipcw=0.9325457403114653; ibs=0.12271410728286453\n",
      "###Split 3/4!\n",
      "c_index_ipcw=0.9812480915481661; ibs=0.040344618742298645\n",
      "###Split 4/4!\n",
      "c_index_ipcw=0.8467716225144122; ibs=0.15068442877136343\n",
      "/home/nkuechen/Documents/Thesis/mlruns\n",
      "!! Creating new split...\n",
      "###Split 1/4!\n",
      "c_index_ipcw=0.917217805873596; ibs=0.06168438039872576\n",
      "###Split 2/4!\n",
      "c_index_ipcw=0.8490681456302955; ibs=0.3078649366502737\n",
      "###Split 3/4!\n",
      "c_index_ipcw=0.8403596587038595; ibs=0.04510823574569489\n",
      "###Split 4/4!\n",
      "c_index_ipcw=0.8526514462854438; ibs=0.2874863548317661\n",
      "/home/nkuechen/Documents/Thesis/mlruns\n",
      "!! Creating new split...\n",
      "###Split 1/4!\n",
      "c_index_ipcw=0.9259343062102711; ibs=0.07830415834348463\n",
      "###Split 2/4!\n",
      "c_index_ipcw=0.9293928995649081; ibs=0.03596370496883882\n",
      "###Split 3/4!\n",
      "c_index_ipcw=0.8945536239934956; ibs=0.11713474894768114\n",
      "###Split 4/4!\n",
      "c_index_ipcw=0.8057787187324971; ibs=0.15463662798791605\n",
      "/home/nkuechen/Documents/Thesis/mlruns\n",
      "!! Creating new split...\n",
      "###Split 1/4!\n",
      "c_index_ipcw=0.9226901683361743; ibs=0.06338698427584377\n",
      "###Split 2/4!\n",
      "c_index_ipcw=0.9197307300425968; ibs=0.08212009421221396\n",
      "###Split 3/4!\n",
      "c_index_ipcw=0.8699296130949885; ibs=0.1287483520332756\n",
      "###Split 4/4!\n",
      "c_index_ipcw=0.7593255242605248; ibs=0.20431313802161558\n",
      "/home/nkuechen/Documents/Thesis/mlruns\n",
      "!! Creating new split...\n",
      "###Split 1/4!\n",
      "c_index_ipcw=0.7704204308536807; ibs=0.26485805678658797\n",
      "###Split 2/4!\n",
      "c_index_ipcw=0.8493417931378332; ibs=0.1130129116966571\n",
      "###Split 3/4!\n",
      "c_index_ipcw=0.9567144043171439; ibs=0.03007804357112673\n",
      "###Split 4/4!\n",
      "c_index_ipcw=0.8627357021145091; ibs=0.1727378396673686\n",
      "/home/nkuechen/Documents/Thesis/mlruns\n",
      "!! Creating new split...\n",
      "###Split 1/4!\n",
      "c_index_ipcw=0.9019144505177553; ibs=0.2394642177204764\n",
      "###Split 2/4!\n",
      "c_index_ipcw=0.8327901425536532; ibs=0.20160582703507676\n",
      "###Split 3/4!\n",
      "c_index_ipcw=0.7762844403598129; ibs=0.06038647206075336\n",
      "###Split 4/4!\n",
      "c_index_ipcw=1.0; ibs=0.04738777105486721\n",
      "/home/nkuechen/Documents/Thesis/mlruns\n",
      "!! Creating new split...\n",
      "###Split 1/4!\n",
      "c_index_ipcw=0.9377083331726622; ibs=0.04221100026944373\n",
      "###Split 2/4!\n",
      "c_index_ipcw=0.7651816141764982; ibs=0.06301820207360052\n",
      "###Split 3/4!\n",
      "c_index_ipcw=0.9102002802179623; ibs=0.02830772256418335\n",
      "###Split 4/4!\n",
      "c_index_ipcw=0.8106195271361333; ibs=0.17684480495702856\n",
      "/home/nkuechen/Documents/Thesis/mlruns\n",
      "!! Creating new split...\n",
      "###Split 1/4!\n",
      "c_index_ipcw=0.7977446640963173; ibs=0.22522055576482317\n",
      "###Split 2/4!\n",
      "c_index_ipcw=0.9157282729909839; ibs=0.06606001165412191\n",
      "###Split 3/4!\n",
      "c_index_ipcw=0.9051249911243359; ibs=0.08185604032564318\n",
      "###Split 4/4!\n",
      "c_index_ipcw=0.908305069666732; ibs=0.09249101905147385\n",
      "/home/nkuechen/Documents/Thesis/mlruns\n",
      "!! Creating new split...\n",
      "###Split 1/4!\n",
      "c_index_ipcw=0.7620292376548359; ibs=0.09375511867274794\n",
      "###Split 2/4!\n",
      "c_index_ipcw=0.9594678005863057; ibs=0.03458984155613566\n",
      "###Split 3/4!\n",
      "c_index_ipcw=0.9359262707949156; ibs=0.1093527747535059\n",
      "###Split 4/4!\n",
      "c_index_ipcw=0.8517745412594727; ibs=0.3268292777376371\n",
      "/home/nkuechen/Documents/Thesis/mlruns\n",
      "!! Creating new split...\n",
      "###Split 1/4!\n",
      "c_index_ipcw=0.92581833833222; ibs=0.06788331392272608\n",
      "###Split 2/4!\n",
      "c_index_ipcw=0.8317289504408909; ibs=0.3454758229292141\n",
      "###Split 3/4!\n",
      "c_index_ipcw=0.8611525674277899; ibs=0.08714036691616277\n",
      "###Split 4/4!\n",
      "c_index_ipcw=0.8959978648091474; ibs=0.08670547637696989\n",
      "/home/nkuechen/Documents/Thesis/mlruns\n",
      "!! Creating new split...\n",
      "###Split 1/4!\n",
      "c_index_ipcw=0.8970108232391008; ibs=0.07525201728257545\n",
      "###Split 2/4!\n",
      "c_index_ipcw=0.8575748702029603; ibs=0.06277138084815145\n",
      "###Split 3/4!\n",
      "c_index_ipcw=0.8839573628916301; ibs=0.07873991271424788\n",
      "###Split 4/4!\n",
      "c_index_ipcw=0.9047927288913209; ibs=0.10087067745980875\n",
      "/home/nkuechen/Documents/Thesis/mlruns\n",
      "!! Creating new split...\n",
      "###Split 1/4!\n",
      "c_index_ipcw=0.8849187657766111; ibs=0.27178219706767953\n",
      "###Split 2/4!\n",
      "c_index_ipcw=0.950193769262528; ibs=0.06458251949309061\n",
      "###Split 3/4!\n",
      "c_index_ipcw=0.7982629030945687; ibs=0.03969523255313318\n",
      "###Split 4/4!\n",
      "c_index_ipcw=0.8288328493950492; ibs=0.12202834160735003\n",
      "/home/nkuechen/Documents/Thesis/mlruns\n",
      "!! Creating new split...\n",
      "###Split 1/4!\n",
      "c_index_ipcw=0.882667114730414; ibs=0.12628950422621246\n",
      "###Split 2/4!\n",
      "c_index_ipcw=0.8763080453318901; ibs=0.14120796149578924\n",
      "###Split 3/4!\n",
      "c_index_ipcw=0.8921949891051345; ibs=0.05461361273940187\n",
      "###Split 4/4!\n",
      "c_index_ipcw=0.740305282197581; ibs=0.30415651801286353\n",
      "/home/nkuechen/Documents/Thesis/mlruns\n",
      "!! Creating new split...\n",
      "###Split 1/4!\n",
      "c_index_ipcw=0.8159965175235623; ibs=0.2995610065649775\n",
      "###Split 2/4!\n",
      "c_index_ipcw=0.8605090476747682; ibs=0.07422971495713251\n",
      "###Split 3/4!\n",
      "c_index_ipcw=0.8993122866375219; ibs=0.15315555627678243\n",
      "###Split 4/4!\n",
      "c_index_ipcw=0.8852521957278806; ibs=0.1857536821659416\n",
      "/home/nkuechen/Documents/Thesis/mlruns\n",
      "!! Creating new split...\n",
      "###Split 1/4!\n",
      "c_index_ipcw=0.7703509055588743; ibs=0.16607166867981354\n",
      "###Split 2/4!\n",
      "c_index_ipcw=0.9350282452302355; ibs=0.08228521345452927\n",
      "###Split 3/4!\n",
      "c_index_ipcw=0.938660242499191; ibs=0.0765422953387051\n",
      "###Split 4/4!\n",
      "c_index_ipcw=0.9165224899168494; ibs=0.030804042487927074\n",
      "/home/nkuechen/Documents/Thesis/mlruns\n",
      "!! Creating new split...\n",
      "###Split 1/4!\n",
      "c_index_ipcw=0.693735444361365; ibs=0.12196773900516808\n",
      "###Split 2/4!\n",
      "c_index_ipcw=0.8695528258234505; ibs=0.10053911120888508\n",
      "###Split 3/4!\n",
      "c_index_ipcw=0.9616770287115094; ibs=0.033246198403971305\n",
      "###Split 4/4!\n",
      "c_index_ipcw=0.9115588646545925; ibs=0.1108001203861507\n",
      "/home/nkuechen/Documents/Thesis/mlruns\n",
      "!! Creating new split...\n",
      "###Split 1/4!\n",
      "c_index_ipcw=0.9017462618495871; ibs=0.1758275763822539\n",
      "###Split 2/4!\n",
      "c_index_ipcw=0.9202739645083973; ibs=0.18536008364175427\n",
      "###Split 3/4!\n",
      "c_index_ipcw=0.9835929829566905; ibs=0.0195972166421784\n",
      "###Split 4/4!\n",
      "c_index_ipcw=0.8955527152843584; ibs=0.10737855906345768\n",
      "/home/nkuechen/Documents/Thesis/mlruns\n",
      "!! Creating new split...\n",
      "###Split 1/4!\n",
      "c_index_ipcw=0.8910046427389366; ibs=0.07431331922905084\n",
      "###Split 2/4!\n",
      "c_index_ipcw=0.9053798673748987; ibs=0.13861904889340065\n",
      "###Split 3/4!\n",
      "c_index_ipcw=0.895259700884148; ibs=0.32170629979729\n",
      "###Split 4/4!\n",
      "c_index_ipcw=0.8653455495272626; ibs=0.07752676663095806\n",
      "/home/nkuechen/Documents/Thesis/mlruns\n",
      "!! Creating new split...\n",
      "###Split 1/4!\n",
      "c_index_ipcw=0.8844863946794491; ibs=0.12835125727884852\n",
      "###Split 2/4!\n",
      "c_index_ipcw=0.9390483179773965; ibs=0.07108558764759065\n",
      "###Split 3/4!\n",
      "c_index_ipcw=0.9326558491484316; ibs=0.08066162416025766\n",
      "###Split 4/4!\n",
      "c_index_ipcw=0.8765379895731491; ibs=0.10659107357111075\n",
      "/home/nkuechen/Documents/Thesis/mlruns\n",
      "!! Creating new split...\n",
      "###Split 1/4!\n",
      "c_index_ipcw=0.8816031128900462; ibs=0.08721373451380611\n",
      "###Split 2/4!\n",
      "c_index_ipcw=0.9199729255889486; ibs=0.062418677554722385\n",
      "###Split 3/4!\n",
      "c_index_ipcw=0.9222248498159785; ibs=0.06909953614980027\n",
      "###Split 4/4!\n",
      "c_index_ipcw=0.8344779338500515; ibs=0.21345852333523657\n",
      "/home/nkuechen/Documents/Thesis/mlruns\n",
      "!! Creating new split...\n",
      "###Split 1/4!\n",
      "c_index_ipcw=0.8753845452455749; ibs=0.037704095164853756\n",
      "###Split 2/4!\n",
      "c_index_ipcw=0.8376720454997902; ibs=0.14041179872712084\n",
      "###Split 3/4!\n",
      "c_index_ipcw=0.7775014365713888; ibs=0.17460823023122085\n",
      "###Split 4/4!\n",
      "c_index_ipcw=0.9187964438658986; ibs=0.086374356696507\n",
      "/home/nkuechen/Documents/Thesis/mlruns\n",
      "!! Creating new split...\n",
      "###Split 1/4!\n",
      "c_index_ipcw=0.8500409254955215; ibs=0.13966455667398586\n",
      "###Split 2/4!\n",
      "c_index_ipcw=0.8561764803779753; ibs=0.16959052491608465\n",
      "###Split 3/4!\n",
      "c_index_ipcw=0.8298832992044957; ibs=0.047875398747927594\n",
      "###Split 4/4!\n",
      "c_index_ipcw=0.9477751151359347; ibs=0.08567827753473256\n",
      "/home/nkuechen/Documents/Thesis/mlruns\n",
      "!! Creating new split...\n",
      "###Split 1/4!\n",
      "c_index_ipcw=0.8978602543716363; ibs=0.07764770682006553\n",
      "###Split 2/4!\n",
      "c_index_ipcw=0.7825623771255508; ibs=0.11398051826431303\n",
      "###Split 3/4!\n",
      "c_index_ipcw=0.8916972967457183; ibs=0.08571051669618976\n",
      "###Split 4/4!\n",
      "c_index_ipcw=1.0; ibs=0.014034557213948206\n",
      "/home/nkuechen/Documents/Thesis/mlruns\n",
      "!! Creating new split...\n",
      "###Split 1/4!\n",
      "c_index_ipcw=0.8900611927022345; ibs=0.11626795903980262\n",
      "###Split 2/4!\n",
      "c_index_ipcw=0.9306069062979876; ibs=0.0740119009187689\n",
      "###Split 3/4!\n",
      "c_index_ipcw=0.8808908452047578; ibs=0.12143165119408555\n",
      "###Split 4/4!\n",
      "c_index_ipcw=0.7107165225062877; ibs=0.10924372029790216\n",
      "/home/nkuechen/Documents/Thesis/mlruns\n",
      "!! Creating new split...\n",
      "###Split 1/4!\n",
      "c_index_ipcw=0.8143894179251242; ibs=0.14676851484511433\n",
      "###Split 2/4!\n",
      "c_index_ipcw=0.8726487495137517; ibs=0.2719698974164929\n",
      "###Split 3/4!\n",
      "c_index_ipcw=0.9281967506728113; ibs=0.21053099691976385\n",
      "###Split 4/4!\n",
      "c_index_ipcw=0.9556740218832982; ibs=0.044406848440650286\n",
      "/home/nkuechen/Documents/Thesis/mlruns\n",
      "!! Creating new split...\n",
      "###Split 1/4!\n",
      "c_index_ipcw=0.908142331383071; ibs=0.15844687136243293\n",
      "###Split 2/4!\n",
      "c_index_ipcw=0.8505315422509369; ibs=0.04716404823579398\n",
      "###Split 3/4!\n",
      "c_index_ipcw=0.8466047314109073; ibs=0.13938249833908456\n",
      "###Split 4/4!\n",
      "c_index_ipcw=0.8391323299191905; ibs=0.3654408829201241\n",
      "/home/nkuechen/Documents/Thesis/mlruns\n",
      "!! Creating new split...\n",
      "###Split 1/4!\n",
      "c_index_ipcw=0.9640189939335293; ibs=0.04247252852205334\n",
      "###Split 2/4!\n",
      "c_index_ipcw=0.9248470899607204; ibs=0.05599433440387376\n",
      "###Split 3/4!\n",
      "c_index_ipcw=0.8811785814629449; ibs=0.11080038854807624\n",
      "###Split 4/4!\n",
      "c_index_ipcw=0.814996726105469; ibs=0.09747105666044041\n",
      "/home/nkuechen/Documents/Thesis/mlruns\n",
      "!! Creating new split...\n",
      "###Split 1/4!\n",
      "c_index_ipcw=0.8258239413729207; ibs=0.0551434761349561\n",
      "###Split 2/4!\n",
      "c_index_ipcw=0.7760634376879025; ibs=0.14793996705408907\n",
      "###Split 3/4!\n",
      "c_index_ipcw=0.9846909785081112; ibs=0.02586229123340012\n",
      "###Split 4/4!\n",
      "c_index_ipcw=0.908262987297061; ibs=0.12316649837149535\n",
      "/home/nkuechen/Documents/Thesis/mlruns\n",
      "!! Creating new split...\n",
      "###Split 1/4!\n",
      "c_index_ipcw=0.7989284208374099; ibs=0.1678724581415122\n",
      "###Split 2/4!\n",
      "c_index_ipcw=0.849843740861826; ibs=0.14402786706360216\n",
      "###Split 3/4!\n",
      "c_index_ipcw=0.6651376146788991; ibs=0.14761059188938935\n",
      "###Split 4/4!\n",
      "c_index_ipcw=0.9385973111016592; ibs=0.14213695075240293\n",
      "/home/nkuechen/Documents/Thesis/mlruns\n",
      "!! Creating new split...\n",
      "###Split 1/4!\n",
      "c_index_ipcw=0.9049811045796398; ibs=0.10370931942737537\n",
      "###Split 2/4!\n",
      "c_index_ipcw=0.8327357336823432; ibs=0.25272701367794465\n",
      "###Split 3/4!\n",
      "c_index_ipcw=0.822120315806019; ibs=0.1628748636627741\n",
      "###Split 4/4!\n",
      "c_index_ipcw=0.8414727788603523; ibs=0.1336809872054614\n"
     ]
    }
   ],
   "source": [
    "best_params = {\n",
    "    \"CoxPHFitter\": {\n",
    "        \"max_noise\": 20,\n",
    "        \"add_noise\": True,\n",
    "        \"max_noise_temperature\": 5,\n",
    "        \"add_noise_temperature\": True,\n",
    "        \"random_max_time_warp_percent\": 1.0,\n",
    "        \"random_warp_status_times\": True,\n",
    "    },\n",
    "    \"RandomSurvivalForest\": {\n",
    "        \"max_noise\": 20,\n",
    "        \"add_noise\": True,\n",
    "        \"max_noise_temperature\": 0,\n",
    "        \"add_noise_temperature\": True,\n",
    "        \"random_max_time_warp_percent\": 1.0,\n",
    "        \"random_warp_status_times\": True,\n",
    "    },\n",
    "}\n",
    "\n",
    "for n_dev in [10, 20, 40]:\n",
    "    EXP_NAME = \"surv_best_n_aug\"\n",
    "    for i in range(5):\n",
    "        for model_class, train_df_params in best_params.items():\n",
    "            for n_aug in [1, 3, 5, 10]:\n",
    "                cross_validate_survival_model(\n",
    "                    raw_merged_df=df_raw_merged,\n",
    "                    model_class=model_class,\n",
    "                    n_dev=n_dev,\n",
    "                    n_aug=n_aug,\n",
    "                    train_df_params=train_df_params,\n",
    "                    all_device_uuids=all_device_uuids,\n",
    "                    by_metric=\"metrics.ibs\",\n",
    "                    mlflow_experiment=EXP_NAME,\n",
    "                )"
   ]
  },
  {
   "cell_type": "code",
   "execution_count": 38,
   "metadata": {},
   "outputs": [
    {
     "name": "stdout",
     "output_type": "stream",
     "text": [
      "/home/nkuechen/Documents/Thesis\n",
      "Experiment with ID 549101132328494905 has been exported as a CSV to file: code/thesis_code/data/aug_effect/surv_best_n_aug.csv.\n",
      "10\n"
     ]
    },
    {
     "data": {
      "application/vnd.plotly.v1+json": {
       "config": {
        "plotlyServerURL": "https://plot.ly"
       },
       "data": [
        {
         "alignmentgroup": "True",
         "hovertemplate": "params.model_class=RandomSurvivalForest<br>params.n_aug=%{x}<br>metrics.ibs=%{y}<extra></extra>",
         "legendgroup": "RandomSurvivalForest",
         "marker": {
          "color": "#636efa"
         },
         "name": "RandomSurvivalForest",
         "notched": false,
         "offsetgroup": "RandomSurvivalForest",
         "orientation": "v",
         "showlegend": true,
         "type": "box",
         "x": [
          10,
          5,
          3,
          1,
          10,
          5,
          3,
          1,
          10,
          5,
          3,
          1,
          10,
          5,
          3,
          1,
          10,
          5,
          3,
          1
         ],
         "x0": " ",
         "xaxis": "x",
         "y": [
          0.1632360678966749,
          0.1201775183808742,
          0.1070828409034219,
          0.0949415372594307,
          0.1515992482775412,
          0.1372332058723137,
          0.1114595511173142,
          0.1318152343095358,
          0.1789639288631813,
          0.1417585674991369,
          0.1325563961075138,
          0.1752870598790751,
          0.1234223470303461,
          0.1186154599671348,
          0.1367212739843091,
          0.1486058249974627,
          0.1602220008534381,
          0.1532485192858118,
          0.1370289102865535,
          0.1087430040512862
         ],
         "y0": " ",
         "yaxis": "y"
        },
        {
         "alignmentgroup": "True",
         "hovertemplate": "params.model_class=CoxPHFitter<br>params.n_aug=%{x}<br>metrics.ibs=%{y}<extra></extra>",
         "legendgroup": "CoxPHFitter",
         "marker": {
          "color": "#EF553B"
         },
         "name": "CoxPHFitter",
         "notched": false,
         "offsetgroup": "CoxPHFitter",
         "orientation": "v",
         "showlegend": true,
         "type": "box",
         "x": [
          10,
          5,
          3,
          1,
          10,
          5,
          3,
          1,
          10,
          5,
          3,
          1,
          10,
          5,
          3,
          1,
          10,
          5,
          3,
          1
         ],
         "x0": " ",
         "xaxis": "x",
         "y": [
          0.1385599433686683,
          0.0866418553205419,
          0.1266110756087216,
          0.1871227905732944,
          0.1320460259866626,
          0.1316842094496976,
          0.1458639151326356,
          0.1488858402675498,
          0.1404159490877379,
          0.128836803158937,
          0.1844134838796202,
          0.1233255903529012,
          0.1628221361908317,
          0.112605802013297,
          0.1273578312169854,
          0.0840498283254448,
          0.1369719695524634,
          0.1389290809408767,
          0.0895586406213935,
          0.0971651842892373
         ],
         "y0": " ",
         "yaxis": "y"
        }
       ],
       "layout": {
        "boxmode": "group",
        "height": 600,
        "legend": {
         "title": {
          "text": "params.model_class"
         },
         "tracegroupgap": 0
        },
        "template": {
         "data": {
          "bar": [
           {
            "error_x": {
             "color": "#2a3f5f"
            },
            "error_y": {
             "color": "#2a3f5f"
            },
            "marker": {
             "line": {
              "color": "#E5ECF6",
              "width": 0.5
             },
             "pattern": {
              "fillmode": "overlay",
              "size": 10,
              "solidity": 0.2
             }
            },
            "type": "bar"
           }
          ],
          "barpolar": [
           {
            "marker": {
             "line": {
              "color": "#E5ECF6",
              "width": 0.5
             },
             "pattern": {
              "fillmode": "overlay",
              "size": 10,
              "solidity": 0.2
             }
            },
            "type": "barpolar"
           }
          ],
          "carpet": [
           {
            "aaxis": {
             "endlinecolor": "#2a3f5f",
             "gridcolor": "white",
             "linecolor": "white",
             "minorgridcolor": "white",
             "startlinecolor": "#2a3f5f"
            },
            "baxis": {
             "endlinecolor": "#2a3f5f",
             "gridcolor": "white",
             "linecolor": "white",
             "minorgridcolor": "white",
             "startlinecolor": "#2a3f5f"
            },
            "type": "carpet"
           }
          ],
          "choropleth": [
           {
            "colorbar": {
             "outlinewidth": 0,
             "ticks": ""
            },
            "type": "choropleth"
           }
          ],
          "contour": [
           {
            "colorbar": {
             "outlinewidth": 0,
             "ticks": ""
            },
            "colorscale": [
             [
              0,
              "#0d0887"
             ],
             [
              0.1111111111111111,
              "#46039f"
             ],
             [
              0.2222222222222222,
              "#7201a8"
             ],
             [
              0.3333333333333333,
              "#9c179e"
             ],
             [
              0.4444444444444444,
              "#bd3786"
             ],
             [
              0.5555555555555556,
              "#d8576b"
             ],
             [
              0.6666666666666666,
              "#ed7953"
             ],
             [
              0.7777777777777778,
              "#fb9f3a"
             ],
             [
              0.8888888888888888,
              "#fdca26"
             ],
             [
              1,
              "#f0f921"
             ]
            ],
            "type": "contour"
           }
          ],
          "contourcarpet": [
           {
            "colorbar": {
             "outlinewidth": 0,
             "ticks": ""
            },
            "type": "contourcarpet"
           }
          ],
          "heatmap": [
           {
            "colorbar": {
             "outlinewidth": 0,
             "ticks": ""
            },
            "colorscale": [
             [
              0,
              "#0d0887"
             ],
             [
              0.1111111111111111,
              "#46039f"
             ],
             [
              0.2222222222222222,
              "#7201a8"
             ],
             [
              0.3333333333333333,
              "#9c179e"
             ],
             [
              0.4444444444444444,
              "#bd3786"
             ],
             [
              0.5555555555555556,
              "#d8576b"
             ],
             [
              0.6666666666666666,
              "#ed7953"
             ],
             [
              0.7777777777777778,
              "#fb9f3a"
             ],
             [
              0.8888888888888888,
              "#fdca26"
             ],
             [
              1,
              "#f0f921"
             ]
            ],
            "type": "heatmap"
           }
          ],
          "heatmapgl": [
           {
            "colorbar": {
             "outlinewidth": 0,
             "ticks": ""
            },
            "colorscale": [
             [
              0,
              "#0d0887"
             ],
             [
              0.1111111111111111,
              "#46039f"
             ],
             [
              0.2222222222222222,
              "#7201a8"
             ],
             [
              0.3333333333333333,
              "#9c179e"
             ],
             [
              0.4444444444444444,
              "#bd3786"
             ],
             [
              0.5555555555555556,
              "#d8576b"
             ],
             [
              0.6666666666666666,
              "#ed7953"
             ],
             [
              0.7777777777777778,
              "#fb9f3a"
             ],
             [
              0.8888888888888888,
              "#fdca26"
             ],
             [
              1,
              "#f0f921"
             ]
            ],
            "type": "heatmapgl"
           }
          ],
          "histogram": [
           {
            "marker": {
             "pattern": {
              "fillmode": "overlay",
              "size": 10,
              "solidity": 0.2
             }
            },
            "type": "histogram"
           }
          ],
          "histogram2d": [
           {
            "colorbar": {
             "outlinewidth": 0,
             "ticks": ""
            },
            "colorscale": [
             [
              0,
              "#0d0887"
             ],
             [
              0.1111111111111111,
              "#46039f"
             ],
             [
              0.2222222222222222,
              "#7201a8"
             ],
             [
              0.3333333333333333,
              "#9c179e"
             ],
             [
              0.4444444444444444,
              "#bd3786"
             ],
             [
              0.5555555555555556,
              "#d8576b"
             ],
             [
              0.6666666666666666,
              "#ed7953"
             ],
             [
              0.7777777777777778,
              "#fb9f3a"
             ],
             [
              0.8888888888888888,
              "#fdca26"
             ],
             [
              1,
              "#f0f921"
             ]
            ],
            "type": "histogram2d"
           }
          ],
          "histogram2dcontour": [
           {
            "colorbar": {
             "outlinewidth": 0,
             "ticks": ""
            },
            "colorscale": [
             [
              0,
              "#0d0887"
             ],
             [
              0.1111111111111111,
              "#46039f"
             ],
             [
              0.2222222222222222,
              "#7201a8"
             ],
             [
              0.3333333333333333,
              "#9c179e"
             ],
             [
              0.4444444444444444,
              "#bd3786"
             ],
             [
              0.5555555555555556,
              "#d8576b"
             ],
             [
              0.6666666666666666,
              "#ed7953"
             ],
             [
              0.7777777777777778,
              "#fb9f3a"
             ],
             [
              0.8888888888888888,
              "#fdca26"
             ],
             [
              1,
              "#f0f921"
             ]
            ],
            "type": "histogram2dcontour"
           }
          ],
          "mesh3d": [
           {
            "colorbar": {
             "outlinewidth": 0,
             "ticks": ""
            },
            "type": "mesh3d"
           }
          ],
          "parcoords": [
           {
            "line": {
             "colorbar": {
              "outlinewidth": 0,
              "ticks": ""
             }
            },
            "type": "parcoords"
           }
          ],
          "pie": [
           {
            "automargin": true,
            "type": "pie"
           }
          ],
          "scatter": [
           {
            "fillpattern": {
             "fillmode": "overlay",
             "size": 10,
             "solidity": 0.2
            },
            "type": "scatter"
           }
          ],
          "scatter3d": [
           {
            "line": {
             "colorbar": {
              "outlinewidth": 0,
              "ticks": ""
             }
            },
            "marker": {
             "colorbar": {
              "outlinewidth": 0,
              "ticks": ""
             }
            },
            "type": "scatter3d"
           }
          ],
          "scattercarpet": [
           {
            "marker": {
             "colorbar": {
              "outlinewidth": 0,
              "ticks": ""
             }
            },
            "type": "scattercarpet"
           }
          ],
          "scattergeo": [
           {
            "marker": {
             "colorbar": {
              "outlinewidth": 0,
              "ticks": ""
             }
            },
            "type": "scattergeo"
           }
          ],
          "scattergl": [
           {
            "marker": {
             "colorbar": {
              "outlinewidth": 0,
              "ticks": ""
             }
            },
            "type": "scattergl"
           }
          ],
          "scattermapbox": [
           {
            "marker": {
             "colorbar": {
              "outlinewidth": 0,
              "ticks": ""
             }
            },
            "type": "scattermapbox"
           }
          ],
          "scatterpolar": [
           {
            "marker": {
             "colorbar": {
              "outlinewidth": 0,
              "ticks": ""
             }
            },
            "type": "scatterpolar"
           }
          ],
          "scatterpolargl": [
           {
            "marker": {
             "colorbar": {
              "outlinewidth": 0,
              "ticks": ""
             }
            },
            "type": "scatterpolargl"
           }
          ],
          "scatterternary": [
           {
            "marker": {
             "colorbar": {
              "outlinewidth": 0,
              "ticks": ""
             }
            },
            "type": "scatterternary"
           }
          ],
          "surface": [
           {
            "colorbar": {
             "outlinewidth": 0,
             "ticks": ""
            },
            "colorscale": [
             [
              0,
              "#0d0887"
             ],
             [
              0.1111111111111111,
              "#46039f"
             ],
             [
              0.2222222222222222,
              "#7201a8"
             ],
             [
              0.3333333333333333,
              "#9c179e"
             ],
             [
              0.4444444444444444,
              "#bd3786"
             ],
             [
              0.5555555555555556,
              "#d8576b"
             ],
             [
              0.6666666666666666,
              "#ed7953"
             ],
             [
              0.7777777777777778,
              "#fb9f3a"
             ],
             [
              0.8888888888888888,
              "#fdca26"
             ],
             [
              1,
              "#f0f921"
             ]
            ],
            "type": "surface"
           }
          ],
          "table": [
           {
            "cells": {
             "fill": {
              "color": "#EBF0F8"
             },
             "line": {
              "color": "white"
             }
            },
            "header": {
             "fill": {
              "color": "#C8D4E3"
             },
             "line": {
              "color": "white"
             }
            },
            "type": "table"
           }
          ]
         },
         "layout": {
          "annotationdefaults": {
           "arrowcolor": "#2a3f5f",
           "arrowhead": 0,
           "arrowwidth": 1
          },
          "autotypenumbers": "strict",
          "coloraxis": {
           "colorbar": {
            "outlinewidth": 0,
            "ticks": ""
           }
          },
          "colorscale": {
           "diverging": [
            [
             0,
             "#8e0152"
            ],
            [
             0.1,
             "#c51b7d"
            ],
            [
             0.2,
             "#de77ae"
            ],
            [
             0.3,
             "#f1b6da"
            ],
            [
             0.4,
             "#fde0ef"
            ],
            [
             0.5,
             "#f7f7f7"
            ],
            [
             0.6,
             "#e6f5d0"
            ],
            [
             0.7,
             "#b8e186"
            ],
            [
             0.8,
             "#7fbc41"
            ],
            [
             0.9,
             "#4d9221"
            ],
            [
             1,
             "#276419"
            ]
           ],
           "sequential": [
            [
             0,
             "#0d0887"
            ],
            [
             0.1111111111111111,
             "#46039f"
            ],
            [
             0.2222222222222222,
             "#7201a8"
            ],
            [
             0.3333333333333333,
             "#9c179e"
            ],
            [
             0.4444444444444444,
             "#bd3786"
            ],
            [
             0.5555555555555556,
             "#d8576b"
            ],
            [
             0.6666666666666666,
             "#ed7953"
            ],
            [
             0.7777777777777778,
             "#fb9f3a"
            ],
            [
             0.8888888888888888,
             "#fdca26"
            ],
            [
             1,
             "#f0f921"
            ]
           ],
           "sequentialminus": [
            [
             0,
             "#0d0887"
            ],
            [
             0.1111111111111111,
             "#46039f"
            ],
            [
             0.2222222222222222,
             "#7201a8"
            ],
            [
             0.3333333333333333,
             "#9c179e"
            ],
            [
             0.4444444444444444,
             "#bd3786"
            ],
            [
             0.5555555555555556,
             "#d8576b"
            ],
            [
             0.6666666666666666,
             "#ed7953"
            ],
            [
             0.7777777777777778,
             "#fb9f3a"
            ],
            [
             0.8888888888888888,
             "#fdca26"
            ],
            [
             1,
             "#f0f921"
            ]
           ]
          },
          "colorway": [
           "#636efa",
           "#EF553B",
           "#00cc96",
           "#ab63fa",
           "#FFA15A",
           "#19d3f3",
           "#FF6692",
           "#B6E880",
           "#FF97FF",
           "#FECB52"
          ],
          "font": {
           "color": "#2a3f5f"
          },
          "geo": {
           "bgcolor": "white",
           "lakecolor": "white",
           "landcolor": "#E5ECF6",
           "showlakes": true,
           "showland": true,
           "subunitcolor": "white"
          },
          "hoverlabel": {
           "align": "left"
          },
          "hovermode": "closest",
          "mapbox": {
           "style": "light"
          },
          "paper_bgcolor": "white",
          "plot_bgcolor": "#E5ECF6",
          "polar": {
           "angularaxis": {
            "gridcolor": "white",
            "linecolor": "white",
            "ticks": ""
           },
           "bgcolor": "#E5ECF6",
           "radialaxis": {
            "gridcolor": "white",
            "linecolor": "white",
            "ticks": ""
           }
          },
          "scene": {
           "xaxis": {
            "backgroundcolor": "#E5ECF6",
            "gridcolor": "white",
            "gridwidth": 2,
            "linecolor": "white",
            "showbackground": true,
            "ticks": "",
            "zerolinecolor": "white"
           },
           "yaxis": {
            "backgroundcolor": "#E5ECF6",
            "gridcolor": "white",
            "gridwidth": 2,
            "linecolor": "white",
            "showbackground": true,
            "ticks": "",
            "zerolinecolor": "white"
           },
           "zaxis": {
            "backgroundcolor": "#E5ECF6",
            "gridcolor": "white",
            "gridwidth": 2,
            "linecolor": "white",
            "showbackground": true,
            "ticks": "",
            "zerolinecolor": "white"
           }
          },
          "shapedefaults": {
           "line": {
            "color": "#2a3f5f"
           }
          },
          "ternary": {
           "aaxis": {
            "gridcolor": "white",
            "linecolor": "white",
            "ticks": ""
           },
           "baxis": {
            "gridcolor": "white",
            "linecolor": "white",
            "ticks": ""
           },
           "bgcolor": "#E5ECF6",
           "caxis": {
            "gridcolor": "white",
            "linecolor": "white",
            "ticks": ""
           }
          },
          "title": {
           "x": 0.05
          },
          "xaxis": {
           "automargin": true,
           "gridcolor": "white",
           "linecolor": "white",
           "ticks": "",
           "title": {
            "standoff": 15
           },
           "zerolinecolor": "white",
           "zerolinewidth": 2
          },
          "yaxis": {
           "automargin": true,
           "gridcolor": "white",
           "linecolor": "white",
           "ticks": "",
           "title": {
            "standoff": 15
           },
           "zerolinecolor": "white",
           "zerolinewidth": 2
          }
         }
        },
        "title": {
         "text": "Einfluss des Augmentationsanteils auf den metrics.ibs (10 Trainingsgeräte)."
        },
        "width": 1000,
        "xaxis": {
         "anchor": "y",
         "domain": [
          0,
          1
         ],
         "title": {
          "text": "params.n_aug"
         }
        },
        "yaxis": {
         "anchor": "x",
         "domain": [
          0,
          1
         ],
         "title": {
          "text": "metrics.ibs"
         }
        }
       }
      }
     },
     "metadata": {},
     "output_type": "display_data"
    },
    {
     "name": "stdout",
     "output_type": "stream",
     "text": [
      "{'CoxPHFitter': {1: 0.1233255903529012, 3: 0.1273578312169854, 5: 0.128836803158937, 10: 0.1385599433686683}, 'RandomSurvivalForest': {1: 0.1318152343095358, 3: 0.1325563961075138, 5: 0.1372332058723137, 10: 0.1602220008534381}}\n",
      "                        1     3     5     10\n",
      "CoxPHFitter          0.123 0.127 0.129 0.139\n",
      "RandomSurvivalForest 0.132 0.133 0.137 0.160\n",
      "20\n"
     ]
    },
    {
     "data": {
      "application/vnd.plotly.v1+json": {
       "config": {
        "plotlyServerURL": "https://plot.ly"
       },
       "data": [
        {
         "alignmentgroup": "True",
         "hovertemplate": "params.model_class=RandomSurvivalForest<br>params.n_aug=%{x}<br>metrics.ibs=%{y}<extra></extra>",
         "legendgroup": "RandomSurvivalForest",
         "marker": {
          "color": "#636efa"
         },
         "name": "RandomSurvivalForest",
         "notched": false,
         "offsetgroup": "RandomSurvivalForest",
         "orientation": "v",
         "showlegend": true,
         "type": "box",
         "x": [
          10,
          5,
          3,
          1,
          10,
          5,
          3,
          1,
          10,
          5,
          3,
          1,
          10,
          5,
          3,
          1,
          10,
          5,
          3,
          1
         ],
         "x0": " ",
         "xaxis": "x",
         "y": [
          0.102456178767886,
          0.107137126510771,
          0.1241480106444927,
          0.0921202751244178,
          0.122744088474559,
          0.1149388558319368,
          0.1307235363664478,
          0.0736224976314699,
          0.1434002753817803,
          0.1417165790800297,
          0.1187523344824649,
          0.0915160418525715,
          0.1257929519488563,
          0.1065655606412734,
          0.1074535177114637,
          0.1289840359916374,
          0.1195306829267475,
          0.1467494063404429,
          0.1180127819159069,
          0.0981795608226834
         ],
         "y0": " ",
         "yaxis": "y"
        },
        {
         "alignmentgroup": "True",
         "hovertemplate": "params.model_class=CoxPHFitter<br>params.n_aug=%{x}<br>metrics.ibs=%{y}<extra></extra>",
         "legendgroup": "CoxPHFitter",
         "marker": {
          "color": "#EF553B"
         },
         "name": "CoxPHFitter",
         "notched": false,
         "offsetgroup": "CoxPHFitter",
         "orientation": "v",
         "showlegend": true,
         "type": "box",
         "x": [
          10,
          5,
          3,
          1,
          10,
          5,
          3,
          1,
          10,
          5,
          3,
          1,
          10,
          5,
          3,
          1,
          10,
          5,
          3,
          1
         ],
         "x0": " ",
         "xaxis": "x",
         "y": [
          0.1499401819562647,
          0.1134429382142091,
          0.1225470612146092,
          0.1300529407592597,
          0.1417889671461055,
          0.1186574434256342,
          0.1487579591092244,
          0.089261049140788,
          0.1368289753482427,
          0.0813976373367796,
          0.082810896637884,
          0.1003221002023705,
          0.1504682338224171,
          0.1364637982203366,
          0.1187229034393419,
          0.120829903942142,
          0.135100764540117,
          0.1111871909145768,
          0.0727056466839909,
          0.0927493114680779
         ],
         "y0": " ",
         "yaxis": "y"
        }
       ],
       "layout": {
        "boxmode": "group",
        "height": 600,
        "legend": {
         "title": {
          "text": "params.model_class"
         },
         "tracegroupgap": 0
        },
        "template": {
         "data": {
          "bar": [
           {
            "error_x": {
             "color": "#2a3f5f"
            },
            "error_y": {
             "color": "#2a3f5f"
            },
            "marker": {
             "line": {
              "color": "#E5ECF6",
              "width": 0.5
             },
             "pattern": {
              "fillmode": "overlay",
              "size": 10,
              "solidity": 0.2
             }
            },
            "type": "bar"
           }
          ],
          "barpolar": [
           {
            "marker": {
             "line": {
              "color": "#E5ECF6",
              "width": 0.5
             },
             "pattern": {
              "fillmode": "overlay",
              "size": 10,
              "solidity": 0.2
             }
            },
            "type": "barpolar"
           }
          ],
          "carpet": [
           {
            "aaxis": {
             "endlinecolor": "#2a3f5f",
             "gridcolor": "white",
             "linecolor": "white",
             "minorgridcolor": "white",
             "startlinecolor": "#2a3f5f"
            },
            "baxis": {
             "endlinecolor": "#2a3f5f",
             "gridcolor": "white",
             "linecolor": "white",
             "minorgridcolor": "white",
             "startlinecolor": "#2a3f5f"
            },
            "type": "carpet"
           }
          ],
          "choropleth": [
           {
            "colorbar": {
             "outlinewidth": 0,
             "ticks": ""
            },
            "type": "choropleth"
           }
          ],
          "contour": [
           {
            "colorbar": {
             "outlinewidth": 0,
             "ticks": ""
            },
            "colorscale": [
             [
              0,
              "#0d0887"
             ],
             [
              0.1111111111111111,
              "#46039f"
             ],
             [
              0.2222222222222222,
              "#7201a8"
             ],
             [
              0.3333333333333333,
              "#9c179e"
             ],
             [
              0.4444444444444444,
              "#bd3786"
             ],
             [
              0.5555555555555556,
              "#d8576b"
             ],
             [
              0.6666666666666666,
              "#ed7953"
             ],
             [
              0.7777777777777778,
              "#fb9f3a"
             ],
             [
              0.8888888888888888,
              "#fdca26"
             ],
             [
              1,
              "#f0f921"
             ]
            ],
            "type": "contour"
           }
          ],
          "contourcarpet": [
           {
            "colorbar": {
             "outlinewidth": 0,
             "ticks": ""
            },
            "type": "contourcarpet"
           }
          ],
          "heatmap": [
           {
            "colorbar": {
             "outlinewidth": 0,
             "ticks": ""
            },
            "colorscale": [
             [
              0,
              "#0d0887"
             ],
             [
              0.1111111111111111,
              "#46039f"
             ],
             [
              0.2222222222222222,
              "#7201a8"
             ],
             [
              0.3333333333333333,
              "#9c179e"
             ],
             [
              0.4444444444444444,
              "#bd3786"
             ],
             [
              0.5555555555555556,
              "#d8576b"
             ],
             [
              0.6666666666666666,
              "#ed7953"
             ],
             [
              0.7777777777777778,
              "#fb9f3a"
             ],
             [
              0.8888888888888888,
              "#fdca26"
             ],
             [
              1,
              "#f0f921"
             ]
            ],
            "type": "heatmap"
           }
          ],
          "heatmapgl": [
           {
            "colorbar": {
             "outlinewidth": 0,
             "ticks": ""
            },
            "colorscale": [
             [
              0,
              "#0d0887"
             ],
             [
              0.1111111111111111,
              "#46039f"
             ],
             [
              0.2222222222222222,
              "#7201a8"
             ],
             [
              0.3333333333333333,
              "#9c179e"
             ],
             [
              0.4444444444444444,
              "#bd3786"
             ],
             [
              0.5555555555555556,
              "#d8576b"
             ],
             [
              0.6666666666666666,
              "#ed7953"
             ],
             [
              0.7777777777777778,
              "#fb9f3a"
             ],
             [
              0.8888888888888888,
              "#fdca26"
             ],
             [
              1,
              "#f0f921"
             ]
            ],
            "type": "heatmapgl"
           }
          ],
          "histogram": [
           {
            "marker": {
             "pattern": {
              "fillmode": "overlay",
              "size": 10,
              "solidity": 0.2
             }
            },
            "type": "histogram"
           }
          ],
          "histogram2d": [
           {
            "colorbar": {
             "outlinewidth": 0,
             "ticks": ""
            },
            "colorscale": [
             [
              0,
              "#0d0887"
             ],
             [
              0.1111111111111111,
              "#46039f"
             ],
             [
              0.2222222222222222,
              "#7201a8"
             ],
             [
              0.3333333333333333,
              "#9c179e"
             ],
             [
              0.4444444444444444,
              "#bd3786"
             ],
             [
              0.5555555555555556,
              "#d8576b"
             ],
             [
              0.6666666666666666,
              "#ed7953"
             ],
             [
              0.7777777777777778,
              "#fb9f3a"
             ],
             [
              0.8888888888888888,
              "#fdca26"
             ],
             [
              1,
              "#f0f921"
             ]
            ],
            "type": "histogram2d"
           }
          ],
          "histogram2dcontour": [
           {
            "colorbar": {
             "outlinewidth": 0,
             "ticks": ""
            },
            "colorscale": [
             [
              0,
              "#0d0887"
             ],
             [
              0.1111111111111111,
              "#46039f"
             ],
             [
              0.2222222222222222,
              "#7201a8"
             ],
             [
              0.3333333333333333,
              "#9c179e"
             ],
             [
              0.4444444444444444,
              "#bd3786"
             ],
             [
              0.5555555555555556,
              "#d8576b"
             ],
             [
              0.6666666666666666,
              "#ed7953"
             ],
             [
              0.7777777777777778,
              "#fb9f3a"
             ],
             [
              0.8888888888888888,
              "#fdca26"
             ],
             [
              1,
              "#f0f921"
             ]
            ],
            "type": "histogram2dcontour"
           }
          ],
          "mesh3d": [
           {
            "colorbar": {
             "outlinewidth": 0,
             "ticks": ""
            },
            "type": "mesh3d"
           }
          ],
          "parcoords": [
           {
            "line": {
             "colorbar": {
              "outlinewidth": 0,
              "ticks": ""
             }
            },
            "type": "parcoords"
           }
          ],
          "pie": [
           {
            "automargin": true,
            "type": "pie"
           }
          ],
          "scatter": [
           {
            "fillpattern": {
             "fillmode": "overlay",
             "size": 10,
             "solidity": 0.2
            },
            "type": "scatter"
           }
          ],
          "scatter3d": [
           {
            "line": {
             "colorbar": {
              "outlinewidth": 0,
              "ticks": ""
             }
            },
            "marker": {
             "colorbar": {
              "outlinewidth": 0,
              "ticks": ""
             }
            },
            "type": "scatter3d"
           }
          ],
          "scattercarpet": [
           {
            "marker": {
             "colorbar": {
              "outlinewidth": 0,
              "ticks": ""
             }
            },
            "type": "scattercarpet"
           }
          ],
          "scattergeo": [
           {
            "marker": {
             "colorbar": {
              "outlinewidth": 0,
              "ticks": ""
             }
            },
            "type": "scattergeo"
           }
          ],
          "scattergl": [
           {
            "marker": {
             "colorbar": {
              "outlinewidth": 0,
              "ticks": ""
             }
            },
            "type": "scattergl"
           }
          ],
          "scattermapbox": [
           {
            "marker": {
             "colorbar": {
              "outlinewidth": 0,
              "ticks": ""
             }
            },
            "type": "scattermapbox"
           }
          ],
          "scatterpolar": [
           {
            "marker": {
             "colorbar": {
              "outlinewidth": 0,
              "ticks": ""
             }
            },
            "type": "scatterpolar"
           }
          ],
          "scatterpolargl": [
           {
            "marker": {
             "colorbar": {
              "outlinewidth": 0,
              "ticks": ""
             }
            },
            "type": "scatterpolargl"
           }
          ],
          "scatterternary": [
           {
            "marker": {
             "colorbar": {
              "outlinewidth": 0,
              "ticks": ""
             }
            },
            "type": "scatterternary"
           }
          ],
          "surface": [
           {
            "colorbar": {
             "outlinewidth": 0,
             "ticks": ""
            },
            "colorscale": [
             [
              0,
              "#0d0887"
             ],
             [
              0.1111111111111111,
              "#46039f"
             ],
             [
              0.2222222222222222,
              "#7201a8"
             ],
             [
              0.3333333333333333,
              "#9c179e"
             ],
             [
              0.4444444444444444,
              "#bd3786"
             ],
             [
              0.5555555555555556,
              "#d8576b"
             ],
             [
              0.6666666666666666,
              "#ed7953"
             ],
             [
              0.7777777777777778,
              "#fb9f3a"
             ],
             [
              0.8888888888888888,
              "#fdca26"
             ],
             [
              1,
              "#f0f921"
             ]
            ],
            "type": "surface"
           }
          ],
          "table": [
           {
            "cells": {
             "fill": {
              "color": "#EBF0F8"
             },
             "line": {
              "color": "white"
             }
            },
            "header": {
             "fill": {
              "color": "#C8D4E3"
             },
             "line": {
              "color": "white"
             }
            },
            "type": "table"
           }
          ]
         },
         "layout": {
          "annotationdefaults": {
           "arrowcolor": "#2a3f5f",
           "arrowhead": 0,
           "arrowwidth": 1
          },
          "autotypenumbers": "strict",
          "coloraxis": {
           "colorbar": {
            "outlinewidth": 0,
            "ticks": ""
           }
          },
          "colorscale": {
           "diverging": [
            [
             0,
             "#8e0152"
            ],
            [
             0.1,
             "#c51b7d"
            ],
            [
             0.2,
             "#de77ae"
            ],
            [
             0.3,
             "#f1b6da"
            ],
            [
             0.4,
             "#fde0ef"
            ],
            [
             0.5,
             "#f7f7f7"
            ],
            [
             0.6,
             "#e6f5d0"
            ],
            [
             0.7,
             "#b8e186"
            ],
            [
             0.8,
             "#7fbc41"
            ],
            [
             0.9,
             "#4d9221"
            ],
            [
             1,
             "#276419"
            ]
           ],
           "sequential": [
            [
             0,
             "#0d0887"
            ],
            [
             0.1111111111111111,
             "#46039f"
            ],
            [
             0.2222222222222222,
             "#7201a8"
            ],
            [
             0.3333333333333333,
             "#9c179e"
            ],
            [
             0.4444444444444444,
             "#bd3786"
            ],
            [
             0.5555555555555556,
             "#d8576b"
            ],
            [
             0.6666666666666666,
             "#ed7953"
            ],
            [
             0.7777777777777778,
             "#fb9f3a"
            ],
            [
             0.8888888888888888,
             "#fdca26"
            ],
            [
             1,
             "#f0f921"
            ]
           ],
           "sequentialminus": [
            [
             0,
             "#0d0887"
            ],
            [
             0.1111111111111111,
             "#46039f"
            ],
            [
             0.2222222222222222,
             "#7201a8"
            ],
            [
             0.3333333333333333,
             "#9c179e"
            ],
            [
             0.4444444444444444,
             "#bd3786"
            ],
            [
             0.5555555555555556,
             "#d8576b"
            ],
            [
             0.6666666666666666,
             "#ed7953"
            ],
            [
             0.7777777777777778,
             "#fb9f3a"
            ],
            [
             0.8888888888888888,
             "#fdca26"
            ],
            [
             1,
             "#f0f921"
            ]
           ]
          },
          "colorway": [
           "#636efa",
           "#EF553B",
           "#00cc96",
           "#ab63fa",
           "#FFA15A",
           "#19d3f3",
           "#FF6692",
           "#B6E880",
           "#FF97FF",
           "#FECB52"
          ],
          "font": {
           "color": "#2a3f5f"
          },
          "geo": {
           "bgcolor": "white",
           "lakecolor": "white",
           "landcolor": "#E5ECF6",
           "showlakes": true,
           "showland": true,
           "subunitcolor": "white"
          },
          "hoverlabel": {
           "align": "left"
          },
          "hovermode": "closest",
          "mapbox": {
           "style": "light"
          },
          "paper_bgcolor": "white",
          "plot_bgcolor": "#E5ECF6",
          "polar": {
           "angularaxis": {
            "gridcolor": "white",
            "linecolor": "white",
            "ticks": ""
           },
           "bgcolor": "#E5ECF6",
           "radialaxis": {
            "gridcolor": "white",
            "linecolor": "white",
            "ticks": ""
           }
          },
          "scene": {
           "xaxis": {
            "backgroundcolor": "#E5ECF6",
            "gridcolor": "white",
            "gridwidth": 2,
            "linecolor": "white",
            "showbackground": true,
            "ticks": "",
            "zerolinecolor": "white"
           },
           "yaxis": {
            "backgroundcolor": "#E5ECF6",
            "gridcolor": "white",
            "gridwidth": 2,
            "linecolor": "white",
            "showbackground": true,
            "ticks": "",
            "zerolinecolor": "white"
           },
           "zaxis": {
            "backgroundcolor": "#E5ECF6",
            "gridcolor": "white",
            "gridwidth": 2,
            "linecolor": "white",
            "showbackground": true,
            "ticks": "",
            "zerolinecolor": "white"
           }
          },
          "shapedefaults": {
           "line": {
            "color": "#2a3f5f"
           }
          },
          "ternary": {
           "aaxis": {
            "gridcolor": "white",
            "linecolor": "white",
            "ticks": ""
           },
           "baxis": {
            "gridcolor": "white",
            "linecolor": "white",
            "ticks": ""
           },
           "bgcolor": "#E5ECF6",
           "caxis": {
            "gridcolor": "white",
            "linecolor": "white",
            "ticks": ""
           }
          },
          "title": {
           "x": 0.05
          },
          "xaxis": {
           "automargin": true,
           "gridcolor": "white",
           "linecolor": "white",
           "ticks": "",
           "title": {
            "standoff": 15
           },
           "zerolinecolor": "white",
           "zerolinewidth": 2
          },
          "yaxis": {
           "automargin": true,
           "gridcolor": "white",
           "linecolor": "white",
           "ticks": "",
           "title": {
            "standoff": 15
           },
           "zerolinecolor": "white",
           "zerolinewidth": 2
          }
         }
        },
        "title": {
         "text": "Einfluss des Augmentationsanteils auf den metrics.ibs (20 Trainingsgeräte)."
        },
        "width": 1000,
        "xaxis": {
         "anchor": "y",
         "domain": [
          0,
          1
         ],
         "title": {
          "text": "params.n_aug"
         }
        },
        "yaxis": {
         "anchor": "x",
         "domain": [
          0,
          1
         ],
         "title": {
          "text": "metrics.ibs"
         }
        }
       }
      }
     },
     "metadata": {},
     "output_type": "display_data"
    },
    {
     "name": "stdout",
     "output_type": "stream",
     "text": [
      "{'CoxPHFitter': {1: 0.1003221002023705, 3: 0.1187229034393419, 5: 0.1134429382142091, 10: 0.1417889671461055}, 'RandomSurvivalForest': {1: 0.0921202751244178, 3: 0.1187523344824649, 5: 0.1149388558319368, 10: 0.122744088474559}}\n",
      "                        1     3     5     10\n",
      "CoxPHFitter          0.100 0.119 0.113 0.142\n",
      "RandomSurvivalForest 0.092 0.119 0.115 0.123\n",
      "40\n"
     ]
    },
    {
     "data": {
      "application/vnd.plotly.v1+json": {
       "config": {
        "plotlyServerURL": "https://plot.ly"
       },
       "data": [
        {
         "alignmentgroup": "True",
         "hovertemplate": "params.model_class=RandomSurvivalForest<br>params.n_aug=%{x}<br>metrics.ibs=%{y}<extra></extra>",
         "legendgroup": "RandomSurvivalForest",
         "marker": {
          "color": "#636efa"
         },
         "name": "RandomSurvivalForest",
         "notched": false,
         "offsetgroup": "RandomSurvivalForest",
         "orientation": "v",
         "showlegend": true,
         "type": "box",
         "x": [
          10,
          5,
          3,
          1,
          10,
          5,
          3,
          1,
          10,
          5,
          3,
          1,
          10,
          5,
          3,
          1,
          10,
          5,
          3,
          1
         ],
         "x0": " ",
         "xaxis": "x",
         "y": [
          0.1632480459933888,
          0.1504119669617266,
          0.0880280581984851,
          0.0766845770336109,
          0.1107021894681826,
          0.1097746202049256,
          0.1080476178883913,
          0.0966723856644519,
          0.1781749899912085,
          0.1565668991185667,
          0.1245220726803133,
          0.0794084970761958,
          0.1372110719677934,
          0.1451717129304351,
          0.1196421421357372,
          0.0965098100619801,
          0.1626288216927617,
          0.1177447330221241,
          0.104158329448228,
          0.0781921864370646
         ],
         "y0": " ",
         "yaxis": "y"
        },
        {
         "alignmentgroup": "True",
         "hovertemplate": "params.model_class=CoxPHFitter<br>params.n_aug=%{x}<br>metrics.ibs=%{y}<extra></extra>",
         "legendgroup": "CoxPHFitter",
         "marker": {
          "color": "#EF553B"
         },
         "name": "CoxPHFitter",
         "notched": false,
         "offsetgroup": "CoxPHFitter",
         "orientation": "v",
         "showlegend": true,
         "type": "box",
         "x": [
          10,
          5,
          3,
          1,
          10,
          5,
          3,
          1,
          10,
          5,
          3,
          1,
          10,
          5,
          3,
          1,
          10,
          5,
          3,
          1
         ],
         "x0": " ",
         "xaxis": "x",
         "y": [
          0.1776085752143589,
          0.1684190644055053,
          0.1052388078626398,
          0.0728433247486291,
          0.1530413586376748,
          0.122040858932411,
          0.0916382922510437,
          0.0889258049902437,
          0.1468012450362682,
          0.1411317531800066,
          0.1164069066990155,
          0.077595432466064,
          0.1755359769066151,
          0.1180377997924492,
          0.1042882378688834,
          0.0792226760135084,
          0.1667454600129219,
          0.1617252661536369,
          0.1218065754608204,
          0.0658800764815134
         ],
         "y0": " ",
         "yaxis": "y"
        }
       ],
       "layout": {
        "boxmode": "group",
        "height": 600,
        "legend": {
         "title": {
          "text": "params.model_class"
         },
         "tracegroupgap": 0
        },
        "template": {
         "data": {
          "bar": [
           {
            "error_x": {
             "color": "#2a3f5f"
            },
            "error_y": {
             "color": "#2a3f5f"
            },
            "marker": {
             "line": {
              "color": "#E5ECF6",
              "width": 0.5
             },
             "pattern": {
              "fillmode": "overlay",
              "size": 10,
              "solidity": 0.2
             }
            },
            "type": "bar"
           }
          ],
          "barpolar": [
           {
            "marker": {
             "line": {
              "color": "#E5ECF6",
              "width": 0.5
             },
             "pattern": {
              "fillmode": "overlay",
              "size": 10,
              "solidity": 0.2
             }
            },
            "type": "barpolar"
           }
          ],
          "carpet": [
           {
            "aaxis": {
             "endlinecolor": "#2a3f5f",
             "gridcolor": "white",
             "linecolor": "white",
             "minorgridcolor": "white",
             "startlinecolor": "#2a3f5f"
            },
            "baxis": {
             "endlinecolor": "#2a3f5f",
             "gridcolor": "white",
             "linecolor": "white",
             "minorgridcolor": "white",
             "startlinecolor": "#2a3f5f"
            },
            "type": "carpet"
           }
          ],
          "choropleth": [
           {
            "colorbar": {
             "outlinewidth": 0,
             "ticks": ""
            },
            "type": "choropleth"
           }
          ],
          "contour": [
           {
            "colorbar": {
             "outlinewidth": 0,
             "ticks": ""
            },
            "colorscale": [
             [
              0,
              "#0d0887"
             ],
             [
              0.1111111111111111,
              "#46039f"
             ],
             [
              0.2222222222222222,
              "#7201a8"
             ],
             [
              0.3333333333333333,
              "#9c179e"
             ],
             [
              0.4444444444444444,
              "#bd3786"
             ],
             [
              0.5555555555555556,
              "#d8576b"
             ],
             [
              0.6666666666666666,
              "#ed7953"
             ],
             [
              0.7777777777777778,
              "#fb9f3a"
             ],
             [
              0.8888888888888888,
              "#fdca26"
             ],
             [
              1,
              "#f0f921"
             ]
            ],
            "type": "contour"
           }
          ],
          "contourcarpet": [
           {
            "colorbar": {
             "outlinewidth": 0,
             "ticks": ""
            },
            "type": "contourcarpet"
           }
          ],
          "heatmap": [
           {
            "colorbar": {
             "outlinewidth": 0,
             "ticks": ""
            },
            "colorscale": [
             [
              0,
              "#0d0887"
             ],
             [
              0.1111111111111111,
              "#46039f"
             ],
             [
              0.2222222222222222,
              "#7201a8"
             ],
             [
              0.3333333333333333,
              "#9c179e"
             ],
             [
              0.4444444444444444,
              "#bd3786"
             ],
             [
              0.5555555555555556,
              "#d8576b"
             ],
             [
              0.6666666666666666,
              "#ed7953"
             ],
             [
              0.7777777777777778,
              "#fb9f3a"
             ],
             [
              0.8888888888888888,
              "#fdca26"
             ],
             [
              1,
              "#f0f921"
             ]
            ],
            "type": "heatmap"
           }
          ],
          "heatmapgl": [
           {
            "colorbar": {
             "outlinewidth": 0,
             "ticks": ""
            },
            "colorscale": [
             [
              0,
              "#0d0887"
             ],
             [
              0.1111111111111111,
              "#46039f"
             ],
             [
              0.2222222222222222,
              "#7201a8"
             ],
             [
              0.3333333333333333,
              "#9c179e"
             ],
             [
              0.4444444444444444,
              "#bd3786"
             ],
             [
              0.5555555555555556,
              "#d8576b"
             ],
             [
              0.6666666666666666,
              "#ed7953"
             ],
             [
              0.7777777777777778,
              "#fb9f3a"
             ],
             [
              0.8888888888888888,
              "#fdca26"
             ],
             [
              1,
              "#f0f921"
             ]
            ],
            "type": "heatmapgl"
           }
          ],
          "histogram": [
           {
            "marker": {
             "pattern": {
              "fillmode": "overlay",
              "size": 10,
              "solidity": 0.2
             }
            },
            "type": "histogram"
           }
          ],
          "histogram2d": [
           {
            "colorbar": {
             "outlinewidth": 0,
             "ticks": ""
            },
            "colorscale": [
             [
              0,
              "#0d0887"
             ],
             [
              0.1111111111111111,
              "#46039f"
             ],
             [
              0.2222222222222222,
              "#7201a8"
             ],
             [
              0.3333333333333333,
              "#9c179e"
             ],
             [
              0.4444444444444444,
              "#bd3786"
             ],
             [
              0.5555555555555556,
              "#d8576b"
             ],
             [
              0.6666666666666666,
              "#ed7953"
             ],
             [
              0.7777777777777778,
              "#fb9f3a"
             ],
             [
              0.8888888888888888,
              "#fdca26"
             ],
             [
              1,
              "#f0f921"
             ]
            ],
            "type": "histogram2d"
           }
          ],
          "histogram2dcontour": [
           {
            "colorbar": {
             "outlinewidth": 0,
             "ticks": ""
            },
            "colorscale": [
             [
              0,
              "#0d0887"
             ],
             [
              0.1111111111111111,
              "#46039f"
             ],
             [
              0.2222222222222222,
              "#7201a8"
             ],
             [
              0.3333333333333333,
              "#9c179e"
             ],
             [
              0.4444444444444444,
              "#bd3786"
             ],
             [
              0.5555555555555556,
              "#d8576b"
             ],
             [
              0.6666666666666666,
              "#ed7953"
             ],
             [
              0.7777777777777778,
              "#fb9f3a"
             ],
             [
              0.8888888888888888,
              "#fdca26"
             ],
             [
              1,
              "#f0f921"
             ]
            ],
            "type": "histogram2dcontour"
           }
          ],
          "mesh3d": [
           {
            "colorbar": {
             "outlinewidth": 0,
             "ticks": ""
            },
            "type": "mesh3d"
           }
          ],
          "parcoords": [
           {
            "line": {
             "colorbar": {
              "outlinewidth": 0,
              "ticks": ""
             }
            },
            "type": "parcoords"
           }
          ],
          "pie": [
           {
            "automargin": true,
            "type": "pie"
           }
          ],
          "scatter": [
           {
            "fillpattern": {
             "fillmode": "overlay",
             "size": 10,
             "solidity": 0.2
            },
            "type": "scatter"
           }
          ],
          "scatter3d": [
           {
            "line": {
             "colorbar": {
              "outlinewidth": 0,
              "ticks": ""
             }
            },
            "marker": {
             "colorbar": {
              "outlinewidth": 0,
              "ticks": ""
             }
            },
            "type": "scatter3d"
           }
          ],
          "scattercarpet": [
           {
            "marker": {
             "colorbar": {
              "outlinewidth": 0,
              "ticks": ""
             }
            },
            "type": "scattercarpet"
           }
          ],
          "scattergeo": [
           {
            "marker": {
             "colorbar": {
              "outlinewidth": 0,
              "ticks": ""
             }
            },
            "type": "scattergeo"
           }
          ],
          "scattergl": [
           {
            "marker": {
             "colorbar": {
              "outlinewidth": 0,
              "ticks": ""
             }
            },
            "type": "scattergl"
           }
          ],
          "scattermapbox": [
           {
            "marker": {
             "colorbar": {
              "outlinewidth": 0,
              "ticks": ""
             }
            },
            "type": "scattermapbox"
           }
          ],
          "scatterpolar": [
           {
            "marker": {
             "colorbar": {
              "outlinewidth": 0,
              "ticks": ""
             }
            },
            "type": "scatterpolar"
           }
          ],
          "scatterpolargl": [
           {
            "marker": {
             "colorbar": {
              "outlinewidth": 0,
              "ticks": ""
             }
            },
            "type": "scatterpolargl"
           }
          ],
          "scatterternary": [
           {
            "marker": {
             "colorbar": {
              "outlinewidth": 0,
              "ticks": ""
             }
            },
            "type": "scatterternary"
           }
          ],
          "surface": [
           {
            "colorbar": {
             "outlinewidth": 0,
             "ticks": ""
            },
            "colorscale": [
             [
              0,
              "#0d0887"
             ],
             [
              0.1111111111111111,
              "#46039f"
             ],
             [
              0.2222222222222222,
              "#7201a8"
             ],
             [
              0.3333333333333333,
              "#9c179e"
             ],
             [
              0.4444444444444444,
              "#bd3786"
             ],
             [
              0.5555555555555556,
              "#d8576b"
             ],
             [
              0.6666666666666666,
              "#ed7953"
             ],
             [
              0.7777777777777778,
              "#fb9f3a"
             ],
             [
              0.8888888888888888,
              "#fdca26"
             ],
             [
              1,
              "#f0f921"
             ]
            ],
            "type": "surface"
           }
          ],
          "table": [
           {
            "cells": {
             "fill": {
              "color": "#EBF0F8"
             },
             "line": {
              "color": "white"
             }
            },
            "header": {
             "fill": {
              "color": "#C8D4E3"
             },
             "line": {
              "color": "white"
             }
            },
            "type": "table"
           }
          ]
         },
         "layout": {
          "annotationdefaults": {
           "arrowcolor": "#2a3f5f",
           "arrowhead": 0,
           "arrowwidth": 1
          },
          "autotypenumbers": "strict",
          "coloraxis": {
           "colorbar": {
            "outlinewidth": 0,
            "ticks": ""
           }
          },
          "colorscale": {
           "diverging": [
            [
             0,
             "#8e0152"
            ],
            [
             0.1,
             "#c51b7d"
            ],
            [
             0.2,
             "#de77ae"
            ],
            [
             0.3,
             "#f1b6da"
            ],
            [
             0.4,
             "#fde0ef"
            ],
            [
             0.5,
             "#f7f7f7"
            ],
            [
             0.6,
             "#e6f5d0"
            ],
            [
             0.7,
             "#b8e186"
            ],
            [
             0.8,
             "#7fbc41"
            ],
            [
             0.9,
             "#4d9221"
            ],
            [
             1,
             "#276419"
            ]
           ],
           "sequential": [
            [
             0,
             "#0d0887"
            ],
            [
             0.1111111111111111,
             "#46039f"
            ],
            [
             0.2222222222222222,
             "#7201a8"
            ],
            [
             0.3333333333333333,
             "#9c179e"
            ],
            [
             0.4444444444444444,
             "#bd3786"
            ],
            [
             0.5555555555555556,
             "#d8576b"
            ],
            [
             0.6666666666666666,
             "#ed7953"
            ],
            [
             0.7777777777777778,
             "#fb9f3a"
            ],
            [
             0.8888888888888888,
             "#fdca26"
            ],
            [
             1,
             "#f0f921"
            ]
           ],
           "sequentialminus": [
            [
             0,
             "#0d0887"
            ],
            [
             0.1111111111111111,
             "#46039f"
            ],
            [
             0.2222222222222222,
             "#7201a8"
            ],
            [
             0.3333333333333333,
             "#9c179e"
            ],
            [
             0.4444444444444444,
             "#bd3786"
            ],
            [
             0.5555555555555556,
             "#d8576b"
            ],
            [
             0.6666666666666666,
             "#ed7953"
            ],
            [
             0.7777777777777778,
             "#fb9f3a"
            ],
            [
             0.8888888888888888,
             "#fdca26"
            ],
            [
             1,
             "#f0f921"
            ]
           ]
          },
          "colorway": [
           "#636efa",
           "#EF553B",
           "#00cc96",
           "#ab63fa",
           "#FFA15A",
           "#19d3f3",
           "#FF6692",
           "#B6E880",
           "#FF97FF",
           "#FECB52"
          ],
          "font": {
           "color": "#2a3f5f"
          },
          "geo": {
           "bgcolor": "white",
           "lakecolor": "white",
           "landcolor": "#E5ECF6",
           "showlakes": true,
           "showland": true,
           "subunitcolor": "white"
          },
          "hoverlabel": {
           "align": "left"
          },
          "hovermode": "closest",
          "mapbox": {
           "style": "light"
          },
          "paper_bgcolor": "white",
          "plot_bgcolor": "#E5ECF6",
          "polar": {
           "angularaxis": {
            "gridcolor": "white",
            "linecolor": "white",
            "ticks": ""
           },
           "bgcolor": "#E5ECF6",
           "radialaxis": {
            "gridcolor": "white",
            "linecolor": "white",
            "ticks": ""
           }
          },
          "scene": {
           "xaxis": {
            "backgroundcolor": "#E5ECF6",
            "gridcolor": "white",
            "gridwidth": 2,
            "linecolor": "white",
            "showbackground": true,
            "ticks": "",
            "zerolinecolor": "white"
           },
           "yaxis": {
            "backgroundcolor": "#E5ECF6",
            "gridcolor": "white",
            "gridwidth": 2,
            "linecolor": "white",
            "showbackground": true,
            "ticks": "",
            "zerolinecolor": "white"
           },
           "zaxis": {
            "backgroundcolor": "#E5ECF6",
            "gridcolor": "white",
            "gridwidth": 2,
            "linecolor": "white",
            "showbackground": true,
            "ticks": "",
            "zerolinecolor": "white"
           }
          },
          "shapedefaults": {
           "line": {
            "color": "#2a3f5f"
           }
          },
          "ternary": {
           "aaxis": {
            "gridcolor": "white",
            "linecolor": "white",
            "ticks": ""
           },
           "baxis": {
            "gridcolor": "white",
            "linecolor": "white",
            "ticks": ""
           },
           "bgcolor": "#E5ECF6",
           "caxis": {
            "gridcolor": "white",
            "linecolor": "white",
            "ticks": ""
           }
          },
          "title": {
           "x": 0.05
          },
          "xaxis": {
           "automargin": true,
           "gridcolor": "white",
           "linecolor": "white",
           "ticks": "",
           "title": {
            "standoff": 15
           },
           "zerolinecolor": "white",
           "zerolinewidth": 2
          },
          "yaxis": {
           "automargin": true,
           "gridcolor": "white",
           "linecolor": "white",
           "ticks": "",
           "title": {
            "standoff": 15
           },
           "zerolinecolor": "white",
           "zerolinewidth": 2
          }
         }
        },
        "title": {
         "text": "Einfluss des Augmentationsanteils auf den metrics.ibs (40 Trainingsgeräte)."
        },
        "width": 1000,
        "xaxis": {
         "anchor": "y",
         "domain": [
          0,
          1
         ],
         "title": {
          "text": "params.n_aug"
         }
        },
        "yaxis": {
         "anchor": "x",
         "domain": [
          0,
          1
         ],
         "title": {
          "text": "metrics.ibs"
         }
        }
       }
      }
     },
     "metadata": {},
     "output_type": "display_data"
    },
    {
     "name": "stdout",
     "output_type": "stream",
     "text": [
      "{'CoxPHFitter': {1: 0.077595432466064, 3: 0.1052388078626398, 5: 0.1411317531800066, 10: 0.1667454600129219}, 'RandomSurvivalForest': {1: 0.0794084970761958, 3: 0.1080476178883913, 5: 0.1451717129304351, 10: 0.1626288216927617}}\n",
      "                        1     3     5     10\n",
      "CoxPHFitter          0.078 0.105 0.141 0.167\n",
      "RandomSurvivalForest 0.079 0.108 0.145 0.163\n",
      "63\n"
     ]
    },
    {
     "data": {
      "application/vnd.plotly.v1+json": {
       "config": {
        "plotlyServerURL": "https://plot.ly"
       },
       "data": [
        {
         "alignmentgroup": "True",
         "hovertemplate": "params.model_class=RandomSurvivalForest<br>params.n_aug=%{x}<br>metrics.ibs=%{y}<extra></extra>",
         "legendgroup": "RandomSurvivalForest",
         "marker": {
          "color": "#636efa"
         },
         "name": "RandomSurvivalForest",
         "notched": false,
         "offsetgroup": "RandomSurvivalForest",
         "orientation": "v",
         "showlegend": true,
         "type": "box",
         "x": [
          10,
          5,
          3,
          1,
          10,
          5,
          3,
          1,
          10,
          5,
          3,
          1,
          10,
          5,
          3,
          1,
          10,
          5,
          3,
          1
         ],
         "x0": " ",
         "xaxis": "x",
         "y": [
          0.0872296554624706,
          0.095479426134396,
          0.0903190904105729,
          0.0701076050394483,
          0.1079404445820219,
          0.0998735878882198,
          0.081506294929765,
          0.0793482916177827,
          0.09094755004748,
          0.1024459676173499,
          0.0843787388639155,
          0.0710423160454306,
          0.1084179818356595,
          0.097614701616905,
          0.0899734580803458,
          0.071879425953094,
          0.099973832909225,
          0.114685783454816,
          0.094040100067923,
          0.0901669664799275
         ],
         "y0": " ",
         "yaxis": "y"
        },
        {
         "alignmentgroup": "True",
         "hovertemplate": "params.model_class=CoxPHFitter<br>params.n_aug=%{x}<br>metrics.ibs=%{y}<extra></extra>",
         "legendgroup": "CoxPHFitter",
         "marker": {
          "color": "#EF553B"
         },
         "name": "CoxPHFitter",
         "notched": false,
         "offsetgroup": "CoxPHFitter",
         "orientation": "v",
         "showlegend": true,
         "type": "box",
         "x": [
          10,
          5,
          3,
          1,
          10,
          5,
          3,
          1,
          10,
          5,
          3,
          1,
          10,
          5,
          3,
          1,
          10,
          5,
          3,
          1
         ],
         "x0": " ",
         "xaxis": "x",
         "y": [
          0.1093070787065071,
          0.0923628221761918,
          0.0926082694830014,
          0.0913473712522914,
          0.155823659879259,
          0.1156876392231471,
          0.0868421561931239,
          0.0746495119241774,
          0.1411311260077432,
          0.1065629714181859,
          0.0801701432222502,
          0.0903459391960262,
          0.1415601485932691,
          0.1110299081560714,
          0.0969842903552438,
          0.072826286899854,
          0.1156879852950209,
          0.1293481364069677,
          0.075384638998692,
          0.0701723382835046
         ],
         "y0": " ",
         "yaxis": "y"
        }
       ],
       "layout": {
        "boxmode": "group",
        "height": 600,
        "legend": {
         "title": {
          "text": "params.model_class"
         },
         "tracegroupgap": 0
        },
        "template": {
         "data": {
          "bar": [
           {
            "error_x": {
             "color": "#2a3f5f"
            },
            "error_y": {
             "color": "#2a3f5f"
            },
            "marker": {
             "line": {
              "color": "#E5ECF6",
              "width": 0.5
             },
             "pattern": {
              "fillmode": "overlay",
              "size": 10,
              "solidity": 0.2
             }
            },
            "type": "bar"
           }
          ],
          "barpolar": [
           {
            "marker": {
             "line": {
              "color": "#E5ECF6",
              "width": 0.5
             },
             "pattern": {
              "fillmode": "overlay",
              "size": 10,
              "solidity": 0.2
             }
            },
            "type": "barpolar"
           }
          ],
          "carpet": [
           {
            "aaxis": {
             "endlinecolor": "#2a3f5f",
             "gridcolor": "white",
             "linecolor": "white",
             "minorgridcolor": "white",
             "startlinecolor": "#2a3f5f"
            },
            "baxis": {
             "endlinecolor": "#2a3f5f",
             "gridcolor": "white",
             "linecolor": "white",
             "minorgridcolor": "white",
             "startlinecolor": "#2a3f5f"
            },
            "type": "carpet"
           }
          ],
          "choropleth": [
           {
            "colorbar": {
             "outlinewidth": 0,
             "ticks": ""
            },
            "type": "choropleth"
           }
          ],
          "contour": [
           {
            "colorbar": {
             "outlinewidth": 0,
             "ticks": ""
            },
            "colorscale": [
             [
              0,
              "#0d0887"
             ],
             [
              0.1111111111111111,
              "#46039f"
             ],
             [
              0.2222222222222222,
              "#7201a8"
             ],
             [
              0.3333333333333333,
              "#9c179e"
             ],
             [
              0.4444444444444444,
              "#bd3786"
             ],
             [
              0.5555555555555556,
              "#d8576b"
             ],
             [
              0.6666666666666666,
              "#ed7953"
             ],
             [
              0.7777777777777778,
              "#fb9f3a"
             ],
             [
              0.8888888888888888,
              "#fdca26"
             ],
             [
              1,
              "#f0f921"
             ]
            ],
            "type": "contour"
           }
          ],
          "contourcarpet": [
           {
            "colorbar": {
             "outlinewidth": 0,
             "ticks": ""
            },
            "type": "contourcarpet"
           }
          ],
          "heatmap": [
           {
            "colorbar": {
             "outlinewidth": 0,
             "ticks": ""
            },
            "colorscale": [
             [
              0,
              "#0d0887"
             ],
             [
              0.1111111111111111,
              "#46039f"
             ],
             [
              0.2222222222222222,
              "#7201a8"
             ],
             [
              0.3333333333333333,
              "#9c179e"
             ],
             [
              0.4444444444444444,
              "#bd3786"
             ],
             [
              0.5555555555555556,
              "#d8576b"
             ],
             [
              0.6666666666666666,
              "#ed7953"
             ],
             [
              0.7777777777777778,
              "#fb9f3a"
             ],
             [
              0.8888888888888888,
              "#fdca26"
             ],
             [
              1,
              "#f0f921"
             ]
            ],
            "type": "heatmap"
           }
          ],
          "heatmapgl": [
           {
            "colorbar": {
             "outlinewidth": 0,
             "ticks": ""
            },
            "colorscale": [
             [
              0,
              "#0d0887"
             ],
             [
              0.1111111111111111,
              "#46039f"
             ],
             [
              0.2222222222222222,
              "#7201a8"
             ],
             [
              0.3333333333333333,
              "#9c179e"
             ],
             [
              0.4444444444444444,
              "#bd3786"
             ],
             [
              0.5555555555555556,
              "#d8576b"
             ],
             [
              0.6666666666666666,
              "#ed7953"
             ],
             [
              0.7777777777777778,
              "#fb9f3a"
             ],
             [
              0.8888888888888888,
              "#fdca26"
             ],
             [
              1,
              "#f0f921"
             ]
            ],
            "type": "heatmapgl"
           }
          ],
          "histogram": [
           {
            "marker": {
             "pattern": {
              "fillmode": "overlay",
              "size": 10,
              "solidity": 0.2
             }
            },
            "type": "histogram"
           }
          ],
          "histogram2d": [
           {
            "colorbar": {
             "outlinewidth": 0,
             "ticks": ""
            },
            "colorscale": [
             [
              0,
              "#0d0887"
             ],
             [
              0.1111111111111111,
              "#46039f"
             ],
             [
              0.2222222222222222,
              "#7201a8"
             ],
             [
              0.3333333333333333,
              "#9c179e"
             ],
             [
              0.4444444444444444,
              "#bd3786"
             ],
             [
              0.5555555555555556,
              "#d8576b"
             ],
             [
              0.6666666666666666,
              "#ed7953"
             ],
             [
              0.7777777777777778,
              "#fb9f3a"
             ],
             [
              0.8888888888888888,
              "#fdca26"
             ],
             [
              1,
              "#f0f921"
             ]
            ],
            "type": "histogram2d"
           }
          ],
          "histogram2dcontour": [
           {
            "colorbar": {
             "outlinewidth": 0,
             "ticks": ""
            },
            "colorscale": [
             [
              0,
              "#0d0887"
             ],
             [
              0.1111111111111111,
              "#46039f"
             ],
             [
              0.2222222222222222,
              "#7201a8"
             ],
             [
              0.3333333333333333,
              "#9c179e"
             ],
             [
              0.4444444444444444,
              "#bd3786"
             ],
             [
              0.5555555555555556,
              "#d8576b"
             ],
             [
              0.6666666666666666,
              "#ed7953"
             ],
             [
              0.7777777777777778,
              "#fb9f3a"
             ],
             [
              0.8888888888888888,
              "#fdca26"
             ],
             [
              1,
              "#f0f921"
             ]
            ],
            "type": "histogram2dcontour"
           }
          ],
          "mesh3d": [
           {
            "colorbar": {
             "outlinewidth": 0,
             "ticks": ""
            },
            "type": "mesh3d"
           }
          ],
          "parcoords": [
           {
            "line": {
             "colorbar": {
              "outlinewidth": 0,
              "ticks": ""
             }
            },
            "type": "parcoords"
           }
          ],
          "pie": [
           {
            "automargin": true,
            "type": "pie"
           }
          ],
          "scatter": [
           {
            "fillpattern": {
             "fillmode": "overlay",
             "size": 10,
             "solidity": 0.2
            },
            "type": "scatter"
           }
          ],
          "scatter3d": [
           {
            "line": {
             "colorbar": {
              "outlinewidth": 0,
              "ticks": ""
             }
            },
            "marker": {
             "colorbar": {
              "outlinewidth": 0,
              "ticks": ""
             }
            },
            "type": "scatter3d"
           }
          ],
          "scattercarpet": [
           {
            "marker": {
             "colorbar": {
              "outlinewidth": 0,
              "ticks": ""
             }
            },
            "type": "scattercarpet"
           }
          ],
          "scattergeo": [
           {
            "marker": {
             "colorbar": {
              "outlinewidth": 0,
              "ticks": ""
             }
            },
            "type": "scattergeo"
           }
          ],
          "scattergl": [
           {
            "marker": {
             "colorbar": {
              "outlinewidth": 0,
              "ticks": ""
             }
            },
            "type": "scattergl"
           }
          ],
          "scattermapbox": [
           {
            "marker": {
             "colorbar": {
              "outlinewidth": 0,
              "ticks": ""
             }
            },
            "type": "scattermapbox"
           }
          ],
          "scatterpolar": [
           {
            "marker": {
             "colorbar": {
              "outlinewidth": 0,
              "ticks": ""
             }
            },
            "type": "scatterpolar"
           }
          ],
          "scatterpolargl": [
           {
            "marker": {
             "colorbar": {
              "outlinewidth": 0,
              "ticks": ""
             }
            },
            "type": "scatterpolargl"
           }
          ],
          "scatterternary": [
           {
            "marker": {
             "colorbar": {
              "outlinewidth": 0,
              "ticks": ""
             }
            },
            "type": "scatterternary"
           }
          ],
          "surface": [
           {
            "colorbar": {
             "outlinewidth": 0,
             "ticks": ""
            },
            "colorscale": [
             [
              0,
              "#0d0887"
             ],
             [
              0.1111111111111111,
              "#46039f"
             ],
             [
              0.2222222222222222,
              "#7201a8"
             ],
             [
              0.3333333333333333,
              "#9c179e"
             ],
             [
              0.4444444444444444,
              "#bd3786"
             ],
             [
              0.5555555555555556,
              "#d8576b"
             ],
             [
              0.6666666666666666,
              "#ed7953"
             ],
             [
              0.7777777777777778,
              "#fb9f3a"
             ],
             [
              0.8888888888888888,
              "#fdca26"
             ],
             [
              1,
              "#f0f921"
             ]
            ],
            "type": "surface"
           }
          ],
          "table": [
           {
            "cells": {
             "fill": {
              "color": "#EBF0F8"
             },
             "line": {
              "color": "white"
             }
            },
            "header": {
             "fill": {
              "color": "#C8D4E3"
             },
             "line": {
              "color": "white"
             }
            },
            "type": "table"
           }
          ]
         },
         "layout": {
          "annotationdefaults": {
           "arrowcolor": "#2a3f5f",
           "arrowhead": 0,
           "arrowwidth": 1
          },
          "autotypenumbers": "strict",
          "coloraxis": {
           "colorbar": {
            "outlinewidth": 0,
            "ticks": ""
           }
          },
          "colorscale": {
           "diverging": [
            [
             0,
             "#8e0152"
            ],
            [
             0.1,
             "#c51b7d"
            ],
            [
             0.2,
             "#de77ae"
            ],
            [
             0.3,
             "#f1b6da"
            ],
            [
             0.4,
             "#fde0ef"
            ],
            [
             0.5,
             "#f7f7f7"
            ],
            [
             0.6,
             "#e6f5d0"
            ],
            [
             0.7,
             "#b8e186"
            ],
            [
             0.8,
             "#7fbc41"
            ],
            [
             0.9,
             "#4d9221"
            ],
            [
             1,
             "#276419"
            ]
           ],
           "sequential": [
            [
             0,
             "#0d0887"
            ],
            [
             0.1111111111111111,
             "#46039f"
            ],
            [
             0.2222222222222222,
             "#7201a8"
            ],
            [
             0.3333333333333333,
             "#9c179e"
            ],
            [
             0.4444444444444444,
             "#bd3786"
            ],
            [
             0.5555555555555556,
             "#d8576b"
            ],
            [
             0.6666666666666666,
             "#ed7953"
            ],
            [
             0.7777777777777778,
             "#fb9f3a"
            ],
            [
             0.8888888888888888,
             "#fdca26"
            ],
            [
             1,
             "#f0f921"
            ]
           ],
           "sequentialminus": [
            [
             0,
             "#0d0887"
            ],
            [
             0.1111111111111111,
             "#46039f"
            ],
            [
             0.2222222222222222,
             "#7201a8"
            ],
            [
             0.3333333333333333,
             "#9c179e"
            ],
            [
             0.4444444444444444,
             "#bd3786"
            ],
            [
             0.5555555555555556,
             "#d8576b"
            ],
            [
             0.6666666666666666,
             "#ed7953"
            ],
            [
             0.7777777777777778,
             "#fb9f3a"
            ],
            [
             0.8888888888888888,
             "#fdca26"
            ],
            [
             1,
             "#f0f921"
            ]
           ]
          },
          "colorway": [
           "#636efa",
           "#EF553B",
           "#00cc96",
           "#ab63fa",
           "#FFA15A",
           "#19d3f3",
           "#FF6692",
           "#B6E880",
           "#FF97FF",
           "#FECB52"
          ],
          "font": {
           "color": "#2a3f5f"
          },
          "geo": {
           "bgcolor": "white",
           "lakecolor": "white",
           "landcolor": "#E5ECF6",
           "showlakes": true,
           "showland": true,
           "subunitcolor": "white"
          },
          "hoverlabel": {
           "align": "left"
          },
          "hovermode": "closest",
          "mapbox": {
           "style": "light"
          },
          "paper_bgcolor": "white",
          "plot_bgcolor": "#E5ECF6",
          "polar": {
           "angularaxis": {
            "gridcolor": "white",
            "linecolor": "white",
            "ticks": ""
           },
           "bgcolor": "#E5ECF6",
           "radialaxis": {
            "gridcolor": "white",
            "linecolor": "white",
            "ticks": ""
           }
          },
          "scene": {
           "xaxis": {
            "backgroundcolor": "#E5ECF6",
            "gridcolor": "white",
            "gridwidth": 2,
            "linecolor": "white",
            "showbackground": true,
            "ticks": "",
            "zerolinecolor": "white"
           },
           "yaxis": {
            "backgroundcolor": "#E5ECF6",
            "gridcolor": "white",
            "gridwidth": 2,
            "linecolor": "white",
            "showbackground": true,
            "ticks": "",
            "zerolinecolor": "white"
           },
           "zaxis": {
            "backgroundcolor": "#E5ECF6",
            "gridcolor": "white",
            "gridwidth": 2,
            "linecolor": "white",
            "showbackground": true,
            "ticks": "",
            "zerolinecolor": "white"
           }
          },
          "shapedefaults": {
           "line": {
            "color": "#2a3f5f"
           }
          },
          "ternary": {
           "aaxis": {
            "gridcolor": "white",
            "linecolor": "white",
            "ticks": ""
           },
           "baxis": {
            "gridcolor": "white",
            "linecolor": "white",
            "ticks": ""
           },
           "bgcolor": "#E5ECF6",
           "caxis": {
            "gridcolor": "white",
            "linecolor": "white",
            "ticks": ""
           }
          },
          "title": {
           "x": 0.05
          },
          "xaxis": {
           "automargin": true,
           "gridcolor": "white",
           "linecolor": "white",
           "ticks": "",
           "title": {
            "standoff": 15
           },
           "zerolinecolor": "white",
           "zerolinewidth": 2
          },
          "yaxis": {
           "automargin": true,
           "gridcolor": "white",
           "linecolor": "white",
           "ticks": "",
           "title": {
            "standoff": 15
           },
           "zerolinecolor": "white",
           "zerolinewidth": 2
          }
         }
        },
        "title": {
         "text": "Einfluss des Augmentationsanteils auf den metrics.ibs (63 Trainingsgeräte)."
        },
        "width": 1000,
        "xaxis": {
         "anchor": "y",
         "domain": [
          0,
          1
         ],
         "title": {
          "text": "params.n_aug"
         }
        },
        "yaxis": {
         "anchor": "x",
         "domain": [
          0,
          1
         ],
         "title": {
          "text": "metrics.ibs"
         }
        }
       }
      }
     },
     "metadata": {},
     "output_type": "display_data"
    },
    {
     "name": "stdout",
     "output_type": "stream",
     "text": [
      "{'CoxPHFitter': {1: 0.0746495119241774, 3: 0.0868421561931239, 5: 0.1110299081560714, 10: 0.1411311260077432}, 'RandomSurvivalForest': {1: 0.071879425953094, 3: 0.0899734580803458, 5: 0.0998735878882198, 10: 0.099973832909225}}\n",
      "                        1     3     5     10\n",
      "CoxPHFitter          0.075 0.087 0.111 0.141\n",
      "RandomSurvivalForest 0.072 0.090 0.100 0.100\n",
      "10\n"
     ]
    },
    {
     "data": {
      "application/vnd.plotly.v1+json": {
       "config": {
        "plotlyServerURL": "https://plot.ly"
       },
       "data": [
        {
         "alignmentgroup": "True",
         "hovertemplate": "params.model_class=RandomSurvivalForest<br>params.n_aug=%{x}<br>metrics.c_index_ipcw=%{y}<extra></extra>",
         "legendgroup": "RandomSurvivalForest",
         "marker": {
          "color": "#636efa"
         },
         "name": "RandomSurvivalForest",
         "notched": false,
         "offsetgroup": "RandomSurvivalForest",
         "orientation": "v",
         "showlegend": true,
         "type": "box",
         "x": [
          10,
          5,
          3,
          1,
          10,
          5,
          3,
          1,
          10,
          5,
          3,
          1,
          10,
          5,
          3,
          1,
          10,
          5,
          3,
          1
         ],
         "x0": " ",
         "xaxis": "x",
         "y": [
          0.8059286917085458,
          0.8182576187495638,
          0.8775868256753396,
          0.865518500206018,
          0.7880849695117511,
          0.7723308290475506,
          0.8916606549548052,
          0.854293609566143,
          0.835141126228242,
          0.8612782769463693,
          0.8594103906322789,
          0.8408420103653439,
          0.8462934964449426,
          0.8750416071766414,
          0.858375117758361,
          0.826183838960659,
          0.8501995996123198,
          0.8613518719659727,
          0.8036253577738723,
          0.8538165776683185
         ],
         "y0": " ",
         "yaxis": "y"
        },
        {
         "alignmentgroup": "True",
         "hovertemplate": "params.model_class=CoxPHFitter<br>params.n_aug=%{x}<br>metrics.c_index_ipcw=%{y}<extra></extra>",
         "legendgroup": "CoxPHFitter",
         "marker": {
          "color": "#EF553B"
         },
         "name": "CoxPHFitter",
         "notched": false,
         "offsetgroup": "CoxPHFitter",
         "orientation": "v",
         "showlegend": true,
         "type": "box",
         "x": [
          10,
          5,
          3,
          1,
          10,
          5,
          3,
          1,
          10,
          5,
          3,
          1,
          10,
          5,
          3,
          1,
          10,
          5,
          3,
          1
         ],
         "x0": " ",
         "xaxis": "x",
         "y": [
          0.7938667398174124,
          0.9008745017685336,
          0.8494893563604958,
          0.8287251431413578,
          0.8405427954673662,
          0.7961113788237729,
          0.7935810833973016,
          0.8324820796000194,
          0.8303688786958806,
          0.8379132173372843,
          0.6976006555691959,
          0.7653851023951549,
          0.7762534527962416,
          0.8721587901708034,
          0.7881037697645121,
          0.8339324524747671,
          0.8819776395779675,
          0.8740733489853904,
          0.8743025164858031,
          0.8581061955127081
         ],
         "y0": " ",
         "yaxis": "y"
        }
       ],
       "layout": {
        "boxmode": "group",
        "height": 600,
        "legend": {
         "title": {
          "text": "params.model_class"
         },
         "tracegroupgap": 0
        },
        "template": {
         "data": {
          "bar": [
           {
            "error_x": {
             "color": "#2a3f5f"
            },
            "error_y": {
             "color": "#2a3f5f"
            },
            "marker": {
             "line": {
              "color": "#E5ECF6",
              "width": 0.5
             },
             "pattern": {
              "fillmode": "overlay",
              "size": 10,
              "solidity": 0.2
             }
            },
            "type": "bar"
           }
          ],
          "barpolar": [
           {
            "marker": {
             "line": {
              "color": "#E5ECF6",
              "width": 0.5
             },
             "pattern": {
              "fillmode": "overlay",
              "size": 10,
              "solidity": 0.2
             }
            },
            "type": "barpolar"
           }
          ],
          "carpet": [
           {
            "aaxis": {
             "endlinecolor": "#2a3f5f",
             "gridcolor": "white",
             "linecolor": "white",
             "minorgridcolor": "white",
             "startlinecolor": "#2a3f5f"
            },
            "baxis": {
             "endlinecolor": "#2a3f5f",
             "gridcolor": "white",
             "linecolor": "white",
             "minorgridcolor": "white",
             "startlinecolor": "#2a3f5f"
            },
            "type": "carpet"
           }
          ],
          "choropleth": [
           {
            "colorbar": {
             "outlinewidth": 0,
             "ticks": ""
            },
            "type": "choropleth"
           }
          ],
          "contour": [
           {
            "colorbar": {
             "outlinewidth": 0,
             "ticks": ""
            },
            "colorscale": [
             [
              0,
              "#0d0887"
             ],
             [
              0.1111111111111111,
              "#46039f"
             ],
             [
              0.2222222222222222,
              "#7201a8"
             ],
             [
              0.3333333333333333,
              "#9c179e"
             ],
             [
              0.4444444444444444,
              "#bd3786"
             ],
             [
              0.5555555555555556,
              "#d8576b"
             ],
             [
              0.6666666666666666,
              "#ed7953"
             ],
             [
              0.7777777777777778,
              "#fb9f3a"
             ],
             [
              0.8888888888888888,
              "#fdca26"
             ],
             [
              1,
              "#f0f921"
             ]
            ],
            "type": "contour"
           }
          ],
          "contourcarpet": [
           {
            "colorbar": {
             "outlinewidth": 0,
             "ticks": ""
            },
            "type": "contourcarpet"
           }
          ],
          "heatmap": [
           {
            "colorbar": {
             "outlinewidth": 0,
             "ticks": ""
            },
            "colorscale": [
             [
              0,
              "#0d0887"
             ],
             [
              0.1111111111111111,
              "#46039f"
             ],
             [
              0.2222222222222222,
              "#7201a8"
             ],
             [
              0.3333333333333333,
              "#9c179e"
             ],
             [
              0.4444444444444444,
              "#bd3786"
             ],
             [
              0.5555555555555556,
              "#d8576b"
             ],
             [
              0.6666666666666666,
              "#ed7953"
             ],
             [
              0.7777777777777778,
              "#fb9f3a"
             ],
             [
              0.8888888888888888,
              "#fdca26"
             ],
             [
              1,
              "#f0f921"
             ]
            ],
            "type": "heatmap"
           }
          ],
          "heatmapgl": [
           {
            "colorbar": {
             "outlinewidth": 0,
             "ticks": ""
            },
            "colorscale": [
             [
              0,
              "#0d0887"
             ],
             [
              0.1111111111111111,
              "#46039f"
             ],
             [
              0.2222222222222222,
              "#7201a8"
             ],
             [
              0.3333333333333333,
              "#9c179e"
             ],
             [
              0.4444444444444444,
              "#bd3786"
             ],
             [
              0.5555555555555556,
              "#d8576b"
             ],
             [
              0.6666666666666666,
              "#ed7953"
             ],
             [
              0.7777777777777778,
              "#fb9f3a"
             ],
             [
              0.8888888888888888,
              "#fdca26"
             ],
             [
              1,
              "#f0f921"
             ]
            ],
            "type": "heatmapgl"
           }
          ],
          "histogram": [
           {
            "marker": {
             "pattern": {
              "fillmode": "overlay",
              "size": 10,
              "solidity": 0.2
             }
            },
            "type": "histogram"
           }
          ],
          "histogram2d": [
           {
            "colorbar": {
             "outlinewidth": 0,
             "ticks": ""
            },
            "colorscale": [
             [
              0,
              "#0d0887"
             ],
             [
              0.1111111111111111,
              "#46039f"
             ],
             [
              0.2222222222222222,
              "#7201a8"
             ],
             [
              0.3333333333333333,
              "#9c179e"
             ],
             [
              0.4444444444444444,
              "#bd3786"
             ],
             [
              0.5555555555555556,
              "#d8576b"
             ],
             [
              0.6666666666666666,
              "#ed7953"
             ],
             [
              0.7777777777777778,
              "#fb9f3a"
             ],
             [
              0.8888888888888888,
              "#fdca26"
             ],
             [
              1,
              "#f0f921"
             ]
            ],
            "type": "histogram2d"
           }
          ],
          "histogram2dcontour": [
           {
            "colorbar": {
             "outlinewidth": 0,
             "ticks": ""
            },
            "colorscale": [
             [
              0,
              "#0d0887"
             ],
             [
              0.1111111111111111,
              "#46039f"
             ],
             [
              0.2222222222222222,
              "#7201a8"
             ],
             [
              0.3333333333333333,
              "#9c179e"
             ],
             [
              0.4444444444444444,
              "#bd3786"
             ],
             [
              0.5555555555555556,
              "#d8576b"
             ],
             [
              0.6666666666666666,
              "#ed7953"
             ],
             [
              0.7777777777777778,
              "#fb9f3a"
             ],
             [
              0.8888888888888888,
              "#fdca26"
             ],
             [
              1,
              "#f0f921"
             ]
            ],
            "type": "histogram2dcontour"
           }
          ],
          "mesh3d": [
           {
            "colorbar": {
             "outlinewidth": 0,
             "ticks": ""
            },
            "type": "mesh3d"
           }
          ],
          "parcoords": [
           {
            "line": {
             "colorbar": {
              "outlinewidth": 0,
              "ticks": ""
             }
            },
            "type": "parcoords"
           }
          ],
          "pie": [
           {
            "automargin": true,
            "type": "pie"
           }
          ],
          "scatter": [
           {
            "fillpattern": {
             "fillmode": "overlay",
             "size": 10,
             "solidity": 0.2
            },
            "type": "scatter"
           }
          ],
          "scatter3d": [
           {
            "line": {
             "colorbar": {
              "outlinewidth": 0,
              "ticks": ""
             }
            },
            "marker": {
             "colorbar": {
              "outlinewidth": 0,
              "ticks": ""
             }
            },
            "type": "scatter3d"
           }
          ],
          "scattercarpet": [
           {
            "marker": {
             "colorbar": {
              "outlinewidth": 0,
              "ticks": ""
             }
            },
            "type": "scattercarpet"
           }
          ],
          "scattergeo": [
           {
            "marker": {
             "colorbar": {
              "outlinewidth": 0,
              "ticks": ""
             }
            },
            "type": "scattergeo"
           }
          ],
          "scattergl": [
           {
            "marker": {
             "colorbar": {
              "outlinewidth": 0,
              "ticks": ""
             }
            },
            "type": "scattergl"
           }
          ],
          "scattermapbox": [
           {
            "marker": {
             "colorbar": {
              "outlinewidth": 0,
              "ticks": ""
             }
            },
            "type": "scattermapbox"
           }
          ],
          "scatterpolar": [
           {
            "marker": {
             "colorbar": {
              "outlinewidth": 0,
              "ticks": ""
             }
            },
            "type": "scatterpolar"
           }
          ],
          "scatterpolargl": [
           {
            "marker": {
             "colorbar": {
              "outlinewidth": 0,
              "ticks": ""
             }
            },
            "type": "scatterpolargl"
           }
          ],
          "scatterternary": [
           {
            "marker": {
             "colorbar": {
              "outlinewidth": 0,
              "ticks": ""
             }
            },
            "type": "scatterternary"
           }
          ],
          "surface": [
           {
            "colorbar": {
             "outlinewidth": 0,
             "ticks": ""
            },
            "colorscale": [
             [
              0,
              "#0d0887"
             ],
             [
              0.1111111111111111,
              "#46039f"
             ],
             [
              0.2222222222222222,
              "#7201a8"
             ],
             [
              0.3333333333333333,
              "#9c179e"
             ],
             [
              0.4444444444444444,
              "#bd3786"
             ],
             [
              0.5555555555555556,
              "#d8576b"
             ],
             [
              0.6666666666666666,
              "#ed7953"
             ],
             [
              0.7777777777777778,
              "#fb9f3a"
             ],
             [
              0.8888888888888888,
              "#fdca26"
             ],
             [
              1,
              "#f0f921"
             ]
            ],
            "type": "surface"
           }
          ],
          "table": [
           {
            "cells": {
             "fill": {
              "color": "#EBF0F8"
             },
             "line": {
              "color": "white"
             }
            },
            "header": {
             "fill": {
              "color": "#C8D4E3"
             },
             "line": {
              "color": "white"
             }
            },
            "type": "table"
           }
          ]
         },
         "layout": {
          "annotationdefaults": {
           "arrowcolor": "#2a3f5f",
           "arrowhead": 0,
           "arrowwidth": 1
          },
          "autotypenumbers": "strict",
          "coloraxis": {
           "colorbar": {
            "outlinewidth": 0,
            "ticks": ""
           }
          },
          "colorscale": {
           "diverging": [
            [
             0,
             "#8e0152"
            ],
            [
             0.1,
             "#c51b7d"
            ],
            [
             0.2,
             "#de77ae"
            ],
            [
             0.3,
             "#f1b6da"
            ],
            [
             0.4,
             "#fde0ef"
            ],
            [
             0.5,
             "#f7f7f7"
            ],
            [
             0.6,
             "#e6f5d0"
            ],
            [
             0.7,
             "#b8e186"
            ],
            [
             0.8,
             "#7fbc41"
            ],
            [
             0.9,
             "#4d9221"
            ],
            [
             1,
             "#276419"
            ]
           ],
           "sequential": [
            [
             0,
             "#0d0887"
            ],
            [
             0.1111111111111111,
             "#46039f"
            ],
            [
             0.2222222222222222,
             "#7201a8"
            ],
            [
             0.3333333333333333,
             "#9c179e"
            ],
            [
             0.4444444444444444,
             "#bd3786"
            ],
            [
             0.5555555555555556,
             "#d8576b"
            ],
            [
             0.6666666666666666,
             "#ed7953"
            ],
            [
             0.7777777777777778,
             "#fb9f3a"
            ],
            [
             0.8888888888888888,
             "#fdca26"
            ],
            [
             1,
             "#f0f921"
            ]
           ],
           "sequentialminus": [
            [
             0,
             "#0d0887"
            ],
            [
             0.1111111111111111,
             "#46039f"
            ],
            [
             0.2222222222222222,
             "#7201a8"
            ],
            [
             0.3333333333333333,
             "#9c179e"
            ],
            [
             0.4444444444444444,
             "#bd3786"
            ],
            [
             0.5555555555555556,
             "#d8576b"
            ],
            [
             0.6666666666666666,
             "#ed7953"
            ],
            [
             0.7777777777777778,
             "#fb9f3a"
            ],
            [
             0.8888888888888888,
             "#fdca26"
            ],
            [
             1,
             "#f0f921"
            ]
           ]
          },
          "colorway": [
           "#636efa",
           "#EF553B",
           "#00cc96",
           "#ab63fa",
           "#FFA15A",
           "#19d3f3",
           "#FF6692",
           "#B6E880",
           "#FF97FF",
           "#FECB52"
          ],
          "font": {
           "color": "#2a3f5f"
          },
          "geo": {
           "bgcolor": "white",
           "lakecolor": "white",
           "landcolor": "#E5ECF6",
           "showlakes": true,
           "showland": true,
           "subunitcolor": "white"
          },
          "hoverlabel": {
           "align": "left"
          },
          "hovermode": "closest",
          "mapbox": {
           "style": "light"
          },
          "paper_bgcolor": "white",
          "plot_bgcolor": "#E5ECF6",
          "polar": {
           "angularaxis": {
            "gridcolor": "white",
            "linecolor": "white",
            "ticks": ""
           },
           "bgcolor": "#E5ECF6",
           "radialaxis": {
            "gridcolor": "white",
            "linecolor": "white",
            "ticks": ""
           }
          },
          "scene": {
           "xaxis": {
            "backgroundcolor": "#E5ECF6",
            "gridcolor": "white",
            "gridwidth": 2,
            "linecolor": "white",
            "showbackground": true,
            "ticks": "",
            "zerolinecolor": "white"
           },
           "yaxis": {
            "backgroundcolor": "#E5ECF6",
            "gridcolor": "white",
            "gridwidth": 2,
            "linecolor": "white",
            "showbackground": true,
            "ticks": "",
            "zerolinecolor": "white"
           },
           "zaxis": {
            "backgroundcolor": "#E5ECF6",
            "gridcolor": "white",
            "gridwidth": 2,
            "linecolor": "white",
            "showbackground": true,
            "ticks": "",
            "zerolinecolor": "white"
           }
          },
          "shapedefaults": {
           "line": {
            "color": "#2a3f5f"
           }
          },
          "ternary": {
           "aaxis": {
            "gridcolor": "white",
            "linecolor": "white",
            "ticks": ""
           },
           "baxis": {
            "gridcolor": "white",
            "linecolor": "white",
            "ticks": ""
           },
           "bgcolor": "#E5ECF6",
           "caxis": {
            "gridcolor": "white",
            "linecolor": "white",
            "ticks": ""
           }
          },
          "title": {
           "x": 0.05
          },
          "xaxis": {
           "automargin": true,
           "gridcolor": "white",
           "linecolor": "white",
           "ticks": "",
           "title": {
            "standoff": 15
           },
           "zerolinecolor": "white",
           "zerolinewidth": 2
          },
          "yaxis": {
           "automargin": true,
           "gridcolor": "white",
           "linecolor": "white",
           "ticks": "",
           "title": {
            "standoff": 15
           },
           "zerolinecolor": "white",
           "zerolinewidth": 2
          }
         }
        },
        "title": {
         "text": "Einfluss des Augmentationsanteils auf den metrics.c_index_ipcw (10 Trainingsgeräte)."
        },
        "width": 1000,
        "xaxis": {
         "anchor": "y",
         "domain": [
          0,
          1
         ],
         "title": {
          "text": "params.n_aug"
         }
        },
        "yaxis": {
         "anchor": "x",
         "domain": [
          0,
          1
         ],
         "title": {
          "text": "metrics.c_index_ipcw"
         }
        }
       }
      }
     },
     "metadata": {},
     "output_type": "display_data"
    },
    {
     "name": "stdout",
     "output_type": "stream",
     "text": [
      "{'CoxPHFitter': {1: 0.8324820796000194, 3: 0.7935810833973016, 5: 0.8721587901708034, 10: 0.8303688786958806}, 'RandomSurvivalForest': {1: 0.8538165776683185, 3: 0.8594103906322789, 5: 0.8612782769463693, 10: 0.835141126228242}}\n",
      "                        1     3     5     10\n",
      "CoxPHFitter          0.832 0.794 0.872 0.830\n",
      "RandomSurvivalForest 0.854 0.859 0.861 0.835\n",
      "20\n"
     ]
    },
    {
     "data": {
      "application/vnd.plotly.v1+json": {
       "config": {
        "plotlyServerURL": "https://plot.ly"
       },
       "data": [
        {
         "alignmentgroup": "True",
         "hovertemplate": "params.model_class=RandomSurvivalForest<br>params.n_aug=%{x}<br>metrics.c_index_ipcw=%{y}<extra></extra>",
         "legendgroup": "RandomSurvivalForest",
         "marker": {
          "color": "#636efa"
         },
         "name": "RandomSurvivalForest",
         "notched": false,
         "offsetgroup": "RandomSurvivalForest",
         "orientation": "v",
         "showlegend": true,
         "type": "box",
         "x": [
          10,
          5,
          3,
          1,
          10,
          5,
          3,
          1,
          10,
          5,
          3,
          1,
          10,
          5,
          3,
          1,
          10,
          5,
          3,
          1
         ],
         "x0": " ",
         "xaxis": "x",
         "y": [
          0.8734406944934118,
          0.8518286408917274,
          0.8162772418808185,
          0.8799575692480897,
          0.8399993979253464,
          0.8275666589482493,
          0.8854830613846141,
          0.9149249421065756,
          0.8120689017487938,
          0.8068083807446739,
          0.8655214472478638,
          0.8727351515517346,
          0.8293954061970635,
          0.848110273428655,
          0.9009828732697008,
          0.8734849537509576,
          0.8251682134016811,
          0.8446318823871816,
          0.8927278503810168,
          0.8824839785954957
         ],
         "y0": " ",
         "yaxis": "y"
        },
        {
         "alignmentgroup": "True",
         "hovertemplate": "params.model_class=CoxPHFitter<br>params.n_aug=%{x}<br>metrics.c_index_ipcw=%{y}<extra></extra>",
         "legendgroup": "CoxPHFitter",
         "marker": {
          "color": "#EF553B"
         },
         "name": "CoxPHFitter",
         "notched": false,
         "offsetgroup": "CoxPHFitter",
         "orientation": "v",
         "showlegend": true,
         "type": "box",
         "x": [
          10,
          5,
          3,
          1,
          10,
          5,
          3,
          1,
          10,
          5,
          3,
          1,
          10,
          5,
          3,
          1,
          10,
          5,
          3,
          1
         ],
         "x0": " ",
         "xaxis": "x",
         "y": [
          0.8760810999020648,
          0.857225149939155,
          0.851116674781562,
          0.8711737475131156,
          0.9143596331558976,
          0.8777612924600435,
          0.8570729448118408,
          0.8697312832332095,
          0.8781814467009876,
          0.9069236507921752,
          0.8617062763107965,
          0.8686998503112993,
          0.8224406026307742,
          0.8607482435558552,
          0.8570624474549935,
          0.8289057663887806,
          0.9016850873892772,
          0.8859389892196325,
          0.8807168084304646,
          0.9040992108704746
         ],
         "y0": " ",
         "yaxis": "y"
        }
       ],
       "layout": {
        "boxmode": "group",
        "height": 600,
        "legend": {
         "title": {
          "text": "params.model_class"
         },
         "tracegroupgap": 0
        },
        "template": {
         "data": {
          "bar": [
           {
            "error_x": {
             "color": "#2a3f5f"
            },
            "error_y": {
             "color": "#2a3f5f"
            },
            "marker": {
             "line": {
              "color": "#E5ECF6",
              "width": 0.5
             },
             "pattern": {
              "fillmode": "overlay",
              "size": 10,
              "solidity": 0.2
             }
            },
            "type": "bar"
           }
          ],
          "barpolar": [
           {
            "marker": {
             "line": {
              "color": "#E5ECF6",
              "width": 0.5
             },
             "pattern": {
              "fillmode": "overlay",
              "size": 10,
              "solidity": 0.2
             }
            },
            "type": "barpolar"
           }
          ],
          "carpet": [
           {
            "aaxis": {
             "endlinecolor": "#2a3f5f",
             "gridcolor": "white",
             "linecolor": "white",
             "minorgridcolor": "white",
             "startlinecolor": "#2a3f5f"
            },
            "baxis": {
             "endlinecolor": "#2a3f5f",
             "gridcolor": "white",
             "linecolor": "white",
             "minorgridcolor": "white",
             "startlinecolor": "#2a3f5f"
            },
            "type": "carpet"
           }
          ],
          "choropleth": [
           {
            "colorbar": {
             "outlinewidth": 0,
             "ticks": ""
            },
            "type": "choropleth"
           }
          ],
          "contour": [
           {
            "colorbar": {
             "outlinewidth": 0,
             "ticks": ""
            },
            "colorscale": [
             [
              0,
              "#0d0887"
             ],
             [
              0.1111111111111111,
              "#46039f"
             ],
             [
              0.2222222222222222,
              "#7201a8"
             ],
             [
              0.3333333333333333,
              "#9c179e"
             ],
             [
              0.4444444444444444,
              "#bd3786"
             ],
             [
              0.5555555555555556,
              "#d8576b"
             ],
             [
              0.6666666666666666,
              "#ed7953"
             ],
             [
              0.7777777777777778,
              "#fb9f3a"
             ],
             [
              0.8888888888888888,
              "#fdca26"
             ],
             [
              1,
              "#f0f921"
             ]
            ],
            "type": "contour"
           }
          ],
          "contourcarpet": [
           {
            "colorbar": {
             "outlinewidth": 0,
             "ticks": ""
            },
            "type": "contourcarpet"
           }
          ],
          "heatmap": [
           {
            "colorbar": {
             "outlinewidth": 0,
             "ticks": ""
            },
            "colorscale": [
             [
              0,
              "#0d0887"
             ],
             [
              0.1111111111111111,
              "#46039f"
             ],
             [
              0.2222222222222222,
              "#7201a8"
             ],
             [
              0.3333333333333333,
              "#9c179e"
             ],
             [
              0.4444444444444444,
              "#bd3786"
             ],
             [
              0.5555555555555556,
              "#d8576b"
             ],
             [
              0.6666666666666666,
              "#ed7953"
             ],
             [
              0.7777777777777778,
              "#fb9f3a"
             ],
             [
              0.8888888888888888,
              "#fdca26"
             ],
             [
              1,
              "#f0f921"
             ]
            ],
            "type": "heatmap"
           }
          ],
          "heatmapgl": [
           {
            "colorbar": {
             "outlinewidth": 0,
             "ticks": ""
            },
            "colorscale": [
             [
              0,
              "#0d0887"
             ],
             [
              0.1111111111111111,
              "#46039f"
             ],
             [
              0.2222222222222222,
              "#7201a8"
             ],
             [
              0.3333333333333333,
              "#9c179e"
             ],
             [
              0.4444444444444444,
              "#bd3786"
             ],
             [
              0.5555555555555556,
              "#d8576b"
             ],
             [
              0.6666666666666666,
              "#ed7953"
             ],
             [
              0.7777777777777778,
              "#fb9f3a"
             ],
             [
              0.8888888888888888,
              "#fdca26"
             ],
             [
              1,
              "#f0f921"
             ]
            ],
            "type": "heatmapgl"
           }
          ],
          "histogram": [
           {
            "marker": {
             "pattern": {
              "fillmode": "overlay",
              "size": 10,
              "solidity": 0.2
             }
            },
            "type": "histogram"
           }
          ],
          "histogram2d": [
           {
            "colorbar": {
             "outlinewidth": 0,
             "ticks": ""
            },
            "colorscale": [
             [
              0,
              "#0d0887"
             ],
             [
              0.1111111111111111,
              "#46039f"
             ],
             [
              0.2222222222222222,
              "#7201a8"
             ],
             [
              0.3333333333333333,
              "#9c179e"
             ],
             [
              0.4444444444444444,
              "#bd3786"
             ],
             [
              0.5555555555555556,
              "#d8576b"
             ],
             [
              0.6666666666666666,
              "#ed7953"
             ],
             [
              0.7777777777777778,
              "#fb9f3a"
             ],
             [
              0.8888888888888888,
              "#fdca26"
             ],
             [
              1,
              "#f0f921"
             ]
            ],
            "type": "histogram2d"
           }
          ],
          "histogram2dcontour": [
           {
            "colorbar": {
             "outlinewidth": 0,
             "ticks": ""
            },
            "colorscale": [
             [
              0,
              "#0d0887"
             ],
             [
              0.1111111111111111,
              "#46039f"
             ],
             [
              0.2222222222222222,
              "#7201a8"
             ],
             [
              0.3333333333333333,
              "#9c179e"
             ],
             [
              0.4444444444444444,
              "#bd3786"
             ],
             [
              0.5555555555555556,
              "#d8576b"
             ],
             [
              0.6666666666666666,
              "#ed7953"
             ],
             [
              0.7777777777777778,
              "#fb9f3a"
             ],
             [
              0.8888888888888888,
              "#fdca26"
             ],
             [
              1,
              "#f0f921"
             ]
            ],
            "type": "histogram2dcontour"
           }
          ],
          "mesh3d": [
           {
            "colorbar": {
             "outlinewidth": 0,
             "ticks": ""
            },
            "type": "mesh3d"
           }
          ],
          "parcoords": [
           {
            "line": {
             "colorbar": {
              "outlinewidth": 0,
              "ticks": ""
             }
            },
            "type": "parcoords"
           }
          ],
          "pie": [
           {
            "automargin": true,
            "type": "pie"
           }
          ],
          "scatter": [
           {
            "fillpattern": {
             "fillmode": "overlay",
             "size": 10,
             "solidity": 0.2
            },
            "type": "scatter"
           }
          ],
          "scatter3d": [
           {
            "line": {
             "colorbar": {
              "outlinewidth": 0,
              "ticks": ""
             }
            },
            "marker": {
             "colorbar": {
              "outlinewidth": 0,
              "ticks": ""
             }
            },
            "type": "scatter3d"
           }
          ],
          "scattercarpet": [
           {
            "marker": {
             "colorbar": {
              "outlinewidth": 0,
              "ticks": ""
             }
            },
            "type": "scattercarpet"
           }
          ],
          "scattergeo": [
           {
            "marker": {
             "colorbar": {
              "outlinewidth": 0,
              "ticks": ""
             }
            },
            "type": "scattergeo"
           }
          ],
          "scattergl": [
           {
            "marker": {
             "colorbar": {
              "outlinewidth": 0,
              "ticks": ""
             }
            },
            "type": "scattergl"
           }
          ],
          "scattermapbox": [
           {
            "marker": {
             "colorbar": {
              "outlinewidth": 0,
              "ticks": ""
             }
            },
            "type": "scattermapbox"
           }
          ],
          "scatterpolar": [
           {
            "marker": {
             "colorbar": {
              "outlinewidth": 0,
              "ticks": ""
             }
            },
            "type": "scatterpolar"
           }
          ],
          "scatterpolargl": [
           {
            "marker": {
             "colorbar": {
              "outlinewidth": 0,
              "ticks": ""
             }
            },
            "type": "scatterpolargl"
           }
          ],
          "scatterternary": [
           {
            "marker": {
             "colorbar": {
              "outlinewidth": 0,
              "ticks": ""
             }
            },
            "type": "scatterternary"
           }
          ],
          "surface": [
           {
            "colorbar": {
             "outlinewidth": 0,
             "ticks": ""
            },
            "colorscale": [
             [
              0,
              "#0d0887"
             ],
             [
              0.1111111111111111,
              "#46039f"
             ],
             [
              0.2222222222222222,
              "#7201a8"
             ],
             [
              0.3333333333333333,
              "#9c179e"
             ],
             [
              0.4444444444444444,
              "#bd3786"
             ],
             [
              0.5555555555555556,
              "#d8576b"
             ],
             [
              0.6666666666666666,
              "#ed7953"
             ],
             [
              0.7777777777777778,
              "#fb9f3a"
             ],
             [
              0.8888888888888888,
              "#fdca26"
             ],
             [
              1,
              "#f0f921"
             ]
            ],
            "type": "surface"
           }
          ],
          "table": [
           {
            "cells": {
             "fill": {
              "color": "#EBF0F8"
             },
             "line": {
              "color": "white"
             }
            },
            "header": {
             "fill": {
              "color": "#C8D4E3"
             },
             "line": {
              "color": "white"
             }
            },
            "type": "table"
           }
          ]
         },
         "layout": {
          "annotationdefaults": {
           "arrowcolor": "#2a3f5f",
           "arrowhead": 0,
           "arrowwidth": 1
          },
          "autotypenumbers": "strict",
          "coloraxis": {
           "colorbar": {
            "outlinewidth": 0,
            "ticks": ""
           }
          },
          "colorscale": {
           "diverging": [
            [
             0,
             "#8e0152"
            ],
            [
             0.1,
             "#c51b7d"
            ],
            [
             0.2,
             "#de77ae"
            ],
            [
             0.3,
             "#f1b6da"
            ],
            [
             0.4,
             "#fde0ef"
            ],
            [
             0.5,
             "#f7f7f7"
            ],
            [
             0.6,
             "#e6f5d0"
            ],
            [
             0.7,
             "#b8e186"
            ],
            [
             0.8,
             "#7fbc41"
            ],
            [
             0.9,
             "#4d9221"
            ],
            [
             1,
             "#276419"
            ]
           ],
           "sequential": [
            [
             0,
             "#0d0887"
            ],
            [
             0.1111111111111111,
             "#46039f"
            ],
            [
             0.2222222222222222,
             "#7201a8"
            ],
            [
             0.3333333333333333,
             "#9c179e"
            ],
            [
             0.4444444444444444,
             "#bd3786"
            ],
            [
             0.5555555555555556,
             "#d8576b"
            ],
            [
             0.6666666666666666,
             "#ed7953"
            ],
            [
             0.7777777777777778,
             "#fb9f3a"
            ],
            [
             0.8888888888888888,
             "#fdca26"
            ],
            [
             1,
             "#f0f921"
            ]
           ],
           "sequentialminus": [
            [
             0,
             "#0d0887"
            ],
            [
             0.1111111111111111,
             "#46039f"
            ],
            [
             0.2222222222222222,
             "#7201a8"
            ],
            [
             0.3333333333333333,
             "#9c179e"
            ],
            [
             0.4444444444444444,
             "#bd3786"
            ],
            [
             0.5555555555555556,
             "#d8576b"
            ],
            [
             0.6666666666666666,
             "#ed7953"
            ],
            [
             0.7777777777777778,
             "#fb9f3a"
            ],
            [
             0.8888888888888888,
             "#fdca26"
            ],
            [
             1,
             "#f0f921"
            ]
           ]
          },
          "colorway": [
           "#636efa",
           "#EF553B",
           "#00cc96",
           "#ab63fa",
           "#FFA15A",
           "#19d3f3",
           "#FF6692",
           "#B6E880",
           "#FF97FF",
           "#FECB52"
          ],
          "font": {
           "color": "#2a3f5f"
          },
          "geo": {
           "bgcolor": "white",
           "lakecolor": "white",
           "landcolor": "#E5ECF6",
           "showlakes": true,
           "showland": true,
           "subunitcolor": "white"
          },
          "hoverlabel": {
           "align": "left"
          },
          "hovermode": "closest",
          "mapbox": {
           "style": "light"
          },
          "paper_bgcolor": "white",
          "plot_bgcolor": "#E5ECF6",
          "polar": {
           "angularaxis": {
            "gridcolor": "white",
            "linecolor": "white",
            "ticks": ""
           },
           "bgcolor": "#E5ECF6",
           "radialaxis": {
            "gridcolor": "white",
            "linecolor": "white",
            "ticks": ""
           }
          },
          "scene": {
           "xaxis": {
            "backgroundcolor": "#E5ECF6",
            "gridcolor": "white",
            "gridwidth": 2,
            "linecolor": "white",
            "showbackground": true,
            "ticks": "",
            "zerolinecolor": "white"
           },
           "yaxis": {
            "backgroundcolor": "#E5ECF6",
            "gridcolor": "white",
            "gridwidth": 2,
            "linecolor": "white",
            "showbackground": true,
            "ticks": "",
            "zerolinecolor": "white"
           },
           "zaxis": {
            "backgroundcolor": "#E5ECF6",
            "gridcolor": "white",
            "gridwidth": 2,
            "linecolor": "white",
            "showbackground": true,
            "ticks": "",
            "zerolinecolor": "white"
           }
          },
          "shapedefaults": {
           "line": {
            "color": "#2a3f5f"
           }
          },
          "ternary": {
           "aaxis": {
            "gridcolor": "white",
            "linecolor": "white",
            "ticks": ""
           },
           "baxis": {
            "gridcolor": "white",
            "linecolor": "white",
            "ticks": ""
           },
           "bgcolor": "#E5ECF6",
           "caxis": {
            "gridcolor": "white",
            "linecolor": "white",
            "ticks": ""
           }
          },
          "title": {
           "x": 0.05
          },
          "xaxis": {
           "automargin": true,
           "gridcolor": "white",
           "linecolor": "white",
           "ticks": "",
           "title": {
            "standoff": 15
           },
           "zerolinecolor": "white",
           "zerolinewidth": 2
          },
          "yaxis": {
           "automargin": true,
           "gridcolor": "white",
           "linecolor": "white",
           "ticks": "",
           "title": {
            "standoff": 15
           },
           "zerolinecolor": "white",
           "zerolinewidth": 2
          }
         }
        },
        "title": {
         "text": "Einfluss des Augmentationsanteils auf den metrics.c_index_ipcw (20 Trainingsgeräte)."
        },
        "width": 1000,
        "xaxis": {
         "anchor": "y",
         "domain": [
          0,
          1
         ],
         "title": {
          "text": "params.n_aug"
         }
        },
        "yaxis": {
         "anchor": "x",
         "domain": [
          0,
          1
         ],
         "title": {
          "text": "metrics.c_index_ipcw"
         }
        }
       }
      }
     },
     "metadata": {},
     "output_type": "display_data"
    },
    {
     "name": "stdout",
     "output_type": "stream",
     "text": [
      "{'CoxPHFitter': {1: 0.8697312832332095, 3: 0.8570729448118408, 5: 0.8777612924600435, 10: 0.8781814467009876}, 'RandomSurvivalForest': {1: 0.8799575692480897, 3: 0.8854830613846141, 5: 0.8446318823871816, 10: 0.8293954061970635}}\n",
      "                        1     3     5     10\n",
      "CoxPHFitter          0.870 0.857 0.878 0.878\n",
      "RandomSurvivalForest 0.880 0.885 0.845 0.829\n",
      "40\n"
     ]
    },
    {
     "data": {
      "application/vnd.plotly.v1+json": {
       "config": {
        "plotlyServerURL": "https://plot.ly"
       },
       "data": [
        {
         "alignmentgroup": "True",
         "hovertemplate": "params.model_class=RandomSurvivalForest<br>params.n_aug=%{x}<br>metrics.c_index_ipcw=%{y}<extra></extra>",
         "legendgroup": "RandomSurvivalForest",
         "marker": {
          "color": "#636efa"
         },
         "name": "RandomSurvivalForest",
         "notched": false,
         "offsetgroup": "RandomSurvivalForest",
         "orientation": "v",
         "showlegend": true,
         "type": "box",
         "x": [
          10,
          5,
          3,
          1,
          10,
          5,
          3,
          1,
          10,
          5,
          3,
          1,
          10,
          5,
          3,
          1,
          10,
          5,
          3,
          1
         ],
         "x0": " ",
         "xaxis": "x",
         "y": [
          0.8503274832320885,
          0.8131267718699485,
          0.8737103362164989,
          0.8962603478656659,
          0.8709689550534817,
          0.8523386177956631,
          0.8895697055362562,
          0.9081821378446066,
          0.8652675118909332,
          0.847868857841255,
          0.8655520718821893,
          0.885833946306253,
          0.8777472583578054,
          0.8598030826057917,
          0.8679190089335711,
          0.888914887125293,
          0.8666785815707215,
          0.8560757137880624,
          0.8568401129628329,
          0.9001562613289285
         ],
         "y0": " ",
         "yaxis": "y"
        },
        {
         "alignmentgroup": "True",
         "hovertemplate": "params.model_class=CoxPHFitter<br>params.n_aug=%{x}<br>metrics.c_index_ipcw=%{y}<extra></extra>",
         "legendgroup": "CoxPHFitter",
         "marker": {
          "color": "#EF553B"
         },
         "name": "CoxPHFitter",
         "notched": false,
         "offsetgroup": "CoxPHFitter",
         "orientation": "v",
         "showlegend": true,
         "type": "box",
         "x": [
          10,
          5,
          3,
          1,
          10,
          5,
          3,
          1,
          10,
          5,
          3,
          1,
          10,
          5,
          3,
          1,
          10,
          5,
          3,
          1
         ],
         "x0": " ",
         "xaxis": "x",
         "y": [
          0.8611027337410263,
          0.8927272349987463,
          0.8530688666778169,
          0.8930299820607264,
          0.8892474401313115,
          0.9252914811497585,
          0.8591310408877293,
          0.8901404708012876,
          0.878674430252512,
          0.8772994625738825,
          0.8817257494695923,
          0.855927438675814,
          0.8648242641232988,
          0.8844853986456291,
          0.8438960546725424,
          0.8745601831709328,
          0.9165442674246036,
          0.8861568404040516,
          0.9111260965285688,
          0.8978488398714619
         ],
         "y0": " ",
         "yaxis": "y"
        }
       ],
       "layout": {
        "boxmode": "group",
        "height": 600,
        "legend": {
         "title": {
          "text": "params.model_class"
         },
         "tracegroupgap": 0
        },
        "template": {
         "data": {
          "bar": [
           {
            "error_x": {
             "color": "#2a3f5f"
            },
            "error_y": {
             "color": "#2a3f5f"
            },
            "marker": {
             "line": {
              "color": "#E5ECF6",
              "width": 0.5
             },
             "pattern": {
              "fillmode": "overlay",
              "size": 10,
              "solidity": 0.2
             }
            },
            "type": "bar"
           }
          ],
          "barpolar": [
           {
            "marker": {
             "line": {
              "color": "#E5ECF6",
              "width": 0.5
             },
             "pattern": {
              "fillmode": "overlay",
              "size": 10,
              "solidity": 0.2
             }
            },
            "type": "barpolar"
           }
          ],
          "carpet": [
           {
            "aaxis": {
             "endlinecolor": "#2a3f5f",
             "gridcolor": "white",
             "linecolor": "white",
             "minorgridcolor": "white",
             "startlinecolor": "#2a3f5f"
            },
            "baxis": {
             "endlinecolor": "#2a3f5f",
             "gridcolor": "white",
             "linecolor": "white",
             "minorgridcolor": "white",
             "startlinecolor": "#2a3f5f"
            },
            "type": "carpet"
           }
          ],
          "choropleth": [
           {
            "colorbar": {
             "outlinewidth": 0,
             "ticks": ""
            },
            "type": "choropleth"
           }
          ],
          "contour": [
           {
            "colorbar": {
             "outlinewidth": 0,
             "ticks": ""
            },
            "colorscale": [
             [
              0,
              "#0d0887"
             ],
             [
              0.1111111111111111,
              "#46039f"
             ],
             [
              0.2222222222222222,
              "#7201a8"
             ],
             [
              0.3333333333333333,
              "#9c179e"
             ],
             [
              0.4444444444444444,
              "#bd3786"
             ],
             [
              0.5555555555555556,
              "#d8576b"
             ],
             [
              0.6666666666666666,
              "#ed7953"
             ],
             [
              0.7777777777777778,
              "#fb9f3a"
             ],
             [
              0.8888888888888888,
              "#fdca26"
             ],
             [
              1,
              "#f0f921"
             ]
            ],
            "type": "contour"
           }
          ],
          "contourcarpet": [
           {
            "colorbar": {
             "outlinewidth": 0,
             "ticks": ""
            },
            "type": "contourcarpet"
           }
          ],
          "heatmap": [
           {
            "colorbar": {
             "outlinewidth": 0,
             "ticks": ""
            },
            "colorscale": [
             [
              0,
              "#0d0887"
             ],
             [
              0.1111111111111111,
              "#46039f"
             ],
             [
              0.2222222222222222,
              "#7201a8"
             ],
             [
              0.3333333333333333,
              "#9c179e"
             ],
             [
              0.4444444444444444,
              "#bd3786"
             ],
             [
              0.5555555555555556,
              "#d8576b"
             ],
             [
              0.6666666666666666,
              "#ed7953"
             ],
             [
              0.7777777777777778,
              "#fb9f3a"
             ],
             [
              0.8888888888888888,
              "#fdca26"
             ],
             [
              1,
              "#f0f921"
             ]
            ],
            "type": "heatmap"
           }
          ],
          "heatmapgl": [
           {
            "colorbar": {
             "outlinewidth": 0,
             "ticks": ""
            },
            "colorscale": [
             [
              0,
              "#0d0887"
             ],
             [
              0.1111111111111111,
              "#46039f"
             ],
             [
              0.2222222222222222,
              "#7201a8"
             ],
             [
              0.3333333333333333,
              "#9c179e"
             ],
             [
              0.4444444444444444,
              "#bd3786"
             ],
             [
              0.5555555555555556,
              "#d8576b"
             ],
             [
              0.6666666666666666,
              "#ed7953"
             ],
             [
              0.7777777777777778,
              "#fb9f3a"
             ],
             [
              0.8888888888888888,
              "#fdca26"
             ],
             [
              1,
              "#f0f921"
             ]
            ],
            "type": "heatmapgl"
           }
          ],
          "histogram": [
           {
            "marker": {
             "pattern": {
              "fillmode": "overlay",
              "size": 10,
              "solidity": 0.2
             }
            },
            "type": "histogram"
           }
          ],
          "histogram2d": [
           {
            "colorbar": {
             "outlinewidth": 0,
             "ticks": ""
            },
            "colorscale": [
             [
              0,
              "#0d0887"
             ],
             [
              0.1111111111111111,
              "#46039f"
             ],
             [
              0.2222222222222222,
              "#7201a8"
             ],
             [
              0.3333333333333333,
              "#9c179e"
             ],
             [
              0.4444444444444444,
              "#bd3786"
             ],
             [
              0.5555555555555556,
              "#d8576b"
             ],
             [
              0.6666666666666666,
              "#ed7953"
             ],
             [
              0.7777777777777778,
              "#fb9f3a"
             ],
             [
              0.8888888888888888,
              "#fdca26"
             ],
             [
              1,
              "#f0f921"
             ]
            ],
            "type": "histogram2d"
           }
          ],
          "histogram2dcontour": [
           {
            "colorbar": {
             "outlinewidth": 0,
             "ticks": ""
            },
            "colorscale": [
             [
              0,
              "#0d0887"
             ],
             [
              0.1111111111111111,
              "#46039f"
             ],
             [
              0.2222222222222222,
              "#7201a8"
             ],
             [
              0.3333333333333333,
              "#9c179e"
             ],
             [
              0.4444444444444444,
              "#bd3786"
             ],
             [
              0.5555555555555556,
              "#d8576b"
             ],
             [
              0.6666666666666666,
              "#ed7953"
             ],
             [
              0.7777777777777778,
              "#fb9f3a"
             ],
             [
              0.8888888888888888,
              "#fdca26"
             ],
             [
              1,
              "#f0f921"
             ]
            ],
            "type": "histogram2dcontour"
           }
          ],
          "mesh3d": [
           {
            "colorbar": {
             "outlinewidth": 0,
             "ticks": ""
            },
            "type": "mesh3d"
           }
          ],
          "parcoords": [
           {
            "line": {
             "colorbar": {
              "outlinewidth": 0,
              "ticks": ""
             }
            },
            "type": "parcoords"
           }
          ],
          "pie": [
           {
            "automargin": true,
            "type": "pie"
           }
          ],
          "scatter": [
           {
            "fillpattern": {
             "fillmode": "overlay",
             "size": 10,
             "solidity": 0.2
            },
            "type": "scatter"
           }
          ],
          "scatter3d": [
           {
            "line": {
             "colorbar": {
              "outlinewidth": 0,
              "ticks": ""
             }
            },
            "marker": {
             "colorbar": {
              "outlinewidth": 0,
              "ticks": ""
             }
            },
            "type": "scatter3d"
           }
          ],
          "scattercarpet": [
           {
            "marker": {
             "colorbar": {
              "outlinewidth": 0,
              "ticks": ""
             }
            },
            "type": "scattercarpet"
           }
          ],
          "scattergeo": [
           {
            "marker": {
             "colorbar": {
              "outlinewidth": 0,
              "ticks": ""
             }
            },
            "type": "scattergeo"
           }
          ],
          "scattergl": [
           {
            "marker": {
             "colorbar": {
              "outlinewidth": 0,
              "ticks": ""
             }
            },
            "type": "scattergl"
           }
          ],
          "scattermapbox": [
           {
            "marker": {
             "colorbar": {
              "outlinewidth": 0,
              "ticks": ""
             }
            },
            "type": "scattermapbox"
           }
          ],
          "scatterpolar": [
           {
            "marker": {
             "colorbar": {
              "outlinewidth": 0,
              "ticks": ""
             }
            },
            "type": "scatterpolar"
           }
          ],
          "scatterpolargl": [
           {
            "marker": {
             "colorbar": {
              "outlinewidth": 0,
              "ticks": ""
             }
            },
            "type": "scatterpolargl"
           }
          ],
          "scatterternary": [
           {
            "marker": {
             "colorbar": {
              "outlinewidth": 0,
              "ticks": ""
             }
            },
            "type": "scatterternary"
           }
          ],
          "surface": [
           {
            "colorbar": {
             "outlinewidth": 0,
             "ticks": ""
            },
            "colorscale": [
             [
              0,
              "#0d0887"
             ],
             [
              0.1111111111111111,
              "#46039f"
             ],
             [
              0.2222222222222222,
              "#7201a8"
             ],
             [
              0.3333333333333333,
              "#9c179e"
             ],
             [
              0.4444444444444444,
              "#bd3786"
             ],
             [
              0.5555555555555556,
              "#d8576b"
             ],
             [
              0.6666666666666666,
              "#ed7953"
             ],
             [
              0.7777777777777778,
              "#fb9f3a"
             ],
             [
              0.8888888888888888,
              "#fdca26"
             ],
             [
              1,
              "#f0f921"
             ]
            ],
            "type": "surface"
           }
          ],
          "table": [
           {
            "cells": {
             "fill": {
              "color": "#EBF0F8"
             },
             "line": {
              "color": "white"
             }
            },
            "header": {
             "fill": {
              "color": "#C8D4E3"
             },
             "line": {
              "color": "white"
             }
            },
            "type": "table"
           }
          ]
         },
         "layout": {
          "annotationdefaults": {
           "arrowcolor": "#2a3f5f",
           "arrowhead": 0,
           "arrowwidth": 1
          },
          "autotypenumbers": "strict",
          "coloraxis": {
           "colorbar": {
            "outlinewidth": 0,
            "ticks": ""
           }
          },
          "colorscale": {
           "diverging": [
            [
             0,
             "#8e0152"
            ],
            [
             0.1,
             "#c51b7d"
            ],
            [
             0.2,
             "#de77ae"
            ],
            [
             0.3,
             "#f1b6da"
            ],
            [
             0.4,
             "#fde0ef"
            ],
            [
             0.5,
             "#f7f7f7"
            ],
            [
             0.6,
             "#e6f5d0"
            ],
            [
             0.7,
             "#b8e186"
            ],
            [
             0.8,
             "#7fbc41"
            ],
            [
             0.9,
             "#4d9221"
            ],
            [
             1,
             "#276419"
            ]
           ],
           "sequential": [
            [
             0,
             "#0d0887"
            ],
            [
             0.1111111111111111,
             "#46039f"
            ],
            [
             0.2222222222222222,
             "#7201a8"
            ],
            [
             0.3333333333333333,
             "#9c179e"
            ],
            [
             0.4444444444444444,
             "#bd3786"
            ],
            [
             0.5555555555555556,
             "#d8576b"
            ],
            [
             0.6666666666666666,
             "#ed7953"
            ],
            [
             0.7777777777777778,
             "#fb9f3a"
            ],
            [
             0.8888888888888888,
             "#fdca26"
            ],
            [
             1,
             "#f0f921"
            ]
           ],
           "sequentialminus": [
            [
             0,
             "#0d0887"
            ],
            [
             0.1111111111111111,
             "#46039f"
            ],
            [
             0.2222222222222222,
             "#7201a8"
            ],
            [
             0.3333333333333333,
             "#9c179e"
            ],
            [
             0.4444444444444444,
             "#bd3786"
            ],
            [
             0.5555555555555556,
             "#d8576b"
            ],
            [
             0.6666666666666666,
             "#ed7953"
            ],
            [
             0.7777777777777778,
             "#fb9f3a"
            ],
            [
             0.8888888888888888,
             "#fdca26"
            ],
            [
             1,
             "#f0f921"
            ]
           ]
          },
          "colorway": [
           "#636efa",
           "#EF553B",
           "#00cc96",
           "#ab63fa",
           "#FFA15A",
           "#19d3f3",
           "#FF6692",
           "#B6E880",
           "#FF97FF",
           "#FECB52"
          ],
          "font": {
           "color": "#2a3f5f"
          },
          "geo": {
           "bgcolor": "white",
           "lakecolor": "white",
           "landcolor": "#E5ECF6",
           "showlakes": true,
           "showland": true,
           "subunitcolor": "white"
          },
          "hoverlabel": {
           "align": "left"
          },
          "hovermode": "closest",
          "mapbox": {
           "style": "light"
          },
          "paper_bgcolor": "white",
          "plot_bgcolor": "#E5ECF6",
          "polar": {
           "angularaxis": {
            "gridcolor": "white",
            "linecolor": "white",
            "ticks": ""
           },
           "bgcolor": "#E5ECF6",
           "radialaxis": {
            "gridcolor": "white",
            "linecolor": "white",
            "ticks": ""
           }
          },
          "scene": {
           "xaxis": {
            "backgroundcolor": "#E5ECF6",
            "gridcolor": "white",
            "gridwidth": 2,
            "linecolor": "white",
            "showbackground": true,
            "ticks": "",
            "zerolinecolor": "white"
           },
           "yaxis": {
            "backgroundcolor": "#E5ECF6",
            "gridcolor": "white",
            "gridwidth": 2,
            "linecolor": "white",
            "showbackground": true,
            "ticks": "",
            "zerolinecolor": "white"
           },
           "zaxis": {
            "backgroundcolor": "#E5ECF6",
            "gridcolor": "white",
            "gridwidth": 2,
            "linecolor": "white",
            "showbackground": true,
            "ticks": "",
            "zerolinecolor": "white"
           }
          },
          "shapedefaults": {
           "line": {
            "color": "#2a3f5f"
           }
          },
          "ternary": {
           "aaxis": {
            "gridcolor": "white",
            "linecolor": "white",
            "ticks": ""
           },
           "baxis": {
            "gridcolor": "white",
            "linecolor": "white",
            "ticks": ""
           },
           "bgcolor": "#E5ECF6",
           "caxis": {
            "gridcolor": "white",
            "linecolor": "white",
            "ticks": ""
           }
          },
          "title": {
           "x": 0.05
          },
          "xaxis": {
           "automargin": true,
           "gridcolor": "white",
           "linecolor": "white",
           "ticks": "",
           "title": {
            "standoff": 15
           },
           "zerolinecolor": "white",
           "zerolinewidth": 2
          },
          "yaxis": {
           "automargin": true,
           "gridcolor": "white",
           "linecolor": "white",
           "ticks": "",
           "title": {
            "standoff": 15
           },
           "zerolinecolor": "white",
           "zerolinewidth": 2
          }
         }
        },
        "title": {
         "text": "Einfluss des Augmentationsanteils auf den metrics.c_index_ipcw (40 Trainingsgeräte)."
        },
        "width": 1000,
        "xaxis": {
         "anchor": "y",
         "domain": [
          0,
          1
         ],
         "title": {
          "text": "params.n_aug"
         }
        },
        "yaxis": {
         "anchor": "x",
         "domain": [
          0,
          1
         ],
         "title": {
          "text": "metrics.c_index_ipcw"
         }
        }
       }
      }
     },
     "metadata": {},
     "output_type": "display_data"
    },
    {
     "name": "stdout",
     "output_type": "stream",
     "text": [
      "{'CoxPHFitter': {1: 0.8901404708012876, 3: 0.8591310408877293, 5: 0.8861568404040516, 10: 0.878674430252512}, 'RandomSurvivalForest': {1: 0.8962603478656659, 3: 0.8679190089335711, 5: 0.8523386177956631, 10: 0.8666785815707215}}\n",
      "                        1     3     5     10\n",
      "CoxPHFitter          0.890 0.859 0.886 0.879\n",
      "RandomSurvivalForest 0.896 0.868 0.852 0.867\n",
      "63\n"
     ]
    },
    {
     "data": {
      "application/vnd.plotly.v1+json": {
       "config": {
        "plotlyServerURL": "https://plot.ly"
       },
       "data": [
        {
         "alignmentgroup": "True",
         "hovertemplate": "params.model_class=RandomSurvivalForest<br>params.n_aug=%{x}<br>metrics.c_index_ipcw=%{y}<extra></extra>",
         "legendgroup": "RandomSurvivalForest",
         "marker": {
          "color": "#636efa"
         },
         "name": "RandomSurvivalForest",
         "notched": false,
         "offsetgroup": "RandomSurvivalForest",
         "orientation": "v",
         "showlegend": true,
         "type": "box",
         "x": [
          10,
          5,
          3,
          1,
          10,
          5,
          3,
          1,
          10,
          5,
          3,
          1,
          10,
          5,
          3,
          1,
          10,
          5,
          3,
          1
         ],
         "x0": " ",
         "xaxis": "x",
         "y": [
          0.8809439787349794,
          0.90591641581161,
          0.8850359645229194,
          0.8935327337465407,
          0.8483992938564092,
          0.8850587644698535,
          0.8842515732062273,
          0.8700720900169872,
          0.8944518913234009,
          0.8610469097672757,
          0.9023473488550806,
          0.8918477104096155,
          0.9020925665229476,
          0.8752488252676177,
          0.8727775439426613,
          0.8920554009671673,
          0.89074749289642,
          0.8921381213335406,
          0.8983359851129731,
          0.8896991972735213
         ],
         "y0": " ",
         "yaxis": "y"
        },
        {
         "alignmentgroup": "True",
         "hovertemplate": "params.model_class=CoxPHFitter<br>params.n_aug=%{x}<br>metrics.c_index_ipcw=%{y}<extra></extra>",
         "legendgroup": "CoxPHFitter",
         "marker": {
          "color": "#EF553B"
         },
         "name": "CoxPHFitter",
         "notched": false,
         "offsetgroup": "CoxPHFitter",
         "orientation": "v",
         "showlegend": true,
         "type": "box",
         "x": [
          10,
          5,
          3,
          1,
          10,
          5,
          3,
          1,
          10,
          5,
          3,
          1,
          10,
          5,
          3,
          1,
          10,
          5,
          3,
          1
         ],
         "x0": " ",
         "xaxis": "x",
         "y": [
          0.8866866020526163,
          0.8833649631341653,
          0.8646196771116395,
          0.8786619188061173,
          0.8869818416857144,
          0.8243542552372705,
          0.8792632051800933,
          0.8752685598988774,
          0.8657972743799944,
          0.8858238146248236,
          0.900471094075681,
          0.8938691130082416,
          0.8908152537501897,
          0.8400491644167467,
          0.8990867873362208,
          0.902578603354066,
          0.8871446492980508,
          0.9056536131597216,
          0.8787088953648985,
          0.904409928999656
         ],
         "y0": " ",
         "yaxis": "y"
        }
       ],
       "layout": {
        "boxmode": "group",
        "height": 600,
        "legend": {
         "title": {
          "text": "params.model_class"
         },
         "tracegroupgap": 0
        },
        "template": {
         "data": {
          "bar": [
           {
            "error_x": {
             "color": "#2a3f5f"
            },
            "error_y": {
             "color": "#2a3f5f"
            },
            "marker": {
             "line": {
              "color": "#E5ECF6",
              "width": 0.5
             },
             "pattern": {
              "fillmode": "overlay",
              "size": 10,
              "solidity": 0.2
             }
            },
            "type": "bar"
           }
          ],
          "barpolar": [
           {
            "marker": {
             "line": {
              "color": "#E5ECF6",
              "width": 0.5
             },
             "pattern": {
              "fillmode": "overlay",
              "size": 10,
              "solidity": 0.2
             }
            },
            "type": "barpolar"
           }
          ],
          "carpet": [
           {
            "aaxis": {
             "endlinecolor": "#2a3f5f",
             "gridcolor": "white",
             "linecolor": "white",
             "minorgridcolor": "white",
             "startlinecolor": "#2a3f5f"
            },
            "baxis": {
             "endlinecolor": "#2a3f5f",
             "gridcolor": "white",
             "linecolor": "white",
             "minorgridcolor": "white",
             "startlinecolor": "#2a3f5f"
            },
            "type": "carpet"
           }
          ],
          "choropleth": [
           {
            "colorbar": {
             "outlinewidth": 0,
             "ticks": ""
            },
            "type": "choropleth"
           }
          ],
          "contour": [
           {
            "colorbar": {
             "outlinewidth": 0,
             "ticks": ""
            },
            "colorscale": [
             [
              0,
              "#0d0887"
             ],
             [
              0.1111111111111111,
              "#46039f"
             ],
             [
              0.2222222222222222,
              "#7201a8"
             ],
             [
              0.3333333333333333,
              "#9c179e"
             ],
             [
              0.4444444444444444,
              "#bd3786"
             ],
             [
              0.5555555555555556,
              "#d8576b"
             ],
             [
              0.6666666666666666,
              "#ed7953"
             ],
             [
              0.7777777777777778,
              "#fb9f3a"
             ],
             [
              0.8888888888888888,
              "#fdca26"
             ],
             [
              1,
              "#f0f921"
             ]
            ],
            "type": "contour"
           }
          ],
          "contourcarpet": [
           {
            "colorbar": {
             "outlinewidth": 0,
             "ticks": ""
            },
            "type": "contourcarpet"
           }
          ],
          "heatmap": [
           {
            "colorbar": {
             "outlinewidth": 0,
             "ticks": ""
            },
            "colorscale": [
             [
              0,
              "#0d0887"
             ],
             [
              0.1111111111111111,
              "#46039f"
             ],
             [
              0.2222222222222222,
              "#7201a8"
             ],
             [
              0.3333333333333333,
              "#9c179e"
             ],
             [
              0.4444444444444444,
              "#bd3786"
             ],
             [
              0.5555555555555556,
              "#d8576b"
             ],
             [
              0.6666666666666666,
              "#ed7953"
             ],
             [
              0.7777777777777778,
              "#fb9f3a"
             ],
             [
              0.8888888888888888,
              "#fdca26"
             ],
             [
              1,
              "#f0f921"
             ]
            ],
            "type": "heatmap"
           }
          ],
          "heatmapgl": [
           {
            "colorbar": {
             "outlinewidth": 0,
             "ticks": ""
            },
            "colorscale": [
             [
              0,
              "#0d0887"
             ],
             [
              0.1111111111111111,
              "#46039f"
             ],
             [
              0.2222222222222222,
              "#7201a8"
             ],
             [
              0.3333333333333333,
              "#9c179e"
             ],
             [
              0.4444444444444444,
              "#bd3786"
             ],
             [
              0.5555555555555556,
              "#d8576b"
             ],
             [
              0.6666666666666666,
              "#ed7953"
             ],
             [
              0.7777777777777778,
              "#fb9f3a"
             ],
             [
              0.8888888888888888,
              "#fdca26"
             ],
             [
              1,
              "#f0f921"
             ]
            ],
            "type": "heatmapgl"
           }
          ],
          "histogram": [
           {
            "marker": {
             "pattern": {
              "fillmode": "overlay",
              "size": 10,
              "solidity": 0.2
             }
            },
            "type": "histogram"
           }
          ],
          "histogram2d": [
           {
            "colorbar": {
             "outlinewidth": 0,
             "ticks": ""
            },
            "colorscale": [
             [
              0,
              "#0d0887"
             ],
             [
              0.1111111111111111,
              "#46039f"
             ],
             [
              0.2222222222222222,
              "#7201a8"
             ],
             [
              0.3333333333333333,
              "#9c179e"
             ],
             [
              0.4444444444444444,
              "#bd3786"
             ],
             [
              0.5555555555555556,
              "#d8576b"
             ],
             [
              0.6666666666666666,
              "#ed7953"
             ],
             [
              0.7777777777777778,
              "#fb9f3a"
             ],
             [
              0.8888888888888888,
              "#fdca26"
             ],
             [
              1,
              "#f0f921"
             ]
            ],
            "type": "histogram2d"
           }
          ],
          "histogram2dcontour": [
           {
            "colorbar": {
             "outlinewidth": 0,
             "ticks": ""
            },
            "colorscale": [
             [
              0,
              "#0d0887"
             ],
             [
              0.1111111111111111,
              "#46039f"
             ],
             [
              0.2222222222222222,
              "#7201a8"
             ],
             [
              0.3333333333333333,
              "#9c179e"
             ],
             [
              0.4444444444444444,
              "#bd3786"
             ],
             [
              0.5555555555555556,
              "#d8576b"
             ],
             [
              0.6666666666666666,
              "#ed7953"
             ],
             [
              0.7777777777777778,
              "#fb9f3a"
             ],
             [
              0.8888888888888888,
              "#fdca26"
             ],
             [
              1,
              "#f0f921"
             ]
            ],
            "type": "histogram2dcontour"
           }
          ],
          "mesh3d": [
           {
            "colorbar": {
             "outlinewidth": 0,
             "ticks": ""
            },
            "type": "mesh3d"
           }
          ],
          "parcoords": [
           {
            "line": {
             "colorbar": {
              "outlinewidth": 0,
              "ticks": ""
             }
            },
            "type": "parcoords"
           }
          ],
          "pie": [
           {
            "automargin": true,
            "type": "pie"
           }
          ],
          "scatter": [
           {
            "fillpattern": {
             "fillmode": "overlay",
             "size": 10,
             "solidity": 0.2
            },
            "type": "scatter"
           }
          ],
          "scatter3d": [
           {
            "line": {
             "colorbar": {
              "outlinewidth": 0,
              "ticks": ""
             }
            },
            "marker": {
             "colorbar": {
              "outlinewidth": 0,
              "ticks": ""
             }
            },
            "type": "scatter3d"
           }
          ],
          "scattercarpet": [
           {
            "marker": {
             "colorbar": {
              "outlinewidth": 0,
              "ticks": ""
             }
            },
            "type": "scattercarpet"
           }
          ],
          "scattergeo": [
           {
            "marker": {
             "colorbar": {
              "outlinewidth": 0,
              "ticks": ""
             }
            },
            "type": "scattergeo"
           }
          ],
          "scattergl": [
           {
            "marker": {
             "colorbar": {
              "outlinewidth": 0,
              "ticks": ""
             }
            },
            "type": "scattergl"
           }
          ],
          "scattermapbox": [
           {
            "marker": {
             "colorbar": {
              "outlinewidth": 0,
              "ticks": ""
             }
            },
            "type": "scattermapbox"
           }
          ],
          "scatterpolar": [
           {
            "marker": {
             "colorbar": {
              "outlinewidth": 0,
              "ticks": ""
             }
            },
            "type": "scatterpolar"
           }
          ],
          "scatterpolargl": [
           {
            "marker": {
             "colorbar": {
              "outlinewidth": 0,
              "ticks": ""
             }
            },
            "type": "scatterpolargl"
           }
          ],
          "scatterternary": [
           {
            "marker": {
             "colorbar": {
              "outlinewidth": 0,
              "ticks": ""
             }
            },
            "type": "scatterternary"
           }
          ],
          "surface": [
           {
            "colorbar": {
             "outlinewidth": 0,
             "ticks": ""
            },
            "colorscale": [
             [
              0,
              "#0d0887"
             ],
             [
              0.1111111111111111,
              "#46039f"
             ],
             [
              0.2222222222222222,
              "#7201a8"
             ],
             [
              0.3333333333333333,
              "#9c179e"
             ],
             [
              0.4444444444444444,
              "#bd3786"
             ],
             [
              0.5555555555555556,
              "#d8576b"
             ],
             [
              0.6666666666666666,
              "#ed7953"
             ],
             [
              0.7777777777777778,
              "#fb9f3a"
             ],
             [
              0.8888888888888888,
              "#fdca26"
             ],
             [
              1,
              "#f0f921"
             ]
            ],
            "type": "surface"
           }
          ],
          "table": [
           {
            "cells": {
             "fill": {
              "color": "#EBF0F8"
             },
             "line": {
              "color": "white"
             }
            },
            "header": {
             "fill": {
              "color": "#C8D4E3"
             },
             "line": {
              "color": "white"
             }
            },
            "type": "table"
           }
          ]
         },
         "layout": {
          "annotationdefaults": {
           "arrowcolor": "#2a3f5f",
           "arrowhead": 0,
           "arrowwidth": 1
          },
          "autotypenumbers": "strict",
          "coloraxis": {
           "colorbar": {
            "outlinewidth": 0,
            "ticks": ""
           }
          },
          "colorscale": {
           "diverging": [
            [
             0,
             "#8e0152"
            ],
            [
             0.1,
             "#c51b7d"
            ],
            [
             0.2,
             "#de77ae"
            ],
            [
             0.3,
             "#f1b6da"
            ],
            [
             0.4,
             "#fde0ef"
            ],
            [
             0.5,
             "#f7f7f7"
            ],
            [
             0.6,
             "#e6f5d0"
            ],
            [
             0.7,
             "#b8e186"
            ],
            [
             0.8,
             "#7fbc41"
            ],
            [
             0.9,
             "#4d9221"
            ],
            [
             1,
             "#276419"
            ]
           ],
           "sequential": [
            [
             0,
             "#0d0887"
            ],
            [
             0.1111111111111111,
             "#46039f"
            ],
            [
             0.2222222222222222,
             "#7201a8"
            ],
            [
             0.3333333333333333,
             "#9c179e"
            ],
            [
             0.4444444444444444,
             "#bd3786"
            ],
            [
             0.5555555555555556,
             "#d8576b"
            ],
            [
             0.6666666666666666,
             "#ed7953"
            ],
            [
             0.7777777777777778,
             "#fb9f3a"
            ],
            [
             0.8888888888888888,
             "#fdca26"
            ],
            [
             1,
             "#f0f921"
            ]
           ],
           "sequentialminus": [
            [
             0,
             "#0d0887"
            ],
            [
             0.1111111111111111,
             "#46039f"
            ],
            [
             0.2222222222222222,
             "#7201a8"
            ],
            [
             0.3333333333333333,
             "#9c179e"
            ],
            [
             0.4444444444444444,
             "#bd3786"
            ],
            [
             0.5555555555555556,
             "#d8576b"
            ],
            [
             0.6666666666666666,
             "#ed7953"
            ],
            [
             0.7777777777777778,
             "#fb9f3a"
            ],
            [
             0.8888888888888888,
             "#fdca26"
            ],
            [
             1,
             "#f0f921"
            ]
           ]
          },
          "colorway": [
           "#636efa",
           "#EF553B",
           "#00cc96",
           "#ab63fa",
           "#FFA15A",
           "#19d3f3",
           "#FF6692",
           "#B6E880",
           "#FF97FF",
           "#FECB52"
          ],
          "font": {
           "color": "#2a3f5f"
          },
          "geo": {
           "bgcolor": "white",
           "lakecolor": "white",
           "landcolor": "#E5ECF6",
           "showlakes": true,
           "showland": true,
           "subunitcolor": "white"
          },
          "hoverlabel": {
           "align": "left"
          },
          "hovermode": "closest",
          "mapbox": {
           "style": "light"
          },
          "paper_bgcolor": "white",
          "plot_bgcolor": "#E5ECF6",
          "polar": {
           "angularaxis": {
            "gridcolor": "white",
            "linecolor": "white",
            "ticks": ""
           },
           "bgcolor": "#E5ECF6",
           "radialaxis": {
            "gridcolor": "white",
            "linecolor": "white",
            "ticks": ""
           }
          },
          "scene": {
           "xaxis": {
            "backgroundcolor": "#E5ECF6",
            "gridcolor": "white",
            "gridwidth": 2,
            "linecolor": "white",
            "showbackground": true,
            "ticks": "",
            "zerolinecolor": "white"
           },
           "yaxis": {
            "backgroundcolor": "#E5ECF6",
            "gridcolor": "white",
            "gridwidth": 2,
            "linecolor": "white",
            "showbackground": true,
            "ticks": "",
            "zerolinecolor": "white"
           },
           "zaxis": {
            "backgroundcolor": "#E5ECF6",
            "gridcolor": "white",
            "gridwidth": 2,
            "linecolor": "white",
            "showbackground": true,
            "ticks": "",
            "zerolinecolor": "white"
           }
          },
          "shapedefaults": {
           "line": {
            "color": "#2a3f5f"
           }
          },
          "ternary": {
           "aaxis": {
            "gridcolor": "white",
            "linecolor": "white",
            "ticks": ""
           },
           "baxis": {
            "gridcolor": "white",
            "linecolor": "white",
            "ticks": ""
           },
           "bgcolor": "#E5ECF6",
           "caxis": {
            "gridcolor": "white",
            "linecolor": "white",
            "ticks": ""
           }
          },
          "title": {
           "x": 0.05
          },
          "xaxis": {
           "automargin": true,
           "gridcolor": "white",
           "linecolor": "white",
           "ticks": "",
           "title": {
            "standoff": 15
           },
           "zerolinecolor": "white",
           "zerolinewidth": 2
          },
          "yaxis": {
           "automargin": true,
           "gridcolor": "white",
           "linecolor": "white",
           "ticks": "",
           "title": {
            "standoff": 15
           },
           "zerolinecolor": "white",
           "zerolinewidth": 2
          }
         }
        },
        "title": {
         "text": "Einfluss des Augmentationsanteils auf den metrics.c_index_ipcw (63 Trainingsgeräte)."
        },
        "width": 1000,
        "xaxis": {
         "anchor": "y",
         "domain": [
          0,
          1
         ],
         "title": {
          "text": "params.n_aug"
         }
        },
        "yaxis": {
         "anchor": "x",
         "domain": [
          0,
          1
         ],
         "title": {
          "text": "metrics.c_index_ipcw"
         }
        }
       }
      }
     },
     "metadata": {},
     "output_type": "display_data"
    },
    {
     "name": "stdout",
     "output_type": "stream",
     "text": [
      "{'CoxPHFitter': {1: 0.8938691130082416, 3: 0.8792632051800933, 5: 0.8833649631341653, 10: 0.8869818416857144}, 'RandomSurvivalForest': {1: 0.8918477104096155, 3: 0.8850359645229194, 5: 0.8850587644698535, 10: 0.89074749289642}}\n",
      "                        1     3     5     10\n",
      "CoxPHFitter          0.894 0.879 0.883 0.887\n",
      "RandomSurvivalForest 0.892 0.885 0.885 0.891\n"
     ]
    }
   ],
   "source": [
    "metrics = [\"metrics.ibs\", \"metrics.c_index_ipcw\"]\n",
    "surv_exp_results = load_exp_results(EXP_NAME)\n",
    "for metric in metrics:\n",
    "    if surv_exp_results is not None:\n",
    "        try:\n",
    "            for n_dev, n_dev_group in surv_exp_results.groupby(by=\"params.n_dev\"):\n",
    "                print(n_dev)\n",
    "                fig = px.box(\n",
    "                    n_dev_group,\n",
    "                    x=f\"params.n_aug\",\n",
    "                    y=metric,\n",
    "                    color=\"params.model_class\",\n",
    "                    title=f\"Einfluss des Augmentationsanteils auf den {metric} ({n_dev} Trainingsgeräte).\",\n",
    "                    width=1000,\n",
    "                    height=600,\n",
    "                )\n",
    "                fig.show()\n",
    "\n",
    "                medians = {}\n",
    "                for model_class, model_group in n_dev_group.groupby(\n",
    "                    by=\"params.model_class\"\n",
    "                ):\n",
    "                    medians[model_class] = {}\n",
    "                    for param_value, param_group in model_group.groupby(\n",
    "                        by=f\"params.n_aug\"\n",
    "                    ):\n",
    "                        medians[model_class][param_value] = param_group[metric].median()\n",
    "                print(medians)\n",
    "                medians_df = pd.DataFrame(medians).T\n",
    "                pd.options.display.float_format = \"{:.3f}\".format\n",
    "                print(medians_df)\n",
    "\n",
    "        except ValueError:\n",
    "            print(f\"{EXP_NAME} does not seem to be finished.\")\n",
    "            raise"
   ]
  }
 ],
 "metadata": {
  "kernelspec": {
   "display_name": "ba_niklas",
   "language": "python",
   "name": "python3"
  },
  "language_info": {
   "codemirror_mode": {
    "name": "ipython",
    "version": 3
   },
   "file_extension": ".py",
   "mimetype": "text/x-python",
   "name": "python",
   "nbconvert_exporter": "python",
   "pygments_lexer": "ipython3",
   "version": "3.11.9"
  }
 },
 "nbformat": 4,
 "nbformat_minor": 2
}
